{
 "cells": [
  {
   "cell_type": "code",
   "execution_count": 1,
   "metadata": {
    "collapsed": true
   },
   "outputs": [
    {
     "name": "stdout",
     "output_type": "stream",
     "text": [
      "Hello World\n"
     ]
    }
   ],
   "source": [
    "'''格式化字符串'''\n",
    "name ='World'\n",
    "'Hello %s' % name # Hello World\n",
    "'Hello {}'.format(name) # Hello World\n",
    "print(f'Hello {name}')"
   ]
  },
  {
   "cell_type": "code",
   "execution_count": 2,
   "outputs": [
    {
     "data": {
      "text/plain": "'以下出自Python 的最佳实践'"
     },
     "execution_count": 2,
     "metadata": {},
     "output_type": "execute_result"
    }
   ],
   "source": [
    "\"\"\"以下出自Python 的最佳实践\"\"\"\n",
    "# https://blog.csdn.net/csdnnews/article/details/103942674"
   ],
   "metadata": {
    "collapsed": false,
    "pycharm": {
     "name": "#%%\n"
    }
   }
  },
  {
   "cell_type": "code",
   "execution_count": 3,
   "outputs": [
    {
     "name": "stdout",
     "output_type": "stream",
     "text": [
      "[0, 1, 2, 3, 4, 5, 6, 7, 8, 9]\n",
      "[2.5, 3.0, 3.5, 4.0, 4.5, 5.0, 5.5, 6.0, 6.5, 7.0]\n",
      "[0, 2, 4, 6, 8, 10, 12, 14, 16, 18]\n"
     ]
    }
   ],
   "source": [
    "'''列表推导式'''\n",
    "mylist = [i for i in range(10)]\n",
    "print(mylist)\n",
    "\n",
    "'''调用函数'''\n",
    "def some_function(a):\n",
    "    return (a + 5) / 2\n",
    "my_formula = [some_function(i) for i in range(10)]\n",
    "print(my_formula)\n",
    "\n",
    "'''if过滤'''\n",
    "filtered = [i for i in range(20) if i%2==0]\n",
    "print(filtered)"
   ],
   "metadata": {
    "collapsed": false,
    "pycharm": {
     "name": "#%%\n"
    }
   }
  },
  {
   "cell_type": "code",
   "execution_count": 4,
   "outputs": [
    {
     "name": "stdout",
     "output_type": "stream",
     "text": [
      "48\n",
      "87624\n"
     ]
    }
   ],
   "source": [
    "'''检查对象使用内存的状况'''\n",
    "import sys\n",
    "mylist = range(0, 10000)\n",
    "print(sys.getsizeof(mylist))\n",
    "\n",
    "# 真实列表\n",
    "myreallist = [x for x in range(0, 10000)]\n",
    "print(sys.getsizeof(myreallist))"
   ],
   "metadata": {
    "collapsed": false,
    "pycharm": {
     "name": "#%%\n"
    }
   }
  },
  {
   "cell_type": "code",
   "execution_count": 5,
   "outputs": [
    {
     "name": "stdout",
     "output_type": "stream",
     "text": [
      "True\n",
      "Q\n",
      "Card(rank='Q', suit='hearts')\n"
     ]
    }
   ],
   "source": [
    "'''使用数据类'''\n",
    "from dataclasses import dataclass\n",
    "\n",
    "@dataclass\n",
    "class Card:\n",
    "    rank: str\n",
    "    suit: str\n",
    "\n",
    "card = Card(\"Q\", \"hearts\")\n",
    "\n",
    "print(card == card)\n",
    "print(card.rank)\n",
    "print(card)"
   ],
   "metadata": {
    "collapsed": false,
    "pycharm": {
     "name": "#%%\n"
    }
   }
  },
  {
   "cell_type": "code",
   "execution_count": 6,
   "outputs": [],
   "source": [
    "'''交换变量'''\n",
    "a = 1\n",
    "b = 2\n",
    "a, b = b, a"
   ],
   "metadata": {
    "collapsed": false,
    "pycharm": {
     "name": "#%%\n"
    }
   }
  },
  {
   "cell_type": "code",
   "execution_count": 7,
   "outputs": [
    {
     "name": "stdout",
     "output_type": "stream",
     "text": [
      "{'a': 1, 'b': 3, 'c': 4}\n",
      "{'b': 2, 'c': 4, 'a': 1}\n"
     ]
    }
   ],
   "source": [
    "'''合并字典 Python 3.5'''\n",
    "\n",
    "dict1 = { 'a': 1, 'b': 2 }\n",
    "dict2 = { 'b': 3, 'c': 4 }\n",
    "merged = { **dict1, **dict2 }\n",
    "print (merged)\n",
    "\n",
    "merged1= { **dict2, **dict1 }\n",
    "print(merged1)"
   ],
   "metadata": {
    "collapsed": false,
    "pycharm": {
     "name": "#%%\n"
    }
   }
  },
  {
   "cell_type": "code",
   "execution_count": 8,
   "outputs": [
    {
     "name": "stdout",
     "output_type": "stream",
     "text": [
      "['The', 'quick', 'brown', 'fox']\n",
      "The_quick_brown_fox\n"
     ]
    }
   ],
   "source": [
    "'''将字符串分割成列表'''\n",
    "mystring = \"The quick brown fox\"\n",
    "mylist = mystring.split(' ')\n",
    "print(mylist)\n",
    "\n",
    "'''根据字符串列表创建字符串'''\n",
    "mylist = ['The', 'quick', 'brown', 'fox']\n",
    "mystring = \"_\".join(mylist)\n",
    "print(mystring)"
   ],
   "metadata": {
    "collapsed": false,
    "pycharm": {
     "name": "#%%\n"
    }
   }
  },
  {
   "cell_type": "code",
   "execution_count": 9,
   "outputs": [
    {
     "name": "stdout",
     "output_type": "stream",
     "text": [
      "[1, 2]\n",
      "[1, 3, 5]\n",
      "aced it\n"
     ]
    }
   ],
   "source": [
    "'''\n",
    "列表切片\n",
    "    a[start:stop:step]\n",
    "    start：0\n",
    "    end：字符串的结尾\n",
    "    step：1\n",
    "'''\n",
    "# We can easily create a new list from\n",
    "# the first two elements of a list:\n",
    "first_two = [1, 2, 3, 4, 5][0:2]\n",
    "print(first_two)\n",
    "\n",
    "# And if we use a step value of 2,\n",
    "# we can skip over every second number\n",
    "# like this:\n",
    "steps = [1, 2, 3, 4, 5][0:5:2]\n",
    "print(steps)\n",
    "\n",
    "# This works on strings too. In Python,\n",
    "# you can treat a string like a list of\n",
    "# letters:\n",
    "mystring = \"abcdefdn nimt\"[::2]\n",
    "print(mystring)"
   ],
   "metadata": {
    "collapsed": false,
    "pycharm": {
     "name": "#%%\n"
    }
   }
  },
  {
   "cell_type": "code",
   "execution_count": 10,
   "outputs": [
    {
     "name": "stdout",
     "output_type": "stream",
     "text": [
      "gfedcba\n",
      "[5, 4, 3, 2, 1]\n"
     ]
    }
   ],
   "source": [
    "'''反转字符串和列表'''\n",
    "revstring = \"abcdefg\"[::-1]\n",
    "print(revstring)\n",
    "\n",
    "revarray = [1, 2, 3, 4, 5][::-1]\n",
    "print(revarray)"
   ],
   "metadata": {
    "collapsed": false,
    "pycharm": {
     "name": "#%%\n"
    }
   }
  },
  {
   "cell_type": "code",
   "execution_count": 11,
   "outputs": [
    {
     "name": "stdout",
     "output_type": "stream",
     "text": [
      "PNG (800, 597) RGBA\n"
     ]
    }
   ],
   "source": [
    "'''处理图片'''\n",
    "from PIL import Image\n",
    "\n",
    "im = Image.open(r\"C:\\Users\\yaofe\\PycharmProjects\\BestPractice\\data\\img\\Figure_1.png\")\n",
    "im.show()\n",
    "print(im.format, im.size, im.mode)"
   ],
   "metadata": {
    "collapsed": false,
    "pycharm": {
     "name": "#%%\n"
    }
   }
  },
  {
   "cell_type": "code",
   "execution_count": 12,
   "outputs": [
    {
     "name": "stdout",
     "output_type": "stream",
     "text": [
      "['SENTENCE', 'FRAGMENT']\n",
      "[1, 2, 3, 4, 5, 6, 7]\n",
      "['1', '2', '3', '4', '5', '6', '7']\n"
     ]
    }
   ],
   "source": [
    "'''\n",
    "Python 有一个自带的函数叫做 map()\n",
    "map(function, something_iterable)\n",
    "map(function, something_iterable)\n",
    "'''\n",
    "\n",
    "def upper(s):\n",
    "    return s.upper()\n",
    "\n",
    "mylist = list(map(upper, ['sentence', 'fragment']))\n",
    "print(mylist)\n",
    "\n",
    "# Convert a string representation of\n",
    "# a number into a list of ints.\n",
    "list_of_ints = list(map(int, \"1234567\"))\n",
    "print(list_of_ints)\n",
    "\n",
    "list_of_strs = list(map(str, \"1234567\"))\n",
    "print(list_of_strs)"
   ],
   "metadata": {
    "collapsed": false,
    "pycharm": {
     "name": "#%%\n"
    }
   }
  },
  {
   "cell_type": "code",
   "execution_count": 13,
   "outputs": [
    {
     "name": "stdout",
     "output_type": "stream",
     "text": [
      "{1, 2, 3, 4, 5, 6}\n",
      "{'a', 'c', 'f', 'd', 'e', 'b'}\n"
     ]
    }
   ],
   "source": [
    "'''获取列表或字符串中的唯一元素'''\n",
    "\n",
    "mylist = [1, 1, 2, 3, 4, 5, 5, 5, 6, 6]\n",
    "print (set(mylist))\n",
    "\n",
    "# And since a string can be treated like a\n",
    "# list of letters, you can also get the\n",
    "# unique letters from a string this way:\n",
    "print (set(\"aaabbbcccdddeeefff\"))\n"
   ],
   "metadata": {
    "collapsed": false,
    "pycharm": {
     "name": "#%%\n"
    }
   }
  },
  {
   "cell_type": "code",
   "execution_count": 14,
   "outputs": [
    {
     "name": "stdout",
     "output_type": "stream",
     "text": [
      "4\n"
     ]
    }
   ],
   "source": [
    "'''查找出现频率最高的值'''\n",
    "\n",
    "test = [1, 2, 3, 4, 2, 2, 3, 1, 4, 4, 4]\n",
    "print(max(set(test), key = test.count))\n",
    "\n",
    "# max() 会返回列表的最大值。参数 key 会接受一个参数函数来自定义排序\n",
    "# test.count 是 list 的内置函数。它接受一个参数\n",
    "# test.count(1) 将返回2，而 test.count(4) 将返回4。\n",
    "# set(test) 将返回 test 中所有的唯一值，也就是 {1, 2, 3, 4}。"
   ],
   "metadata": {
    "collapsed": false,
    "pycharm": {
     "name": "#%%\n"
    }
   }
  },
  {
   "cell_type": "code",
   "execution_count": 16,
   "outputs": [],
   "source": [
    "'''\n",
    "条件赋值中的三元运算符\n",
    "[on_true] if [expression] else [on_false]\n",
    "'''\n",
    "y = 2\n",
    "x = \"Success!\" if (y == 2) else \"Failed!\""
   ],
   "metadata": {
    "collapsed": false,
    "pycharm": {
     "name": "#%%\n"
    }
   }
  },
  {
   "cell_type": "code",
   "execution_count": 17,
   "outputs": [
    {
     "name": "stdout",
     "output_type": "stream",
     "text": [
      "Counter({5: 3, 1: 2, 6: 2, 2: 1, 3: 1, 4: 1})\n",
      "Counter({'a': 5, 'b': 5, 'c': 5})\n"
     ]
    }
   ],
   "source": [
    "'''统计元素的出现次数'''\n",
    "\n",
    "from collections import Counter\n",
    "\n",
    "mylist = [1, 1, 2, 3, 4, 5, 5, 5, 6, 6]\n",
    "c = Counter(mylist)\n",
    "print(c)\n",
    "# Counter({1: 2, 2: 1, 3: 1, 4: 1, 5: 3, 6: 2})\n",
    "\n",
    "# And it works on strings too:\n",
    "print(Counter(\"aaaaabbbbbccccc\"))\n",
    "# Counter({'a': 5, 'b': 5, 'c': 5})"
   ],
   "metadata": {
    "collapsed": false,
    "pycharm": {
     "name": "#%%\n"
    }
   }
  },
  {
   "cell_type": "code",
   "execution_count": 18,
   "outputs": [
    {
     "name": "stdout",
     "output_type": "stream",
     "text": [
      "Yes\n",
      "Yes\n"
     ]
    }
   ],
   "source": [
    "'''在 Python 中将多个比较运算符链接到一起'''\n",
    "x = 10\n",
    "\n",
    "# Instead of:\n",
    "if x > 5 and x < 15:\n",
    "    print(\"Yes\")\n",
    "# yes\n",
    "\n",
    "# You can also write:\n",
    "if 5 < x < 15:\n",
    "    print(\"Yes\")\n",
    "# Yes"
   ],
   "metadata": {
    "collapsed": false,
    "pycharm": {
     "name": "#%%\n"
    }
   }
  },
  {
   "cell_type": "code",
   "execution_count": 19,
   "outputs": [
    {
     "name": "stdout",
     "output_type": "stream",
     "text": [
      "\u001B[31msome red text\n",
      "\u001B[42mand with a green background\n",
      "\u001B[2mand in dim text\n",
      "\u001B[0m\n",
      "back to normal now\n"
     ]
    }
   ],
   "source": [
    "'''设置终端的显示颜色'''\n",
    "\n",
    "from colorama import Fore, Back, Style\n",
    "\n",
    "print(Fore.RED + 'some red text')\n",
    "print(Back.GREEN + 'and with a green background')\n",
    "print(Style.DIM + 'and in dim text')\n",
    "print(Style.RESET_ALL)\n",
    "print('back to normal now')"
   ],
   "metadata": {
    "collapsed": false,
    "pycharm": {
     "name": "#%%\n"
    }
   }
  },
  {
   "cell_type": "code",
   "execution_count": 20,
   "outputs": [
    {
     "name": "stdout",
     "output_type": "stream",
     "text": [
      "2.5 2\n"
     ]
    }
   ],
   "source": [
    "'''Python 3 中，除法运算符（/）默认为浮点除法，而整数除法的运算符为 //'''\n",
    "a = 5 / 2\n",
    "b = 5 // 2\n",
    "print(a, b)\n"
   ],
   "metadata": {
    "collapsed": false,
    "pycharm": {
     "name": "#%%\n"
    }
   }
  },
  {
   "cell_type": "code",
   "execution_count": 2,
   "outputs": [
    {
     "name": "stdout",
     "output_type": "stream",
     "text": [
      "[4, 6, 6, 4]\n"
     ]
    }
   ],
   "source": [
    "'''map()函数映射求两个列表相乘'''\n",
    "\n",
    "func = lambda x0,y0:x0*y0\n",
    "result = map(func,[1,2,3,4],[4,3,2,1])\n",
    "list_result = list(result)\n",
    "print(list_result)"
   ],
   "metadata": {
    "collapsed": false,
    "pycharm": {
     "name": "#%%\n"
    }
   }
  }
 ],
 "metadata": {
  "kernelspec": {
   "display_name": "Python 3",
   "language": "python",
   "name": "python3"
  },
  "language_info": {
   "codemirror_mode": {
    "name": "ipython",
    "version": 2
   },
   "file_extension": ".py",
   "mimetype": "text/x-python",
   "name": "python",
   "nbconvert_exporter": "python",
   "pygments_lexer": "ipython2",
   "version": "2.7.6"
  }
 },
 "nbformat": 4,
 "nbformat_minor": 0
}