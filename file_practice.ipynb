{
 "cells": [
  {
   "cell_type": "code",
   "execution_count": null,
   "metadata": {
    "collapsed": true
   },
   "outputs": [],
   "source": [
    "'''\n",
    "清华大佬告诉你如何使用Python\n",
    "建议一：使用 pathlib 模块\n",
    "建议二：掌握如何流式读取大文件\n",
    "建议三：设计接受文件对象的函数\n",
    "'''\n",
    "\n",
    "'''使用 pathlib 模块改写代码'''\n",
    "import os.path\n",
    "from pathlib import Path\n",
    "\n",
    "# 把其中以 .txt 结尾的文件都修改为 .csv\n",
    "def unify_ext_with_pathlib(path):\n",
    "    for fpath in Path(path).glob('*.txt'):\n",
    "         fpath.rename(fpath.with_suffix('.csv'))"
   ]
  },
  {
   "cell_type": "code",
   "execution_count": null,
   "outputs": [],
   "source": [
    "p1 = Path('/data')\n",
    "os.path.join(p1, 'foo.txt')"
   ],
   "metadata": {
    "collapsed": false,
    "pycharm": {
     "name": "#%%\n"
    }
   }
  },
  {
   "cell_type": "code",
   "execution_count": null,
   "outputs": [],
   "source": [
    "from functools import partial\n",
    "\n",
    "# 利用生成器解耦代码\n",
    "def chunked_file_reader(file, block_size=1024*8):\n",
    "    for chunk in iter(partial(file.read, block_size), ''):\n",
    "        yield chunk\n",
    "\n",
    "# 分块读取\n",
    "def count_nine_v3(fname):\n",
    "    count = 0\n",
    "    with open(fname) as fp1:\n",
    "        for chunk in chunked_file_reader(fp1):\n",
    "            count += chunk.count('9')\n",
    "    return count\n"
   ],
   "metadata": {
    "collapsed": false,
    "pycharm": {
     "name": "#%%\n"
    }
   }
  },
  {
   "cell_type": "code",
   "execution_count": null,
   "outputs": [],
   "source": [
    "import  pytest\n",
    "from io import  StringIO\n",
    "\n",
    "# 打开文件的职责移交给了上层函数调用者\n",
    "def count_vowels_v2(fp1):\n",
    "    VOWELS_LETTERS = {'a','e','i','o','u'}\n",
    "    count = 0\n",
    "    for line in fp1:\n",
    "        for char in line:\n",
    "            if char.lower() in VOWELS_LETTERS:\n",
    "                count += 1\n",
    "    return count\n",
    "\n",
    "with open('foo.txt') as fp:\n",
    "    print(count_vowels_v2(fp))"
   ],
   "metadata": {
    "collapsed": false,
    "pycharm": {
     "name": "#%%\n"
    }
   }
  },
  {
   "cell_type": "code",
   "execution_count": null,
   "outputs": [],
   "source": [
    "@pytest.mark.parametrize(\n",
    "    \"content,vowels_count\", [\n",
    "        ('',0),\n",
    "        ('Hello World', 3),\n",
    "        ('你好', 0)\n",
    "    ]\n",
    ")\n",
    "def test_count_vowels_v2(content, vowels_count):\n",
    "    # 利用StringIO构造类文件对象‘file’\n",
    "    file = StringIO(content)\n",
    "    assert count_vowels_v2(file) == vowels_count"
   ],
   "metadata": {
    "collapsed": false,
    "pycharm": {
     "name": "#%%\n"
    }
   }
  },
  {
   "cell_type": "code",
   "execution_count": null,
   "outputs": [],
   "source": [
    "\n"
   ],
   "metadata": {
    "collapsed": false,
    "pycharm": {
     "name": "#%%\n"
    }
   }
  }
 ],
 "metadata": {
  "kernelspec": {
   "display_name": "Python 3",
   "language": "python",
   "name": "python3"
  },
  "language_info": {
   "codemirror_mode": {
    "name": "ipython",
    "version": 2
   },
   "file_extension": ".py",
   "mimetype": "text/x-python",
   "name": "python",
   "nbconvert_exporter": "python",
   "pygments_lexer": "ipython2",
   "version": "2.7.6"
  }
 },
 "nbformat": 4,
 "nbformat_minor": 0
}