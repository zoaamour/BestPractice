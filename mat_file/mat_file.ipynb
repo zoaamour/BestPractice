{
 "cells": [
  {
   "cell_type": "code",
   "execution_count": 1,
   "metadata": {
    "collapsed": true
   },
   "outputs": [
    {
     "name": "stdout",
     "output_type": "stream",
     "text": [
      "dateList\n",
      "[[20050104.]\n",
      " [20050105.]\n",
      " [20050106.]\n",
      " ...\n",
      " [20201019.]\n",
      " [20201020.]\n",
      " [20201021.]]\n"
     ]
    }
   ],
   "source": [
    "import hdf5storage\n",
    "\n",
    "path = r\"D:\\TwinProject\\TwinMarketData\\data\\ifind_market_tmp\\dateList.mat\"\n",
    "mat = hdf5storage.loadmat(path)\n",
    "\n",
    "for group in mat.keys():\n",
    "    print (group)\n",
    "    print(mat[group])\n"
   ]
  },
  {
   "cell_type": "code",
   "execution_count": 1,
   "outputs": [
    {
     "name": "stdout",
     "output_type": "stream",
     "text": [
      "HS300\n",
      "<HDF5 dataset \"HS300\": shape (6, 3838), type \"<f8\">\n",
      "[[9.94769000e+02 9.81577000e+02 9.93331000e+02 ... 4.82349440e+03\n",
      "  4.75136940e+03 4.80163130e+03]\n",
      " [9.94769000e+02 9.97323000e+02 9.93788000e+02 ... 4.84960500e+03\n",
      "  4.79346720e+03 4.80163130e+03]\n",
      " [9.80658000e+02 9.79877000e+02 9.80330000e+02 ... 4.74733560e+03\n",
      "  4.73945830e+03 4.75885520e+03]\n",
      " [9.82794000e+02 9.92564000e+02 9.83174000e+02 ... 4.75548790e+03\n",
      "  4.79346720e+03 4.79282840e+03]\n",
      " [7.41286894e+08 7.11910898e+08 6.28802905e+08 ... 1.29246361e+10\n",
      "  9.80481560e+09 1.03805703e+10]\n",
      " [4.43197742e+09 4.52920821e+09 3.92101542e+09 ... 2.25392198e+11\n",
      "  1.85849198e+11 1.89978697e+11]]\n"
     ]
    }
   ],
   "source": [
    "import h5py\n",
    "import numpy as np\n",
    "\n",
    "path = r\"D:\\TwinProject\\TwinMarketData\\data\\ifind_market_tmp\\HS300.mat\"\n",
    "dt_mat = h5py.File(path)\n",
    "f = h5py.File(path,'r')\n",
    "# data = f.get('HS300')\n",
    "# data = np.array(data)\n",
    "\n",
    "#遍历文件中的一级组\n",
    "for group in f.keys():\n",
    "    print (group)\n",
    "    #根据一级组名获得其下面的组\n",
    "    group_read = f[group]\n",
    "    print(group_read)\n",
    "    data = np.array(group_read)\n",
    "    print(data)\n",
    "    #遍历该一级组下面的子组\n",
    "    # for subgroup in group_read.keys():\n",
    "        # print(subgroup)\n",
    "        # #根据一级组和二级组名获取其下面的dataset\n",
    "        # dset_read = f[group+'/'+subgroup]\n",
    "        # #遍历该子组下所有的dataset\n",
    "        # for dset in dset_read.keys():\n",
    "        #     #获取dataset数据\n",
    "        #     dset1 = f[group+'/'+subgroup+'/'+dset]\n",
    "        #     print(dset1.name)\n",
    "        #     data = np.array(dset1)\n",
    "        #     print(data.shape)"
   ],
   "metadata": {
    "collapsed": false,
    "pycharm": {
     "name": "#%%\n"
    }
   }
  },
  {
   "cell_type": "code",
   "execution_count": 3,
   "outputs": [
    {
     "data": {
      "text/plain": "3838"
     },
     "execution_count": 3,
     "metadata": {},
     "output_type": "execute_result"
    }
   ],
   "source": [
    "import matlab.engine\n",
    "import numpy as np\n",
    "\n",
    "path = r\"D:\\TwinProject\\TwinMarketData\\data\\ifind_market_tmp\\HS300.mat\"\n",
    "# path = r\"D:\\TwinProject\\TwinMarketData\\data\\ifind_market_tmp\\stkList.mat\"\n",
    "\n",
    "eng = matlab.engine.start_matlab()\n",
    "content = eng.load(path, nargout=1)\n",
    "content\n",
    "\n",
    "data = np.array(content[\"HS300\"])\n",
    "type(data)\n",
    "len(data)\n"
   ],
   "metadata": {
    "collapsed": false,
    "pycharm": {
     "name": "#%%\n"
    }
   }
  }
 ],
 "metadata": {
  "kernelspec": {
   "display_name": "Python 3",
   "language": "python",
   "name": "python3"
  },
  "language_info": {
   "codemirror_mode": {
    "name": "ipython",
    "version": 2
   },
   "file_extension": ".py",
   "mimetype": "text/x-python",
   "name": "python",
   "nbconvert_exporter": "python",
   "pygments_lexer": "ipython2",
   "version": "2.7.6"
  }
 },
 "nbformat": 4,
 "nbformat_minor": 0
}