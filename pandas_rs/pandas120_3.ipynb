{
 "cells": [
  {
   "cell_type": "code",
   "execution_count": 1,
   "metadata": {
    "collapsed": true
   },
   "outputs": [
    {
     "name": "stdout",
     "output_type": "stream",
     "text": [
      "Using matplotlib backend: Qt5Agg\n"
     ]
    }
   ],
   "source": [
    "import os\n",
    "import pandas as pd\n",
    "import numpy as np\n",
    "from IPython import InteractiveShell\n",
    "import matplotlib.pyplot as plt\n",
    "\n",
    "from util.ConstUtil import DATA_PATH\n",
    "\n",
    "InteractiveShell.ast_node_interactivity = \"all\"\n",
    "%matplotlib auto\n",
    "\n",
    "\n",
    "plt.rcParams['font.sans-serif'] = ['SimHei'] #用来正常显示中文标签\n",
    "plt.rcParams['axes.unicode_minus'] = False #用来正常显示负号\n",
    "# plt.style.use('seaborn-darkgrid') # 设置画图的风格，不支持中文\n",
    "# plt.rc('font',  size=6) #设置图中字体和大小\n"
   ]
  },
  {
   "cell_type": "code",
   "execution_count": 2,
   "outputs": [
    {
     "name": "stdout",
     "output_type": "stream",
     "text": [
      "WARNING *** OLE2 inconsistency: SSCS size is 0 but SSAT size is non-zero\n"
     ]
    },
    {
     "data": {
      "text/plain": "          代码    简称         日期  前收盘价(元)   开盘价(元)   最高价(元)   最低价(元)   收盘价(元)  \\\n0  600000.SH  浦发银行 2016-01-04  16.1356  16.1444  16.1444  15.4997  15.7205   \n1  600000.SH  浦发银行 2016-01-05  15.7205  15.4644  15.9501  15.3672  15.8618   \n2  600000.SH  浦发银行 2016-01-06  15.8618  15.8088  16.0208  15.6234  15.9855   \n3  600000.SH  浦发银行 2016-01-07  15.9855  15.7205  15.8088  15.3672  15.4644   \n4  600000.SH  浦发银行 2016-01-08  15.4644  15.6675  15.7912  14.9345  15.4467   \n5  600000.SH  浦发银行 2016-01-11  15.4467  15.1994  15.4114  14.9786  15.0581   \n6  600000.SH  浦发银行 2016-01-12  15.0581  15.1641  15.4732  15.0846  15.4114   \n7  600000.SH  浦发银行 2016-01-13  15.4114  15.5174  15.8088  15.3231  15.3584   \n8  600000.SH  浦发银行 2016-01-14  15.3584  15.0140  15.8883  14.9168  15.8265   \n9  600000.SH  浦发银行 2016-01-15  15.8265  15.7205  16.0296  15.4732  15.5262   \n\n     成交量(股)     成交金额(元)   涨跌(元)  涨跌幅(%)    均价(元)  换手率(%)     A股流通市值(元)  \\\n0  42240610   754425783 -0.4151 -2.5725  17.8602  0.2264  3.320318e+11   \n1  58054793  1034181474  0.1413  0.8989  17.8139  0.3112  3.350163e+11   \n2  46772653   838667398  0.1236  0.7795  17.9307  0.2507  3.376278e+11   \n3  11350479   199502702 -0.5211 -3.2597  17.5766  0.0608  3.266223e+11   \n4  71918296  1262105060 -0.0177 -0.1142  17.5492  0.3855  3.262492e+11   \n5  90177135  1550155933 -0.3886 -2.5157  17.1901  0.4834  3.180417e+11   \n6  55374454   964061502  0.3533  2.3460  17.4099  0.2969  3.255031e+11   \n7  47869312   843717365 -0.0530 -0.3438  17.6254  0.2566  3.243839e+11   \n8  54838833   966117848  0.4681  3.0477  17.6174   0.294  3.342702e+11   \n9  46723139   836146426 -0.3003 -1.8973  17.8958  0.2505  3.279280e+11   \n\n         总市值(元)     A股流通股本(股)     市盈率  \n0  3.320318e+11  1.865347e+10  6.5614  \n1  3.350163e+11  1.865347e+10  6.6204  \n2  3.376278e+11  1.865347e+10  6.6720  \n3  3.266223e+11  1.865347e+10  6.4545  \n4  3.262492e+11  1.865347e+10  6.4471  \n5  3.180417e+11  1.865347e+10  6.2849  \n6  3.255031e+11  1.865347e+10  6.4324  \n7  3.243839e+11  1.865347e+10  6.4102  \n8  3.342702e+11  1.865347e+10  6.6056  \n9  3.279280e+11  1.865347e+10  6.4803  ",
      "text/html": "<div>\n<style scoped>\n    .dataframe tbody tr th:only-of-type {\n        vertical-align: middle;\n    }\n\n    .dataframe tbody tr th {\n        vertical-align: top;\n    }\n\n    .dataframe thead th {\n        text-align: right;\n    }\n</style>\n<table border=\"1\" class=\"dataframe\">\n  <thead>\n    <tr style=\"text-align: right;\">\n      <th></th>\n      <th>代码</th>\n      <th>简称</th>\n      <th>日期</th>\n      <th>前收盘价(元)</th>\n      <th>开盘价(元)</th>\n      <th>最高价(元)</th>\n      <th>最低价(元)</th>\n      <th>收盘价(元)</th>\n      <th>成交量(股)</th>\n      <th>成交金额(元)</th>\n      <th>涨跌(元)</th>\n      <th>涨跌幅(%)</th>\n      <th>均价(元)</th>\n      <th>换手率(%)</th>\n      <th>A股流通市值(元)</th>\n      <th>总市值(元)</th>\n      <th>A股流通股本(股)</th>\n      <th>市盈率</th>\n    </tr>\n  </thead>\n  <tbody>\n    <tr>\n      <th>0</th>\n      <td>600000.SH</td>\n      <td>浦发银行</td>\n      <td>2016-01-04</td>\n      <td>16.1356</td>\n      <td>16.1444</td>\n      <td>16.1444</td>\n      <td>15.4997</td>\n      <td>15.7205</td>\n      <td>42240610</td>\n      <td>754425783</td>\n      <td>-0.4151</td>\n      <td>-2.5725</td>\n      <td>17.8602</td>\n      <td>0.2264</td>\n      <td>3.320318e+11</td>\n      <td>3.320318e+11</td>\n      <td>1.865347e+10</td>\n      <td>6.5614</td>\n    </tr>\n    <tr>\n      <th>1</th>\n      <td>600000.SH</td>\n      <td>浦发银行</td>\n      <td>2016-01-05</td>\n      <td>15.7205</td>\n      <td>15.4644</td>\n      <td>15.9501</td>\n      <td>15.3672</td>\n      <td>15.8618</td>\n      <td>58054793</td>\n      <td>1034181474</td>\n      <td>0.1413</td>\n      <td>0.8989</td>\n      <td>17.8139</td>\n      <td>0.3112</td>\n      <td>3.350163e+11</td>\n      <td>3.350163e+11</td>\n      <td>1.865347e+10</td>\n      <td>6.6204</td>\n    </tr>\n    <tr>\n      <th>2</th>\n      <td>600000.SH</td>\n      <td>浦发银行</td>\n      <td>2016-01-06</td>\n      <td>15.8618</td>\n      <td>15.8088</td>\n      <td>16.0208</td>\n      <td>15.6234</td>\n      <td>15.9855</td>\n      <td>46772653</td>\n      <td>838667398</td>\n      <td>0.1236</td>\n      <td>0.7795</td>\n      <td>17.9307</td>\n      <td>0.2507</td>\n      <td>3.376278e+11</td>\n      <td>3.376278e+11</td>\n      <td>1.865347e+10</td>\n      <td>6.6720</td>\n    </tr>\n    <tr>\n      <th>3</th>\n      <td>600000.SH</td>\n      <td>浦发银行</td>\n      <td>2016-01-07</td>\n      <td>15.9855</td>\n      <td>15.7205</td>\n      <td>15.8088</td>\n      <td>15.3672</td>\n      <td>15.4644</td>\n      <td>11350479</td>\n      <td>199502702</td>\n      <td>-0.5211</td>\n      <td>-3.2597</td>\n      <td>17.5766</td>\n      <td>0.0608</td>\n      <td>3.266223e+11</td>\n      <td>3.266223e+11</td>\n      <td>1.865347e+10</td>\n      <td>6.4545</td>\n    </tr>\n    <tr>\n      <th>4</th>\n      <td>600000.SH</td>\n      <td>浦发银行</td>\n      <td>2016-01-08</td>\n      <td>15.4644</td>\n      <td>15.6675</td>\n      <td>15.7912</td>\n      <td>14.9345</td>\n      <td>15.4467</td>\n      <td>71918296</td>\n      <td>1262105060</td>\n      <td>-0.0177</td>\n      <td>-0.1142</td>\n      <td>17.5492</td>\n      <td>0.3855</td>\n      <td>3.262492e+11</td>\n      <td>3.262492e+11</td>\n      <td>1.865347e+10</td>\n      <td>6.4471</td>\n    </tr>\n    <tr>\n      <th>5</th>\n      <td>600000.SH</td>\n      <td>浦发银行</td>\n      <td>2016-01-11</td>\n      <td>15.4467</td>\n      <td>15.1994</td>\n      <td>15.4114</td>\n      <td>14.9786</td>\n      <td>15.0581</td>\n      <td>90177135</td>\n      <td>1550155933</td>\n      <td>-0.3886</td>\n      <td>-2.5157</td>\n      <td>17.1901</td>\n      <td>0.4834</td>\n      <td>3.180417e+11</td>\n      <td>3.180417e+11</td>\n      <td>1.865347e+10</td>\n      <td>6.2849</td>\n    </tr>\n    <tr>\n      <th>6</th>\n      <td>600000.SH</td>\n      <td>浦发银行</td>\n      <td>2016-01-12</td>\n      <td>15.0581</td>\n      <td>15.1641</td>\n      <td>15.4732</td>\n      <td>15.0846</td>\n      <td>15.4114</td>\n      <td>55374454</td>\n      <td>964061502</td>\n      <td>0.3533</td>\n      <td>2.3460</td>\n      <td>17.4099</td>\n      <td>0.2969</td>\n      <td>3.255031e+11</td>\n      <td>3.255031e+11</td>\n      <td>1.865347e+10</td>\n      <td>6.4324</td>\n    </tr>\n    <tr>\n      <th>7</th>\n      <td>600000.SH</td>\n      <td>浦发银行</td>\n      <td>2016-01-13</td>\n      <td>15.4114</td>\n      <td>15.5174</td>\n      <td>15.8088</td>\n      <td>15.3231</td>\n      <td>15.3584</td>\n      <td>47869312</td>\n      <td>843717365</td>\n      <td>-0.0530</td>\n      <td>-0.3438</td>\n      <td>17.6254</td>\n      <td>0.2566</td>\n      <td>3.243839e+11</td>\n      <td>3.243839e+11</td>\n      <td>1.865347e+10</td>\n      <td>6.4102</td>\n    </tr>\n    <tr>\n      <th>8</th>\n      <td>600000.SH</td>\n      <td>浦发银行</td>\n      <td>2016-01-14</td>\n      <td>15.3584</td>\n      <td>15.0140</td>\n      <td>15.8883</td>\n      <td>14.9168</td>\n      <td>15.8265</td>\n      <td>54838833</td>\n      <td>966117848</td>\n      <td>0.4681</td>\n      <td>3.0477</td>\n      <td>17.6174</td>\n      <td>0.294</td>\n      <td>3.342702e+11</td>\n      <td>3.342702e+11</td>\n      <td>1.865347e+10</td>\n      <td>6.6056</td>\n    </tr>\n    <tr>\n      <th>9</th>\n      <td>600000.SH</td>\n      <td>浦发银行</td>\n      <td>2016-01-15</td>\n      <td>15.8265</td>\n      <td>15.7205</td>\n      <td>16.0296</td>\n      <td>15.4732</td>\n      <td>15.5262</td>\n      <td>46723139</td>\n      <td>836146426</td>\n      <td>-0.3003</td>\n      <td>-1.8973</td>\n      <td>17.8958</td>\n      <td>0.2505</td>\n      <td>3.279280e+11</td>\n      <td>3.279280e+11</td>\n      <td>1.865347e+10</td>\n      <td>6.4803</td>\n    </tr>\n  </tbody>\n</table>\n</div>"
     },
     "execution_count": 2,
     "metadata": {},
     "output_type": "execute_result"
    }
   ],
   "source": [
    "data_path = os.path.join(DATA_PATH, 'pandas_rs')\n",
    "fpath = os.path.join(data_path, '600000.SH.xls')\n",
    "data:pd.DataFrame = pd.read_excel(fpath)\n",
    "data.head(10)"
   ],
   "metadata": {
    "collapsed": false,
    "pycharm": {
     "name": "#%%\n"
    }
   }
  },
  {
   "cell_type": "code",
   "execution_count": 3,
   "outputs": [
    {
     "data": {
      "text/plain": "代码           1\n简称           2\n日期           2\n前收盘价(元)      2\n开盘价(元)       2\n最高价(元)       2\n最低价(元)       2\n收盘价(元)       2\n成交量(股)       2\n成交金额(元)      2\n涨跌(元)        2\n涨跌幅(%)       2\n均价(元)        2\n换手率(%)       2\nA股流通市值(元)    2\n总市值(元)       2\nA股流通股本(股)    2\n市盈率          2\ndtype: int64"
     },
     "execution_count": 3,
     "metadata": {},
     "output_type": "execute_result"
    }
   ],
   "source": [
    "data.isnull().sum()"
   ],
   "metadata": {
    "collapsed": false,
    "pycharm": {
     "name": "#%%\n"
    }
   }
  },
  {
   "cell_type": "code",
   "execution_count": 4,
   "outputs": [
    {
     "name": "stdout",
     "output_type": "stream",
     "text": [
      "列名：代码，第[327]行位置有缺失值\n",
      "列名：简称，第[327, 328]行位置有缺失值\n",
      "列名：日期，第[327, 328]行位置有缺失值\n",
      "列名：前收盘价(元)，第[327, 328]行位置有缺失值\n",
      "列名：开盘价(元)，第[327, 328]行位置有缺失值\n",
      "列名：最高价(元)，第[327, 328]行位置有缺失值\n",
      "列名：最低价(元)，第[327, 328]行位置有缺失值\n",
      "列名：收盘价(元)，第[327, 328]行位置有缺失值\n",
      "列名：成交量(股)，第[327, 328]行位置有缺失值\n",
      "列名：成交金额(元)，第[327, 328]行位置有缺失值\n",
      "列名：涨跌(元)，第[327, 328]行位置有缺失值\n",
      "列名：涨跌幅(%)，第[327, 328]行位置有缺失值\n",
      "列名：均价(元)，第[327, 328]行位置有缺失值\n",
      "列名：换手率(%)，第[327, 328]行位置有缺失值\n",
      "列名：A股流通市值(元)，第[327, 328]行位置有缺失值\n",
      "列名：总市值(元)，第[327, 328]行位置有缺失值\n",
      "列名：A股流通股本(股)，第[327, 328]行位置有缺失值\n",
      "列名：市盈率，第[327, 328]行位置有缺失值\n"
     ]
    }
   ],
   "source": [
    "for colname in data.columns:\n",
    "\tif data[colname].count() != len(data[colname]):\n",
    "\t\tloc = data[colname][data[colname].isnull()].index.tolist()\n",
    "\t\tprint(f'列名：{colname}，第{loc}行位置有缺失值')"
   ],
   "metadata": {
    "collapsed": false,
    "pycharm": {
     "name": "#%%\n"
    }
   }
  },
  {
   "cell_type": "code",
   "execution_count": 5,
   "outputs": [
    {
     "data": {
      "text/plain": "代码           0\n简称           0\n日期           0\n前收盘价(元)      0\n开盘价(元)       0\n最高价(元)       0\n最低价(元)       0\n收盘价(元)       0\n成交量(股)       0\n成交金额(元)      0\n涨跌(元)        0\n涨跌幅(%)       0\n均价(元)        0\n换手率(%)       0\nA股流通市值(元)    0\n总市值(元)       0\nA股流通股本(股)    0\n市盈率          0\ndtype: int64"
     },
     "execution_count": 5,
     "metadata": {},
     "output_type": "execute_result"
    }
   ],
   "source": [
    "data.dropna(axis=0, how='any', inplace=True)\n",
    "data.isnull().sum(axis=0)"
   ],
   "metadata": {
    "collapsed": false,
    "pycharm": {
     "name": "#%%\n"
    }
   }
  },
  {
   "cell_type": "code",
   "execution_count": 6,
   "outputs": [
    {
     "data": {
      "text/plain": "<AxesSubplot:>"
     },
     "execution_count": 6,
     "metadata": {},
     "output_type": "execute_result"
    }
   ],
   "source": [
    "# data['收盘价(元)'].plot()\n",
    "data[['开盘价(元)','收盘价(元)']].plot()"
   ],
   "metadata": {
    "collapsed": false,
    "pycharm": {
     "name": "#%%\n"
    }
   }
  },
  {
   "cell_type": "code",
   "execution_count": 7,
   "outputs": [
    {
     "data": {
      "text/plain": "(array([  1.,   0.,   1.,   7.,  32., 224.,  53.,   5.,   2.,   2.]),\n array([-8.0217 , -6.59525, -5.1688 , -3.74235, -2.3159 , -0.88945,\n         0.537  ,  1.96345,  3.3899 ,  4.81635,  6.2428 ]),\n <BarContainer object of 10 artists>)"
     },
     "execution_count": 7,
     "metadata": {},
     "output_type": "execute_result"
    }
   ],
   "source": [
    "# data['涨跌幅(%)'].hist()\n",
    "plt.hist(data['涨跌幅(%)'])"
   ],
   "metadata": {
    "collapsed": false,
    "pycharm": {
     "name": "#%%\n"
    }
   }
  },
  {
   "cell_type": "code",
   "execution_count": 8,
   "outputs": [
    {
     "data": {
      "text/plain": "<AxesSubplot:>"
     },
     "execution_count": 8,
     "metadata": {},
     "output_type": "execute_result"
    }
   ],
   "source": [
    "data['涨跌幅(%)'].hist(bins=30)\n"
   ],
   "metadata": {
    "collapsed": false,
    "pycharm": {
     "name": "#%%\n"
    }
   }
  },
  {
   "cell_type": "code",
   "execution_count": 9,
   "outputs": [
    {
     "data": {
      "text/plain": "Empty DataFrame\nColumns: [代码, 简称, 日期, 前收盘价(元), 开盘价(元), 最高价(元), 最低价(元), 收盘价(元), 成交量(股), 成交金额(元), 涨跌(元), 涨跌幅(%), 均价(元), 换手率(%), A股流通市值(元), 总市值(元), A股流通股本(股), 市盈率]\nIndex: []",
      "text/html": "<div>\n<style scoped>\n    .dataframe tbody tr th:only-of-type {\n        vertical-align: middle;\n    }\n\n    .dataframe tbody tr th {\n        vertical-align: top;\n    }\n\n    .dataframe thead th {\n        text-align: right;\n    }\n</style>\n<table border=\"1\" class=\"dataframe\">\n  <thead>\n    <tr style=\"text-align: right;\">\n      <th></th>\n      <th>代码</th>\n      <th>简称</th>\n      <th>日期</th>\n      <th>前收盘价(元)</th>\n      <th>开盘价(元)</th>\n      <th>最高价(元)</th>\n      <th>最低价(元)</th>\n      <th>收盘价(元)</th>\n      <th>成交量(股)</th>\n      <th>成交金额(元)</th>\n      <th>涨跌(元)</th>\n      <th>涨跌幅(%)</th>\n      <th>均价(元)</th>\n      <th>换手率(%)</th>\n      <th>A股流通市值(元)</th>\n      <th>总市值(元)</th>\n      <th>A股流通股本(股)</th>\n      <th>市盈率</th>\n    </tr>\n  </thead>\n  <tbody>\n  </tbody>\n</table>\n</div>"
     },
     "execution_count": 9,
     "metadata": {},
     "output_type": "execute_result"
    }
   ],
   "source": [
    "temp = pd.DataFrame(columns=data.columns.tolist())\n",
    "temp\n"
   ],
   "metadata": {
    "collapsed": false,
    "pycharm": {
     "name": "#%%\n"
    }
   }
  },
  {
   "cell_type": "code",
   "execution_count": 10,
   "outputs": [
    {
     "data": {
      "text/plain": "(array([26, 27, 28, 29, 30, 31, 32, 33, 34, 35, 36, 37, 38, 39, 40, 41, 42,\n        43], dtype=int64),)"
     },
     "execution_count": 10,
     "metadata": {},
     "output_type": "execute_result"
    }
   ],
   "source": [
    "temp = pd.to_numeric(data['换手率(%)'], errors='coerce')\n",
    "np.where(temp.isnull())"
   ],
   "metadata": {
    "collapsed": false,
    "pycharm": {
     "name": "#%%\n"
    }
   }
  },
  {
   "cell_type": "code",
   "execution_count": 11,
   "outputs": [
    {
     "data": {
      "text/plain": "           代码    简称         日期  前收盘价(元)   开盘价(元)   最高价(元)   最低价(元)   收盘价(元)  \\\n26  600000.SH  浦发银行 2016-02-16  16.2946  16.2946  16.2946  16.2946  16.2946   \n27  600000.SH  浦发银行 2016-02-17  16.2946  16.2946  16.2946  16.2946  16.2946   \n28  600000.SH  浦发银行 2016-02-18  16.2946  16.2946  16.2946  16.2946  16.2946   \n29  600000.SH  浦发银行 2016-02-19  16.2946  16.2946  16.2946  16.2946  16.2946   \n30  600000.SH  浦发银行 2016-02-22  16.2946  16.2946  16.2946  16.2946  16.2946   \n\n   成交量(股) 成交金额(元)  涨跌(元)  涨跌幅(%) 均价(元) 换手率(%)     A股流通市值(元)        总市值(元)  \\\n26     --      --    0.0     0.0    --     --  3.441565e+11  3.441565e+11   \n27     --      --    0.0     0.0    --     --  3.441565e+11  3.441565e+11   \n28     --      --    0.0     0.0    --     --  3.441565e+11  3.441565e+11   \n29     --      --    0.0     0.0    --     --  3.441565e+11  3.441565e+11   \n30     --      --    0.0     0.0    --     --  3.441565e+11  3.441565e+11   \n\n       A股流通股本(股)    市盈率  \n26  1.865347e+10  6.801  \n27  1.865347e+10  6.801  \n28  1.865347e+10  6.801  \n29  1.865347e+10  6.801  \n30  1.865347e+10  6.801  ",
      "text/html": "<div>\n<style scoped>\n    .dataframe tbody tr th:only-of-type {\n        vertical-align: middle;\n    }\n\n    .dataframe tbody tr th {\n        vertical-align: top;\n    }\n\n    .dataframe thead th {\n        text-align: right;\n    }\n</style>\n<table border=\"1\" class=\"dataframe\">\n  <thead>\n    <tr style=\"text-align: right;\">\n      <th></th>\n      <th>代码</th>\n      <th>简称</th>\n      <th>日期</th>\n      <th>前收盘价(元)</th>\n      <th>开盘价(元)</th>\n      <th>最高价(元)</th>\n      <th>最低价(元)</th>\n      <th>收盘价(元)</th>\n      <th>成交量(股)</th>\n      <th>成交金额(元)</th>\n      <th>涨跌(元)</th>\n      <th>涨跌幅(%)</th>\n      <th>均价(元)</th>\n      <th>换手率(%)</th>\n      <th>A股流通市值(元)</th>\n      <th>总市值(元)</th>\n      <th>A股流通股本(股)</th>\n      <th>市盈率</th>\n    </tr>\n  </thead>\n  <tbody>\n    <tr>\n      <th>26</th>\n      <td>600000.SH</td>\n      <td>浦发银行</td>\n      <td>2016-02-16</td>\n      <td>16.2946</td>\n      <td>16.2946</td>\n      <td>16.2946</td>\n      <td>16.2946</td>\n      <td>16.2946</td>\n      <td>--</td>\n      <td>--</td>\n      <td>0.0</td>\n      <td>0.0</td>\n      <td>--</td>\n      <td>--</td>\n      <td>3.441565e+11</td>\n      <td>3.441565e+11</td>\n      <td>1.865347e+10</td>\n      <td>6.801</td>\n    </tr>\n    <tr>\n      <th>27</th>\n      <td>600000.SH</td>\n      <td>浦发银行</td>\n      <td>2016-02-17</td>\n      <td>16.2946</td>\n      <td>16.2946</td>\n      <td>16.2946</td>\n      <td>16.2946</td>\n      <td>16.2946</td>\n      <td>--</td>\n      <td>--</td>\n      <td>0.0</td>\n      <td>0.0</td>\n      <td>--</td>\n      <td>--</td>\n      <td>3.441565e+11</td>\n      <td>3.441565e+11</td>\n      <td>1.865347e+10</td>\n      <td>6.801</td>\n    </tr>\n    <tr>\n      <th>28</th>\n      <td>600000.SH</td>\n      <td>浦发银行</td>\n      <td>2016-02-18</td>\n      <td>16.2946</td>\n      <td>16.2946</td>\n      <td>16.2946</td>\n      <td>16.2946</td>\n      <td>16.2946</td>\n      <td>--</td>\n      <td>--</td>\n      <td>0.0</td>\n      <td>0.0</td>\n      <td>--</td>\n      <td>--</td>\n      <td>3.441565e+11</td>\n      <td>3.441565e+11</td>\n      <td>1.865347e+10</td>\n      <td>6.801</td>\n    </tr>\n    <tr>\n      <th>29</th>\n      <td>600000.SH</td>\n      <td>浦发银行</td>\n      <td>2016-02-19</td>\n      <td>16.2946</td>\n      <td>16.2946</td>\n      <td>16.2946</td>\n      <td>16.2946</td>\n      <td>16.2946</td>\n      <td>--</td>\n      <td>--</td>\n      <td>0.0</td>\n      <td>0.0</td>\n      <td>--</td>\n      <td>--</td>\n      <td>3.441565e+11</td>\n      <td>3.441565e+11</td>\n      <td>1.865347e+10</td>\n      <td>6.801</td>\n    </tr>\n    <tr>\n      <th>30</th>\n      <td>600000.SH</td>\n      <td>浦发银行</td>\n      <td>2016-02-22</td>\n      <td>16.2946</td>\n      <td>16.2946</td>\n      <td>16.2946</td>\n      <td>16.2946</td>\n      <td>16.2946</td>\n      <td>--</td>\n      <td>--</td>\n      <td>0.0</td>\n      <td>0.0</td>\n      <td>--</td>\n      <td>--</td>\n      <td>3.441565e+11</td>\n      <td>3.441565e+11</td>\n      <td>1.865347e+10</td>\n      <td>6.801</td>\n    </tr>\n  </tbody>\n</table>\n</div>"
     },
     "execution_count": 11,
     "metadata": {},
     "output_type": "execute_result"
    },
    {
     "data": {
      "text/plain": "           代码    简称         日期  前收盘价(元)   开盘价(元)   最高价(元)   最低价(元)   收盘价(元)  \\\n26  600000.SH  浦发银行 2016-02-16  16.2946  16.2946  16.2946  16.2946  16.2946   \n27  600000.SH  浦发银行 2016-02-17  16.2946  16.2946  16.2946  16.2946  16.2946   \n28  600000.SH  浦发银行 2016-02-18  16.2946  16.2946  16.2946  16.2946  16.2946   \n29  600000.SH  浦发银行 2016-02-19  16.2946  16.2946  16.2946  16.2946  16.2946   \n30  600000.SH  浦发银行 2016-02-22  16.2946  16.2946  16.2946  16.2946  16.2946   \n\n   成交量(股) 成交金额(元)  涨跌(元)  涨跌幅(%) 均价(元) 换手率(%)     A股流通市值(元)        总市值(元)  \\\n26     --      --    0.0     0.0    --     --  3.441565e+11  3.441565e+11   \n27     --      --    0.0     0.0    --     --  3.441565e+11  3.441565e+11   \n28     --      --    0.0     0.0    --     --  3.441565e+11  3.441565e+11   \n29     --      --    0.0     0.0    --     --  3.441565e+11  3.441565e+11   \n30     --      --    0.0     0.0    --     --  3.441565e+11  3.441565e+11   \n\n       A股流通股本(股)    市盈率  \n26  1.865347e+10  6.801  \n27  1.865347e+10  6.801  \n28  1.865347e+10  6.801  \n29  1.865347e+10  6.801  \n30  1.865347e+10  6.801  ",
      "text/html": "<div>\n<style scoped>\n    .dataframe tbody tr th:only-of-type {\n        vertical-align: middle;\n    }\n\n    .dataframe tbody tr th {\n        vertical-align: top;\n    }\n\n    .dataframe thead th {\n        text-align: right;\n    }\n</style>\n<table border=\"1\" class=\"dataframe\">\n  <thead>\n    <tr style=\"text-align: right;\">\n      <th></th>\n      <th>代码</th>\n      <th>简称</th>\n      <th>日期</th>\n      <th>前收盘价(元)</th>\n      <th>开盘价(元)</th>\n      <th>最高价(元)</th>\n      <th>最低价(元)</th>\n      <th>收盘价(元)</th>\n      <th>成交量(股)</th>\n      <th>成交金额(元)</th>\n      <th>涨跌(元)</th>\n      <th>涨跌幅(%)</th>\n      <th>均价(元)</th>\n      <th>换手率(%)</th>\n      <th>A股流通市值(元)</th>\n      <th>总市值(元)</th>\n      <th>A股流通股本(股)</th>\n      <th>市盈率</th>\n    </tr>\n  </thead>\n  <tbody>\n    <tr>\n      <th>26</th>\n      <td>600000.SH</td>\n      <td>浦发银行</td>\n      <td>2016-02-16</td>\n      <td>16.2946</td>\n      <td>16.2946</td>\n      <td>16.2946</td>\n      <td>16.2946</td>\n      <td>16.2946</td>\n      <td>--</td>\n      <td>--</td>\n      <td>0.0</td>\n      <td>0.0</td>\n      <td>--</td>\n      <td>--</td>\n      <td>3.441565e+11</td>\n      <td>3.441565e+11</td>\n      <td>1.865347e+10</td>\n      <td>6.801</td>\n    </tr>\n    <tr>\n      <th>27</th>\n      <td>600000.SH</td>\n      <td>浦发银行</td>\n      <td>2016-02-17</td>\n      <td>16.2946</td>\n      <td>16.2946</td>\n      <td>16.2946</td>\n      <td>16.2946</td>\n      <td>16.2946</td>\n      <td>--</td>\n      <td>--</td>\n      <td>0.0</td>\n      <td>0.0</td>\n      <td>--</td>\n      <td>--</td>\n      <td>3.441565e+11</td>\n      <td>3.441565e+11</td>\n      <td>1.865347e+10</td>\n      <td>6.801</td>\n    </tr>\n    <tr>\n      <th>28</th>\n      <td>600000.SH</td>\n      <td>浦发银行</td>\n      <td>2016-02-18</td>\n      <td>16.2946</td>\n      <td>16.2946</td>\n      <td>16.2946</td>\n      <td>16.2946</td>\n      <td>16.2946</td>\n      <td>--</td>\n      <td>--</td>\n      <td>0.0</td>\n      <td>0.0</td>\n      <td>--</td>\n      <td>--</td>\n      <td>3.441565e+11</td>\n      <td>3.441565e+11</td>\n      <td>1.865347e+10</td>\n      <td>6.801</td>\n    </tr>\n    <tr>\n      <th>29</th>\n      <td>600000.SH</td>\n      <td>浦发银行</td>\n      <td>2016-02-19</td>\n      <td>16.2946</td>\n      <td>16.2946</td>\n      <td>16.2946</td>\n      <td>16.2946</td>\n      <td>16.2946</td>\n      <td>--</td>\n      <td>--</td>\n      <td>0.0</td>\n      <td>0.0</td>\n      <td>--</td>\n      <td>--</td>\n      <td>3.441565e+11</td>\n      <td>3.441565e+11</td>\n      <td>1.865347e+10</td>\n      <td>6.801</td>\n    </tr>\n    <tr>\n      <th>30</th>\n      <td>600000.SH</td>\n      <td>浦发银行</td>\n      <td>2016-02-22</td>\n      <td>16.2946</td>\n      <td>16.2946</td>\n      <td>16.2946</td>\n      <td>16.2946</td>\n      <td>16.2946</td>\n      <td>--</td>\n      <td>--</td>\n      <td>0.0</td>\n      <td>0.0</td>\n      <td>--</td>\n      <td>--</td>\n      <td>3.441565e+11</td>\n      <td>3.441565e+11</td>\n      <td>1.865347e+10</td>\n      <td>6.801</td>\n    </tr>\n  </tbody>\n</table>\n</div>"
     },
     "execution_count": 11,
     "metadata": {},
     "output_type": "execute_result"
    }
   ],
   "source": [
    "data[data['换手率(%)'].isin(['--'])].head()\n",
    "\n",
    "data[data['换手率(%)']=='--'].head()"
   ],
   "metadata": {
    "collapsed": false,
    "pycharm": {
     "name": "#%%\n"
    }
   }
  },
  {
   "cell_type": "code",
   "execution_count": 12,
   "outputs": [
    {
     "data": {
      "text/plain": "327"
     },
     "execution_count": 12,
     "metadata": {},
     "output_type": "execute_result"
    },
    {
     "data": {
      "text/plain": "309"
     },
     "execution_count": 12,
     "metadata": {},
     "output_type": "execute_result"
    }
   ],
   "source": [
    "temp = pd.to_numeric(data['换手率(%)'], errors='coerce')\n",
    "idx = np.where(temp.isnull())[0]\n",
    "\n",
    "len(data)\n",
    "data.drop(labels=idx, inplace=True)\n",
    "len(data)"
   ],
   "metadata": {
    "collapsed": false,
    "pycharm": {
     "name": "#%%\n"
    }
   }
  },
  {
   "cell_type": "code",
   "execution_count": 24,
   "outputs": [
    {
     "data": {
      "text/plain": "<AxesSubplot:ylabel='Density'>"
     },
     "execution_count": 24,
     "metadata": {},
     "output_type": "execute_result"
    },
    {
     "data": {
      "text/plain": "<AxesSubplot:ylabel='Density'>"
     },
     "execution_count": 24,
     "metadata": {},
     "output_type": "execute_result"
    }
   ],
   "source": [
    "data['换手率(%)'].plot(kind='kde')\n",
    "data['换手率(%)'].hist()"
   ],
   "metadata": {
    "collapsed": false,
    "pycharm": {
     "name": "#%%\n"
    }
   }
  },
  {
   "cell_type": "code",
   "execution_count": 14,
   "outputs": [
    {
     "data": {
      "text/plain": "0           NaN\n1      0.008988\n2      0.007799\n3     -0.032598\n4     -0.001145\n         ...   \n322   -0.005277\n323   -0.006631\n324   -0.004005\n325   -0.004021\n326   -0.006729\nName: 收盘价(元), Length: 309, dtype: float64"
     },
     "execution_count": 14,
     "metadata": {},
     "output_type": "execute_result"
    }
   ],
   "source": [
    "data['收盘价(元)'].pct_change()"
   ],
   "metadata": {
    "collapsed": false,
    "pycharm": {
     "name": "#%%\n"
    }
   }
  },
  {
   "cell_type": "code",
   "execution_count": 15,
   "outputs": [],
   "source": [
    "data.set_index('日期', inplace=True)"
   ],
   "metadata": {
    "collapsed": false,
    "pycharm": {
     "name": "#%%\n"
    }
   }
  },
  {
   "cell_type": "code",
   "execution_count": 16,
   "outputs": [
    {
     "data": {
      "text/plain": "日期\n2016-01-04         NaN\n2016-01-05         NaN\n2016-01-06         NaN\n2016-01-07         NaN\n2016-01-08    15.69578\n                ...   \n2017-05-03    15.14200\n2017-05-04    15.12800\n2017-05-05    15.07000\n2017-05-08    15.00000\n2017-05-09    14.92000\nName: 收盘价(元), Length: 309, dtype: float64"
     },
     "execution_count": 16,
     "metadata": {},
     "output_type": "execute_result"
    }
   ],
   "source": [
    "data['收盘价(元)'].rolling(5).mean()"
   ],
   "metadata": {
    "collapsed": false,
    "pycharm": {
     "name": "#%%\n"
    }
   }
  },
  {
   "cell_type": "code",
   "execution_count": 17,
   "outputs": [
    {
     "data": {
      "text/plain": "日期\n2016-01-04        NaN\n2016-01-05        NaN\n2016-01-06        NaN\n2016-01-07        NaN\n2016-01-08    78.4789\n               ...   \n2017-05-03    75.7100\n2017-05-04    75.6400\n2017-05-05    75.3500\n2017-05-08    75.0000\n2017-05-09    74.6000\nName: 收盘价(元), Length: 309, dtype: float64"
     },
     "execution_count": 17,
     "metadata": {},
     "output_type": "execute_result"
    }
   ],
   "source": [
    "data['收盘价(元)'].rolling(5).sum()"
   ],
   "metadata": {
    "collapsed": false,
    "pycharm": {
     "name": "#%%\n"
    }
   }
  },
  {
   "cell_type": "code",
   "execution_count": 18,
   "outputs": [
    {
     "data": {
      "text/plain": "<AxesSubplot:xlabel='日期', ylabel='Density'>"
     },
     "execution_count": 18,
     "metadata": {},
     "output_type": "execute_result"
    },
    {
     "data": {
      "text/plain": "<AxesSubplot:xlabel='日期', ylabel='Density'>"
     },
     "execution_count": 18,
     "metadata": {},
     "output_type": "execute_result"
    },
    {
     "data": {
      "text/plain": "<AxesSubplot:xlabel='日期', ylabel='Density'>"
     },
     "execution_count": 18,
     "metadata": {},
     "output_type": "execute_result"
    }
   ],
   "source": [
    "data['收盘价(元)'].plot()\n",
    "data['收盘价(元)'].rolling(5).mean().plot()\n",
    "data['收盘价(元)'].rolling(20).mean().plot()"
   ],
   "metadata": {
    "collapsed": false,
    "pycharm": {
     "name": "#%%\n"
    }
   }
  },
  {
   "cell_type": "code",
   "execution_count": 19,
   "outputs": [
    {
     "data": {
      "text/plain": "<AxesSubplot:xlabel='日期'>"
     },
     "execution_count": 19,
     "metadata": {},
     "output_type": "execute_result"
    }
   ],
   "source": [
    "temp = pd.DataFrame()\n",
    "temp['close'] = data['收盘价(元)']\n",
    "temp['ma5'] = data['收盘价(元)'].rolling(5).mean()\n",
    "temp['ma20'] = data['收盘价(元)'].rolling(20).mean()\n",
    "temp.plot()"
   ],
   "metadata": {
    "collapsed": false,
    "pycharm": {
     "name": "#%%\n"
    }
   }
  },
  {
   "cell_type": "code",
   "execution_count": 20,
   "outputs": [
    {
     "data": {
      "text/plain": "日期\n2016-01-10    15.9855\n2016-01-17    15.8265\n2016-01-24    15.6940\n2016-01-31    15.0405\n2016-02-07    16.2328\n               ...   \n2017-04-16    15.9700\n2017-04-23    15.5600\n2017-04-30    15.2100\n2017-05-07    15.1600\n2017-05-14    14.8600\nFreq: W-SUN, Name: 收盘价(元), Length: 71, dtype: float64"
     },
     "execution_count": 20,
     "metadata": {},
     "output_type": "execute_result"
    }
   ],
   "source": [
    "data['收盘价(元)'].resample('W').max()"
   ],
   "metadata": {
    "collapsed": false,
    "pycharm": {
     "name": "#%%\n"
    }
   }
  },
  {
   "cell_type": "code",
   "execution_count": 21,
   "outputs": [
    {
     "data": {
      "text/plain": "<AxesSubplot:xlabel='日期'>"
     },
     "execution_count": 21,
     "metadata": {},
     "output_type": "execute_result"
    },
    {
     "data": {
      "text/plain": "<AxesSubplot:xlabel='日期'>"
     },
     "execution_count": 21,
     "metadata": {},
     "output_type": "execute_result"
    }
   ],
   "source": [
    "# temp = pd.DataFrame(data['收盘价(元)'])\n",
    "# temp['weekly'] = data['收盘价(元)'].resample('7D').max()\n",
    "# temp.plot()\n",
    "data['收盘价(元)'].plot()\n",
    "data['收盘价(元)'].resample('7D').max().plot()"
   ],
   "metadata": {
    "collapsed": false,
    "pycharm": {
     "name": "#%%\n"
    }
   }
  },
  {
   "cell_type": "code",
   "execution_count": 22,
   "outputs": [
    {
     "data": {
      "text/plain": "                   代码    简称  前收盘价(元)   开盘价(元)   最高价(元)   最低价(元)   收盘价(元)  \\\n日期                                                                         \n2016-01-04        NaN   NaN      NaN      NaN      NaN      NaN      NaN   \n2016-01-05        NaN   NaN      NaN      NaN      NaN      NaN      NaN   \n2016-01-06        NaN   NaN      NaN      NaN      NaN      NaN      NaN   \n2016-01-07  600000.SH  浦发银行  16.1356  16.1444  16.1444  15.4997  15.7205   \n2016-01-08  600000.SH  浦发银行  15.7205  15.4644  15.9501  15.3672  15.8618   \n...               ...   ...      ...      ...      ...      ...      ...   \n2017-05-03  600000.SH  浦发银行  15.0500  15.0500  15.2500  15.0300  15.2100   \n2017-05-04  600000.SH  浦发银行  15.2100  15.1500  15.2200  15.0800  15.2100   \n2017-05-05  600000.SH  浦发银行  15.2100  15.2100  15.2200  15.1300  15.1600   \n2017-05-08  600000.SH  浦发银行  15.1600  15.1600  15.1600  15.0500  15.0800   \n2017-05-09  600000.SH  浦发银行  15.0800  15.0700  15.0700  14.9000  14.9800   \n\n              成交量(股)     成交金额(元)   涨跌(元)  涨跌幅(%)    均价(元)  换手率(%)  \\\n日期                                                                  \n2016-01-04       NaN         NaN     NaN     NaN      NaN     NaN   \n2016-01-05       NaN         NaN     NaN     NaN      NaN     NaN   \n2016-01-06       NaN         NaN     NaN     NaN      NaN     NaN   \n2016-01-07  42240610   754425783 -0.4151 -2.5725  17.8602  0.2264   \n2016-01-08  58054793  1034181474  0.1413  0.8989  17.8139  0.3112   \n...              ...         ...     ...     ...      ...     ...   \n2017-05-03  22887645   345791526  0.1600  1.0631  15.1082  0.1059   \n2017-05-04  15718509   238419161  0.0000  0.0000  15.1681  0.0727   \n2017-05-05  12607509   191225527 -0.0500 -0.3287  15.1676  0.0583   \n2017-05-08  14247943   215130847 -0.0800 -0.5277  15.0991  0.0659   \n2017-05-09  19477788   291839737 -0.1000 -0.6631  14.9832  0.0901   \n\n               A股流通市值(元)        总市值(元)     A股流通股本(股)     市盈率  \n日期                                                            \n2016-01-04           NaN           NaN           NaN     NaN  \n2016-01-05           NaN           NaN           NaN     NaN  \n2016-01-06           NaN           NaN           NaN     NaN  \n2016-01-07  3.320318e+11  3.320318e+11  1.865347e+10  6.5614  \n2016-01-08  3.350163e+11  3.350163e+11  1.865347e+10  6.6204  \n...                  ...           ...           ...     ...  \n2017-05-03  3.288140e+11  3.288140e+11  2.161828e+10  6.1925  \n2017-05-04  3.288140e+11  3.288140e+11  2.161828e+10  6.1925  \n2017-05-05  3.277331e+11  3.277331e+11  2.161828e+10  6.1721  \n2017-05-08  3.260037e+11  3.260037e+11  2.161828e+10  6.1395  \n2017-05-09  3.238418e+11  3.238418e+11  2.161828e+10  6.0988  \n\n[309 rows x 17 columns]",
      "text/html": "<div>\n<style scoped>\n    .dataframe tbody tr th:only-of-type {\n        vertical-align: middle;\n    }\n\n    .dataframe tbody tr th {\n        vertical-align: top;\n    }\n\n    .dataframe thead th {\n        text-align: right;\n    }\n</style>\n<table border=\"1\" class=\"dataframe\">\n  <thead>\n    <tr style=\"text-align: right;\">\n      <th></th>\n      <th>代码</th>\n      <th>简称</th>\n      <th>前收盘价(元)</th>\n      <th>开盘价(元)</th>\n      <th>最高价(元)</th>\n      <th>最低价(元)</th>\n      <th>收盘价(元)</th>\n      <th>成交量(股)</th>\n      <th>成交金额(元)</th>\n      <th>涨跌(元)</th>\n      <th>涨跌幅(%)</th>\n      <th>均价(元)</th>\n      <th>换手率(%)</th>\n      <th>A股流通市值(元)</th>\n      <th>总市值(元)</th>\n      <th>A股流通股本(股)</th>\n      <th>市盈率</th>\n    </tr>\n    <tr>\n      <th>日期</th>\n      <th></th>\n      <th></th>\n      <th></th>\n      <th></th>\n      <th></th>\n      <th></th>\n      <th></th>\n      <th></th>\n      <th></th>\n      <th></th>\n      <th></th>\n      <th></th>\n      <th></th>\n      <th></th>\n      <th></th>\n      <th></th>\n      <th></th>\n    </tr>\n  </thead>\n  <tbody>\n    <tr>\n      <th>2016-01-04</th>\n      <td>NaN</td>\n      <td>NaN</td>\n      <td>NaN</td>\n      <td>NaN</td>\n      <td>NaN</td>\n      <td>NaN</td>\n      <td>NaN</td>\n      <td>NaN</td>\n      <td>NaN</td>\n      <td>NaN</td>\n      <td>NaN</td>\n      <td>NaN</td>\n      <td>NaN</td>\n      <td>NaN</td>\n      <td>NaN</td>\n      <td>NaN</td>\n      <td>NaN</td>\n    </tr>\n    <tr>\n      <th>2016-01-05</th>\n      <td>NaN</td>\n      <td>NaN</td>\n      <td>NaN</td>\n      <td>NaN</td>\n      <td>NaN</td>\n      <td>NaN</td>\n      <td>NaN</td>\n      <td>NaN</td>\n      <td>NaN</td>\n      <td>NaN</td>\n      <td>NaN</td>\n      <td>NaN</td>\n      <td>NaN</td>\n      <td>NaN</td>\n      <td>NaN</td>\n      <td>NaN</td>\n      <td>NaN</td>\n    </tr>\n    <tr>\n      <th>2016-01-06</th>\n      <td>NaN</td>\n      <td>NaN</td>\n      <td>NaN</td>\n      <td>NaN</td>\n      <td>NaN</td>\n      <td>NaN</td>\n      <td>NaN</td>\n      <td>NaN</td>\n      <td>NaN</td>\n      <td>NaN</td>\n      <td>NaN</td>\n      <td>NaN</td>\n      <td>NaN</td>\n      <td>NaN</td>\n      <td>NaN</td>\n      <td>NaN</td>\n      <td>NaN</td>\n    </tr>\n    <tr>\n      <th>2016-01-07</th>\n      <td>600000.SH</td>\n      <td>浦发银行</td>\n      <td>16.1356</td>\n      <td>16.1444</td>\n      <td>16.1444</td>\n      <td>15.4997</td>\n      <td>15.7205</td>\n      <td>42240610</td>\n      <td>754425783</td>\n      <td>-0.4151</td>\n      <td>-2.5725</td>\n      <td>17.8602</td>\n      <td>0.2264</td>\n      <td>3.320318e+11</td>\n      <td>3.320318e+11</td>\n      <td>1.865347e+10</td>\n      <td>6.5614</td>\n    </tr>\n    <tr>\n      <th>2016-01-08</th>\n      <td>600000.SH</td>\n      <td>浦发银行</td>\n      <td>15.7205</td>\n      <td>15.4644</td>\n      <td>15.9501</td>\n      <td>15.3672</td>\n      <td>15.8618</td>\n      <td>58054793</td>\n      <td>1034181474</td>\n      <td>0.1413</td>\n      <td>0.8989</td>\n      <td>17.8139</td>\n      <td>0.3112</td>\n      <td>3.350163e+11</td>\n      <td>3.350163e+11</td>\n      <td>1.865347e+10</td>\n      <td>6.6204</td>\n    </tr>\n    <tr>\n      <th>...</th>\n      <td>...</td>\n      <td>...</td>\n      <td>...</td>\n      <td>...</td>\n      <td>...</td>\n      <td>...</td>\n      <td>...</td>\n      <td>...</td>\n      <td>...</td>\n      <td>...</td>\n      <td>...</td>\n      <td>...</td>\n      <td>...</td>\n      <td>...</td>\n      <td>...</td>\n      <td>...</td>\n      <td>...</td>\n    </tr>\n    <tr>\n      <th>2017-05-03</th>\n      <td>600000.SH</td>\n      <td>浦发银行</td>\n      <td>15.0500</td>\n      <td>15.0500</td>\n      <td>15.2500</td>\n      <td>15.0300</td>\n      <td>15.2100</td>\n      <td>22887645</td>\n      <td>345791526</td>\n      <td>0.1600</td>\n      <td>1.0631</td>\n      <td>15.1082</td>\n      <td>0.1059</td>\n      <td>3.288140e+11</td>\n      <td>3.288140e+11</td>\n      <td>2.161828e+10</td>\n      <td>6.1925</td>\n    </tr>\n    <tr>\n      <th>2017-05-04</th>\n      <td>600000.SH</td>\n      <td>浦发银行</td>\n      <td>15.2100</td>\n      <td>15.1500</td>\n      <td>15.2200</td>\n      <td>15.0800</td>\n      <td>15.2100</td>\n      <td>15718509</td>\n      <td>238419161</td>\n      <td>0.0000</td>\n      <td>0.0000</td>\n      <td>15.1681</td>\n      <td>0.0727</td>\n      <td>3.288140e+11</td>\n      <td>3.288140e+11</td>\n      <td>2.161828e+10</td>\n      <td>6.1925</td>\n    </tr>\n    <tr>\n      <th>2017-05-05</th>\n      <td>600000.SH</td>\n      <td>浦发银行</td>\n      <td>15.2100</td>\n      <td>15.2100</td>\n      <td>15.2200</td>\n      <td>15.1300</td>\n      <td>15.1600</td>\n      <td>12607509</td>\n      <td>191225527</td>\n      <td>-0.0500</td>\n      <td>-0.3287</td>\n      <td>15.1676</td>\n      <td>0.0583</td>\n      <td>3.277331e+11</td>\n      <td>3.277331e+11</td>\n      <td>2.161828e+10</td>\n      <td>6.1721</td>\n    </tr>\n    <tr>\n      <th>2017-05-08</th>\n      <td>600000.SH</td>\n      <td>浦发银行</td>\n      <td>15.1600</td>\n      <td>15.1600</td>\n      <td>15.1600</td>\n      <td>15.0500</td>\n      <td>15.0800</td>\n      <td>14247943</td>\n      <td>215130847</td>\n      <td>-0.0800</td>\n      <td>-0.5277</td>\n      <td>15.0991</td>\n      <td>0.0659</td>\n      <td>3.260037e+11</td>\n      <td>3.260037e+11</td>\n      <td>2.161828e+10</td>\n      <td>6.1395</td>\n    </tr>\n    <tr>\n      <th>2017-05-09</th>\n      <td>600000.SH</td>\n      <td>浦发银行</td>\n      <td>15.0800</td>\n      <td>15.0700</td>\n      <td>15.0700</td>\n      <td>14.9000</td>\n      <td>14.9800</td>\n      <td>19477788</td>\n      <td>291839737</td>\n      <td>-0.1000</td>\n      <td>-0.6631</td>\n      <td>14.9832</td>\n      <td>0.0901</td>\n      <td>3.238418e+11</td>\n      <td>3.238418e+11</td>\n      <td>2.161828e+10</td>\n      <td>6.0988</td>\n    </tr>\n  </tbody>\n</table>\n<p>309 rows × 17 columns</p>\n</div>"
     },
     "execution_count": 22,
     "metadata": {},
     "output_type": "execute_result"
    }
   ],
   "source": [
    "data.shift(3)"
   ],
   "metadata": {
    "collapsed": false,
    "pycharm": {
     "name": "#%%\n"
    }
   }
  },
  {
   "cell_type": "code",
   "execution_count": 23,
   "outputs": [
    {
     "data": {
      "text/plain": "                   代码    简称  前收盘价(元)  开盘价(元)  最高价(元)  最低价(元)  收盘价(元)  \\\n日期                                                                     \n2017-05-03  600000.SH  浦发银行    14.92   14.78   14.90   14.51   14.86   \n2017-05-04  600000.SH  浦发银行    14.86   14.69   14.84   14.66   14.76   \n2017-05-05        NaN   NaN      NaN     NaN     NaN     NaN     NaN   \n2017-05-08        NaN   NaN      NaN     NaN     NaN     NaN     NaN   \n2017-05-09        NaN   NaN      NaN     NaN     NaN     NaN     NaN   \n\n              成交量(股)    成交金额(元)  涨跌(元)  涨跌幅(%)    均价(元)  换手率(%)     A股流通市值(元)  \\\n日期                                                                              \n2017-05-03  43568576  638781010  -0.06 -0.4021  14.6615  0.2015  3.212476e+11   \n2017-05-04  19225492  283864640  -0.10 -0.6729   14.765  0.0889  3.190858e+11   \n2017-05-05       NaN        NaN    NaN     NaN      NaN     NaN           NaN   \n2017-05-08       NaN        NaN    NaN     NaN      NaN     NaN           NaN   \n2017-05-09       NaN        NaN    NaN     NaN      NaN     NaN           NaN   \n\n                  总市值(元)     A股流通股本(股)     市盈率  \n日期                                              \n2017-05-03  3.212476e+11  2.161828e+10  6.0500  \n2017-05-04  3.190858e+11  2.161828e+10  6.0093  \n2017-05-05           NaN           NaN     NaN  \n2017-05-08           NaN           NaN     NaN  \n2017-05-09           NaN           NaN     NaN  ",
      "text/html": "<div>\n<style scoped>\n    .dataframe tbody tr th:only-of-type {\n        vertical-align: middle;\n    }\n\n    .dataframe tbody tr th {\n        vertical-align: top;\n    }\n\n    .dataframe thead th {\n        text-align: right;\n    }\n</style>\n<table border=\"1\" class=\"dataframe\">\n  <thead>\n    <tr style=\"text-align: right;\">\n      <th></th>\n      <th>代码</th>\n      <th>简称</th>\n      <th>前收盘价(元)</th>\n      <th>开盘价(元)</th>\n      <th>最高价(元)</th>\n      <th>最低价(元)</th>\n      <th>收盘价(元)</th>\n      <th>成交量(股)</th>\n      <th>成交金额(元)</th>\n      <th>涨跌(元)</th>\n      <th>涨跌幅(%)</th>\n      <th>均价(元)</th>\n      <th>换手率(%)</th>\n      <th>A股流通市值(元)</th>\n      <th>总市值(元)</th>\n      <th>A股流通股本(股)</th>\n      <th>市盈率</th>\n    </tr>\n    <tr>\n      <th>日期</th>\n      <th></th>\n      <th></th>\n      <th></th>\n      <th></th>\n      <th></th>\n      <th></th>\n      <th></th>\n      <th></th>\n      <th></th>\n      <th></th>\n      <th></th>\n      <th></th>\n      <th></th>\n      <th></th>\n      <th></th>\n      <th></th>\n      <th></th>\n    </tr>\n  </thead>\n  <tbody>\n    <tr>\n      <th>2017-05-03</th>\n      <td>600000.SH</td>\n      <td>浦发银行</td>\n      <td>14.92</td>\n      <td>14.78</td>\n      <td>14.90</td>\n      <td>14.51</td>\n      <td>14.86</td>\n      <td>43568576</td>\n      <td>638781010</td>\n      <td>-0.06</td>\n      <td>-0.4021</td>\n      <td>14.6615</td>\n      <td>0.2015</td>\n      <td>3.212476e+11</td>\n      <td>3.212476e+11</td>\n      <td>2.161828e+10</td>\n      <td>6.0500</td>\n    </tr>\n    <tr>\n      <th>2017-05-04</th>\n      <td>600000.SH</td>\n      <td>浦发银行</td>\n      <td>14.86</td>\n      <td>14.69</td>\n      <td>14.84</td>\n      <td>14.66</td>\n      <td>14.76</td>\n      <td>19225492</td>\n      <td>283864640</td>\n      <td>-0.10</td>\n      <td>-0.6729</td>\n      <td>14.765</td>\n      <td>0.0889</td>\n      <td>3.190858e+11</td>\n      <td>3.190858e+11</td>\n      <td>2.161828e+10</td>\n      <td>6.0093</td>\n    </tr>\n    <tr>\n      <th>2017-05-05</th>\n      <td>NaN</td>\n      <td>NaN</td>\n      <td>NaN</td>\n      <td>NaN</td>\n      <td>NaN</td>\n      <td>NaN</td>\n      <td>NaN</td>\n      <td>NaN</td>\n      <td>NaN</td>\n      <td>NaN</td>\n      <td>NaN</td>\n      <td>NaN</td>\n      <td>NaN</td>\n      <td>NaN</td>\n      <td>NaN</td>\n      <td>NaN</td>\n      <td>NaN</td>\n    </tr>\n    <tr>\n      <th>2017-05-08</th>\n      <td>NaN</td>\n      <td>NaN</td>\n      <td>NaN</td>\n      <td>NaN</td>\n      <td>NaN</td>\n      <td>NaN</td>\n      <td>NaN</td>\n      <td>NaN</td>\n      <td>NaN</td>\n      <td>NaN</td>\n      <td>NaN</td>\n      <td>NaN</td>\n      <td>NaN</td>\n      <td>NaN</td>\n      <td>NaN</td>\n      <td>NaN</td>\n      <td>NaN</td>\n    </tr>\n    <tr>\n      <th>2017-05-09</th>\n      <td>NaN</td>\n      <td>NaN</td>\n      <td>NaN</td>\n      <td>NaN</td>\n      <td>NaN</td>\n      <td>NaN</td>\n      <td>NaN</td>\n      <td>NaN</td>\n      <td>NaN</td>\n      <td>NaN</td>\n      <td>NaN</td>\n      <td>NaN</td>\n      <td>NaN</td>\n      <td>NaN</td>\n      <td>NaN</td>\n      <td>NaN</td>\n      <td>NaN</td>\n    </tr>\n  </tbody>\n</table>\n</div>"
     },
     "execution_count": 23,
     "metadata": {},
     "output_type": "execute_result"
    }
   ],
   "source": [
    "data.shift(-3).tail()"
   ],
   "metadata": {
    "collapsed": false,
    "pycharm": {
     "name": "#%%\n"
    }
   }
  },
  {
   "cell_type": "code",
   "execution_count": 25,
   "outputs": [
    {
     "data": {
      "text/plain": "日期\n2016-01-04    16.144400\n2016-01-05    15.804400\n2016-01-06    15.805867\n2016-01-07    15.784525\n2016-01-08    15.761120\n                ...    \n2017-05-03    16.041489\n2017-05-04    16.038314\n2017-05-05    16.034769\n2017-05-08    16.030695\n2017-05-09    16.026356\nName: 开盘价(元), Length: 309, dtype: float64"
     },
     "execution_count": 25,
     "metadata": {},
     "output_type": "execute_result"
    }
   ],
   "source": [
    "data['开盘价(元)'].expanding(min_periods=1).mean()"
   ],
   "metadata": {
    "collapsed": false,
    "pycharm": {
     "name": "#%%\n"
    }
   }
  },
  {
   "cell_type": "code",
   "execution_count": 27,
   "outputs": [
    {
     "data": {
      "text/plain": "<AxesSubplot:xlabel='日期'>"
     },
     "execution_count": 27,
     "metadata": {},
     "output_type": "execute_result"
    }
   ],
   "source": [
    "data['expanding Open mean'] = data['开盘价(元)'].expanding(min_periods=1).mean()\n",
    "data[['开盘价(元)', 'expanding Open mean']].plot(figsize=(16,6))"
   ],
   "metadata": {
    "collapsed": false,
    "pycharm": {
     "name": "#%%\n"
    }
   }
  },
  {
   "cell_type": "code",
   "execution_count": 30,
   "outputs": [
    {
     "data": {
      "text/plain": "<AxesSubplot:xlabel='日期'>"
     },
     "execution_count": 30,
     "metadata": {},
     "output_type": "execute_result"
    }
   ],
   "source": [
    "data['former 30 days rolling Close mean'] = data['收盘价(元)'].rolling(20).mean()\n",
    "close_std = data['收盘价(元)'].rolling(20).std()\n",
    "data['upper bound'] = data['former 30 days rolling Close mean'] + 2 * close_std\n",
    "data['lower bound'] = data['former 30 days rolling Close mean'] - 2 * close_std\n",
    "\n",
    "data[['收盘价(元)', 'former 30 days rolling Close mean', 'upper bound', 'lower bound']].plot(figsize=(16,6))"
   ],
   "metadata": {
    "collapsed": false,
    "pycharm": {
     "name": "#%%\n"
    }
   }
  }
 ],
 "metadata": {
  "kernelspec": {
   "display_name": "Python 3",
   "language": "python",
   "name": "python3"
  },
  "language_info": {
   "codemirror_mode": {
    "name": "ipython",
    "version": 2
   },
   "file_extension": ".py",
   "mimetype": "text/x-python",
   "name": "python",
   "nbconvert_exporter": "python",
   "pygments_lexer": "ipython2",
   "version": "2.7.6"
  }
 },
 "nbformat": 4,
 "nbformat_minor": 0
}