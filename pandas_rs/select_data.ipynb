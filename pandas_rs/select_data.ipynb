{
 "cells": [
  {
   "cell_type": "code",
   "execution_count": 4,
   "outputs": [],
   "source": [
    "import pandas as pd\n",
    "import numpy as np\n",
    "from IPython import InteractiveShell\n",
    "\n",
    "InteractiveShell.ast_node_interactivity = \"all\"\n"
   ],
   "metadata": {
    "collapsed": false,
    "pycharm": {
     "name": "#%%\n"
    }
   }
  },
  {
   "cell_type": "code",
   "execution_count": 5,
   "outputs": [
    {
     "data": {
      "text/plain": "DatetimeIndex(['2021-09-01', '2021-09-02', '2021-09-03', '2021-09-04',\n               '2021-09-05', '2021-09-06'],\n              dtype='datetime64[ns]', freq='D')"
     },
     "execution_count": 5,
     "metadata": {},
     "output_type": "execute_result"
    },
    {
     "data": {
      "text/plain": "pandas.core.indexes.datetimes.DatetimeIndex"
     },
     "execution_count": 5,
     "metadata": {},
     "output_type": "execute_result"
    }
   ],
   "source": [
    "dates = pd.date_range('20210901', periods=6)\n",
    "dates\n",
    "type(dates)"
   ],
   "metadata": {
    "collapsed": false,
    "pycharm": {
     "name": "#%%\n"
    }
   }
  },
  {
   "cell_type": "code",
   "execution_count": 6,
   "outputs": [],
   "source": [
    "df = pd.DataFrame(np.random.randn(6, 4), index=dates, columns=list(\"ABCD\"))"
   ],
   "metadata": {
    "collapsed": false,
    "pycharm": {
     "name": "#%%\n"
    }
   }
  },
  {
   "cell_type": "code",
   "execution_count": 7,
   "outputs": [
    {
     "data": {
      "text/plain": "2021-09-01    0.414074\n2021-09-02    1.238019\n2021-09-03   -0.249678\n2021-09-04   -0.738849\n2021-09-05    1.024398\n2021-09-06   -1.861419\nFreq: D, Name: A, dtype: float64"
     },
     "execution_count": 7,
     "metadata": {},
     "output_type": "execute_result"
    },
    {
     "data": {
      "text/plain": "2021-09-01    0.414074\n2021-09-02    1.238019\n2021-09-03   -0.249678\n2021-09-04   -0.738849\n2021-09-05    1.024398\n2021-09-06   -1.861419\nFreq: D, Name: A, dtype: float64"
     },
     "execution_count": 7,
     "metadata": {},
     "output_type": "execute_result"
    },
    {
     "data": {
      "text/plain": "                   A         B\n2021-09-01  0.414074 -1.033254\n2021-09-02  1.238019  0.701318\n2021-09-03 -0.249678  0.238613\n2021-09-04 -0.738849 -0.251834\n2021-09-05  1.024398  0.708411\n2021-09-06 -1.861419  0.638231",
      "text/html": "<div>\n<style scoped>\n    .dataframe tbody tr th:only-of-type {\n        vertical-align: middle;\n    }\n\n    .dataframe tbody tr th {\n        vertical-align: top;\n    }\n\n    .dataframe thead th {\n        text-align: right;\n    }\n</style>\n<table border=\"1\" class=\"dataframe\">\n  <thead>\n    <tr style=\"text-align: right;\">\n      <th></th>\n      <th>A</th>\n      <th>B</th>\n    </tr>\n  </thead>\n  <tbody>\n    <tr>\n      <th>2021-09-01</th>\n      <td>0.414074</td>\n      <td>-1.033254</td>\n    </tr>\n    <tr>\n      <th>2021-09-02</th>\n      <td>1.238019</td>\n      <td>0.701318</td>\n    </tr>\n    <tr>\n      <th>2021-09-03</th>\n      <td>-0.249678</td>\n      <td>0.238613</td>\n    </tr>\n    <tr>\n      <th>2021-09-04</th>\n      <td>-0.738849</td>\n      <td>-0.251834</td>\n    </tr>\n    <tr>\n      <th>2021-09-05</th>\n      <td>1.024398</td>\n      <td>0.708411</td>\n    </tr>\n    <tr>\n      <th>2021-09-06</th>\n      <td>-1.861419</td>\n      <td>0.638231</td>\n    </tr>\n  </tbody>\n</table>\n</div>"
     },
     "execution_count": 7,
     "metadata": {},
     "output_type": "execute_result"
    }
   ],
   "source": [
    "df.A\n",
    "df['A']\n",
    "df[['A', 'B']]"
   ],
   "metadata": {
    "collapsed": false,
    "pycharm": {
     "name": "#%%\n"
    }
   }
  },
  {
   "cell_type": "code",
   "execution_count": 8,
   "outputs": [
    {
     "data": {
      "text/plain": "                   A         B         C         D\n2021-09-01  0.414074 -1.033254 -0.328527  0.199037\n2021-09-02  1.238019  0.701318  0.370100 -0.380227\n2021-09-03 -0.249678  0.238613  0.039570 -0.080267\n2021-09-04 -0.738849 -0.251834 -0.491212 -0.028208\n2021-09-05  1.024398  0.708411 -0.476440  0.483401\n2021-09-06 -1.861419  0.638231  0.843215  0.151253",
      "text/html": "<div>\n<style scoped>\n    .dataframe tbody tr th:only-of-type {\n        vertical-align: middle;\n    }\n\n    .dataframe tbody tr th {\n        vertical-align: top;\n    }\n\n    .dataframe thead th {\n        text-align: right;\n    }\n</style>\n<table border=\"1\" class=\"dataframe\">\n  <thead>\n    <tr style=\"text-align: right;\">\n      <th></th>\n      <th>A</th>\n      <th>B</th>\n      <th>C</th>\n      <th>D</th>\n    </tr>\n  </thead>\n  <tbody>\n    <tr>\n      <th>2021-09-01</th>\n      <td>0.414074</td>\n      <td>-1.033254</td>\n      <td>-0.328527</td>\n      <td>0.199037</td>\n    </tr>\n    <tr>\n      <th>2021-09-02</th>\n      <td>1.238019</td>\n      <td>0.701318</td>\n      <td>0.370100</td>\n      <td>-0.380227</td>\n    </tr>\n    <tr>\n      <th>2021-09-03</th>\n      <td>-0.249678</td>\n      <td>0.238613</td>\n      <td>0.039570</td>\n      <td>-0.080267</td>\n    </tr>\n    <tr>\n      <th>2021-09-04</th>\n      <td>-0.738849</td>\n      <td>-0.251834</td>\n      <td>-0.491212</td>\n      <td>-0.028208</td>\n    </tr>\n    <tr>\n      <th>2021-09-05</th>\n      <td>1.024398</td>\n      <td>0.708411</td>\n      <td>-0.476440</td>\n      <td>0.483401</td>\n    </tr>\n    <tr>\n      <th>2021-09-06</th>\n      <td>-1.861419</td>\n      <td>0.638231</td>\n      <td>0.843215</td>\n      <td>0.151253</td>\n    </tr>\n  </tbody>\n</table>\n</div>"
     },
     "execution_count": 8,
     "metadata": {},
     "output_type": "execute_result"
    },
    {
     "data": {
      "text/plain": "                   A         B         C         D\n2021-09-01  0.414074 -1.033254 -0.328527  0.199037\n2021-09-02  1.238019  0.701318  0.370100 -0.380227",
      "text/html": "<div>\n<style scoped>\n    .dataframe tbody tr th:only-of-type {\n        vertical-align: middle;\n    }\n\n    .dataframe tbody tr th {\n        vertical-align: top;\n    }\n\n    .dataframe thead th {\n        text-align: right;\n    }\n</style>\n<table border=\"1\" class=\"dataframe\">\n  <thead>\n    <tr style=\"text-align: right;\">\n      <th></th>\n      <th>A</th>\n      <th>B</th>\n      <th>C</th>\n      <th>D</th>\n    </tr>\n  </thead>\n  <tbody>\n    <tr>\n      <th>2021-09-01</th>\n      <td>0.414074</td>\n      <td>-1.033254</td>\n      <td>-0.328527</td>\n      <td>0.199037</td>\n    </tr>\n    <tr>\n      <th>2021-09-02</th>\n      <td>1.238019</td>\n      <td>0.701318</td>\n      <td>0.370100</td>\n      <td>-0.380227</td>\n    </tr>\n  </tbody>\n</table>\n</div>"
     },
     "execution_count": 8,
     "metadata": {},
     "output_type": "execute_result"
    }
   ],
   "source": [
    "df[:]\n",
    "df[0:2]"
   ],
   "metadata": {
    "collapsed": false,
    "pycharm": {
     "name": "#%% 左闭右闭\n"
    }
   }
  },
  {
   "cell_type": "code",
   "execution_count": 11,
   "outputs": [
    {
     "data": {
      "text/plain": "                   A         B         C         D\n2021-09-01  0.414074 -1.033254 -0.328527  0.199037\n2021-09-02  1.238019  0.701318  0.370100 -0.380227\n2021-09-03 -0.249678  0.238613  0.039570 -0.080267\n2021-09-04 -0.738849 -0.251834 -0.491212 -0.028208",
      "text/html": "<div>\n<style scoped>\n    .dataframe tbody tr th:only-of-type {\n        vertical-align: middle;\n    }\n\n    .dataframe tbody tr th {\n        vertical-align: top;\n    }\n\n    .dataframe thead th {\n        text-align: right;\n    }\n</style>\n<table border=\"1\" class=\"dataframe\">\n  <thead>\n    <tr style=\"text-align: right;\">\n      <th></th>\n      <th>A</th>\n      <th>B</th>\n      <th>C</th>\n      <th>D</th>\n    </tr>\n  </thead>\n  <tbody>\n    <tr>\n      <th>2021-09-01</th>\n      <td>0.414074</td>\n      <td>-1.033254</td>\n      <td>-0.328527</td>\n      <td>0.199037</td>\n    </tr>\n    <tr>\n      <th>2021-09-02</th>\n      <td>1.238019</td>\n      <td>0.701318</td>\n      <td>0.370100</td>\n      <td>-0.380227</td>\n    </tr>\n    <tr>\n      <th>2021-09-03</th>\n      <td>-0.249678</td>\n      <td>0.238613</td>\n      <td>0.039570</td>\n      <td>-0.080267</td>\n    </tr>\n    <tr>\n      <th>2021-09-04</th>\n      <td>-0.738849</td>\n      <td>-0.251834</td>\n      <td>-0.491212</td>\n      <td>-0.028208</td>\n    </tr>\n  </tbody>\n</table>\n</div>"
     },
     "execution_count": 11,
     "metadata": {},
     "output_type": "execute_result"
    }
   ],
   "source": [
    "df['2021-09-01':'2021-09-04']"
   ],
   "metadata": {
    "collapsed": false,
    "pycharm": {
     "name": "#%%\n"
    }
   }
  },
  {
   "cell_type": "code",
   "execution_count": 16,
   "outputs": [
    {
     "data": {
      "text/plain": "                   C         D\n2021-09-02  0.370100 -0.380227\n2021-09-03  0.039570 -0.080267\n2021-09-04 -0.491212 -0.028208",
      "text/html": "<div>\n<style scoped>\n    .dataframe tbody tr th:only-of-type {\n        vertical-align: middle;\n    }\n\n    .dataframe tbody tr th {\n        vertical-align: top;\n    }\n\n    .dataframe thead th {\n        text-align: right;\n    }\n</style>\n<table border=\"1\" class=\"dataframe\">\n  <thead>\n    <tr style=\"text-align: right;\">\n      <th></th>\n      <th>C</th>\n      <th>D</th>\n    </tr>\n  </thead>\n  <tbody>\n    <tr>\n      <th>2021-09-02</th>\n      <td>0.370100</td>\n      <td>-0.380227</td>\n    </tr>\n    <tr>\n      <th>2021-09-03</th>\n      <td>0.039570</td>\n      <td>-0.080267</td>\n    </tr>\n    <tr>\n      <th>2021-09-04</th>\n      <td>-0.491212</td>\n      <td>-0.028208</td>\n    </tr>\n  </tbody>\n</table>\n</div>"
     },
     "execution_count": 16,
     "metadata": {},
     "output_type": "execute_result"
    }
   ],
   "source": [
    "df.loc['2021-09-02':'2021-09-04',['C','D']]\n"
   ],
   "metadata": {
    "collapsed": false,
    "pycharm": {
     "name": "#%%\n"
    }
   }
  },
  {
   "cell_type": "code",
   "execution_count": 18,
   "outputs": [
    {
     "data": {
      "text/plain": "0.3701004698128057"
     },
     "execution_count": 18,
     "metadata": {},
     "output_type": "execute_result"
    },
    {
     "data": {
      "text/plain": "0.3701004698128057"
     },
     "execution_count": 18,
     "metadata": {},
     "output_type": "execute_result"
    },
    {
     "data": {
      "text/plain": "0.3701004698128057"
     },
     "execution_count": 18,
     "metadata": {},
     "output_type": "execute_result"
    }
   ],
   "source": [
    "df.loc['2021-09-02','C']\n",
    "df.at[pd.to_datetime('2021-09-02'),'C']\n",
    "df.at['2021-09-02','C']\n"
   ],
   "metadata": {
    "collapsed": false,
    "pycharm": {
     "name": "#%%\n"
    }
   }
  },
  {
   "cell_type": "code",
   "execution_count": 19,
   "outputs": [
    {
     "data": {
      "text/plain": "A   -0.738849\nB   -0.251834\nC   -0.491212\nD   -0.028208\nName: 2021-09-04 00:00:00, dtype: float64"
     },
     "execution_count": 19,
     "metadata": {},
     "output_type": "execute_result"
    },
    {
     "data": {
      "text/plain": "A   -0.738849\nB   -0.251834\nName: 2021-09-04 00:00:00, dtype: float64"
     },
     "execution_count": 19,
     "metadata": {},
     "output_type": "execute_result"
    }
   ],
   "source": [
    "df.iloc[3]\n",
    "df.iloc[3,0:2]"
   ],
   "metadata": {
    "collapsed": false,
    "pycharm": {
     "name": "#%% 左闭右开\n"
    }
   }
  },
  {
   "cell_type": "code",
   "execution_count": 20,
   "outputs": [
    {
     "data": {
      "text/plain": "0.3701004698128057"
     },
     "execution_count": 20,
     "metadata": {},
     "output_type": "execute_result"
    },
    {
     "data": {
      "text/plain": "0.3701004698128057"
     },
     "execution_count": 20,
     "metadata": {},
     "output_type": "execute_result"
    }
   ],
   "source": [
    "df.iloc[1,2]\n",
    "df.iat[1,2]"
   ],
   "metadata": {
    "collapsed": false,
    "pycharm": {
     "name": "#%%\n"
    }
   }
  },
  {
   "cell_type": "code",
   "execution_count": 23,
   "outputs": [
    {
     "data": {
      "text/plain": "                   A         B        C         D\n2021-09-02  1.238019  0.701318  0.37010 -0.380227\n2021-09-05  1.024398  0.708411 -0.47644  0.483401",
      "text/html": "<div>\n<style scoped>\n    .dataframe tbody tr th:only-of-type {\n        vertical-align: middle;\n    }\n\n    .dataframe tbody tr th {\n        vertical-align: top;\n    }\n\n    .dataframe thead th {\n        text-align: right;\n    }\n</style>\n<table border=\"1\" class=\"dataframe\">\n  <thead>\n    <tr style=\"text-align: right;\">\n      <th></th>\n      <th>A</th>\n      <th>B</th>\n      <th>C</th>\n      <th>D</th>\n    </tr>\n  </thead>\n  <tbody>\n    <tr>\n      <th>2021-09-02</th>\n      <td>1.238019</td>\n      <td>0.701318</td>\n      <td>0.37010</td>\n      <td>-0.380227</td>\n    </tr>\n    <tr>\n      <th>2021-09-05</th>\n      <td>1.024398</td>\n      <td>0.708411</td>\n      <td>-0.47644</td>\n      <td>0.483401</td>\n    </tr>\n  </tbody>\n</table>\n</div>"
     },
     "execution_count": 23,
     "metadata": {},
     "output_type": "execute_result"
    }
   ],
   "source": [
    "df[df['B']>0.7]"
   ],
   "metadata": {
    "collapsed": false,
    "pycharm": {
     "name": "#%%\n"
    }
   }
  },
  {
   "cell_type": "code",
   "execution_count": 24,
   "outputs": [
    {
     "data": {
      "text/plain": "                   A   B   C   D\n2021-09-01       NaN NaN NaN NaN\n2021-09-02  1.238019 NaN NaN NaN\n2021-09-03       NaN NaN NaN NaN\n2021-09-04       NaN NaN NaN NaN\n2021-09-05  1.024398 NaN NaN NaN\n2021-09-06       NaN NaN NaN NaN",
      "text/html": "<div>\n<style scoped>\n    .dataframe tbody tr th:only-of-type {\n        vertical-align: middle;\n    }\n\n    .dataframe tbody tr th {\n        vertical-align: top;\n    }\n\n    .dataframe thead th {\n        text-align: right;\n    }\n</style>\n<table border=\"1\" class=\"dataframe\">\n  <thead>\n    <tr style=\"text-align: right;\">\n      <th></th>\n      <th>A</th>\n      <th>B</th>\n      <th>C</th>\n      <th>D</th>\n    </tr>\n  </thead>\n  <tbody>\n    <tr>\n      <th>2021-09-01</th>\n      <td>NaN</td>\n      <td>NaN</td>\n      <td>NaN</td>\n      <td>NaN</td>\n    </tr>\n    <tr>\n      <th>2021-09-02</th>\n      <td>1.238019</td>\n      <td>NaN</td>\n      <td>NaN</td>\n      <td>NaN</td>\n    </tr>\n    <tr>\n      <th>2021-09-03</th>\n      <td>NaN</td>\n      <td>NaN</td>\n      <td>NaN</td>\n      <td>NaN</td>\n    </tr>\n    <tr>\n      <th>2021-09-04</th>\n      <td>NaN</td>\n      <td>NaN</td>\n      <td>NaN</td>\n      <td>NaN</td>\n    </tr>\n    <tr>\n      <th>2021-09-05</th>\n      <td>1.024398</td>\n      <td>NaN</td>\n      <td>NaN</td>\n      <td>NaN</td>\n    </tr>\n    <tr>\n      <th>2021-09-06</th>\n      <td>NaN</td>\n      <td>NaN</td>\n      <td>NaN</td>\n      <td>NaN</td>\n    </tr>\n  </tbody>\n</table>\n</div>"
     },
     "execution_count": 24,
     "metadata": {},
     "output_type": "execute_result"
    }
   ],
   "source": [
    "df[df>1]\n"
   ],
   "metadata": {
    "collapsed": false,
    "pycharm": {
     "name": "#%%\n"
    }
   }
  },
  {
   "cell_type": "code",
   "execution_count": 25,
   "outputs": [
    {
     "data": {
      "text/plain": "                   A         B         C         D  E\n2021-09-01  0.414074 -1.033254 -0.328527  0.199037  1\n2021-09-02  1.238019  0.701318  0.370100 -0.380227  2\n2021-09-03 -0.249678  0.238613  0.039570 -0.080267  3\n2021-09-04 -0.738849 -0.251834 -0.491212 -0.028208  4\n2021-09-05  1.024398  0.708411 -0.476440  0.483401  5\n2021-09-06 -1.861419  0.638231  0.843215  0.151253  6",
      "text/html": "<div>\n<style scoped>\n    .dataframe tbody tr th:only-of-type {\n        vertical-align: middle;\n    }\n\n    .dataframe tbody tr th {\n        vertical-align: top;\n    }\n\n    .dataframe thead th {\n        text-align: right;\n    }\n</style>\n<table border=\"1\" class=\"dataframe\">\n  <thead>\n    <tr style=\"text-align: right;\">\n      <th></th>\n      <th>A</th>\n      <th>B</th>\n      <th>C</th>\n      <th>D</th>\n      <th>E</th>\n    </tr>\n  </thead>\n  <tbody>\n    <tr>\n      <th>2021-09-01</th>\n      <td>0.414074</td>\n      <td>-1.033254</td>\n      <td>-0.328527</td>\n      <td>0.199037</td>\n      <td>1</td>\n    </tr>\n    <tr>\n      <th>2021-09-02</th>\n      <td>1.238019</td>\n      <td>0.701318</td>\n      <td>0.370100</td>\n      <td>-0.380227</td>\n      <td>2</td>\n    </tr>\n    <tr>\n      <th>2021-09-03</th>\n      <td>-0.249678</td>\n      <td>0.238613</td>\n      <td>0.039570</td>\n      <td>-0.080267</td>\n      <td>3</td>\n    </tr>\n    <tr>\n      <th>2021-09-04</th>\n      <td>-0.738849</td>\n      <td>-0.251834</td>\n      <td>-0.491212</td>\n      <td>-0.028208</td>\n      <td>4</td>\n    </tr>\n    <tr>\n      <th>2021-09-05</th>\n      <td>1.024398</td>\n      <td>0.708411</td>\n      <td>-0.476440</td>\n      <td>0.483401</td>\n      <td>5</td>\n    </tr>\n    <tr>\n      <th>2021-09-06</th>\n      <td>-1.861419</td>\n      <td>0.638231</td>\n      <td>0.843215</td>\n      <td>0.151253</td>\n      <td>6</td>\n    </tr>\n  </tbody>\n</table>\n</div>"
     },
     "execution_count": 25,
     "metadata": {},
     "output_type": "execute_result"
    }
   ],
   "source": [
    "df2 = df.copy()\n",
    "df2['E'] = range(1,7)\n",
    "df2"
   ],
   "metadata": {
    "collapsed": false,
    "pycharm": {
     "name": "#%%\n"
    }
   }
  },
  {
   "cell_type": "code",
   "execution_count": 27,
   "outputs": [
    {
     "data": {
      "text/plain": "                   A         B        C         D  E\n2021-09-02  1.238019  0.701318  0.37010 -0.380227  2\n2021-09-03 -0.249678  0.238613  0.03957 -0.080267  3",
      "text/html": "<div>\n<style scoped>\n    .dataframe tbody tr th:only-of-type {\n        vertical-align: middle;\n    }\n\n    .dataframe tbody tr th {\n        vertical-align: top;\n    }\n\n    .dataframe thead th {\n        text-align: right;\n    }\n</style>\n<table border=\"1\" class=\"dataframe\">\n  <thead>\n    <tr style=\"text-align: right;\">\n      <th></th>\n      <th>A</th>\n      <th>B</th>\n      <th>C</th>\n      <th>D</th>\n      <th>E</th>\n    </tr>\n  </thead>\n  <tbody>\n    <tr>\n      <th>2021-09-02</th>\n      <td>1.238019</td>\n      <td>0.701318</td>\n      <td>0.37010</td>\n      <td>-0.380227</td>\n      <td>2</td>\n    </tr>\n    <tr>\n      <th>2021-09-03</th>\n      <td>-0.249678</td>\n      <td>0.238613</td>\n      <td>0.03957</td>\n      <td>-0.080267</td>\n      <td>3</td>\n    </tr>\n  </tbody>\n</table>\n</div>"
     },
     "execution_count": 27,
     "metadata": {},
     "output_type": "execute_result"
    }
   ],
   "source": [
    "df2[df2['E'].isin([2,3])]\n"
   ],
   "metadata": {
    "collapsed": false,
    "pycharm": {
     "name": "#%%\n"
    }
   }
  },
  {
   "cell_type": "code",
   "execution_count": 28,
   "outputs": [
    {
     "data": {
      "text/plain": "                   A         B         C         D\n2021-09-01  0.000000 -1.033254 -0.328527  0.199037\n2021-09-02  1.238019  0.701318  0.370100 -0.380227\n2021-09-03 -0.249678  0.238613  0.039570 -0.080267\n2021-09-04 -0.738849 -0.251834 -0.491212 -0.028208\n2021-09-05  1.024398  0.708411 -0.476440  0.483401\n2021-09-06 -1.861419  0.638231  0.843215  0.151253",
      "text/html": "<div>\n<style scoped>\n    .dataframe tbody tr th:only-of-type {\n        vertical-align: middle;\n    }\n\n    .dataframe tbody tr th {\n        vertical-align: top;\n    }\n\n    .dataframe thead th {\n        text-align: right;\n    }\n</style>\n<table border=\"1\" class=\"dataframe\">\n  <thead>\n    <tr style=\"text-align: right;\">\n      <th></th>\n      <th>A</th>\n      <th>B</th>\n      <th>C</th>\n      <th>D</th>\n    </tr>\n  </thead>\n  <tbody>\n    <tr>\n      <th>2021-09-01</th>\n      <td>0.000000</td>\n      <td>-1.033254</td>\n      <td>-0.328527</td>\n      <td>0.199037</td>\n    </tr>\n    <tr>\n      <th>2021-09-02</th>\n      <td>1.238019</td>\n      <td>0.701318</td>\n      <td>0.370100</td>\n      <td>-0.380227</td>\n    </tr>\n    <tr>\n      <th>2021-09-03</th>\n      <td>-0.249678</td>\n      <td>0.238613</td>\n      <td>0.039570</td>\n      <td>-0.080267</td>\n    </tr>\n    <tr>\n      <th>2021-09-04</th>\n      <td>-0.738849</td>\n      <td>-0.251834</td>\n      <td>-0.491212</td>\n      <td>-0.028208</td>\n    </tr>\n    <tr>\n      <th>2021-09-05</th>\n      <td>1.024398</td>\n      <td>0.708411</td>\n      <td>-0.476440</td>\n      <td>0.483401</td>\n    </tr>\n    <tr>\n      <th>2021-09-06</th>\n      <td>-1.861419</td>\n      <td>0.638231</td>\n      <td>0.843215</td>\n      <td>0.151253</td>\n    </tr>\n  </tbody>\n</table>\n</div>"
     },
     "execution_count": 28,
     "metadata": {},
     "output_type": "execute_result"
    }
   ],
   "source": [
    "df.loc['2021-09-01','A'] = 0\n",
    "df"
   ],
   "metadata": {
    "collapsed": false,
    "pycharm": {
     "name": "#%%\n"
    }
   }
  },
  {
   "cell_type": "code",
   "execution_count": 30,
   "outputs": [
    {
     "data": {
      "text/plain": "                   A         B         C  D\n2021-09-01  0.000000 -1.033254 -0.328527  7\n2021-09-02  1.238019  0.701318  0.370100  7\n2021-09-03 -0.249678  0.238613  0.039570  7\n2021-09-04 -0.738849 -0.251834 -0.491212  7\n2021-09-05  1.024398  0.708411 -0.476440  7\n2021-09-06 -1.861419  0.638231  0.843215  7",
      "text/html": "<div>\n<style scoped>\n    .dataframe tbody tr th:only-of-type {\n        vertical-align: middle;\n    }\n\n    .dataframe tbody tr th {\n        vertical-align: top;\n    }\n\n    .dataframe thead th {\n        text-align: right;\n    }\n</style>\n<table border=\"1\" class=\"dataframe\">\n  <thead>\n    <tr style=\"text-align: right;\">\n      <th></th>\n      <th>A</th>\n      <th>B</th>\n      <th>C</th>\n      <th>D</th>\n    </tr>\n  </thead>\n  <tbody>\n    <tr>\n      <th>2021-09-01</th>\n      <td>0.000000</td>\n      <td>-1.033254</td>\n      <td>-0.328527</td>\n      <td>7</td>\n    </tr>\n    <tr>\n      <th>2021-09-02</th>\n      <td>1.238019</td>\n      <td>0.701318</td>\n      <td>0.370100</td>\n      <td>7</td>\n    </tr>\n    <tr>\n      <th>2021-09-03</th>\n      <td>-0.249678</td>\n      <td>0.238613</td>\n      <td>0.039570</td>\n      <td>7</td>\n    </tr>\n    <tr>\n      <th>2021-09-04</th>\n      <td>-0.738849</td>\n      <td>-0.251834</td>\n      <td>-0.491212</td>\n      <td>7</td>\n    </tr>\n    <tr>\n      <th>2021-09-05</th>\n      <td>1.024398</td>\n      <td>0.708411</td>\n      <td>-0.476440</td>\n      <td>7</td>\n    </tr>\n    <tr>\n      <th>2021-09-06</th>\n      <td>-1.861419</td>\n      <td>0.638231</td>\n      <td>0.843215</td>\n      <td>7</td>\n    </tr>\n  </tbody>\n</table>\n</div>"
     },
     "execution_count": 30,
     "metadata": {},
     "output_type": "execute_result"
    }
   ],
   "source": [
    "df.loc[:,'D'] = np.array([7] * (len(df)))\n",
    "df"
   ],
   "metadata": {
    "collapsed": false,
    "pycharm": {
     "name": "#%%\n"
    }
   }
  }
 ],
 "metadata": {
  "kernelspec": {
   "display_name": "Python 3",
   "language": "python",
   "name": "python3"
  },
  "language_info": {
   "codemirror_mode": {
    "name": "ipython",
    "version": 2
   },
   "file_extension": ".py",
   "mimetype": "text/x-python",
   "name": "python",
   "nbconvert_exporter": "python",
   "pygments_lexer": "ipython2",
   "version": "2.7.6"
  }
 },
 "nbformat": 4,
 "nbformat_minor": 0
}