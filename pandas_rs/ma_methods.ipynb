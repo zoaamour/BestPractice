{
 "cells": [
  {
   "cell_type": "code",
   "execution_count": 16,
   "outputs": [],
   "source": [
    "import numpy as np\n",
    "import pandas as pd\n",
    "\n",
    "from IPython import InteractiveShell\n",
    "\n",
    "InteractiveShell.ast_node_interactivity = \"all\""
   ],
   "metadata": {
    "collapsed": false,
    "pycharm": {
     "name": "#%%\n"
    }
   }
  },
  {
   "cell_type": "code",
   "execution_count": 12,
   "metadata": {
    "collapsed": true,
    "pycharm": {
     "name": "#%% convolve\n"
    }
   },
   "outputs": [
    {
     "name": "stdout",
     "output_type": "stream",
     "text": [
      "[ 8.    9.25 13.5  13.   11.   11.    7.25]\n"
     ]
    },
    {
     "data": {
      "text/plain": "array([ 8.  ,  9.25, 13.5 , 13.  , 11.  , 11.  ,  7.25])"
     },
     "execution_count": 12,
     "metadata": {},
     "output_type": "execute_result"
    },
    {
     "data": {
      "text/plain": "array([ 3.75,  5.75,  8.  ,  9.25, 13.5 , 13.  , 11.  , 11.  ,  7.25,\n        5.75])"
     },
     "execution_count": 12,
     "metadata": {},
     "output_type": "execute_result"
    },
    {
     "data": {
      "text/plain": "array([ 2.5 ,  3.75,  5.75,  8.  ,  9.25, 13.5 , 13.  , 11.  , 11.  ,\n        7.25,  5.75,  5.5 ,  1.75])"
     },
     "execution_count": 12,
     "metadata": {},
     "output_type": "execute_result"
    }
   ],
   "source": [
    "\n",
    "def moving_average(x, w):\n",
    "    return np.convolve(x, np.ones(w), 'valid') / w\n",
    "\n",
    "data = np.array([10,5,8,9,15,22,6,1,15,7])\n",
    "ma = moving_average(data,4)\n",
    "\n",
    "print(ma)\n",
    "\n",
    "np.convolve(data, np.ones(4), 'valid') / 4\n",
    "np.convolve(data, np.ones(4), 'same') / 4\n",
    "np.convolve(data, np.ones(4), 'full') / 4"
   ]
  },
  {
   "cell_type": "code",
   "execution_count": 13,
   "outputs": [
    {
     "data": {
      "text/plain": "array([ 8.  ,  9.25, 13.5 , 13.  , 11.  , 11.  ,  7.25])"
     },
     "execution_count": 13,
     "metadata": {},
     "output_type": "execute_result"
    }
   ],
   "source": [
    "def moving_average(a, n) :\n",
    "    ret = np.cumsum(a, dtype=float)\n",
    "    ret[n:] = ret[n:] - ret[:-n]\n",
    "    return ret[n - 1:] / n\n",
    "\n",
    "moving_average(data,4)\n"
   ],
   "metadata": {
    "collapsed": false,
    "pycharm": {
     "name": "#%%\n"
    }
   }
  },
  {
   "cell_type": "code",
   "execution_count": 14,
   "outputs": [
    {
     "data": {
      "text/plain": "array([  nan,   nan,   nan,  8.  ,  9.25, 13.5 , 13.  , 11.  , 11.  ,\n        7.25])"
     },
     "execution_count": 14,
     "metadata": {},
     "output_type": "execute_result"
    }
   ],
   "source": [
    "import bottleneck as bn\n",
    "import numpy as np\n",
    "def rollavg_bottlneck(a,n):\n",
    "    return bn.move_mean(a, window=n,min_count = None)\n",
    "\n",
    "rollavg_bottlneck(data, 4)"
   ],
   "metadata": {
    "collapsed": false,
    "pycharm": {
     "name": "#%%\n"
    }
   }
  },
  {
   "cell_type": "code",
   "execution_count": 17,
   "outputs": [
    {
     "data": {
      "text/plain": "0      NaN\n1      NaN\n2      NaN\n3     8.00\n4     9.25\n5    13.50\n6    13.00\n7    11.00\n8    11.00\n9     7.25\ndtype: float64"
     },
     "execution_count": 17,
     "metadata": {},
     "output_type": "execute_result"
    }
   ],
   "source": [
    "df = pd.Series(data)\n",
    "\n",
    "df.rolling(4).mean()\n"
   ],
   "metadata": {
    "collapsed": false,
    "pycharm": {
     "name": "#%%\n"
    }
   }
  }
 ],
 "metadata": {
  "kernelspec": {
   "display_name": "Python 3",
   "language": "python",
   "name": "python3"
  },
  "language_info": {
   "codemirror_mode": {
    "name": "ipython",
    "version": 2
   },
   "file_extension": ".py",
   "mimetype": "text/x-python",
   "name": "python",
   "nbconvert_exporter": "python",
   "pygments_lexer": "ipython2",
   "version": "2.7.6"
  }
 },
 "nbformat": 4,
 "nbformat_minor": 0
}