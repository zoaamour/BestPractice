{
 "cells": [
  {
   "cell_type": "code",
   "execution_count": 1,
   "metadata": {
    "collapsed": true
   },
   "outputs": [],
   "source": [
    "import os\n",
    "\n",
    "import pandas as pd\n",
    "import numpy as np\n",
    "\n",
    "from IPython import InteractiveShell\n",
    "\n",
    "from util.ConstUtil import DATA_PATH\n",
    "\n",
    "InteractiveShell.ast_node_interactivity = \"all\""
   ]
  },
  {
   "cell_type": "code",
   "execution_count": 2,
   "outputs": [
    {
     "data": {
      "text/plain": "  positionName  salary\n0         数据分析   37500\n1         数据建模   15000\n2         数据分析    3500\n3         数据分析   45000\n4         数据分析   30000\n5         数据分析   50000\n6         数据分析   30000\n7      数据建模工程师   35000\n8       数据分析专家   60000\n9        数据分析师   40000",
      "text/html": "<div>\n<style scoped>\n    .dataframe tbody tr th:only-of-type {\n        vertical-align: middle;\n    }\n\n    .dataframe tbody tr th {\n        vertical-align: top;\n    }\n\n    .dataframe thead th {\n        text-align: right;\n    }\n</style>\n<table border=\"1\" class=\"dataframe\">\n  <thead>\n    <tr style=\"text-align: right;\">\n      <th></th>\n      <th>positionName</th>\n      <th>salary</th>\n    </tr>\n  </thead>\n  <tbody>\n    <tr>\n      <th>0</th>\n      <td>数据分析</td>\n      <td>37500</td>\n    </tr>\n    <tr>\n      <th>1</th>\n      <td>数据建模</td>\n      <td>15000</td>\n    </tr>\n    <tr>\n      <th>2</th>\n      <td>数据分析</td>\n      <td>3500</td>\n    </tr>\n    <tr>\n      <th>3</th>\n      <td>数据分析</td>\n      <td>45000</td>\n    </tr>\n    <tr>\n      <th>4</th>\n      <td>数据分析</td>\n      <td>30000</td>\n    </tr>\n    <tr>\n      <th>5</th>\n      <td>数据分析</td>\n      <td>50000</td>\n    </tr>\n    <tr>\n      <th>6</th>\n      <td>数据分析</td>\n      <td>30000</td>\n    </tr>\n    <tr>\n      <th>7</th>\n      <td>数据建模工程师</td>\n      <td>35000</td>\n    </tr>\n    <tr>\n      <th>8</th>\n      <td>数据分析专家</td>\n      <td>60000</td>\n    </tr>\n    <tr>\n      <th>9</th>\n      <td>数据分析师</td>\n      <td>40000</td>\n    </tr>\n  </tbody>\n</table>\n</div>"
     },
     "execution_count": 2,
     "metadata": {},
     "output_type": "execute_result"
    }
   ],
   "source": [
    "data_path = os.path.join(DATA_PATH, 'pandas_rs')\n",
    "fpath = os.path.join(data_path, '数据1.csv')\n",
    "df = pd.read_csv(fpath, encoding='gbk', usecols=['positionName', 'salary'], nrows=10)\n",
    "df"
   ],
   "metadata": {
    "collapsed": false,
    "pycharm": {
     "name": "#%%\n"
    }
   }
  },
  {
   "cell_type": "code",
   "execution_count": 3,
   "outputs": [
    {
     "data": {
      "text/plain": "     学历要求 薪资水平\n0      本科    高\n1      硕士    高\n2      本科    低\n3      本科    高\n4      不限    高\n...   ...  ...\n1149   硕士    高\n1150   本科    高\n1151   本科    高\n1152   本科    高\n1153   本科    高\n\n[1154 rows x 2 columns]",
      "text/html": "<div>\n<style scoped>\n    .dataframe tbody tr th:only-of-type {\n        vertical-align: middle;\n    }\n\n    .dataframe tbody tr th {\n        vertical-align: top;\n    }\n\n    .dataframe thead th {\n        text-align: right;\n    }\n</style>\n<table border=\"1\" class=\"dataframe\">\n  <thead>\n    <tr style=\"text-align: right;\">\n      <th></th>\n      <th>学历要求</th>\n      <th>薪资水平</th>\n    </tr>\n  </thead>\n  <tbody>\n    <tr>\n      <th>0</th>\n      <td>本科</td>\n      <td>高</td>\n    </tr>\n    <tr>\n      <th>1</th>\n      <td>硕士</td>\n      <td>高</td>\n    </tr>\n    <tr>\n      <th>2</th>\n      <td>本科</td>\n      <td>低</td>\n    </tr>\n    <tr>\n      <th>3</th>\n      <td>本科</td>\n      <td>高</td>\n    </tr>\n    <tr>\n      <th>4</th>\n      <td>不限</td>\n      <td>高</td>\n    </tr>\n    <tr>\n      <th>...</th>\n      <td>...</td>\n      <td>...</td>\n    </tr>\n    <tr>\n      <th>1149</th>\n      <td>硕士</td>\n      <td>高</td>\n    </tr>\n    <tr>\n      <th>1150</th>\n      <td>本科</td>\n      <td>高</td>\n    </tr>\n    <tr>\n      <th>1151</th>\n      <td>本科</td>\n      <td>高</td>\n    </tr>\n    <tr>\n      <th>1152</th>\n      <td>本科</td>\n      <td>高</td>\n    </tr>\n    <tr>\n      <th>1153</th>\n      <td>本科</td>\n      <td>高</td>\n    </tr>\n  </tbody>\n</table>\n<p>1154 rows × 2 columns</p>\n</div>"
     },
     "execution_count": 3,
     "metadata": {},
     "output_type": "execute_result"
    },
    {
     "data": {
      "text/plain": "Index(['学历要求', '薪资水平'], dtype='object')"
     },
     "execution_count": 3,
     "metadata": {},
     "output_type": "execute_result"
    }
   ],
   "source": [
    "fpath = os.path.join(data_path, '数据2.csv')\n",
    "df = pd.read_csv(fpath, converters={'薪资水平':lambda x: '高' if float(x)>10000 else '低'})\n",
    "df\n",
    "df.columns"
   ],
   "metadata": {
    "collapsed": false,
    "pycharm": {
     "name": "#%%\n"
    }
   }
  },
  {
   "cell_type": "code",
   "execution_count": 4,
   "outputs": [
    {
     "data": {
      "text/plain": "0       高\n20      高\n40      高\n60      高\n80      高\n100     高\n120     高\n140     高\n160     高\n180     高\n200     高\n220     高\n240     高\n260     高\n280     低\n300     高\n320     高\n340     低\n360     高\n380     高\n400     高\n420     高\n440     高\n460     低\n480     高\n500     高\n520     高\n540     高\n560     高\n580     高\n600     高\n620     高\n640     高\n660     低\n680     低\n700     高\n720     高\n740     高\n760     高\n780     高\n800     高\n820     高\n840     高\n860     低\n880     高\n900     高\n920     高\n940     高\n960     高\n980     高\n1000    高\n1020    高\n1040    高\n1060    高\n1080    高\n1100    高\n1120    高\n1140    高\nName: 薪资水平, dtype: object"
     },
     "execution_count": 4,
     "metadata": {},
     "output_type": "execute_result"
    },
    {
     "data": {
      "text/plain": "     薪资水平\n0       高\n20      高\n40      高\n60      高\n80      高\n100     高\n120     高\n140     高\n160     高\n180     高\n200     高\n220     高\n240     高\n260     高\n280     低\n300     高\n320     高\n340     低\n360     高\n380     高\n400     高\n420     高\n440     高\n460     低\n480     高\n500     高\n520     高\n540     高\n560     高\n580     高\n600     高\n620     高\n640     高\n660     低\n680     低\n700     高\n720     高\n740     高\n760     高\n780     高\n800     高\n820     高\n840     高\n860     低\n880     高\n900     高\n920     高\n940     高\n960     高\n980     高\n1000    高\n1020    高\n1040    高\n1060    高\n1080    高\n1100    高\n1120    高\n1140    高",
      "text/html": "<div>\n<style scoped>\n    .dataframe tbody tr th:only-of-type {\n        vertical-align: middle;\n    }\n\n    .dataframe tbody tr th {\n        vertical-align: top;\n    }\n\n    .dataframe thead th {\n        text-align: right;\n    }\n</style>\n<table border=\"1\" class=\"dataframe\">\n  <thead>\n    <tr style=\"text-align: right;\">\n      <th></th>\n      <th>薪资水平</th>\n    </tr>\n  </thead>\n  <tbody>\n    <tr>\n      <th>0</th>\n      <td>高</td>\n    </tr>\n    <tr>\n      <th>20</th>\n      <td>高</td>\n    </tr>\n    <tr>\n      <th>40</th>\n      <td>高</td>\n    </tr>\n    <tr>\n      <th>60</th>\n      <td>高</td>\n    </tr>\n    <tr>\n      <th>80</th>\n      <td>高</td>\n    </tr>\n    <tr>\n      <th>100</th>\n      <td>高</td>\n    </tr>\n    <tr>\n      <th>120</th>\n      <td>高</td>\n    </tr>\n    <tr>\n      <th>140</th>\n      <td>高</td>\n    </tr>\n    <tr>\n      <th>160</th>\n      <td>高</td>\n    </tr>\n    <tr>\n      <th>180</th>\n      <td>高</td>\n    </tr>\n    <tr>\n      <th>200</th>\n      <td>高</td>\n    </tr>\n    <tr>\n      <th>220</th>\n      <td>高</td>\n    </tr>\n    <tr>\n      <th>240</th>\n      <td>高</td>\n    </tr>\n    <tr>\n      <th>260</th>\n      <td>高</td>\n    </tr>\n    <tr>\n      <th>280</th>\n      <td>低</td>\n    </tr>\n    <tr>\n      <th>300</th>\n      <td>高</td>\n    </tr>\n    <tr>\n      <th>320</th>\n      <td>高</td>\n    </tr>\n    <tr>\n      <th>340</th>\n      <td>低</td>\n    </tr>\n    <tr>\n      <th>360</th>\n      <td>高</td>\n    </tr>\n    <tr>\n      <th>380</th>\n      <td>高</td>\n    </tr>\n    <tr>\n      <th>400</th>\n      <td>高</td>\n    </tr>\n    <tr>\n      <th>420</th>\n      <td>高</td>\n    </tr>\n    <tr>\n      <th>440</th>\n      <td>高</td>\n    </tr>\n    <tr>\n      <th>460</th>\n      <td>低</td>\n    </tr>\n    <tr>\n      <th>480</th>\n      <td>高</td>\n    </tr>\n    <tr>\n      <th>500</th>\n      <td>高</td>\n    </tr>\n    <tr>\n      <th>520</th>\n      <td>高</td>\n    </tr>\n    <tr>\n      <th>540</th>\n      <td>高</td>\n    </tr>\n    <tr>\n      <th>560</th>\n      <td>高</td>\n    </tr>\n    <tr>\n      <th>580</th>\n      <td>高</td>\n    </tr>\n    <tr>\n      <th>600</th>\n      <td>高</td>\n    </tr>\n    <tr>\n      <th>620</th>\n      <td>高</td>\n    </tr>\n    <tr>\n      <th>640</th>\n      <td>高</td>\n    </tr>\n    <tr>\n      <th>660</th>\n      <td>低</td>\n    </tr>\n    <tr>\n      <th>680</th>\n      <td>低</td>\n    </tr>\n    <tr>\n      <th>700</th>\n      <td>高</td>\n    </tr>\n    <tr>\n      <th>720</th>\n      <td>高</td>\n    </tr>\n    <tr>\n      <th>740</th>\n      <td>高</td>\n    </tr>\n    <tr>\n      <th>760</th>\n      <td>高</td>\n    </tr>\n    <tr>\n      <th>780</th>\n      <td>高</td>\n    </tr>\n    <tr>\n      <th>800</th>\n      <td>高</td>\n    </tr>\n    <tr>\n      <th>820</th>\n      <td>高</td>\n    </tr>\n    <tr>\n      <th>840</th>\n      <td>高</td>\n    </tr>\n    <tr>\n      <th>860</th>\n      <td>低</td>\n    </tr>\n    <tr>\n      <th>880</th>\n      <td>高</td>\n    </tr>\n    <tr>\n      <th>900</th>\n      <td>高</td>\n    </tr>\n    <tr>\n      <th>920</th>\n      <td>高</td>\n    </tr>\n    <tr>\n      <th>940</th>\n      <td>高</td>\n    </tr>\n    <tr>\n      <th>960</th>\n      <td>高</td>\n    </tr>\n    <tr>\n      <th>980</th>\n      <td>高</td>\n    </tr>\n    <tr>\n      <th>1000</th>\n      <td>高</td>\n    </tr>\n    <tr>\n      <th>1020</th>\n      <td>高</td>\n    </tr>\n    <tr>\n      <th>1040</th>\n      <td>高</td>\n    </tr>\n    <tr>\n      <th>1060</th>\n      <td>高</td>\n    </tr>\n    <tr>\n      <th>1080</th>\n      <td>高</td>\n    </tr>\n    <tr>\n      <th>1100</th>\n      <td>高</td>\n    </tr>\n    <tr>\n      <th>1120</th>\n      <td>高</td>\n    </tr>\n    <tr>\n      <th>1140</th>\n      <td>高</td>\n    </tr>\n  </tbody>\n</table>\n</div>"
     },
     "execution_count": 4,
     "metadata": {},
     "output_type": "execute_result"
    }
   ],
   "source": [
    "df.loc[::20,'薪资水平']\n",
    "df.iloc[::20][['薪资水平']]"
   ],
   "metadata": {
    "collapsed": false,
    "pycharm": {
     "name": "#%%\n"
    }
   }
  },
  {
   "cell_type": "code",
   "execution_count": 5,
   "outputs": [
    {
     "data": {
      "text/plain": "    data\n0  0.001\n1  0.000\n2  0.019\n3  0.000\n4  0.000\n5  0.341\n6  0.000\n7  0.000\n8  0.001\n9  0.021",
      "text/html": "<div>\n<style scoped>\n    .dataframe tbody tr th:only-of-type {\n        vertical-align: middle;\n    }\n\n    .dataframe tbody tr th {\n        vertical-align: top;\n    }\n\n    .dataframe thead th {\n        text-align: right;\n    }\n</style>\n<table border=\"1\" class=\"dataframe\">\n  <thead>\n    <tr style=\"text-align: right;\">\n      <th></th>\n      <th>data</th>\n    </tr>\n  </thead>\n  <tbody>\n    <tr>\n      <th>0</th>\n      <td>0.001</td>\n    </tr>\n    <tr>\n      <th>1</th>\n      <td>0.000</td>\n    </tr>\n    <tr>\n      <th>2</th>\n      <td>0.019</td>\n    </tr>\n    <tr>\n      <th>3</th>\n      <td>0.000</td>\n    </tr>\n    <tr>\n      <th>4</th>\n      <td>0.000</td>\n    </tr>\n    <tr>\n      <th>5</th>\n      <td>0.341</td>\n    </tr>\n    <tr>\n      <th>6</th>\n      <td>0.000</td>\n    </tr>\n    <tr>\n      <th>7</th>\n      <td>0.000</td>\n    </tr>\n    <tr>\n      <th>8</th>\n      <td>0.001</td>\n    </tr>\n    <tr>\n      <th>9</th>\n      <td>0.021</td>\n    </tr>\n  </tbody>\n</table>\n</div>"
     },
     "execution_count": 5,
     "metadata": {},
     "output_type": "execute_result"
    }
   ],
   "source": [
    "df = pd.DataFrame(np.random.random(10)**10,columns=['data'])\n",
    "df = df.round(3)\n",
    "df"
   ],
   "metadata": {
    "collapsed": false,
    "pycharm": {
     "name": "#%%\n"
    }
   }
  },
  {
   "cell_type": "code",
   "execution_count": 6,
   "outputs": [
    {
     "data": {
      "text/plain": "<pandas.io.formats.style.Styler at 0x22f91e702b0>",
      "text/html": "<style  type=\"text/css\" >\n</style><table id=\"T_1cdf0_\" ><thead>    <tr>        <th class=\"blank level0\" ></th>        <th class=\"col_heading level0 col0\" >data</th>    </tr></thead><tbody>\n                <tr>\n                        <th id=\"T_1cdf0_level0_row0\" class=\"row_heading level0 row0\" >0</th>\n                        <td id=\"T_1cdf0_row0_col0\" class=\"data row0 col0\" >0.10%</td>\n            </tr>\n            <tr>\n                        <th id=\"T_1cdf0_level0_row1\" class=\"row_heading level0 row1\" >1</th>\n                        <td id=\"T_1cdf0_row1_col0\" class=\"data row1 col0\" >0.00%</td>\n            </tr>\n            <tr>\n                        <th id=\"T_1cdf0_level0_row2\" class=\"row_heading level0 row2\" >2</th>\n                        <td id=\"T_1cdf0_row2_col0\" class=\"data row2 col0\" >1.90%</td>\n            </tr>\n            <tr>\n                        <th id=\"T_1cdf0_level0_row3\" class=\"row_heading level0 row3\" >3</th>\n                        <td id=\"T_1cdf0_row3_col0\" class=\"data row3 col0\" >0.00%</td>\n            </tr>\n            <tr>\n                        <th id=\"T_1cdf0_level0_row4\" class=\"row_heading level0 row4\" >4</th>\n                        <td id=\"T_1cdf0_row4_col0\" class=\"data row4 col0\" >0.00%</td>\n            </tr>\n            <tr>\n                        <th id=\"T_1cdf0_level0_row5\" class=\"row_heading level0 row5\" >5</th>\n                        <td id=\"T_1cdf0_row5_col0\" class=\"data row5 col0\" >34.10%</td>\n            </tr>\n            <tr>\n                        <th id=\"T_1cdf0_level0_row6\" class=\"row_heading level0 row6\" >6</th>\n                        <td id=\"T_1cdf0_row6_col0\" class=\"data row6 col0\" >0.00%</td>\n            </tr>\n            <tr>\n                        <th id=\"T_1cdf0_level0_row7\" class=\"row_heading level0 row7\" >7</th>\n                        <td id=\"T_1cdf0_row7_col0\" class=\"data row7 col0\" >0.00%</td>\n            </tr>\n            <tr>\n                        <th id=\"T_1cdf0_level0_row8\" class=\"row_heading level0 row8\" >8</th>\n                        <td id=\"T_1cdf0_row8_col0\" class=\"data row8 col0\" >0.10%</td>\n            </tr>\n            <tr>\n                        <th id=\"T_1cdf0_level0_row9\" class=\"row_heading level0 row9\" >9</th>\n                        <td id=\"T_1cdf0_row9_col0\" class=\"data row9 col0\" >2.10%</td>\n            </tr>\n    </tbody></table>"
     },
     "execution_count": 6,
     "metadata": {},
     "output_type": "execute_result"
    }
   ],
   "source": [
    "df.style.format({'data': '{0:.2%}'})\n"
   ],
   "metadata": {
    "collapsed": false,
    "pycharm": {
     "name": "#%%\n"
    }
   }
  },
  {
   "cell_type": "code",
   "execution_count": 7,
   "outputs": [
    {
     "data": {
      "text/plain": "0    1\n1    3\n2    4\n3    6\n4    7\n5    0\n6    8\n7    2\n8    9\n9    5\nName: data, dtype: int64"
     },
     "execution_count": 7,
     "metadata": {},
     "output_type": "execute_result"
    },
    {
     "data": {
      "text/plain": "2"
     },
     "execution_count": 7,
     "metadata": {},
     "output_type": "execute_result"
    },
    {
     "data": {
      "text/plain": "2"
     },
     "execution_count": 7,
     "metadata": {},
     "output_type": "execute_result"
    }
   ],
   "source": [
    "df['data'].argsort()\n",
    "df['data'].argsort()[7]\n",
    "\n",
    "df['data1'] = df['data'] * -1\n",
    "df['data1'].argsort()[2]\n"
   ],
   "metadata": {
    "collapsed": false,
    "pycharm": {
     "name": "#%%\n"
    }
   }
  },
  {
   "cell_type": "code",
   "execution_count": 8,
   "outputs": [
    {
     "data": {
      "text/plain": "   index   data  data1\n0      9  0.021 -0.021\n1      8  0.001 -0.001\n2      7  0.000 -0.000\n3      6  0.000 -0.000\n4      5  0.341 -0.341\n5      4  0.000 -0.000\n6      3  0.000 -0.000\n7      2  0.019 -0.019\n8      1  0.000 -0.000\n9      0  0.001 -0.001",
      "text/html": "<div>\n<style scoped>\n    .dataframe tbody tr th:only-of-type {\n        vertical-align: middle;\n    }\n\n    .dataframe tbody tr th {\n        vertical-align: top;\n    }\n\n    .dataframe thead th {\n        text-align: right;\n    }\n</style>\n<table border=\"1\" class=\"dataframe\">\n  <thead>\n    <tr style=\"text-align: right;\">\n      <th></th>\n      <th>index</th>\n      <th>data</th>\n      <th>data1</th>\n    </tr>\n  </thead>\n  <tbody>\n    <tr>\n      <th>0</th>\n      <td>9</td>\n      <td>0.021</td>\n      <td>-0.021</td>\n    </tr>\n    <tr>\n      <th>1</th>\n      <td>8</td>\n      <td>0.001</td>\n      <td>-0.001</td>\n    </tr>\n    <tr>\n      <th>2</th>\n      <td>7</td>\n      <td>0.000</td>\n      <td>-0.000</td>\n    </tr>\n    <tr>\n      <th>3</th>\n      <td>6</td>\n      <td>0.000</td>\n      <td>-0.000</td>\n    </tr>\n    <tr>\n      <th>4</th>\n      <td>5</td>\n      <td>0.341</td>\n      <td>-0.341</td>\n    </tr>\n    <tr>\n      <th>5</th>\n      <td>4</td>\n      <td>0.000</td>\n      <td>-0.000</td>\n    </tr>\n    <tr>\n      <th>6</th>\n      <td>3</td>\n      <td>0.000</td>\n      <td>-0.000</td>\n    </tr>\n    <tr>\n      <th>7</th>\n      <td>2</td>\n      <td>0.019</td>\n      <td>-0.019</td>\n    </tr>\n    <tr>\n      <th>8</th>\n      <td>1</td>\n      <td>0.000</td>\n      <td>-0.000</td>\n    </tr>\n    <tr>\n      <th>9</th>\n      <td>0</td>\n      <td>0.001</td>\n      <td>-0.001</td>\n    </tr>\n  </tbody>\n</table>\n</div>"
     },
     "execution_count": 8,
     "metadata": {},
     "output_type": "execute_result"
    }
   ],
   "source": [
    "df1 = df.iloc[::-1].reset_index()\n",
    "df1"
   ],
   "metadata": {
    "collapsed": false,
    "pycharm": {
     "name": "#%%\n"
    }
   }
  },
  {
   "cell_type": "code",
   "execution_count": 9,
   "outputs": [
    {
     "data": {
      "text/plain": "  key1 key2   A   B   C   D\n0   K0   K0  A0  B0  C0  D0\n1   K1   K0  A2  B2  C1  D1\n2   K1   K0  A2  B2  C2  D2",
      "text/html": "<div>\n<style scoped>\n    .dataframe tbody tr th:only-of-type {\n        vertical-align: middle;\n    }\n\n    .dataframe tbody tr th {\n        vertical-align: top;\n    }\n\n    .dataframe thead th {\n        text-align: right;\n    }\n</style>\n<table border=\"1\" class=\"dataframe\">\n  <thead>\n    <tr style=\"text-align: right;\">\n      <th></th>\n      <th>key1</th>\n      <th>key2</th>\n      <th>A</th>\n      <th>B</th>\n      <th>C</th>\n      <th>D</th>\n    </tr>\n  </thead>\n  <tbody>\n    <tr>\n      <th>0</th>\n      <td>K0</td>\n      <td>K0</td>\n      <td>A0</td>\n      <td>B0</td>\n      <td>C0</td>\n      <td>D0</td>\n    </tr>\n    <tr>\n      <th>1</th>\n      <td>K1</td>\n      <td>K0</td>\n      <td>A2</td>\n      <td>B2</td>\n      <td>C1</td>\n      <td>D1</td>\n    </tr>\n    <tr>\n      <th>2</th>\n      <td>K1</td>\n      <td>K0</td>\n      <td>A2</td>\n      <td>B2</td>\n      <td>C2</td>\n      <td>D2</td>\n    </tr>\n  </tbody>\n</table>\n</div>"
     },
     "execution_count": 9,
     "metadata": {},
     "output_type": "execute_result"
    }
   ],
   "source": [
    "df1= pd.DataFrame({'key1': ['K0', 'K0', 'K1', 'K2'],\n",
    "'key2': ['K0', 'K1', 'K0', 'K1'],\n",
    "'A': ['A0', 'A1', 'A2', 'A3'],\n",
    "'B': ['B0', 'B1', 'B2', 'B3']})\n",
    "\n",
    "df2= pd.DataFrame({'key1': ['K0', 'K1', 'K1', 'K2'],\n",
    "'key2': ['K0', 'K0', 'K0', 'K0'],\n",
    "'C': ['C0', 'C1', 'C2', 'C3'],\n",
    "'D': ['D0', 'D1', 'D2', 'D3']})\n",
    "\n",
    "pd.merge(df1, df2, on=['key1', 'key2'])\n"
   ],
   "metadata": {
    "collapsed": false,
    "pycharm": {
     "name": "#%%\n"
    }
   }
  },
  {
   "cell_type": "code",
   "execution_count": 10,
   "outputs": [
    {
     "data": {
      "text/plain": "  key1 key2   A   B    C    D\n0   K0   K0  A0  B0   C0   D0\n1   K0   K1  A1  B1  NaN  NaN\n2   K1   K0  A2  B2   C1   D1\n3   K1   K0  A2  B2   C2   D2\n4   K2   K1  A3  B3  NaN  NaN",
      "text/html": "<div>\n<style scoped>\n    .dataframe tbody tr th:only-of-type {\n        vertical-align: middle;\n    }\n\n    .dataframe tbody tr th {\n        vertical-align: top;\n    }\n\n    .dataframe thead th {\n        text-align: right;\n    }\n</style>\n<table border=\"1\" class=\"dataframe\">\n  <thead>\n    <tr style=\"text-align: right;\">\n      <th></th>\n      <th>key1</th>\n      <th>key2</th>\n      <th>A</th>\n      <th>B</th>\n      <th>C</th>\n      <th>D</th>\n    </tr>\n  </thead>\n  <tbody>\n    <tr>\n      <th>0</th>\n      <td>K0</td>\n      <td>K0</td>\n      <td>A0</td>\n      <td>B0</td>\n      <td>C0</td>\n      <td>D0</td>\n    </tr>\n    <tr>\n      <th>1</th>\n      <td>K0</td>\n      <td>K1</td>\n      <td>A1</td>\n      <td>B1</td>\n      <td>NaN</td>\n      <td>NaN</td>\n    </tr>\n    <tr>\n      <th>2</th>\n      <td>K1</td>\n      <td>K0</td>\n      <td>A2</td>\n      <td>B2</td>\n      <td>C1</td>\n      <td>D1</td>\n    </tr>\n    <tr>\n      <th>3</th>\n      <td>K1</td>\n      <td>K0</td>\n      <td>A2</td>\n      <td>B2</td>\n      <td>C2</td>\n      <td>D2</td>\n    </tr>\n    <tr>\n      <th>4</th>\n      <td>K2</td>\n      <td>K1</td>\n      <td>A3</td>\n      <td>B3</td>\n      <td>NaN</td>\n      <td>NaN</td>\n    </tr>\n  </tbody>\n</table>\n</div>"
     },
     "execution_count": 10,
     "metadata": {},
     "output_type": "execute_result"
    }
   ],
   "source": [
    "pd.merge(df1, df2, on=['key1', 'key2'], how='left')\n"
   ],
   "metadata": {
    "collapsed": false,
    "pycharm": {
     "name": "#%%\n"
    }
   }
  },
  {
   "cell_type": "code",
   "execution_count": 19,
   "outputs": [],
   "source": [
    "fpath = os.path.join(data_path, '数据1.csv')\n",
    "df:pd.DataFrame = pd.read_csv(fpath, encoding='gbk')"
   ],
   "metadata": {
    "collapsed": false,
    "pycharm": {
     "name": "#%%\n"
    }
   }
  },
  {
   "cell_type": "code",
   "execution_count": 20,
   "outputs": [
    {
     "data": {
      "text/plain": "(array([  0,   2,   4,   5,   6,  10,  14,  23,  25,  27,  28,  29,  30,\n         33,  37,  38,  39,  40,  41,  48,  49,  52,  53,  55,  57,  61,\n         65,  66,  67,  71,  73,  74,  75,  79,  80,  82,  85,  88,  89,\n         91,  96, 100], dtype=int64),)"
     },
     "execution_count": 20,
     "metadata": {},
     "output_type": "execute_result"
    }
   ],
   "source": [
    "np.where(df.secondType == df.thirdType)"
   ],
   "metadata": {
    "collapsed": false,
    "pycharm": {
     "name": "#%%\n"
    }
   }
  },
  {
   "cell_type": "code",
   "execution_count": 21,
   "outputs": [
    {
     "data": {
      "text/plain": "array([ True, False, False,  True, False,  True, False,  True,  True,\n        True, False, False, False, False,  True, False,  True,  True,\n       False,  True, False, False, False, False, False,  True,  True,\n       False,  True,  True,  True, False,  True, False, False,  True,\n        True, False,  True,  True, False,  True, False,  True,  True,\n       False,  True,  True, False, False, False, False, False, False,\n       False, False, False,  True, False, False,  True, False, False,\n       False,  True, False,  True, False, False,  True, False, False,\n       False, False, False, False, False,  True, False,  True, False,\n       False,  True, False, False, False, False,  True, False, False,\n        True,  True, False, False, False,  True, False, False, False,\n        True, False,  True, False, False, False])"
     },
     "execution_count": 21,
     "metadata": {},
     "output_type": "execute_result"
    },
    {
     "data": {
      "text/plain": "array([[  0],\n       [  3],\n       [  5],\n       [  7],\n       [  8],\n       [  9],\n       [ 14],\n       [ 16],\n       [ 17],\n       [ 19],\n       [ 25],\n       [ 26],\n       [ 28],\n       [ 29],\n       [ 30],\n       [ 32],\n       [ 35],\n       [ 36],\n       [ 38],\n       [ 39],\n       [ 41],\n       [ 43],\n       [ 44],\n       [ 46],\n       [ 47],\n       [ 57],\n       [ 60],\n       [ 64],\n       [ 66],\n       [ 69],\n       [ 77],\n       [ 79],\n       [ 82],\n       [ 87],\n       [ 90],\n       [ 91],\n       [ 95],\n       [ 99],\n       [101]], dtype=int64)"
     },
     "execution_count": 21,
     "metadata": {},
     "output_type": "execute_result"
    }
   ],
   "source": [
    "df['salary'].values > df['salary'].mean()\n",
    "np.argwhere(df['salary'].values>df['salary'].mean())"
   ],
   "metadata": {
    "collapsed": false,
    "pycharm": {
     "name": "#%%\n"
    }
   }
  },
  {
   "cell_type": "code",
   "execution_count": 22,
   "outputs": [
    {
     "data": {
      "text/plain": "0      193.649167\n1      122.474487\n2       59.160798\n3      212.132034\n4      173.205081\n          ...    \n100    158.113883\n101    187.082869\n102    173.205081\n103    141.421356\n104    146.628783\nName: salary, Length: 105, dtype: float64"
     },
     "execution_count": 22,
     "metadata": {},
     "output_type": "execute_result"
    }
   ],
   "source": [
    "df['salary'].apply(np.sqrt)"
   ],
   "metadata": {
    "collapsed": false,
    "pycharm": {
     "name": "#%%\n"
    }
   }
  },
  {
   "cell_type": "code",
   "execution_count": 25,
   "outputs": [
    {
     "data": {
      "text/plain": "   positionId positionName  companyId  \\\n0     6802721         数据分析     475770   \n1     5204912         数据建模      50735   \n2     6877668         数据分析     100125   \n3     6496141         数据分析      26564   \n4     6467417         数据分析      29211   \n\n                                         companyLogo companySize  \\\n0  i/image2/M01/B7/3E/CgoB5lwPfEaAdn8WAABWQ0Jgl5s...     50-150人   \n1  image1/M00/00/85/CgYXBlTUXeeAR0IjAABbroUk-dw97...    150-500人   \n2  image2/M00/0C/57/CgqLKVYcOA2ADcFuAAAE8MukIKA74...     2000人以上   \n3  i/image2/M01/F7/3F/CgoB5lyGAQGAZeI-AAAdOqXecnw...   500-2000人   \n4  i/image2/M01/77/B8/CgoB5l1WDyGATNP5AAAlY3h88SY...     2000人以上   \n\n  industryField financeStage                   companyLabelList  firstType  \\\n0      移动互联网,电商           A轮   ['绩效奖金', '带薪年假', '定期体检', '弹性工作']  产品|需求|项目类   \n1            电商           B轮   ['年终奖金', '做五休二', '六险一金', '子女福利']  开发|测试|运维类   \n2    移动互联网,企业服务         上市公司   ['节日礼物', '年底双薪', '股票期权', '带薪年假']  产品|需求|项目类   \n3            电商        D轮及以上  ['生日趴', '每月腐败基金', '每月补贴', '年度旅游']  开发|测试|运维类   \n4         物流丨运输         上市公司   ['技能培训', '免费班车', '专项奖金', '岗位晋升']  产品|需求|项目类   \n\n  secondType  ... pcShow appShow deliver gradeDescription  \\\n0       数据分析  ...      0       0       0              NaN   \n1       数据开发  ...      0       0       0              NaN   \n2       数据分析  ...      0       0       0              NaN   \n3       数据开发  ...      0       0       0              NaN   \n4       数据分析  ...      0       0       0              NaN   \n\n  promotionScoreExplain isHotHire count aggregatePositionIds  famousCompany  \\\n0                   NaN         0     0                   []          False   \n1                   NaN         0     0                   []          False   \n2                   NaN         0     0                   []          False   \n3                   NaN         0     0                   []           True   \n4                   NaN         0     0                   []           True   \n\n                           split  \n0                            NaN  \n1                            NaN  \n2  [4号线, 城星路;4号线, 市民中心;4号线, 江锦路]  \n3                     [1号线, 文泽路]  \n4                            NaN  \n\n[5 rows x 54 columns]",
      "text/html": "<div>\n<style scoped>\n    .dataframe tbody tr th:only-of-type {\n        vertical-align: middle;\n    }\n\n    .dataframe tbody tr th {\n        vertical-align: top;\n    }\n\n    .dataframe thead th {\n        text-align: right;\n    }\n</style>\n<table border=\"1\" class=\"dataframe\">\n  <thead>\n    <tr style=\"text-align: right;\">\n      <th></th>\n      <th>positionId</th>\n      <th>positionName</th>\n      <th>companyId</th>\n      <th>companyLogo</th>\n      <th>companySize</th>\n      <th>industryField</th>\n      <th>financeStage</th>\n      <th>companyLabelList</th>\n      <th>firstType</th>\n      <th>secondType</th>\n      <th>...</th>\n      <th>pcShow</th>\n      <th>appShow</th>\n      <th>deliver</th>\n      <th>gradeDescription</th>\n      <th>promotionScoreExplain</th>\n      <th>isHotHire</th>\n      <th>count</th>\n      <th>aggregatePositionIds</th>\n      <th>famousCompany</th>\n      <th>split</th>\n    </tr>\n  </thead>\n  <tbody>\n    <tr>\n      <th>0</th>\n      <td>6802721</td>\n      <td>数据分析</td>\n      <td>475770</td>\n      <td>i/image2/M01/B7/3E/CgoB5lwPfEaAdn8WAABWQ0Jgl5s...</td>\n      <td>50-150人</td>\n      <td>移动互联网,电商</td>\n      <td>A轮</td>\n      <td>['绩效奖金', '带薪年假', '定期体检', '弹性工作']</td>\n      <td>产品|需求|项目类</td>\n      <td>数据分析</td>\n      <td>...</td>\n      <td>0</td>\n      <td>0</td>\n      <td>0</td>\n      <td>NaN</td>\n      <td>NaN</td>\n      <td>0</td>\n      <td>0</td>\n      <td>[]</td>\n      <td>False</td>\n      <td>NaN</td>\n    </tr>\n    <tr>\n      <th>1</th>\n      <td>5204912</td>\n      <td>数据建模</td>\n      <td>50735</td>\n      <td>image1/M00/00/85/CgYXBlTUXeeAR0IjAABbroUk-dw97...</td>\n      <td>150-500人</td>\n      <td>电商</td>\n      <td>B轮</td>\n      <td>['年终奖金', '做五休二', '六险一金', '子女福利']</td>\n      <td>开发|测试|运维类</td>\n      <td>数据开发</td>\n      <td>...</td>\n      <td>0</td>\n      <td>0</td>\n      <td>0</td>\n      <td>NaN</td>\n      <td>NaN</td>\n      <td>0</td>\n      <td>0</td>\n      <td>[]</td>\n      <td>False</td>\n      <td>NaN</td>\n    </tr>\n    <tr>\n      <th>2</th>\n      <td>6877668</td>\n      <td>数据分析</td>\n      <td>100125</td>\n      <td>image2/M00/0C/57/CgqLKVYcOA2ADcFuAAAE8MukIKA74...</td>\n      <td>2000人以上</td>\n      <td>移动互联网,企业服务</td>\n      <td>上市公司</td>\n      <td>['节日礼物', '年底双薪', '股票期权', '带薪年假']</td>\n      <td>产品|需求|项目类</td>\n      <td>数据分析</td>\n      <td>...</td>\n      <td>0</td>\n      <td>0</td>\n      <td>0</td>\n      <td>NaN</td>\n      <td>NaN</td>\n      <td>0</td>\n      <td>0</td>\n      <td>[]</td>\n      <td>False</td>\n      <td>[4号线, 城星路;4号线, 市民中心;4号线, 江锦路]</td>\n    </tr>\n    <tr>\n      <th>3</th>\n      <td>6496141</td>\n      <td>数据分析</td>\n      <td>26564</td>\n      <td>i/image2/M01/F7/3F/CgoB5lyGAQGAZeI-AAAdOqXecnw...</td>\n      <td>500-2000人</td>\n      <td>电商</td>\n      <td>D轮及以上</td>\n      <td>['生日趴', '每月腐败基金', '每月补贴', '年度旅游']</td>\n      <td>开发|测试|运维类</td>\n      <td>数据开发</td>\n      <td>...</td>\n      <td>0</td>\n      <td>0</td>\n      <td>0</td>\n      <td>NaN</td>\n      <td>NaN</td>\n      <td>0</td>\n      <td>0</td>\n      <td>[]</td>\n      <td>True</td>\n      <td>[1号线, 文泽路]</td>\n    </tr>\n    <tr>\n      <th>4</th>\n      <td>6467417</td>\n      <td>数据分析</td>\n      <td>29211</td>\n      <td>i/image2/M01/77/B8/CgoB5l1WDyGATNP5AAAlY3h88SY...</td>\n      <td>2000人以上</td>\n      <td>物流丨运输</td>\n      <td>上市公司</td>\n      <td>['技能培训', '免费班车', '专项奖金', '岗位晋升']</td>\n      <td>产品|需求|项目类</td>\n      <td>数据分析</td>\n      <td>...</td>\n      <td>0</td>\n      <td>0</td>\n      <td>0</td>\n      <td>NaN</td>\n      <td>NaN</td>\n      <td>0</td>\n      <td>0</td>\n      <td>[]</td>\n      <td>True</td>\n      <td>NaN</td>\n    </tr>\n  </tbody>\n</table>\n<p>5 rows × 54 columns</p>\n</div>"
     },
     "execution_count": 25,
     "metadata": {},
     "output_type": "execute_result"
    }
   ],
   "source": [
    "df['split'] = df['linestaion'].str.split('_')\n",
    "df.head()\n"
   ],
   "metadata": {
    "collapsed": false,
    "pycharm": {
     "name": "#%%\n"
    }
   }
  },
  {
   "cell_type": "code",
   "execution_count": 28,
   "outputs": [
    {
     "data": {
      "text/plain": "54"
     },
     "execution_count": 28,
     "metadata": {},
     "output_type": "execute_result"
    }
   ],
   "source": [
    "df.shape[1]\n"
   ],
   "metadata": {
    "collapsed": false,
    "pycharm": {
     "name": "#%%\n"
    }
   }
  },
  {
   "cell_type": "code",
   "execution_count": 31,
   "outputs": [
    {
     "data": {
      "text/plain": "    positionId        positionName  companyId  \\\n8      6458372              数据分析专家      34132   \n10     6804629               数据分析师      34132   \n13     6804489             资深数据分析师      34132   \n21     6267370              数据分析专家      31544   \n32     6804489             资深数据分析师      34132   \n37     6242470               数据分析师      31544   \n50     6680900    数据分析师 (MJ000250)     114335   \n63     6680900    数据分析师 (MJ000250)     114335   \n78     5683671  数据分析实习生 (MJ000087)     114335   \n79     6046866               数据分析师     543802   \n92     6813626            资深数据分析专员     165939   \n94     6818950             资深数据分析师     165939   \n97     6718750        旅游大数据分析师（杭州）     122019   \n98     6655562           数据分析建模工程师  117422215   \n99     6677939       数据分析建模工程师（校招）  117422215   \n\n                                          companyLogo companySize  \\\n8   i/image2/M01/F8/DE/CgoB5lyHTJeAP7v9AAFXUt4zJo4...    150-500人   \n10  i/image2/M01/F8/DE/CgoB5lyHTJeAP7v9AAFXUt4zJo4...    150-500人   \n13  i/image2/M01/F8/DE/CgoB5lyHTJeAP7v9AAFXUt4zJo4...    150-500人   \n21  image1/M00/00/48/CgYXBlTUXOaADKooAABjQoD_n1w50...    150-500人   \n32  i/image2/M01/F8/DE/CgoB5lyHTJeAP7v9AAFXUt4zJo4...    150-500人   \n37  image1/M00/00/48/CgYXBlTUXOaADKooAABjQoD_n1w50...    150-500人   \n50  i/image2/M00/17/C2/CgoB5ln5lUuAM8oSAADO2Rz54hQ...    150-500人   \n63  i/image2/M00/17/C2/CgoB5ln5lUuAM8oSAADO2Rz54hQ...    150-500人   \n78  i/image2/M00/17/C2/CgoB5ln5lUuAM8oSAADO2Rz54hQ...    150-500人   \n79  i/image2/M01/63/3C/CgotOV0ulwOAU8KWAAAsMECc53M...      15-50人   \n92  i/image3/M01/65/71/CgpOIF5CFp2ACoo9AAD3IkKwlv8...    150-500人   \n94  i/image3/M01/65/71/CgpOIF5CFp2ACoo9AAD3IkKwlv8...    150-500人   \n97  i/image/M00/1A/4A/CgqKkVb583WABT4BAABM5RuPCmk9...     50-150人   \n98  i/image2/M01/AF/6D/CgotOV3ki4iAOuo3AABbilI8DfA...     50-150人   \n99  i/image2/M01/AF/6D/CgotOV3ki4iAOuo3AABbilI8DfA...     50-150人   \n\n   industryField financeStage                     companyLabelList  firstType  \\\n8      数据服务,广告营销           A轮  ['开放式办公', '扁平管理', '带薪假期', '弹性工作时间']  产品|需求|项目类   \n10     数据服务,广告营销           A轮  ['开放式办公', '扁平管理', '带薪假期', '弹性工作时间']  产品|需求|项目类   \n13     数据服务,广告营销           A轮  ['开放式办公', '扁平管理', '带薪假期', '弹性工作时间']  开发|测试|运维类   \n21          数据服务        不需要融资   ['专业红娘牵线', '节日礼物', '技能培训', '岗位晋升']  开发|测试|运维类   \n32     数据服务,广告营销           A轮  ['开放式办公', '扁平管理', '带薪假期', '弹性工作时间']  开发|测试|运维类   \n37          数据服务        不需要融资   ['专业红娘牵线', '节日礼物', '技能培训', '岗位晋升']  产品|需求|项目类   \n50          数据服务           B轮      ['股票期权', '弹性工作', '领导好', '五险一金']  产品|需求|项目类   \n63          数据服务           B轮      ['股票期权', '弹性工作', '领导好', '五险一金']  产品|需求|项目类   \n78          数据服务           B轮      ['股票期权', '弹性工作', '领导好', '五险一金']  开发|测试|运维类   \n79          数据服务        不需要融资                                   []  产品|需求|项目类   \n92          数据服务        不需要融资     ['年底双薪', '带薪年假', '午餐补助', '定期体检']  开发|测试|运维类   \n94          数据服务        不需要融资     ['年底双薪', '带薪年假', '午餐补助', '定期体检']  开发|测试|运维类   \n97     数据服务,企业服务           A轮     ['年底双薪', '股票期权', '午餐补助', '定期体检']  开发|测试|运维类   \n98     数据服务,信息安全           A轮  ['午餐补助', '带薪年假', '16到18薪', '法定节假日']  开发|测试|运维类   \n99     数据服务,信息安全           A轮  ['午餐补助', '带薪年假', '16到18薪', '法定节假日']  开发|测试|运维类   \n\n   secondType  ... pcShow appShow deliver gradeDescription  \\\n8        数据分析  ...      0       0       0              NaN   \n10       数据分析  ...      0       0       0              NaN   \n13       数据开发  ...      0       0       0              NaN   \n21       数据开发  ...      0       0       0              NaN   \n32       数据开发  ...      0       0       0              NaN   \n37       数据分析  ...      0       0       0              NaN   \n50       产品经理  ...      0       0       0              NaN   \n63       产品经理  ...      0       0       0              NaN   \n78       后端开发  ...      0       0       0              NaN   \n79       数据分析  ...      0       0       0              NaN   \n92       数据开发  ...      0       0       0              NaN   \n94       数据开发  ...      0       0       0              NaN   \n97       数据开发  ...      0       0       0              NaN   \n98       人工智能  ...      0       0       0              NaN   \n99       人工智能  ...      0       0       0              NaN   \n\n   promotionScoreExplain isHotHire count aggregatePositionIds  famousCompany  \\\n8                    NaN         0     0                   []          False   \n10                   NaN         0     0                   []          False   \n13                   NaN         0     0                   []          False   \n21                   NaN         0     0                   []          False   \n32                   NaN         0     0                   []          False   \n37                   NaN         0     0                   []          False   \n50                   NaN         0     0                   []          False   \n63                   NaN         0     0                   []          False   \n78                   NaN         0     0                   []          False   \n79                   NaN         0     0                   []          False   \n92                   NaN         0     0                   []          False   \n94                   NaN         0     0                   []          False   \n97                   NaN         0     0                   []          False   \n98                   NaN         0     0                   []          False   \n99                   NaN         0     0                   []          False   \n\n                                                split  \n8                                                 NaN  \n10                                                NaN  \n13                                                NaN  \n21                               [4号线, 中医药大学;4号线, 联庄]  \n32                                                NaN  \n37                               [4号线, 中医药大学;4号线, 联庄]  \n50                                                NaN  \n63                                                NaN  \n78                                                NaN  \n79                                  [2号线, 文新;2号线, 三坝]  \n92                                                NaN  \n94                                                NaN  \n97  [1号线, 定安路;1号线, 龙翔桥;1号线, 凤起路;1号线, 定安路;1号线, 龙翔桥;...  \n98                                [2号线, 古翠路;2号线, 丰潭路]  \n99                                [2号线, 古翠路;2号线, 丰潭路]  \n\n[15 rows x 54 columns]",
      "text/html": "<div>\n<style scoped>\n    .dataframe tbody tr th:only-of-type {\n        vertical-align: middle;\n    }\n\n    .dataframe tbody tr th {\n        vertical-align: top;\n    }\n\n    .dataframe thead th {\n        text-align: right;\n    }\n</style>\n<table border=\"1\" class=\"dataframe\">\n  <thead>\n    <tr style=\"text-align: right;\">\n      <th></th>\n      <th>positionId</th>\n      <th>positionName</th>\n      <th>companyId</th>\n      <th>companyLogo</th>\n      <th>companySize</th>\n      <th>industryField</th>\n      <th>financeStage</th>\n      <th>companyLabelList</th>\n      <th>firstType</th>\n      <th>secondType</th>\n      <th>...</th>\n      <th>pcShow</th>\n      <th>appShow</th>\n      <th>deliver</th>\n      <th>gradeDescription</th>\n      <th>promotionScoreExplain</th>\n      <th>isHotHire</th>\n      <th>count</th>\n      <th>aggregatePositionIds</th>\n      <th>famousCompany</th>\n      <th>split</th>\n    </tr>\n  </thead>\n  <tbody>\n    <tr>\n      <th>8</th>\n      <td>6458372</td>\n      <td>数据分析专家</td>\n      <td>34132</td>\n      <td>i/image2/M01/F8/DE/CgoB5lyHTJeAP7v9AAFXUt4zJo4...</td>\n      <td>150-500人</td>\n      <td>数据服务,广告营销</td>\n      <td>A轮</td>\n      <td>['开放式办公', '扁平管理', '带薪假期', '弹性工作时间']</td>\n      <td>产品|需求|项目类</td>\n      <td>数据分析</td>\n      <td>...</td>\n      <td>0</td>\n      <td>0</td>\n      <td>0</td>\n      <td>NaN</td>\n      <td>NaN</td>\n      <td>0</td>\n      <td>0</td>\n      <td>[]</td>\n      <td>False</td>\n      <td>NaN</td>\n    </tr>\n    <tr>\n      <th>10</th>\n      <td>6804629</td>\n      <td>数据分析师</td>\n      <td>34132</td>\n      <td>i/image2/M01/F8/DE/CgoB5lyHTJeAP7v9AAFXUt4zJo4...</td>\n      <td>150-500人</td>\n      <td>数据服务,广告营销</td>\n      <td>A轮</td>\n      <td>['开放式办公', '扁平管理', '带薪假期', '弹性工作时间']</td>\n      <td>产品|需求|项目类</td>\n      <td>数据分析</td>\n      <td>...</td>\n      <td>0</td>\n      <td>0</td>\n      <td>0</td>\n      <td>NaN</td>\n      <td>NaN</td>\n      <td>0</td>\n      <td>0</td>\n      <td>[]</td>\n      <td>False</td>\n      <td>NaN</td>\n    </tr>\n    <tr>\n      <th>13</th>\n      <td>6804489</td>\n      <td>资深数据分析师</td>\n      <td>34132</td>\n      <td>i/image2/M01/F8/DE/CgoB5lyHTJeAP7v9AAFXUt4zJo4...</td>\n      <td>150-500人</td>\n      <td>数据服务,广告营销</td>\n      <td>A轮</td>\n      <td>['开放式办公', '扁平管理', '带薪假期', '弹性工作时间']</td>\n      <td>开发|测试|运维类</td>\n      <td>数据开发</td>\n      <td>...</td>\n      <td>0</td>\n      <td>0</td>\n      <td>0</td>\n      <td>NaN</td>\n      <td>NaN</td>\n      <td>0</td>\n      <td>0</td>\n      <td>[]</td>\n      <td>False</td>\n      <td>NaN</td>\n    </tr>\n    <tr>\n      <th>21</th>\n      <td>6267370</td>\n      <td>数据分析专家</td>\n      <td>31544</td>\n      <td>image1/M00/00/48/CgYXBlTUXOaADKooAABjQoD_n1w50...</td>\n      <td>150-500人</td>\n      <td>数据服务</td>\n      <td>不需要融资</td>\n      <td>['专业红娘牵线', '节日礼物', '技能培训', '岗位晋升']</td>\n      <td>开发|测试|运维类</td>\n      <td>数据开发</td>\n      <td>...</td>\n      <td>0</td>\n      <td>0</td>\n      <td>0</td>\n      <td>NaN</td>\n      <td>NaN</td>\n      <td>0</td>\n      <td>0</td>\n      <td>[]</td>\n      <td>False</td>\n      <td>[4号线, 中医药大学;4号线, 联庄]</td>\n    </tr>\n    <tr>\n      <th>32</th>\n      <td>6804489</td>\n      <td>资深数据分析师</td>\n      <td>34132</td>\n      <td>i/image2/M01/F8/DE/CgoB5lyHTJeAP7v9AAFXUt4zJo4...</td>\n      <td>150-500人</td>\n      <td>数据服务,广告营销</td>\n      <td>A轮</td>\n      <td>['开放式办公', '扁平管理', '带薪假期', '弹性工作时间']</td>\n      <td>开发|测试|运维类</td>\n      <td>数据开发</td>\n      <td>...</td>\n      <td>0</td>\n      <td>0</td>\n      <td>0</td>\n      <td>NaN</td>\n      <td>NaN</td>\n      <td>0</td>\n      <td>0</td>\n      <td>[]</td>\n      <td>False</td>\n      <td>NaN</td>\n    </tr>\n    <tr>\n      <th>37</th>\n      <td>6242470</td>\n      <td>数据分析师</td>\n      <td>31544</td>\n      <td>image1/M00/00/48/CgYXBlTUXOaADKooAABjQoD_n1w50...</td>\n      <td>150-500人</td>\n      <td>数据服务</td>\n      <td>不需要融资</td>\n      <td>['专业红娘牵线', '节日礼物', '技能培训', '岗位晋升']</td>\n      <td>产品|需求|项目类</td>\n      <td>数据分析</td>\n      <td>...</td>\n      <td>0</td>\n      <td>0</td>\n      <td>0</td>\n      <td>NaN</td>\n      <td>NaN</td>\n      <td>0</td>\n      <td>0</td>\n      <td>[]</td>\n      <td>False</td>\n      <td>[4号线, 中医药大学;4号线, 联庄]</td>\n    </tr>\n    <tr>\n      <th>50</th>\n      <td>6680900</td>\n      <td>数据分析师 (MJ000250)</td>\n      <td>114335</td>\n      <td>i/image2/M00/17/C2/CgoB5ln5lUuAM8oSAADO2Rz54hQ...</td>\n      <td>150-500人</td>\n      <td>数据服务</td>\n      <td>B轮</td>\n      <td>['股票期权', '弹性工作', '领导好', '五险一金']</td>\n      <td>产品|需求|项目类</td>\n      <td>产品经理</td>\n      <td>...</td>\n      <td>0</td>\n      <td>0</td>\n      <td>0</td>\n      <td>NaN</td>\n      <td>NaN</td>\n      <td>0</td>\n      <td>0</td>\n      <td>[]</td>\n      <td>False</td>\n      <td>NaN</td>\n    </tr>\n    <tr>\n      <th>63</th>\n      <td>6680900</td>\n      <td>数据分析师 (MJ000250)</td>\n      <td>114335</td>\n      <td>i/image2/M00/17/C2/CgoB5ln5lUuAM8oSAADO2Rz54hQ...</td>\n      <td>150-500人</td>\n      <td>数据服务</td>\n      <td>B轮</td>\n      <td>['股票期权', '弹性工作', '领导好', '五险一金']</td>\n      <td>产品|需求|项目类</td>\n      <td>产品经理</td>\n      <td>...</td>\n      <td>0</td>\n      <td>0</td>\n      <td>0</td>\n      <td>NaN</td>\n      <td>NaN</td>\n      <td>0</td>\n      <td>0</td>\n      <td>[]</td>\n      <td>False</td>\n      <td>NaN</td>\n    </tr>\n    <tr>\n      <th>78</th>\n      <td>5683671</td>\n      <td>数据分析实习生 (MJ000087)</td>\n      <td>114335</td>\n      <td>i/image2/M00/17/C2/CgoB5ln5lUuAM8oSAADO2Rz54hQ...</td>\n      <td>150-500人</td>\n      <td>数据服务</td>\n      <td>B轮</td>\n      <td>['股票期权', '弹性工作', '领导好', '五险一金']</td>\n      <td>开发|测试|运维类</td>\n      <td>后端开发</td>\n      <td>...</td>\n      <td>0</td>\n      <td>0</td>\n      <td>0</td>\n      <td>NaN</td>\n      <td>NaN</td>\n      <td>0</td>\n      <td>0</td>\n      <td>[]</td>\n      <td>False</td>\n      <td>NaN</td>\n    </tr>\n    <tr>\n      <th>79</th>\n      <td>6046866</td>\n      <td>数据分析师</td>\n      <td>543802</td>\n      <td>i/image2/M01/63/3C/CgotOV0ulwOAU8KWAAAsMECc53M...</td>\n      <td>15-50人</td>\n      <td>数据服务</td>\n      <td>不需要融资</td>\n      <td>[]</td>\n      <td>产品|需求|项目类</td>\n      <td>数据分析</td>\n      <td>...</td>\n      <td>0</td>\n      <td>0</td>\n      <td>0</td>\n      <td>NaN</td>\n      <td>NaN</td>\n      <td>0</td>\n      <td>0</td>\n      <td>[]</td>\n      <td>False</td>\n      <td>[2号线, 文新;2号线, 三坝]</td>\n    </tr>\n    <tr>\n      <th>92</th>\n      <td>6813626</td>\n      <td>资深数据分析专员</td>\n      <td>165939</td>\n      <td>i/image3/M01/65/71/CgpOIF5CFp2ACoo9AAD3IkKwlv8...</td>\n      <td>150-500人</td>\n      <td>数据服务</td>\n      <td>不需要融资</td>\n      <td>['年底双薪', '带薪年假', '午餐补助', '定期体检']</td>\n      <td>开发|测试|运维类</td>\n      <td>数据开发</td>\n      <td>...</td>\n      <td>0</td>\n      <td>0</td>\n      <td>0</td>\n      <td>NaN</td>\n      <td>NaN</td>\n      <td>0</td>\n      <td>0</td>\n      <td>[]</td>\n      <td>False</td>\n      <td>NaN</td>\n    </tr>\n    <tr>\n      <th>94</th>\n      <td>6818950</td>\n      <td>资深数据分析师</td>\n      <td>165939</td>\n      <td>i/image3/M01/65/71/CgpOIF5CFp2ACoo9AAD3IkKwlv8...</td>\n      <td>150-500人</td>\n      <td>数据服务</td>\n      <td>不需要融资</td>\n      <td>['年底双薪', '带薪年假', '午餐补助', '定期体检']</td>\n      <td>开发|测试|运维类</td>\n      <td>数据开发</td>\n      <td>...</td>\n      <td>0</td>\n      <td>0</td>\n      <td>0</td>\n      <td>NaN</td>\n      <td>NaN</td>\n      <td>0</td>\n      <td>0</td>\n      <td>[]</td>\n      <td>False</td>\n      <td>NaN</td>\n    </tr>\n    <tr>\n      <th>97</th>\n      <td>6718750</td>\n      <td>旅游大数据分析师（杭州）</td>\n      <td>122019</td>\n      <td>i/image/M00/1A/4A/CgqKkVb583WABT4BAABM5RuPCmk9...</td>\n      <td>50-150人</td>\n      <td>数据服务,企业服务</td>\n      <td>A轮</td>\n      <td>['年底双薪', '股票期权', '午餐补助', '定期体检']</td>\n      <td>开发|测试|运维类</td>\n      <td>数据开发</td>\n      <td>...</td>\n      <td>0</td>\n      <td>0</td>\n      <td>0</td>\n      <td>NaN</td>\n      <td>NaN</td>\n      <td>0</td>\n      <td>0</td>\n      <td>[]</td>\n      <td>False</td>\n      <td>[1号线, 定安路;1号线, 龙翔桥;1号线, 凤起路;1号线, 定安路;1号线, 龙翔桥;...</td>\n    </tr>\n    <tr>\n      <th>98</th>\n      <td>6655562</td>\n      <td>数据分析建模工程师</td>\n      <td>117422215</td>\n      <td>i/image2/M01/AF/6D/CgotOV3ki4iAOuo3AABbilI8DfA...</td>\n      <td>50-150人</td>\n      <td>数据服务,信息安全</td>\n      <td>A轮</td>\n      <td>['午餐补助', '带薪年假', '16到18薪', '法定节假日']</td>\n      <td>开发|测试|运维类</td>\n      <td>人工智能</td>\n      <td>...</td>\n      <td>0</td>\n      <td>0</td>\n      <td>0</td>\n      <td>NaN</td>\n      <td>NaN</td>\n      <td>0</td>\n      <td>0</td>\n      <td>[]</td>\n      <td>False</td>\n      <td>[2号线, 古翠路;2号线, 丰潭路]</td>\n    </tr>\n    <tr>\n      <th>99</th>\n      <td>6677939</td>\n      <td>数据分析建模工程师（校招）</td>\n      <td>117422215</td>\n      <td>i/image2/M01/AF/6D/CgotOV3ki4iAOuo3AABbilI8DfA...</td>\n      <td>50-150人</td>\n      <td>数据服务,信息安全</td>\n      <td>A轮</td>\n      <td>['午餐补助', '带薪年假', '16到18薪', '法定节假日']</td>\n      <td>开发|测试|运维类</td>\n      <td>人工智能</td>\n      <td>...</td>\n      <td>0</td>\n      <td>0</td>\n      <td>0</td>\n      <td>NaN</td>\n      <td>NaN</td>\n      <td>0</td>\n      <td>0</td>\n      <td>[]</td>\n      <td>False</td>\n      <td>[2号线, 古翠路;2号线, 丰潭路]</td>\n    </tr>\n  </tbody>\n</table>\n<p>15 rows × 54 columns</p>\n</div>"
     },
     "execution_count": 31,
     "metadata": {},
     "output_type": "execute_result"
    }
   ],
   "source": [
    "df[df['industryField'].str.startswith('数据')]"
   ],
   "metadata": {
    "collapsed": false,
    "pycharm": {
     "name": "#%%\n"
    }
   }
  },
  {
   "cell_type": "code",
   "execution_count": 33,
   "outputs": [
    {
     "data": {
      "text/plain": "            salary  score\npositionId               \n5203054      30000    4.0\n5204912      15000  176.0\n5269002      37500    1.0\n5453691      30000    4.0\n5519962      37500   14.0\n...            ...    ...\n6882983      27500   15.0\n6884346      25000    0.0\n6886661      37500    5.0\n6888169      42500    1.0\n6896403      30000    3.0\n\n[95 rows x 2 columns]",
      "text/html": "<div>\n<style scoped>\n    .dataframe tbody tr th:only-of-type {\n        vertical-align: middle;\n    }\n\n    .dataframe tbody tr th {\n        vertical-align: top;\n    }\n\n    .dataframe thead th {\n        text-align: right;\n    }\n</style>\n<table border=\"1\" class=\"dataframe\">\n  <thead>\n    <tr style=\"text-align: right;\">\n      <th></th>\n      <th>salary</th>\n      <th>score</th>\n    </tr>\n    <tr>\n      <th>positionId</th>\n      <th></th>\n      <th></th>\n    </tr>\n  </thead>\n  <tbody>\n    <tr>\n      <th>5203054</th>\n      <td>30000</td>\n      <td>4.0</td>\n    </tr>\n    <tr>\n      <th>5204912</th>\n      <td>15000</td>\n      <td>176.0</td>\n    </tr>\n    <tr>\n      <th>5269002</th>\n      <td>37500</td>\n      <td>1.0</td>\n    </tr>\n    <tr>\n      <th>5453691</th>\n      <td>30000</td>\n      <td>4.0</td>\n    </tr>\n    <tr>\n      <th>5519962</th>\n      <td>37500</td>\n      <td>14.0</td>\n    </tr>\n    <tr>\n      <th>...</th>\n      <td>...</td>\n      <td>...</td>\n    </tr>\n    <tr>\n      <th>6882983</th>\n      <td>27500</td>\n      <td>15.0</td>\n    </tr>\n    <tr>\n      <th>6884346</th>\n      <td>25000</td>\n      <td>0.0</td>\n    </tr>\n    <tr>\n      <th>6886661</th>\n      <td>37500</td>\n      <td>5.0</td>\n    </tr>\n    <tr>\n      <th>6888169</th>\n      <td>42500</td>\n      <td>1.0</td>\n    </tr>\n    <tr>\n      <th>6896403</th>\n      <td>30000</td>\n      <td>3.0</td>\n    </tr>\n  </tbody>\n</table>\n<p>95 rows × 2 columns</p>\n</div>"
     },
     "execution_count": 33,
     "metadata": {},
     "output_type": "execute_result"
    }
   ],
   "source": [
    "pd.pivot_table(df,values=['salary','score'],index='positionId')"
   ],
   "metadata": {
    "collapsed": false,
    "pycharm": {
     "name": "#%%\n"
    }
   }
  },
  {
   "cell_type": "code",
   "execution_count": 35,
   "outputs": [
    {
     "data": {
      "text/plain": "            salary        score\nsum   3.331000e+06  1335.000000\nmean  3.172381e+04    12.714286\namin  3.500000e+03     0.000000",
      "text/html": "<div>\n<style scoped>\n    .dataframe tbody tr th:only-of-type {\n        vertical-align: middle;\n    }\n\n    .dataframe tbody tr th {\n        vertical-align: top;\n    }\n\n    .dataframe thead th {\n        text-align: right;\n    }\n</style>\n<table border=\"1\" class=\"dataframe\">\n  <thead>\n    <tr style=\"text-align: right;\">\n      <th></th>\n      <th>salary</th>\n      <th>score</th>\n    </tr>\n  </thead>\n  <tbody>\n    <tr>\n      <th>sum</th>\n      <td>3.331000e+06</td>\n      <td>1335.000000</td>\n    </tr>\n    <tr>\n      <th>mean</th>\n      <td>3.172381e+04</td>\n      <td>12.714286</td>\n    </tr>\n    <tr>\n      <th>amin</th>\n      <td>3.500000e+03</td>\n      <td>0.000000</td>\n    </tr>\n  </tbody>\n</table>\n</div>"
     },
     "execution_count": 35,
     "metadata": {},
     "output_type": "execute_result"
    }
   ],
   "source": [
    "df[['salary','score']].agg([np.sum,np.mean,np.min])"
   ],
   "metadata": {
    "collapsed": false,
    "pycharm": {
     "name": "#%%\n"
    }
   }
  },
  {
   "cell_type": "code",
   "execution_count": 37,
   "outputs": [
    {
     "data": {
      "text/plain": "                salary\ndistrict              \n萧山区       36250.000000\n余杭区       33583.333333\n滨江区       31428.571429\n西湖区       30893.939394\n下沙        30000.000000",
      "text/html": "<div>\n<style scoped>\n    .dataframe tbody tr th:only-of-type {\n        vertical-align: middle;\n    }\n\n    .dataframe tbody tr th {\n        vertical-align: top;\n    }\n\n    .dataframe thead th {\n        text-align: right;\n    }\n</style>\n<table border=\"1\" class=\"dataframe\">\n  <thead>\n    <tr style=\"text-align: right;\">\n      <th></th>\n      <th>salary</th>\n    </tr>\n    <tr>\n      <th>district</th>\n      <th></th>\n    </tr>\n  </thead>\n  <tbody>\n    <tr>\n      <th>萧山区</th>\n      <td>36250.000000</td>\n    </tr>\n    <tr>\n      <th>余杭区</th>\n      <td>33583.333333</td>\n    </tr>\n    <tr>\n      <th>滨江区</th>\n      <td>31428.571429</td>\n    </tr>\n    <tr>\n      <th>西湖区</th>\n      <td>30893.939394</td>\n    </tr>\n    <tr>\n      <th>下沙</th>\n      <td>30000.000000</td>\n    </tr>\n  </tbody>\n</table>\n</div>"
     },
     "execution_count": 37,
     "metadata": {},
     "output_type": "execute_result"
    }
   ],
   "source": [
    "df[['district','salary']].groupby(by='district').mean().sort_values('salary',ascending=False).head(5)\n"
   ],
   "metadata": {
    "collapsed": false,
    "pycharm": {
     "name": "#%%\n"
    }
   }
  }
 ],
 "metadata": {
  "kernelspec": {
   "display_name": "Python 3",
   "language": "python",
   "name": "python3"
  },
  "language_info": {
   "codemirror_mode": {
    "name": "ipython",
    "version": 2
   },
   "file_extension": ".py",
   "mimetype": "text/x-python",
   "name": "python",
   "nbconvert_exporter": "python",
   "pygments_lexer": "ipython2",
   "version": "2.7.6"
  }
 },
 "nbformat": 4,
 "nbformat_minor": 0
}