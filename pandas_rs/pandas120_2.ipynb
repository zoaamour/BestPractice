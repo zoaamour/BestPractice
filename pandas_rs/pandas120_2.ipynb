{
 "cells": [
  {
   "cell_type": "code",
   "execution_count": 1,
   "metadata": {
    "collapsed": true
   },
   "outputs": [
    {
     "name": "stdout",
     "output_type": "stream",
     "text": [
      "Using matplotlib backend: Qt5Agg\n"
     ]
    }
   ],
   "source": [
    "import os\n",
    "import pandas as pd\n",
    "import numpy as np\n",
    "from IPython import InteractiveShell\n",
    "\n",
    "from util.ConstUtil import DATA_PATH\n",
    "\n",
    "InteractiveShell.ast_node_interactivity = \"all\"\n",
    "%matplotlib auto"
   ]
  },
  {
   "cell_type": "code",
   "execution_count": 2,
   "outputs": [
    {
     "data": {
      "text/plain": "           createTime education   salary\n0 2020-03-16 11:30:18        本科  20k-35k\n1 2020-03-16 10:58:48        本科  20k-40k\n2 2020-03-16 10:46:39        不限  20k-35k\n3 2020-03-16 10:45:44        本科  13k-20k\n4 2020-03-16 10:20:41        本科  10k-20k",
      "text/html": "<div>\n<style scoped>\n    .dataframe tbody tr th:only-of-type {\n        vertical-align: middle;\n    }\n\n    .dataframe tbody tr th {\n        vertical-align: top;\n    }\n\n    .dataframe thead th {\n        text-align: right;\n    }\n</style>\n<table border=\"1\" class=\"dataframe\">\n  <thead>\n    <tr style=\"text-align: right;\">\n      <th></th>\n      <th>createTime</th>\n      <th>education</th>\n      <th>salary</th>\n    </tr>\n  </thead>\n  <tbody>\n    <tr>\n      <th>0</th>\n      <td>2020-03-16 11:30:18</td>\n      <td>本科</td>\n      <td>20k-35k</td>\n    </tr>\n    <tr>\n      <th>1</th>\n      <td>2020-03-16 10:58:48</td>\n      <td>本科</td>\n      <td>20k-40k</td>\n    </tr>\n    <tr>\n      <th>2</th>\n      <td>2020-03-16 10:46:39</td>\n      <td>不限</td>\n      <td>20k-35k</td>\n    </tr>\n    <tr>\n      <th>3</th>\n      <td>2020-03-16 10:45:44</td>\n      <td>本科</td>\n      <td>13k-20k</td>\n    </tr>\n    <tr>\n      <th>4</th>\n      <td>2020-03-16 10:20:41</td>\n      <td>本科</td>\n      <td>10k-20k</td>\n    </tr>\n  </tbody>\n</table>\n</div>"
     },
     "execution_count": 2,
     "metadata": {},
     "output_type": "execute_result"
    }
   ],
   "source": [
    "data_path = os.path.join(DATA_PATH, 'pandas_rs')\n",
    "fpath = os.path.join(data_path, 'pandas120.xlsx')\n",
    "df:pd.DataFrame = pd.read_excel(fpath)\n",
    "df.head()"
   ],
   "metadata": {
    "collapsed": false,
    "pycharm": {
     "name": "#%%\n"
    }
   }
  },
  {
   "cell_type": "code",
   "execution_count": 3,
   "outputs": [
    {
     "data": {
      "text/plain": "             createTime education   salary  salary1\n0   2020-03-16 11:30:18        本科  20k-35k    27500\n1   2020-03-16 10:58:48        本科  20k-40k    30000\n2   2020-03-16 10:46:39        不限  20k-35k    27500\n3   2020-03-16 10:45:44        本科  13k-20k    16500\n4   2020-03-16 10:20:41        本科  10k-20k    15000\n..                  ...       ...      ...      ...\n130 2020-03-16 11:36:07        本科  10k-18k    14000\n131 2020-03-16 09:54:47        硕士  25k-50k    37500\n132 2020-03-16 10:48:32        本科  20k-40k    30000\n133 2020-03-16 10:46:31        本科  15k-23k    19000\n134 2020-03-16 11:19:38        本科  20k-40k    30000\n\n[135 rows x 4 columns]",
      "text/html": "<div>\n<style scoped>\n    .dataframe tbody tr th:only-of-type {\n        vertical-align: middle;\n    }\n\n    .dataframe tbody tr th {\n        vertical-align: top;\n    }\n\n    .dataframe thead th {\n        text-align: right;\n    }\n</style>\n<table border=\"1\" class=\"dataframe\">\n  <thead>\n    <tr style=\"text-align: right;\">\n      <th></th>\n      <th>createTime</th>\n      <th>education</th>\n      <th>salary</th>\n      <th>salary1</th>\n    </tr>\n  </thead>\n  <tbody>\n    <tr>\n      <th>0</th>\n      <td>2020-03-16 11:30:18</td>\n      <td>本科</td>\n      <td>20k-35k</td>\n      <td>27500</td>\n    </tr>\n    <tr>\n      <th>1</th>\n      <td>2020-03-16 10:58:48</td>\n      <td>本科</td>\n      <td>20k-40k</td>\n      <td>30000</td>\n    </tr>\n    <tr>\n      <th>2</th>\n      <td>2020-03-16 10:46:39</td>\n      <td>不限</td>\n      <td>20k-35k</td>\n      <td>27500</td>\n    </tr>\n    <tr>\n      <th>3</th>\n      <td>2020-03-16 10:45:44</td>\n      <td>本科</td>\n      <td>13k-20k</td>\n      <td>16500</td>\n    </tr>\n    <tr>\n      <th>4</th>\n      <td>2020-03-16 10:20:41</td>\n      <td>本科</td>\n      <td>10k-20k</td>\n      <td>15000</td>\n    </tr>\n    <tr>\n      <th>...</th>\n      <td>...</td>\n      <td>...</td>\n      <td>...</td>\n      <td>...</td>\n    </tr>\n    <tr>\n      <th>130</th>\n      <td>2020-03-16 11:36:07</td>\n      <td>本科</td>\n      <td>10k-18k</td>\n      <td>14000</td>\n    </tr>\n    <tr>\n      <th>131</th>\n      <td>2020-03-16 09:54:47</td>\n      <td>硕士</td>\n      <td>25k-50k</td>\n      <td>37500</td>\n    </tr>\n    <tr>\n      <th>132</th>\n      <td>2020-03-16 10:48:32</td>\n      <td>本科</td>\n      <td>20k-40k</td>\n      <td>30000</td>\n    </tr>\n    <tr>\n      <th>133</th>\n      <td>2020-03-16 10:46:31</td>\n      <td>本科</td>\n      <td>15k-23k</td>\n      <td>19000</td>\n    </tr>\n    <tr>\n      <th>134</th>\n      <td>2020-03-16 11:19:38</td>\n      <td>本科</td>\n      <td>20k-40k</td>\n      <td>30000</td>\n    </tr>\n  </tbody>\n</table>\n<p>135 rows × 4 columns</p>\n</div>"
     },
     "execution_count": 3,
     "metadata": {},
     "output_type": "execute_result"
    }
   ],
   "source": [
    "def _f(drow):\n",
    "\tlst:list = drow['salary'].split('-')\n",
    "\tsmin = int(lst[0].strip('k'))\n",
    "\tsmax = int(lst[1].strip('k'))\n",
    "\treturn int((smin + smax) / 2 * 1000)\n",
    "\n",
    "df['salary1'] = df.apply(_f, axis=1)\n",
    "df"
   ],
   "metadata": {
    "collapsed": false,
    "pycharm": {
     "name": "#%%\n"
    }
   }
  },
  {
   "cell_type": "code",
   "execution_count": 4,
   "outputs": [
    {
     "data": {
      "text/plain": "             createTime education   salary  salary1  salary2\n0   2020-03-16 11:30:18        本科  20k-35k    27500    27500\n1   2020-03-16 10:58:48        本科  20k-40k    30000    30000\n2   2020-03-16 10:46:39        不限  20k-35k    27500    27500\n3   2020-03-16 10:45:44        本科  13k-20k    16500    16500\n4   2020-03-16 10:20:41        本科  10k-20k    15000    15000\n..                  ...       ...      ...      ...      ...\n130 2020-03-16 11:36:07        本科  10k-18k    14000    14000\n131 2020-03-16 09:54:47        硕士  25k-50k    37500    37500\n132 2020-03-16 10:48:32        本科  20k-40k    30000    30000\n133 2020-03-16 10:46:31        本科  15k-23k    19000    19000\n134 2020-03-16 11:19:38        本科  20k-40k    30000    30000\n\n[135 rows x 5 columns]",
      "text/html": "<div>\n<style scoped>\n    .dataframe tbody tr th:only-of-type {\n        vertical-align: middle;\n    }\n\n    .dataframe tbody tr th {\n        vertical-align: top;\n    }\n\n    .dataframe thead th {\n        text-align: right;\n    }\n</style>\n<table border=\"1\" class=\"dataframe\">\n  <thead>\n    <tr style=\"text-align: right;\">\n      <th></th>\n      <th>createTime</th>\n      <th>education</th>\n      <th>salary</th>\n      <th>salary1</th>\n      <th>salary2</th>\n    </tr>\n  </thead>\n  <tbody>\n    <tr>\n      <th>0</th>\n      <td>2020-03-16 11:30:18</td>\n      <td>本科</td>\n      <td>20k-35k</td>\n      <td>27500</td>\n      <td>27500</td>\n    </tr>\n    <tr>\n      <th>1</th>\n      <td>2020-03-16 10:58:48</td>\n      <td>本科</td>\n      <td>20k-40k</td>\n      <td>30000</td>\n      <td>30000</td>\n    </tr>\n    <tr>\n      <th>2</th>\n      <td>2020-03-16 10:46:39</td>\n      <td>不限</td>\n      <td>20k-35k</td>\n      <td>27500</td>\n      <td>27500</td>\n    </tr>\n    <tr>\n      <th>3</th>\n      <td>2020-03-16 10:45:44</td>\n      <td>本科</td>\n      <td>13k-20k</td>\n      <td>16500</td>\n      <td>16500</td>\n    </tr>\n    <tr>\n      <th>4</th>\n      <td>2020-03-16 10:20:41</td>\n      <td>本科</td>\n      <td>10k-20k</td>\n      <td>15000</td>\n      <td>15000</td>\n    </tr>\n    <tr>\n      <th>...</th>\n      <td>...</td>\n      <td>...</td>\n      <td>...</td>\n      <td>...</td>\n      <td>...</td>\n    </tr>\n    <tr>\n      <th>130</th>\n      <td>2020-03-16 11:36:07</td>\n      <td>本科</td>\n      <td>10k-18k</td>\n      <td>14000</td>\n      <td>14000</td>\n    </tr>\n    <tr>\n      <th>131</th>\n      <td>2020-03-16 09:54:47</td>\n      <td>硕士</td>\n      <td>25k-50k</td>\n      <td>37500</td>\n      <td>37500</td>\n    </tr>\n    <tr>\n      <th>132</th>\n      <td>2020-03-16 10:48:32</td>\n      <td>本科</td>\n      <td>20k-40k</td>\n      <td>30000</td>\n      <td>30000</td>\n    </tr>\n    <tr>\n      <th>133</th>\n      <td>2020-03-16 10:46:31</td>\n      <td>本科</td>\n      <td>15k-23k</td>\n      <td>19000</td>\n      <td>19000</td>\n    </tr>\n    <tr>\n      <th>134</th>\n      <td>2020-03-16 11:19:38</td>\n      <td>本科</td>\n      <td>20k-40k</td>\n      <td>30000</td>\n      <td>30000</td>\n    </tr>\n  </tbody>\n</table>\n<p>135 rows × 5 columns</p>\n</div>"
     },
     "execution_count": 4,
     "metadata": {},
     "output_type": "execute_result"
    }
   ],
   "source": [
    "import re\n",
    "df['salary2'] = 0\n",
    "for index, row in df.iterrows():\n",
    "\tnums = re.findall('\\d+', row[2])\n",
    "\tdf.loc[index,'salary2'] = (int(nums[0]) + int(nums[1])) / 2 * 1000\n",
    "df"
   ],
   "metadata": {
    "collapsed": false,
    "pycharm": {
     "name": "#%%\n"
    }
   }
  },
  {
   "cell_type": "code",
   "execution_count": 5,
   "outputs": [
    {
     "data": {
      "text/plain": "                salary1       salary2\neducation                            \n不限         19600.000000  19600.000000\n大专         10000.000000  10000.000000\n本科         19361.344538  19361.344538\n硕士         20642.857143  20642.857143",
      "text/html": "<div>\n<style scoped>\n    .dataframe tbody tr th:only-of-type {\n        vertical-align: middle;\n    }\n\n    .dataframe tbody tr th {\n        vertical-align: top;\n    }\n\n    .dataframe thead th {\n        text-align: right;\n    }\n</style>\n<table border=\"1\" class=\"dataframe\">\n  <thead>\n    <tr style=\"text-align: right;\">\n      <th></th>\n      <th>salary1</th>\n      <th>salary2</th>\n    </tr>\n    <tr>\n      <th>education</th>\n      <th></th>\n      <th></th>\n    </tr>\n  </thead>\n  <tbody>\n    <tr>\n      <th>不限</th>\n      <td>19600.000000</td>\n      <td>19600.000000</td>\n    </tr>\n    <tr>\n      <th>大专</th>\n      <td>10000.000000</td>\n      <td>10000.000000</td>\n    </tr>\n    <tr>\n      <th>本科</th>\n      <td>19361.344538</td>\n      <td>19361.344538</td>\n    </tr>\n    <tr>\n      <th>硕士</th>\n      <td>20642.857143</td>\n      <td>20642.857143</td>\n    </tr>\n  </tbody>\n</table>\n</div>"
     },
     "execution_count": 5,
     "metadata": {},
     "output_type": "execute_result"
    }
   ],
   "source": [
    "df.groupby('education').mean()"
   ],
   "metadata": {
    "collapsed": false,
    "pycharm": {
     "name": "#%%\n"
    }
   }
  },
  {
   "cell_type": "code",
   "execution_count": 6,
   "outputs": [
    {
     "data": {
      "text/plain": "             createTime education   salary  salary1  salary2   date\n0   2020-03-16 11:30:18        本科  20k-35k    27500    27500  03-16\n1   2020-03-16 10:58:48        本科  20k-40k    30000    30000  03-16\n2   2020-03-16 10:46:39        不限  20k-35k    27500    27500  03-16\n3   2020-03-16 10:45:44        本科  13k-20k    16500    16500  03-16\n4   2020-03-16 10:20:41        本科  10k-20k    15000    15000  03-16\n..                  ...       ...      ...      ...      ...    ...\n130 2020-03-16 11:36:07        本科  10k-18k    14000    14000  03-16\n131 2020-03-16 09:54:47        硕士  25k-50k    37500    37500  03-16\n132 2020-03-16 10:48:32        本科  20k-40k    30000    30000  03-16\n133 2020-03-16 10:46:31        本科  15k-23k    19000    19000  03-16\n134 2020-03-16 11:19:38        本科  20k-40k    30000    30000  03-16\n\n[135 rows x 6 columns]",
      "text/html": "<div>\n<style scoped>\n    .dataframe tbody tr th:only-of-type {\n        vertical-align: middle;\n    }\n\n    .dataframe tbody tr th {\n        vertical-align: top;\n    }\n\n    .dataframe thead th {\n        text-align: right;\n    }\n</style>\n<table border=\"1\" class=\"dataframe\">\n  <thead>\n    <tr style=\"text-align: right;\">\n      <th></th>\n      <th>createTime</th>\n      <th>education</th>\n      <th>salary</th>\n      <th>salary1</th>\n      <th>salary2</th>\n      <th>date</th>\n    </tr>\n  </thead>\n  <tbody>\n    <tr>\n      <th>0</th>\n      <td>2020-03-16 11:30:18</td>\n      <td>本科</td>\n      <td>20k-35k</td>\n      <td>27500</td>\n      <td>27500</td>\n      <td>03-16</td>\n    </tr>\n    <tr>\n      <th>1</th>\n      <td>2020-03-16 10:58:48</td>\n      <td>本科</td>\n      <td>20k-40k</td>\n      <td>30000</td>\n      <td>30000</td>\n      <td>03-16</td>\n    </tr>\n    <tr>\n      <th>2</th>\n      <td>2020-03-16 10:46:39</td>\n      <td>不限</td>\n      <td>20k-35k</td>\n      <td>27500</td>\n      <td>27500</td>\n      <td>03-16</td>\n    </tr>\n    <tr>\n      <th>3</th>\n      <td>2020-03-16 10:45:44</td>\n      <td>本科</td>\n      <td>13k-20k</td>\n      <td>16500</td>\n      <td>16500</td>\n      <td>03-16</td>\n    </tr>\n    <tr>\n      <th>4</th>\n      <td>2020-03-16 10:20:41</td>\n      <td>本科</td>\n      <td>10k-20k</td>\n      <td>15000</td>\n      <td>15000</td>\n      <td>03-16</td>\n    </tr>\n    <tr>\n      <th>...</th>\n      <td>...</td>\n      <td>...</td>\n      <td>...</td>\n      <td>...</td>\n      <td>...</td>\n      <td>...</td>\n    </tr>\n    <tr>\n      <th>130</th>\n      <td>2020-03-16 11:36:07</td>\n      <td>本科</td>\n      <td>10k-18k</td>\n      <td>14000</td>\n      <td>14000</td>\n      <td>03-16</td>\n    </tr>\n    <tr>\n      <th>131</th>\n      <td>2020-03-16 09:54:47</td>\n      <td>硕士</td>\n      <td>25k-50k</td>\n      <td>37500</td>\n      <td>37500</td>\n      <td>03-16</td>\n    </tr>\n    <tr>\n      <th>132</th>\n      <td>2020-03-16 10:48:32</td>\n      <td>本科</td>\n      <td>20k-40k</td>\n      <td>30000</td>\n      <td>30000</td>\n      <td>03-16</td>\n    </tr>\n    <tr>\n      <th>133</th>\n      <td>2020-03-16 10:46:31</td>\n      <td>本科</td>\n      <td>15k-23k</td>\n      <td>19000</td>\n      <td>19000</td>\n      <td>03-16</td>\n    </tr>\n    <tr>\n      <th>134</th>\n      <td>2020-03-16 11:19:38</td>\n      <td>本科</td>\n      <td>20k-40k</td>\n      <td>30000</td>\n      <td>30000</td>\n      <td>03-16</td>\n    </tr>\n  </tbody>\n</table>\n<p>135 rows × 6 columns</p>\n</div>"
     },
     "execution_count": 6,
     "metadata": {},
     "output_type": "execute_result"
    },
    {
     "data": {
      "text/plain": "<bound method DataFrame.info of              createTime education   salary  salary1  salary2   date\n0   2020-03-16 11:30:18        本科  20k-35k    27500    27500  03-16\n1   2020-03-16 10:58:48        本科  20k-40k    30000    30000  03-16\n2   2020-03-16 10:46:39        不限  20k-35k    27500    27500  03-16\n3   2020-03-16 10:45:44        本科  13k-20k    16500    16500  03-16\n4   2020-03-16 10:20:41        本科  10k-20k    15000    15000  03-16\n..                  ...       ...      ...      ...      ...    ...\n130 2020-03-16 11:36:07        本科  10k-18k    14000    14000  03-16\n131 2020-03-16 09:54:47        硕士  25k-50k    37500    37500  03-16\n132 2020-03-16 10:48:32        本科  20k-40k    30000    30000  03-16\n133 2020-03-16 10:46:31        本科  15k-23k    19000    19000  03-16\n134 2020-03-16 11:19:38        本科  20k-40k    30000    30000  03-16\n\n[135 rows x 6 columns]>"
     },
     "execution_count": 6,
     "metadata": {},
     "output_type": "execute_result"
    }
   ],
   "source": [
    "df['date'] = df['createTime'].apply(lambda x: x.to_pydatetime().strftime(\"%m-%d\"))\n",
    "df\n",
    "df.info"
   ],
   "metadata": {
    "collapsed": false,
    "pycharm": {
     "name": "#%%\n"
    }
   }
  },
  {
   "cell_type": "code",
   "execution_count": 7,
   "outputs": [
    {
     "data": {
      "text/plain": "             createTime education   salary  salary1  salary2   date categories\n0   2020-03-16 11:30:18        本科  20k-35k    27500    27500  03-16          高\n1   2020-03-16 10:58:48        本科  20k-40k    30000    30000  03-16          高\n2   2020-03-16 10:46:39        不限  20k-35k    27500    27500  03-16          高\n3   2020-03-16 10:45:44        本科  13k-20k    16500    16500  03-16          中\n4   2020-03-16 10:20:41        本科  10k-20k    15000    15000  03-16          中\n..                  ...       ...      ...      ...      ...    ...        ...\n130 2020-03-16 11:36:07        本科  10k-18k    14000    14000  03-16          中\n131 2020-03-16 09:54:47        硕士  25k-50k    37500    37500  03-16          高\n132 2020-03-16 10:48:32        本科  20k-40k    30000    30000  03-16          高\n133 2020-03-16 10:46:31        本科  15k-23k    19000    19000  03-16          中\n134 2020-03-16 11:19:38        本科  20k-40k    30000    30000  03-16          高\n\n[135 rows x 7 columns]",
      "text/html": "<div>\n<style scoped>\n    .dataframe tbody tr th:only-of-type {\n        vertical-align: middle;\n    }\n\n    .dataframe tbody tr th {\n        vertical-align: top;\n    }\n\n    .dataframe thead th {\n        text-align: right;\n    }\n</style>\n<table border=\"1\" class=\"dataframe\">\n  <thead>\n    <tr style=\"text-align: right;\">\n      <th></th>\n      <th>createTime</th>\n      <th>education</th>\n      <th>salary</th>\n      <th>salary1</th>\n      <th>salary2</th>\n      <th>date</th>\n      <th>categories</th>\n    </tr>\n  </thead>\n  <tbody>\n    <tr>\n      <th>0</th>\n      <td>2020-03-16 11:30:18</td>\n      <td>本科</td>\n      <td>20k-35k</td>\n      <td>27500</td>\n      <td>27500</td>\n      <td>03-16</td>\n      <td>高</td>\n    </tr>\n    <tr>\n      <th>1</th>\n      <td>2020-03-16 10:58:48</td>\n      <td>本科</td>\n      <td>20k-40k</td>\n      <td>30000</td>\n      <td>30000</td>\n      <td>03-16</td>\n      <td>高</td>\n    </tr>\n    <tr>\n      <th>2</th>\n      <td>2020-03-16 10:46:39</td>\n      <td>不限</td>\n      <td>20k-35k</td>\n      <td>27500</td>\n      <td>27500</td>\n      <td>03-16</td>\n      <td>高</td>\n    </tr>\n    <tr>\n      <th>3</th>\n      <td>2020-03-16 10:45:44</td>\n      <td>本科</td>\n      <td>13k-20k</td>\n      <td>16500</td>\n      <td>16500</td>\n      <td>03-16</td>\n      <td>中</td>\n    </tr>\n    <tr>\n      <th>4</th>\n      <td>2020-03-16 10:20:41</td>\n      <td>本科</td>\n      <td>10k-20k</td>\n      <td>15000</td>\n      <td>15000</td>\n      <td>03-16</td>\n      <td>中</td>\n    </tr>\n    <tr>\n      <th>...</th>\n      <td>...</td>\n      <td>...</td>\n      <td>...</td>\n      <td>...</td>\n      <td>...</td>\n      <td>...</td>\n      <td>...</td>\n    </tr>\n    <tr>\n      <th>130</th>\n      <td>2020-03-16 11:36:07</td>\n      <td>本科</td>\n      <td>10k-18k</td>\n      <td>14000</td>\n      <td>14000</td>\n      <td>03-16</td>\n      <td>中</td>\n    </tr>\n    <tr>\n      <th>131</th>\n      <td>2020-03-16 09:54:47</td>\n      <td>硕士</td>\n      <td>25k-50k</td>\n      <td>37500</td>\n      <td>37500</td>\n      <td>03-16</td>\n      <td>高</td>\n    </tr>\n    <tr>\n      <th>132</th>\n      <td>2020-03-16 10:48:32</td>\n      <td>本科</td>\n      <td>20k-40k</td>\n      <td>30000</td>\n      <td>30000</td>\n      <td>03-16</td>\n      <td>高</td>\n    </tr>\n    <tr>\n      <th>133</th>\n      <td>2020-03-16 10:46:31</td>\n      <td>本科</td>\n      <td>15k-23k</td>\n      <td>19000</td>\n      <td>19000</td>\n      <td>03-16</td>\n      <td>中</td>\n    </tr>\n    <tr>\n      <th>134</th>\n      <td>2020-03-16 11:19:38</td>\n      <td>本科</td>\n      <td>20k-40k</td>\n      <td>30000</td>\n      <td>30000</td>\n      <td>03-16</td>\n      <td>高</td>\n    </tr>\n  </tbody>\n</table>\n<p>135 rows × 7 columns</p>\n</div>"
     },
     "execution_count": 7,
     "metadata": {},
     "output_type": "execute_result"
    }
   ],
   "source": [
    "bins = [0, 5000, 20000, 50000]\n",
    "group_names = ['低', '中', '高']\n",
    "df['categories'] = pd.cut(df['salary1'], bins, labels=group_names)\n",
    "df\n"
   ],
   "metadata": {
    "collapsed": false,
    "pycharm": {
     "name": "#%%\n"
    }
   }
  },
  {
   "cell_type": "code",
   "execution_count": 8,
   "outputs": [
    {
     "data": {
      "text/plain": "             createTime education   salary  salary1  salary2   date categories\n53  2020-03-16 11:30:17        本科  30k-60k    45000    45000  03-16          高\n37  2020-03-16 11:04:00        本科  30k-50k    40000    40000  03-16          高\n101 2020-03-16 11:01:39        本科  30k-45k    37500    37500  03-16          高\n16  2020-03-16 10:36:57        本科  25k-50k    37500    37500  03-16          高\n131 2020-03-16 09:54:47        硕士  25k-50k    37500    37500  03-16          高\n..                  ...       ...      ...      ...      ...    ...        ...\n123 2020-03-16 11:20:44        本科    3k-6k     4500     4500  03-16          低\n126 2020-03-16 11:12:04        本科    3k-5k     4000     4000  03-16          低\n110 2020-03-16 11:12:04        本科    3k-5k     4000     4000  03-16          低\n96  2020-03-16 10:44:23        不限    3k-4k     3500     3500  03-16          低\n113 2020-03-16 10:48:43        本科    3k-4k     3500     3500  03-16          低\n\n[135 rows x 7 columns]",
      "text/html": "<div>\n<style scoped>\n    .dataframe tbody tr th:only-of-type {\n        vertical-align: middle;\n    }\n\n    .dataframe tbody tr th {\n        vertical-align: top;\n    }\n\n    .dataframe thead th {\n        text-align: right;\n    }\n</style>\n<table border=\"1\" class=\"dataframe\">\n  <thead>\n    <tr style=\"text-align: right;\">\n      <th></th>\n      <th>createTime</th>\n      <th>education</th>\n      <th>salary</th>\n      <th>salary1</th>\n      <th>salary2</th>\n      <th>date</th>\n      <th>categories</th>\n    </tr>\n  </thead>\n  <tbody>\n    <tr>\n      <th>53</th>\n      <td>2020-03-16 11:30:17</td>\n      <td>本科</td>\n      <td>30k-60k</td>\n      <td>45000</td>\n      <td>45000</td>\n      <td>03-16</td>\n      <td>高</td>\n    </tr>\n    <tr>\n      <th>37</th>\n      <td>2020-03-16 11:04:00</td>\n      <td>本科</td>\n      <td>30k-50k</td>\n      <td>40000</td>\n      <td>40000</td>\n      <td>03-16</td>\n      <td>高</td>\n    </tr>\n    <tr>\n      <th>101</th>\n      <td>2020-03-16 11:01:39</td>\n      <td>本科</td>\n      <td>30k-45k</td>\n      <td>37500</td>\n      <td>37500</td>\n      <td>03-16</td>\n      <td>高</td>\n    </tr>\n    <tr>\n      <th>16</th>\n      <td>2020-03-16 10:36:57</td>\n      <td>本科</td>\n      <td>25k-50k</td>\n      <td>37500</td>\n      <td>37500</td>\n      <td>03-16</td>\n      <td>高</td>\n    </tr>\n    <tr>\n      <th>131</th>\n      <td>2020-03-16 09:54:47</td>\n      <td>硕士</td>\n      <td>25k-50k</td>\n      <td>37500</td>\n      <td>37500</td>\n      <td>03-16</td>\n      <td>高</td>\n    </tr>\n    <tr>\n      <th>...</th>\n      <td>...</td>\n      <td>...</td>\n      <td>...</td>\n      <td>...</td>\n      <td>...</td>\n      <td>...</td>\n      <td>...</td>\n    </tr>\n    <tr>\n      <th>123</th>\n      <td>2020-03-16 11:20:44</td>\n      <td>本科</td>\n      <td>3k-6k</td>\n      <td>4500</td>\n      <td>4500</td>\n      <td>03-16</td>\n      <td>低</td>\n    </tr>\n    <tr>\n      <th>126</th>\n      <td>2020-03-16 11:12:04</td>\n      <td>本科</td>\n      <td>3k-5k</td>\n      <td>4000</td>\n      <td>4000</td>\n      <td>03-16</td>\n      <td>低</td>\n    </tr>\n    <tr>\n      <th>110</th>\n      <td>2020-03-16 11:12:04</td>\n      <td>本科</td>\n      <td>3k-5k</td>\n      <td>4000</td>\n      <td>4000</td>\n      <td>03-16</td>\n      <td>低</td>\n    </tr>\n    <tr>\n      <th>96</th>\n      <td>2020-03-16 10:44:23</td>\n      <td>不限</td>\n      <td>3k-4k</td>\n      <td>3500</td>\n      <td>3500</td>\n      <td>03-16</td>\n      <td>低</td>\n    </tr>\n    <tr>\n      <th>113</th>\n      <td>2020-03-16 10:48:43</td>\n      <td>本科</td>\n      <td>3k-4k</td>\n      <td>3500</td>\n      <td>3500</td>\n      <td>03-16</td>\n      <td>低</td>\n    </tr>\n  </tbody>\n</table>\n<p>135 rows × 7 columns</p>\n</div>"
     },
     "execution_count": 8,
     "metadata": {},
     "output_type": "execute_result"
    }
   ],
   "source": [
    "df.sort_values(by='salary1', ascending=False)\n"
   ],
   "metadata": {
    "collapsed": false,
    "pycharm": {
     "name": "#%%\n"
    }
   }
  },
  {
   "cell_type": "code",
   "execution_count": 9,
   "outputs": [
    {
     "data": {
      "text/plain": "17500.0"
     },
     "execution_count": 9,
     "metadata": {},
     "output_type": "execute_result"
    }
   ],
   "source": [
    "np.median(df['salary1'])\n"
   ],
   "metadata": {
    "collapsed": false,
    "pycharm": {
     "name": "#%%\n"
    }
   }
  },
  {
   "cell_type": "code",
   "execution_count": 10,
   "outputs": [
    {
     "data": {
      "text/plain": "<AxesSubplot:ylabel='Frequency'>"
     },
     "execution_count": 10,
     "metadata": {},
     "output_type": "execute_result"
    }
   ],
   "source": [
    "df.salary1.plot(kind='hist')"
   ],
   "metadata": {
    "collapsed": false,
    "pycharm": {
     "name": "#%%\n"
    }
   }
  },
  {
   "cell_type": "code",
   "execution_count": 11,
   "outputs": [
    {
     "data": {
      "text/plain": "<AxesSubplot:ylabel='Density'>"
     },
     "execution_count": 11,
     "metadata": {},
     "output_type": "execute_result"
    }
   ],
   "source": [
    "df.salary1.plot(kind='kde',xlim=(0,80000))"
   ],
   "metadata": {
    "collapsed": false,
    "pycharm": {
     "name": "#%%\n"
    }
   }
  },
  {
   "cell_type": "code",
   "execution_count": 12,
   "outputs": [
    {
     "data": {
      "text/plain": "             createTime education   salary  salary1   date categories\n0   2020-03-16 11:30:18        本科  20k-35k    27500  03-16          高\n1   2020-03-16 10:58:48        本科  20k-40k    30000  03-16          高\n2   2020-03-16 10:46:39        不限  20k-35k    27500  03-16          高\n3   2020-03-16 10:45:44        本科  13k-20k    16500  03-16          中\n4   2020-03-16 10:20:41        本科  10k-20k    15000  03-16          中\n..                  ...       ...      ...      ...    ...        ...\n130 2020-03-16 11:36:07        本科  10k-18k    14000  03-16          中\n131 2020-03-16 09:54:47        硕士  25k-50k    37500  03-16          高\n132 2020-03-16 10:48:32        本科  20k-40k    30000  03-16          高\n133 2020-03-16 10:46:31        本科  15k-23k    19000  03-16          中\n134 2020-03-16 11:19:38        本科  20k-40k    30000  03-16          高\n\n[135 rows x 6 columns]",
      "text/html": "<div>\n<style scoped>\n    .dataframe tbody tr th:only-of-type {\n        vertical-align: middle;\n    }\n\n    .dataframe tbody tr th {\n        vertical-align: top;\n    }\n\n    .dataframe thead th {\n        text-align: right;\n    }\n</style>\n<table border=\"1\" class=\"dataframe\">\n  <thead>\n    <tr style=\"text-align: right;\">\n      <th></th>\n      <th>createTime</th>\n      <th>education</th>\n      <th>salary</th>\n      <th>salary1</th>\n      <th>date</th>\n      <th>categories</th>\n    </tr>\n  </thead>\n  <tbody>\n    <tr>\n      <th>0</th>\n      <td>2020-03-16 11:30:18</td>\n      <td>本科</td>\n      <td>20k-35k</td>\n      <td>27500</td>\n      <td>03-16</td>\n      <td>高</td>\n    </tr>\n    <tr>\n      <th>1</th>\n      <td>2020-03-16 10:58:48</td>\n      <td>本科</td>\n      <td>20k-40k</td>\n      <td>30000</td>\n      <td>03-16</td>\n      <td>高</td>\n    </tr>\n    <tr>\n      <th>2</th>\n      <td>2020-03-16 10:46:39</td>\n      <td>不限</td>\n      <td>20k-35k</td>\n      <td>27500</td>\n      <td>03-16</td>\n      <td>高</td>\n    </tr>\n    <tr>\n      <th>3</th>\n      <td>2020-03-16 10:45:44</td>\n      <td>本科</td>\n      <td>13k-20k</td>\n      <td>16500</td>\n      <td>03-16</td>\n      <td>中</td>\n    </tr>\n    <tr>\n      <th>4</th>\n      <td>2020-03-16 10:20:41</td>\n      <td>本科</td>\n      <td>10k-20k</td>\n      <td>15000</td>\n      <td>03-16</td>\n      <td>中</td>\n    </tr>\n    <tr>\n      <th>...</th>\n      <td>...</td>\n      <td>...</td>\n      <td>...</td>\n      <td>...</td>\n      <td>...</td>\n      <td>...</td>\n    </tr>\n    <tr>\n      <th>130</th>\n      <td>2020-03-16 11:36:07</td>\n      <td>本科</td>\n      <td>10k-18k</td>\n      <td>14000</td>\n      <td>03-16</td>\n      <td>中</td>\n    </tr>\n    <tr>\n      <th>131</th>\n      <td>2020-03-16 09:54:47</td>\n      <td>硕士</td>\n      <td>25k-50k</td>\n      <td>37500</td>\n      <td>03-16</td>\n      <td>高</td>\n    </tr>\n    <tr>\n      <th>132</th>\n      <td>2020-03-16 10:48:32</td>\n      <td>本科</td>\n      <td>20k-40k</td>\n      <td>30000</td>\n      <td>03-16</td>\n      <td>高</td>\n    </tr>\n    <tr>\n      <th>133</th>\n      <td>2020-03-16 10:46:31</td>\n      <td>本科</td>\n      <td>15k-23k</td>\n      <td>19000</td>\n      <td>03-16</td>\n      <td>中</td>\n    </tr>\n    <tr>\n      <th>134</th>\n      <td>2020-03-16 11:19:38</td>\n      <td>本科</td>\n      <td>20k-40k</td>\n      <td>30000</td>\n      <td>03-16</td>\n      <td>高</td>\n    </tr>\n  </tbody>\n</table>\n<p>135 rows × 6 columns</p>\n</div>"
     },
     "execution_count": 12,
     "metadata": {},
     "output_type": "execute_result"
    }
   ],
   "source": [
    "df.drop(columns='salary2', inplace=True)\n",
    "df"
   ],
   "metadata": {
    "collapsed": false,
    "pycharm": {
     "name": "#%%\n"
    }
   }
  },
  {
   "cell_type": "code",
   "execution_count": 13,
   "outputs": [
    {
     "data": {
      "text/plain": "             createTime education   salary  salary1   date categories combine1\n0   2020-03-16 11:30:18        本科  20k-35k    27500  03-16          高  本科03-16\n1   2020-03-16 10:58:48        本科  20k-40k    30000  03-16          高  本科03-16\n2   2020-03-16 10:46:39        不限  20k-35k    27500  03-16          高  不限03-16\n3   2020-03-16 10:45:44        本科  13k-20k    16500  03-16          中  本科03-16\n4   2020-03-16 10:20:41        本科  10k-20k    15000  03-16          中  本科03-16\n..                  ...       ...      ...      ...    ...        ...      ...\n130 2020-03-16 11:36:07        本科  10k-18k    14000  03-16          中  本科03-16\n131 2020-03-16 09:54:47        硕士  25k-50k    37500  03-16          高  硕士03-16\n132 2020-03-16 10:48:32        本科  20k-40k    30000  03-16          高  本科03-16\n133 2020-03-16 10:46:31        本科  15k-23k    19000  03-16          中  本科03-16\n134 2020-03-16 11:19:38        本科  20k-40k    30000  03-16          高  本科03-16\n\n[135 rows x 7 columns]",
      "text/html": "<div>\n<style scoped>\n    .dataframe tbody tr th:only-of-type {\n        vertical-align: middle;\n    }\n\n    .dataframe tbody tr th {\n        vertical-align: top;\n    }\n\n    .dataframe thead th {\n        text-align: right;\n    }\n</style>\n<table border=\"1\" class=\"dataframe\">\n  <thead>\n    <tr style=\"text-align: right;\">\n      <th></th>\n      <th>createTime</th>\n      <th>education</th>\n      <th>salary</th>\n      <th>salary1</th>\n      <th>date</th>\n      <th>categories</th>\n      <th>combine1</th>\n    </tr>\n  </thead>\n  <tbody>\n    <tr>\n      <th>0</th>\n      <td>2020-03-16 11:30:18</td>\n      <td>本科</td>\n      <td>20k-35k</td>\n      <td>27500</td>\n      <td>03-16</td>\n      <td>高</td>\n      <td>本科03-16</td>\n    </tr>\n    <tr>\n      <th>1</th>\n      <td>2020-03-16 10:58:48</td>\n      <td>本科</td>\n      <td>20k-40k</td>\n      <td>30000</td>\n      <td>03-16</td>\n      <td>高</td>\n      <td>本科03-16</td>\n    </tr>\n    <tr>\n      <th>2</th>\n      <td>2020-03-16 10:46:39</td>\n      <td>不限</td>\n      <td>20k-35k</td>\n      <td>27500</td>\n      <td>03-16</td>\n      <td>高</td>\n      <td>不限03-16</td>\n    </tr>\n    <tr>\n      <th>3</th>\n      <td>2020-03-16 10:45:44</td>\n      <td>本科</td>\n      <td>13k-20k</td>\n      <td>16500</td>\n      <td>03-16</td>\n      <td>中</td>\n      <td>本科03-16</td>\n    </tr>\n    <tr>\n      <th>4</th>\n      <td>2020-03-16 10:20:41</td>\n      <td>本科</td>\n      <td>10k-20k</td>\n      <td>15000</td>\n      <td>03-16</td>\n      <td>中</td>\n      <td>本科03-16</td>\n    </tr>\n    <tr>\n      <th>...</th>\n      <td>...</td>\n      <td>...</td>\n      <td>...</td>\n      <td>...</td>\n      <td>...</td>\n      <td>...</td>\n      <td>...</td>\n    </tr>\n    <tr>\n      <th>130</th>\n      <td>2020-03-16 11:36:07</td>\n      <td>本科</td>\n      <td>10k-18k</td>\n      <td>14000</td>\n      <td>03-16</td>\n      <td>中</td>\n      <td>本科03-16</td>\n    </tr>\n    <tr>\n      <th>131</th>\n      <td>2020-03-16 09:54:47</td>\n      <td>硕士</td>\n      <td>25k-50k</td>\n      <td>37500</td>\n      <td>03-16</td>\n      <td>高</td>\n      <td>硕士03-16</td>\n    </tr>\n    <tr>\n      <th>132</th>\n      <td>2020-03-16 10:48:32</td>\n      <td>本科</td>\n      <td>20k-40k</td>\n      <td>30000</td>\n      <td>03-16</td>\n      <td>高</td>\n      <td>本科03-16</td>\n    </tr>\n    <tr>\n      <th>133</th>\n      <td>2020-03-16 10:46:31</td>\n      <td>本科</td>\n      <td>15k-23k</td>\n      <td>19000</td>\n      <td>03-16</td>\n      <td>中</td>\n      <td>本科03-16</td>\n    </tr>\n    <tr>\n      <th>134</th>\n      <td>2020-03-16 11:19:38</td>\n      <td>本科</td>\n      <td>20k-40k</td>\n      <td>30000</td>\n      <td>03-16</td>\n      <td>高</td>\n      <td>本科03-16</td>\n    </tr>\n  </tbody>\n</table>\n<p>135 rows × 7 columns</p>\n</div>"
     },
     "execution_count": 13,
     "metadata": {},
     "output_type": "execute_result"
    },
    {
     "data": {
      "text/plain": "             createTime education   salary  salary1   date categories  \\\n0   2020-03-16 11:30:18        本科  20k-35k    27500  03-16          高   \n1   2020-03-16 10:58:48        本科  20k-40k    30000  03-16          高   \n2   2020-03-16 10:46:39        不限  20k-35k    27500  03-16          高   \n3   2020-03-16 10:45:44        本科  13k-20k    16500  03-16          中   \n4   2020-03-16 10:20:41        本科  10k-20k    15000  03-16          中   \n..                  ...       ...      ...      ...    ...        ...   \n130 2020-03-16 11:36:07        本科  10k-18k    14000  03-16          中   \n131 2020-03-16 09:54:47        硕士  25k-50k    37500  03-16          高   \n132 2020-03-16 10:48:32        本科  20k-40k    30000  03-16          高   \n133 2020-03-16 10:46:31        本科  15k-23k    19000  03-16          中   \n134 2020-03-16 11:19:38        本科  20k-40k    30000  03-16          高   \n\n    combine1 combine2  \n0    本科03-16  27500本科  \n1    本科03-16  30000本科  \n2    不限03-16  27500不限  \n3    本科03-16  16500本科  \n4    本科03-16  15000本科  \n..       ...      ...  \n130  本科03-16  14000本科  \n131  硕士03-16  37500硕士  \n132  本科03-16  30000本科  \n133  本科03-16  19000本科  \n134  本科03-16  30000本科  \n\n[135 rows x 8 columns]",
      "text/html": "<div>\n<style scoped>\n    .dataframe tbody tr th:only-of-type {\n        vertical-align: middle;\n    }\n\n    .dataframe tbody tr th {\n        vertical-align: top;\n    }\n\n    .dataframe thead th {\n        text-align: right;\n    }\n</style>\n<table border=\"1\" class=\"dataframe\">\n  <thead>\n    <tr style=\"text-align: right;\">\n      <th></th>\n      <th>createTime</th>\n      <th>education</th>\n      <th>salary</th>\n      <th>salary1</th>\n      <th>date</th>\n      <th>categories</th>\n      <th>combine1</th>\n      <th>combine2</th>\n    </tr>\n  </thead>\n  <tbody>\n    <tr>\n      <th>0</th>\n      <td>2020-03-16 11:30:18</td>\n      <td>本科</td>\n      <td>20k-35k</td>\n      <td>27500</td>\n      <td>03-16</td>\n      <td>高</td>\n      <td>本科03-16</td>\n      <td>27500本科</td>\n    </tr>\n    <tr>\n      <th>1</th>\n      <td>2020-03-16 10:58:48</td>\n      <td>本科</td>\n      <td>20k-40k</td>\n      <td>30000</td>\n      <td>03-16</td>\n      <td>高</td>\n      <td>本科03-16</td>\n      <td>30000本科</td>\n    </tr>\n    <tr>\n      <th>2</th>\n      <td>2020-03-16 10:46:39</td>\n      <td>不限</td>\n      <td>20k-35k</td>\n      <td>27500</td>\n      <td>03-16</td>\n      <td>高</td>\n      <td>不限03-16</td>\n      <td>27500不限</td>\n    </tr>\n    <tr>\n      <th>3</th>\n      <td>2020-03-16 10:45:44</td>\n      <td>本科</td>\n      <td>13k-20k</td>\n      <td>16500</td>\n      <td>03-16</td>\n      <td>中</td>\n      <td>本科03-16</td>\n      <td>16500本科</td>\n    </tr>\n    <tr>\n      <th>4</th>\n      <td>2020-03-16 10:20:41</td>\n      <td>本科</td>\n      <td>10k-20k</td>\n      <td>15000</td>\n      <td>03-16</td>\n      <td>中</td>\n      <td>本科03-16</td>\n      <td>15000本科</td>\n    </tr>\n    <tr>\n      <th>...</th>\n      <td>...</td>\n      <td>...</td>\n      <td>...</td>\n      <td>...</td>\n      <td>...</td>\n      <td>...</td>\n      <td>...</td>\n      <td>...</td>\n    </tr>\n    <tr>\n      <th>130</th>\n      <td>2020-03-16 11:36:07</td>\n      <td>本科</td>\n      <td>10k-18k</td>\n      <td>14000</td>\n      <td>03-16</td>\n      <td>中</td>\n      <td>本科03-16</td>\n      <td>14000本科</td>\n    </tr>\n    <tr>\n      <th>131</th>\n      <td>2020-03-16 09:54:47</td>\n      <td>硕士</td>\n      <td>25k-50k</td>\n      <td>37500</td>\n      <td>03-16</td>\n      <td>高</td>\n      <td>硕士03-16</td>\n      <td>37500硕士</td>\n    </tr>\n    <tr>\n      <th>132</th>\n      <td>2020-03-16 10:48:32</td>\n      <td>本科</td>\n      <td>20k-40k</td>\n      <td>30000</td>\n      <td>03-16</td>\n      <td>高</td>\n      <td>本科03-16</td>\n      <td>30000本科</td>\n    </tr>\n    <tr>\n      <th>133</th>\n      <td>2020-03-16 10:46:31</td>\n      <td>本科</td>\n      <td>15k-23k</td>\n      <td>19000</td>\n      <td>03-16</td>\n      <td>中</td>\n      <td>本科03-16</td>\n      <td>19000本科</td>\n    </tr>\n    <tr>\n      <th>134</th>\n      <td>2020-03-16 11:19:38</td>\n      <td>本科</td>\n      <td>20k-40k</td>\n      <td>30000</td>\n      <td>03-16</td>\n      <td>高</td>\n      <td>本科03-16</td>\n      <td>30000本科</td>\n    </tr>\n  </tbody>\n</table>\n<p>135 rows × 8 columns</p>\n</div>"
     },
     "execution_count": 13,
     "metadata": {},
     "output_type": "execute_result"
    }
   ],
   "source": [
    "df['combine1'] = df['education'] + df['date']\n",
    "df\n",
    "\n",
    "df['combine2'] = df['salary1'].map(str) + df['education']\n",
    "df"
   ],
   "metadata": {
    "collapsed": false,
    "pycharm": {
     "name": "#%%\n"
    }
   }
  },
  {
   "cell_type": "code",
   "execution_count": 14,
   "outputs": [
    {
     "data": {
      "text/plain": "salary1    41500\ndtype: int64"
     },
     "execution_count": 14,
     "metadata": {},
     "output_type": "execute_result"
    }
   ],
   "source": [
    "df[['salary1']].apply(lambda x:x.max() - x.min())"
   ],
   "metadata": {
    "collapsed": false,
    "pycharm": {
     "name": "#%%\n"
    }
   }
  },
  {
   "cell_type": "code",
   "execution_count": 15,
   "outputs": [
    {
     "data": {
      "text/plain": "             createTime education   salary  salary1   date categories  \\\n0   2020-03-16 11:30:18        本科  20k-35k    27500  03-16          高   \n134 2020-03-16 11:19:38        本科  20k-40k    30000  03-16          高   \n\n    combine1 combine2  \n0    本科03-16  27500本科  \n134  本科03-16  30000本科  ",
      "text/html": "<div>\n<style scoped>\n    .dataframe tbody tr th:only-of-type {\n        vertical-align: middle;\n    }\n\n    .dataframe tbody tr th {\n        vertical-align: top;\n    }\n\n    .dataframe thead th {\n        text-align: right;\n    }\n</style>\n<table border=\"1\" class=\"dataframe\">\n  <thead>\n    <tr style=\"text-align: right;\">\n      <th></th>\n      <th>createTime</th>\n      <th>education</th>\n      <th>salary</th>\n      <th>salary1</th>\n      <th>date</th>\n      <th>categories</th>\n      <th>combine1</th>\n      <th>combine2</th>\n    </tr>\n  </thead>\n  <tbody>\n    <tr>\n      <th>0</th>\n      <td>2020-03-16 11:30:18</td>\n      <td>本科</td>\n      <td>20k-35k</td>\n      <td>27500</td>\n      <td>03-16</td>\n      <td>高</td>\n      <td>本科03-16</td>\n      <td>27500本科</td>\n    </tr>\n    <tr>\n      <th>134</th>\n      <td>2020-03-16 11:19:38</td>\n      <td>本科</td>\n      <td>20k-40k</td>\n      <td>30000</td>\n      <td>03-16</td>\n      <td>高</td>\n      <td>本科03-16</td>\n      <td>30000本科</td>\n    </tr>\n  </tbody>\n</table>\n</div>"
     },
     "execution_count": 15,
     "metadata": {},
     "output_type": "execute_result"
    }
   ],
   "source": [
    "pd.concat([df[:1], df[-1:]])"
   ],
   "metadata": {
    "collapsed": false,
    "pycharm": {
     "name": "#%%\n"
    }
   }
  },
  {
   "cell_type": "code",
   "execution_count": 16,
   "outputs": [
    {
     "data": {
      "text/plain": "             createTime education   salary  salary1   date categories  \\\n0   2020-03-16 11:30:18        本科  20k-35k    27500  03-16          高   \n1   2020-03-16 10:58:48        本科  20k-40k    30000  03-16          高   \n2   2020-03-16 10:46:39        不限  20k-35k    27500  03-16          高   \n3   2020-03-16 10:45:44        本科  13k-20k    16500  03-16          中   \n4   2020-03-16 10:20:41        本科  10k-20k    15000  03-16          中   \n..                  ...       ...      ...      ...    ...        ...   \n131 2020-03-16 09:54:47        硕士  25k-50k    37500  03-16          高   \n132 2020-03-16 10:48:32        本科  20k-40k    30000  03-16          高   \n133 2020-03-16 10:46:31        本科  15k-23k    19000  03-16          中   \n134 2020-03-16 11:19:38        本科  20k-40k    30000  03-16          高   \n7   2020-03-16 09:49:12        本科  10k-15k    12500  03-16          中   \n\n    combine1 combine2  \n0    本科03-16  27500本科  \n1    本科03-16  30000本科  \n2    不限03-16  27500不限  \n3    本科03-16  16500本科  \n4    本科03-16  15000本科  \n..       ...      ...  \n131  硕士03-16  37500硕士  \n132  本科03-16  30000本科  \n133  本科03-16  19000本科  \n134  本科03-16  30000本科  \n7    本科03-16  12500本科  \n\n[136 rows x 8 columns]",
      "text/html": "<div>\n<style scoped>\n    .dataframe tbody tr th:only-of-type {\n        vertical-align: middle;\n    }\n\n    .dataframe tbody tr th {\n        vertical-align: top;\n    }\n\n    .dataframe thead th {\n        text-align: right;\n    }\n</style>\n<table border=\"1\" class=\"dataframe\">\n  <thead>\n    <tr style=\"text-align: right;\">\n      <th></th>\n      <th>createTime</th>\n      <th>education</th>\n      <th>salary</th>\n      <th>salary1</th>\n      <th>date</th>\n      <th>categories</th>\n      <th>combine1</th>\n      <th>combine2</th>\n    </tr>\n  </thead>\n  <tbody>\n    <tr>\n      <th>0</th>\n      <td>2020-03-16 11:30:18</td>\n      <td>本科</td>\n      <td>20k-35k</td>\n      <td>27500</td>\n      <td>03-16</td>\n      <td>高</td>\n      <td>本科03-16</td>\n      <td>27500本科</td>\n    </tr>\n    <tr>\n      <th>1</th>\n      <td>2020-03-16 10:58:48</td>\n      <td>本科</td>\n      <td>20k-40k</td>\n      <td>30000</td>\n      <td>03-16</td>\n      <td>高</td>\n      <td>本科03-16</td>\n      <td>30000本科</td>\n    </tr>\n    <tr>\n      <th>2</th>\n      <td>2020-03-16 10:46:39</td>\n      <td>不限</td>\n      <td>20k-35k</td>\n      <td>27500</td>\n      <td>03-16</td>\n      <td>高</td>\n      <td>不限03-16</td>\n      <td>27500不限</td>\n    </tr>\n    <tr>\n      <th>3</th>\n      <td>2020-03-16 10:45:44</td>\n      <td>本科</td>\n      <td>13k-20k</td>\n      <td>16500</td>\n      <td>03-16</td>\n      <td>中</td>\n      <td>本科03-16</td>\n      <td>16500本科</td>\n    </tr>\n    <tr>\n      <th>4</th>\n      <td>2020-03-16 10:20:41</td>\n      <td>本科</td>\n      <td>10k-20k</td>\n      <td>15000</td>\n      <td>03-16</td>\n      <td>中</td>\n      <td>本科03-16</td>\n      <td>15000本科</td>\n    </tr>\n    <tr>\n      <th>...</th>\n      <td>...</td>\n      <td>...</td>\n      <td>...</td>\n      <td>...</td>\n      <td>...</td>\n      <td>...</td>\n      <td>...</td>\n      <td>...</td>\n    </tr>\n    <tr>\n      <th>131</th>\n      <td>2020-03-16 09:54:47</td>\n      <td>硕士</td>\n      <td>25k-50k</td>\n      <td>37500</td>\n      <td>03-16</td>\n      <td>高</td>\n      <td>硕士03-16</td>\n      <td>37500硕士</td>\n    </tr>\n    <tr>\n      <th>132</th>\n      <td>2020-03-16 10:48:32</td>\n      <td>本科</td>\n      <td>20k-40k</td>\n      <td>30000</td>\n      <td>03-16</td>\n      <td>高</td>\n      <td>本科03-16</td>\n      <td>30000本科</td>\n    </tr>\n    <tr>\n      <th>133</th>\n      <td>2020-03-16 10:46:31</td>\n      <td>本科</td>\n      <td>15k-23k</td>\n      <td>19000</td>\n      <td>03-16</td>\n      <td>中</td>\n      <td>本科03-16</td>\n      <td>19000本科</td>\n    </tr>\n    <tr>\n      <th>134</th>\n      <td>2020-03-16 11:19:38</td>\n      <td>本科</td>\n      <td>20k-40k</td>\n      <td>30000</td>\n      <td>03-16</td>\n      <td>高</td>\n      <td>本科03-16</td>\n      <td>30000本科</td>\n    </tr>\n    <tr>\n      <th>7</th>\n      <td>2020-03-16 09:49:12</td>\n      <td>本科</td>\n      <td>10k-15k</td>\n      <td>12500</td>\n      <td>03-16</td>\n      <td>中</td>\n      <td>本科03-16</td>\n      <td>12500本科</td>\n    </tr>\n  </tbody>\n</table>\n<p>136 rows × 8 columns</p>\n</div>"
     },
     "execution_count": 16,
     "metadata": {},
     "output_type": "execute_result"
    }
   ],
   "source": [
    "df.append(df.iloc[7])"
   ],
   "metadata": {
    "collapsed": false,
    "pycharm": {
     "name": "#%%\n"
    }
   }
  },
  {
   "cell_type": "code",
   "execution_count": 18,
   "outputs": [
    {
     "data": {
      "text/plain": "                    education   salary  salary1   date categories combine1  \\\ncreateTime                                                                   \n2020-03-16 11:30:18        本科  20k-35k    27500  03-16          高  本科03-16   \n2020-03-16 10:58:48        本科  20k-40k    30000  03-16          高  本科03-16   \n2020-03-16 10:46:39        不限  20k-35k    27500  03-16          高  不限03-16   \n2020-03-16 10:45:44        本科  13k-20k    16500  03-16          中  本科03-16   \n2020-03-16 10:20:41        本科  10k-20k    15000  03-16          中  本科03-16   \n...                       ...      ...      ...    ...        ...      ...   \n2020-03-16 11:36:07        本科  10k-18k    14000  03-16          中  本科03-16   \n2020-03-16 09:54:47        硕士  25k-50k    37500  03-16          高  硕士03-16   \n2020-03-16 10:48:32        本科  20k-40k    30000  03-16          高  本科03-16   \n2020-03-16 10:46:31        本科  15k-23k    19000  03-16          中  本科03-16   \n2020-03-16 11:19:38        本科  20k-40k    30000  03-16          高  本科03-16   \n\n                    combine2  \ncreateTime                    \n2020-03-16 11:30:18  27500本科  \n2020-03-16 10:58:48  30000本科  \n2020-03-16 10:46:39  27500不限  \n2020-03-16 10:45:44  16500本科  \n2020-03-16 10:20:41  15000本科  \n...                      ...  \n2020-03-16 11:36:07  14000本科  \n2020-03-16 09:54:47  37500硕士  \n2020-03-16 10:48:32  30000本科  \n2020-03-16 10:46:31  19000本科  \n2020-03-16 11:19:38  30000本科  \n\n[135 rows x 7 columns]",
      "text/html": "<div>\n<style scoped>\n    .dataframe tbody tr th:only-of-type {\n        vertical-align: middle;\n    }\n\n    .dataframe tbody tr th {\n        vertical-align: top;\n    }\n\n    .dataframe thead th {\n        text-align: right;\n    }\n</style>\n<table border=\"1\" class=\"dataframe\">\n  <thead>\n    <tr style=\"text-align: right;\">\n      <th></th>\n      <th>education</th>\n      <th>salary</th>\n      <th>salary1</th>\n      <th>date</th>\n      <th>categories</th>\n      <th>combine1</th>\n      <th>combine2</th>\n    </tr>\n    <tr>\n      <th>createTime</th>\n      <th></th>\n      <th></th>\n      <th></th>\n      <th></th>\n      <th></th>\n      <th></th>\n      <th></th>\n    </tr>\n  </thead>\n  <tbody>\n    <tr>\n      <th>2020-03-16 11:30:18</th>\n      <td>本科</td>\n      <td>20k-35k</td>\n      <td>27500</td>\n      <td>03-16</td>\n      <td>高</td>\n      <td>本科03-16</td>\n      <td>27500本科</td>\n    </tr>\n    <tr>\n      <th>2020-03-16 10:58:48</th>\n      <td>本科</td>\n      <td>20k-40k</td>\n      <td>30000</td>\n      <td>03-16</td>\n      <td>高</td>\n      <td>本科03-16</td>\n      <td>30000本科</td>\n    </tr>\n    <tr>\n      <th>2020-03-16 10:46:39</th>\n      <td>不限</td>\n      <td>20k-35k</td>\n      <td>27500</td>\n      <td>03-16</td>\n      <td>高</td>\n      <td>不限03-16</td>\n      <td>27500不限</td>\n    </tr>\n    <tr>\n      <th>2020-03-16 10:45:44</th>\n      <td>本科</td>\n      <td>13k-20k</td>\n      <td>16500</td>\n      <td>03-16</td>\n      <td>中</td>\n      <td>本科03-16</td>\n      <td>16500本科</td>\n    </tr>\n    <tr>\n      <th>2020-03-16 10:20:41</th>\n      <td>本科</td>\n      <td>10k-20k</td>\n      <td>15000</td>\n      <td>03-16</td>\n      <td>中</td>\n      <td>本科03-16</td>\n      <td>15000本科</td>\n    </tr>\n    <tr>\n      <th>...</th>\n      <td>...</td>\n      <td>...</td>\n      <td>...</td>\n      <td>...</td>\n      <td>...</td>\n      <td>...</td>\n      <td>...</td>\n    </tr>\n    <tr>\n      <th>2020-03-16 11:36:07</th>\n      <td>本科</td>\n      <td>10k-18k</td>\n      <td>14000</td>\n      <td>03-16</td>\n      <td>中</td>\n      <td>本科03-16</td>\n      <td>14000本科</td>\n    </tr>\n    <tr>\n      <th>2020-03-16 09:54:47</th>\n      <td>硕士</td>\n      <td>25k-50k</td>\n      <td>37500</td>\n      <td>03-16</td>\n      <td>高</td>\n      <td>硕士03-16</td>\n      <td>37500硕士</td>\n    </tr>\n    <tr>\n      <th>2020-03-16 10:48:32</th>\n      <td>本科</td>\n      <td>20k-40k</td>\n      <td>30000</td>\n      <td>03-16</td>\n      <td>高</td>\n      <td>本科03-16</td>\n      <td>30000本科</td>\n    </tr>\n    <tr>\n      <th>2020-03-16 10:46:31</th>\n      <td>本科</td>\n      <td>15k-23k</td>\n      <td>19000</td>\n      <td>03-16</td>\n      <td>中</td>\n      <td>本科03-16</td>\n      <td>19000本科</td>\n    </tr>\n    <tr>\n      <th>2020-03-16 11:19:38</th>\n      <td>本科</td>\n      <td>20k-40k</td>\n      <td>30000</td>\n      <td>03-16</td>\n      <td>高</td>\n      <td>本科03-16</td>\n      <td>30000本科</td>\n    </tr>\n  </tbody>\n</table>\n<p>135 rows × 7 columns</p>\n</div>"
     },
     "execution_count": 18,
     "metadata": {},
     "output_type": "execute_result"
    }
   ],
   "source": [
    "df.set_index('createTime')"
   ],
   "metadata": {
    "collapsed": false,
    "pycharm": {
     "name": "#%%\n"
    }
   }
  },
  {
   "cell_type": "code",
   "execution_count": 19,
   "outputs": [
    {
     "data": {
      "text/plain": "       0\n0    0.0\n1    0.0\n2    0.0\n3    0.0\n4    0.0\n..   ...\n130  0.0\n131  0.0\n132  0.0\n133  0.0\n134  0.0\n\n[135 rows x 1 columns]",
      "text/html": "<div>\n<style scoped>\n    .dataframe tbody tr th:only-of-type {\n        vertical-align: middle;\n    }\n\n    .dataframe tbody tr th {\n        vertical-align: top;\n    }\n\n    .dataframe thead th {\n        text-align: right;\n    }\n</style>\n<table border=\"1\" class=\"dataframe\">\n  <thead>\n    <tr style=\"text-align: right;\">\n      <th></th>\n      <th>0</th>\n    </tr>\n  </thead>\n  <tbody>\n    <tr>\n      <th>0</th>\n      <td>0.0</td>\n    </tr>\n    <tr>\n      <th>1</th>\n      <td>0.0</td>\n    </tr>\n    <tr>\n      <th>2</th>\n      <td>0.0</td>\n    </tr>\n    <tr>\n      <th>3</th>\n      <td>0.0</td>\n    </tr>\n    <tr>\n      <th>4</th>\n      <td>0.0</td>\n    </tr>\n    <tr>\n      <th>...</th>\n      <td>...</td>\n    </tr>\n    <tr>\n      <th>130</th>\n      <td>0.0</td>\n    </tr>\n    <tr>\n      <th>131</th>\n      <td>0.0</td>\n    </tr>\n    <tr>\n      <th>132</th>\n      <td>0.0</td>\n    </tr>\n    <tr>\n      <th>133</th>\n      <td>0.0</td>\n    </tr>\n    <tr>\n      <th>134</th>\n      <td>0.0</td>\n    </tr>\n  </tbody>\n</table>\n<p>135 rows × 1 columns</p>\n</div>"
     },
     "execution_count": 19,
     "metadata": {},
     "output_type": "execute_result"
    },
    {
     "data": {
      "text/plain": "             createTime education   salary  salary1   date categories  \\\n0   2020-03-16 11:30:18        本科  20k-35k    27500  03-16          高   \n1   2020-03-16 10:58:48        本科  20k-40k    30000  03-16          高   \n2   2020-03-16 10:46:39        不限  20k-35k    27500  03-16          高   \n3   2020-03-16 10:45:44        本科  13k-20k    16500  03-16          中   \n4   2020-03-16 10:20:41        本科  10k-20k    15000  03-16          中   \n..                  ...       ...      ...      ...    ...        ...   \n130 2020-03-16 11:36:07        本科  10k-18k    14000  03-16          中   \n131 2020-03-16 09:54:47        硕士  25k-50k    37500  03-16          高   \n132 2020-03-16 10:48:32        本科  20k-40k    30000  03-16          高   \n133 2020-03-16 10:46:31        本科  15k-23k    19000  03-16          中   \n134 2020-03-16 11:19:38        本科  20k-40k    30000  03-16          高   \n\n    combine1 combine2    0  \n0    本科03-16  27500本科  0.0  \n1    本科03-16  30000本科  0.0  \n2    不限03-16  27500不限  0.0  \n3    本科03-16  16500本科  0.0  \n4    本科03-16  15000本科  0.0  \n..       ...      ...  ...  \n130  本科03-16  14000本科  0.0  \n131  硕士03-16  37500硕士  0.0  \n132  本科03-16  30000本科  0.0  \n133  本科03-16  19000本科  0.0  \n134  本科03-16  30000本科  0.0  \n\n[135 rows x 9 columns]",
      "text/html": "<div>\n<style scoped>\n    .dataframe tbody tr th:only-of-type {\n        vertical-align: middle;\n    }\n\n    .dataframe tbody tr th {\n        vertical-align: top;\n    }\n\n    .dataframe thead th {\n        text-align: right;\n    }\n</style>\n<table border=\"1\" class=\"dataframe\">\n  <thead>\n    <tr style=\"text-align: right;\">\n      <th></th>\n      <th>createTime</th>\n      <th>education</th>\n      <th>salary</th>\n      <th>salary1</th>\n      <th>date</th>\n      <th>categories</th>\n      <th>combine1</th>\n      <th>combine2</th>\n      <th>0</th>\n    </tr>\n  </thead>\n  <tbody>\n    <tr>\n      <th>0</th>\n      <td>2020-03-16 11:30:18</td>\n      <td>本科</td>\n      <td>20k-35k</td>\n      <td>27500</td>\n      <td>03-16</td>\n      <td>高</td>\n      <td>本科03-16</td>\n      <td>27500本科</td>\n      <td>0.0</td>\n    </tr>\n    <tr>\n      <th>1</th>\n      <td>2020-03-16 10:58:48</td>\n      <td>本科</td>\n      <td>20k-40k</td>\n      <td>30000</td>\n      <td>03-16</td>\n      <td>高</td>\n      <td>本科03-16</td>\n      <td>30000本科</td>\n      <td>0.0</td>\n    </tr>\n    <tr>\n      <th>2</th>\n      <td>2020-03-16 10:46:39</td>\n      <td>不限</td>\n      <td>20k-35k</td>\n      <td>27500</td>\n      <td>03-16</td>\n      <td>高</td>\n      <td>不限03-16</td>\n      <td>27500不限</td>\n      <td>0.0</td>\n    </tr>\n    <tr>\n      <th>3</th>\n      <td>2020-03-16 10:45:44</td>\n      <td>本科</td>\n      <td>13k-20k</td>\n      <td>16500</td>\n      <td>03-16</td>\n      <td>中</td>\n      <td>本科03-16</td>\n      <td>16500本科</td>\n      <td>0.0</td>\n    </tr>\n    <tr>\n      <th>4</th>\n      <td>2020-03-16 10:20:41</td>\n      <td>本科</td>\n      <td>10k-20k</td>\n      <td>15000</td>\n      <td>03-16</td>\n      <td>中</td>\n      <td>本科03-16</td>\n      <td>15000本科</td>\n      <td>0.0</td>\n    </tr>\n    <tr>\n      <th>...</th>\n      <td>...</td>\n      <td>...</td>\n      <td>...</td>\n      <td>...</td>\n      <td>...</td>\n      <td>...</td>\n      <td>...</td>\n      <td>...</td>\n      <td>...</td>\n    </tr>\n    <tr>\n      <th>130</th>\n      <td>2020-03-16 11:36:07</td>\n      <td>本科</td>\n      <td>10k-18k</td>\n      <td>14000</td>\n      <td>03-16</td>\n      <td>中</td>\n      <td>本科03-16</td>\n      <td>14000本科</td>\n      <td>0.0</td>\n    </tr>\n    <tr>\n      <th>131</th>\n      <td>2020-03-16 09:54:47</td>\n      <td>硕士</td>\n      <td>25k-50k</td>\n      <td>37500</td>\n      <td>03-16</td>\n      <td>高</td>\n      <td>硕士03-16</td>\n      <td>37500硕士</td>\n      <td>0.0</td>\n    </tr>\n    <tr>\n      <th>132</th>\n      <td>2020-03-16 10:48:32</td>\n      <td>本科</td>\n      <td>20k-40k</td>\n      <td>30000</td>\n      <td>03-16</td>\n      <td>高</td>\n      <td>本科03-16</td>\n      <td>30000本科</td>\n      <td>0.0</td>\n    </tr>\n    <tr>\n      <th>133</th>\n      <td>2020-03-16 10:46:31</td>\n      <td>本科</td>\n      <td>15k-23k</td>\n      <td>19000</td>\n      <td>03-16</td>\n      <td>中</td>\n      <td>本科03-16</td>\n      <td>19000本科</td>\n      <td>0.0</td>\n    </tr>\n    <tr>\n      <th>134</th>\n      <td>2020-03-16 11:19:38</td>\n      <td>本科</td>\n      <td>20k-40k</td>\n      <td>30000</td>\n      <td>03-16</td>\n      <td>高</td>\n      <td>本科03-16</td>\n      <td>30000本科</td>\n      <td>0.0</td>\n    </tr>\n  </tbody>\n</table>\n<p>135 rows × 9 columns</p>\n</div>"
     },
     "execution_count": 19,
     "metadata": {},
     "output_type": "execute_result"
    }
   ],
   "source": [
    "df1 = pd.DataFrame(np.zeros(len(df)))\n",
    "df1\n",
    "\n",
    "df = pd.concat([df,df1], axis=1)\n",
    "df"
   ],
   "metadata": {
    "collapsed": false,
    "pycharm": {
     "name": "#%%\n"
    }
   }
  },
  {
   "cell_type": "code",
   "execution_count": 20,
   "outputs": [
    {
     "data": {
      "text/plain": "False"
     },
     "execution_count": 20,
     "metadata": {},
     "output_type": "execute_result"
    }
   ],
   "source": [
    "df.isnull().values.any()"
   ],
   "metadata": {
    "collapsed": false,
    "pycharm": {
     "name": "#%%\n"
    }
   }
  },
  {
   "cell_type": "code",
   "execution_count": 24,
   "outputs": [
    {
     "data": {
      "text/plain": "createTime    datetime64[ns]\neducation             object\nsalary                object\nsalary1                int64\ndate                  object\ncategories          category\ncombine1              object\ncombine2              object\ndtype: object"
     },
     "execution_count": 24,
     "metadata": {},
     "output_type": "execute_result"
    },
    {
     "data": {
      "text/plain": "dtype('float64')"
     },
     "execution_count": 24,
     "metadata": {},
     "output_type": "execute_result"
    }
   ],
   "source": [
    "df.dtypes\n",
    "aa = df.salary1.astype(np.float64)\n",
    "aa.dtypes"
   ],
   "metadata": {
    "collapsed": false,
    "pycharm": {
     "name": "#%%\n"
    }
   }
  },
  {
   "cell_type": "code",
   "execution_count": 27,
   "outputs": [
    {
     "data": {
      "text/plain": "119"
     },
     "execution_count": 27,
     "metadata": {},
     "output_type": "execute_result"
    },
    {
     "data": {
      "text/plain": "本科    119\n硕士      7\n不限      5\n大专      4\nName: education, dtype: int64"
     },
     "execution_count": 27,
     "metadata": {},
     "output_type": "execute_result"
    },
    {
     "data": {
      "text/plain": "4"
     },
     "execution_count": 27,
     "metadata": {},
     "output_type": "execute_result"
    }
   ],
   "source": [
    "len(df[df['salary1']>10000])\n",
    "\n",
    "df.education.value_counts()\n",
    "\n",
    "df.education.nunique()\n"
   ],
   "metadata": {
    "collapsed": false,
    "pycharm": {
     "name": "#%%\n"
    }
   }
  },
  {
   "cell_type": "code",
   "execution_count": 41,
   "outputs": [
    {
     "data": {
      "text/plain": "pandas.core.series.Series"
     },
     "execution_count": 41,
     "metadata": {},
     "output_type": "execute_result"
    },
    {
     "data": {
      "text/plain": "array([ 16,  18,  37,  53,  62,  79,  92, 101, 131], dtype=int64)"
     },
     "execution_count": 41,
     "metadata": {},
     "output_type": "execute_result"
    },
    {
     "data": {
      "text/plain": "             createTime education   salary  salary1   date categories  \\\n92  2020-03-16 10:41:20        本科  30k-40k    35000  03-16          高   \n101 2020-03-16 11:01:39        本科  30k-45k    37500  03-16          高   \n131 2020-03-16 09:54:47        硕士  25k-50k    37500  03-16          高   \n\n    combine1 combine2    0      new  \n92   本科03-16  35000本科  0.0  35000.0  \n101  本科03-16  37500本科  0.0  37500.0  \n131  硕士03-16  37500硕士  0.0  37500.0  ",
      "text/html": "<div>\n<style scoped>\n    .dataframe tbody tr th:only-of-type {\n        vertical-align: middle;\n    }\n\n    .dataframe tbody tr th {\n        vertical-align: top;\n    }\n\n    .dataframe thead th {\n        text-align: right;\n    }\n</style>\n<table border=\"1\" class=\"dataframe\">\n  <thead>\n    <tr style=\"text-align: right;\">\n      <th></th>\n      <th>createTime</th>\n      <th>education</th>\n      <th>salary</th>\n      <th>salary1</th>\n      <th>date</th>\n      <th>categories</th>\n      <th>combine1</th>\n      <th>combine2</th>\n      <th>0</th>\n      <th>new</th>\n    </tr>\n  </thead>\n  <tbody>\n    <tr>\n      <th>92</th>\n      <td>2020-03-16 10:41:20</td>\n      <td>本科</td>\n      <td>30k-40k</td>\n      <td>35000</td>\n      <td>03-16</td>\n      <td>高</td>\n      <td>本科03-16</td>\n      <td>35000本科</td>\n      <td>0.0</td>\n      <td>35000.0</td>\n    </tr>\n    <tr>\n      <th>101</th>\n      <td>2020-03-16 11:01:39</td>\n      <td>本科</td>\n      <td>30k-45k</td>\n      <td>37500</td>\n      <td>03-16</td>\n      <td>高</td>\n      <td>本科03-16</td>\n      <td>37500本科</td>\n      <td>0.0</td>\n      <td>37500.0</td>\n    </tr>\n    <tr>\n      <th>131</th>\n      <td>2020-03-16 09:54:47</td>\n      <td>硕士</td>\n      <td>25k-50k</td>\n      <td>37500</td>\n      <td>03-16</td>\n      <td>高</td>\n      <td>硕士03-16</td>\n      <td>37500硕士</td>\n      <td>0.0</td>\n      <td>37500.0</td>\n    </tr>\n  </tbody>\n</table>\n</div>"
     },
     "execution_count": 41,
     "metadata": {},
     "output_type": "execute_result"
    }
   ],
   "source": [
    "df['new'] = df['salary1'] - df[0]\n",
    "df1 = df[['salary1', 'new']]\n",
    "rowsum = df1.apply(np.sum, axis=1)\n",
    "type(rowsum)\n",
    "\n",
    "idx = np.where(rowsum > 60000)[0]\n",
    "idx\n",
    "\n",
    "res = df.iloc[idx[-3:]]\n",
    "res\n"
   ],
   "metadata": {
    "collapsed": false,
    "pycharm": {
     "name": "#%%\n"
    }
   }
  }
 ],
 "metadata": {
  "kernelspec": {
   "display_name": "Python 3",
   "language": "python",
   "name": "python3"
  },
  "language_info": {
   "codemirror_mode": {
    "name": "ipython",
    "version": 2
   },
   "file_extension": ".py",
   "mimetype": "text/x-python",
   "name": "python",
   "nbconvert_exporter": "python",
   "pygments_lexer": "ipython2",
   "version": "2.7.6"
  }
 },
 "nbformat": 4,
 "nbformat_minor": 0
}