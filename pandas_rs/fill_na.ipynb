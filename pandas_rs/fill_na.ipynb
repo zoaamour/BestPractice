{
 "cells": [
  {
   "cell_type": "code",
   "execution_count": 1,
   "metadata": {
    "collapsed": true
   },
   "outputs": [],
   "source": [
    "import pandas as pd\n",
    "import numpy as np\n",
    "from IPython import InteractiveShell\n",
    "\n",
    "InteractiveShell.ast_node_interactivity = \"all\"\n"
   ]
  },
  {
   "cell_type": "code",
   "execution_count": 2,
   "outputs": [
    {
     "data": {
      "text/plain": "                   A         B         C         D\n2021-09-01 -0.211009  0.141402  0.681121  0.034482\n2021-09-02  0.063894  1.295844  0.584428 -1.097065\n2021-09-03  0.022765 -0.445726  0.440389  1.002473\n2021-09-04 -0.781289  0.411584  0.134543 -1.000183\n2021-09-05 -0.254093  0.982151 -0.295595 -0.866178\n2021-09-06 -0.645282 -1.069452  0.303881  0.924162",
      "text/html": "<div>\n<style scoped>\n    .dataframe tbody tr th:only-of-type {\n        vertical-align: middle;\n    }\n\n    .dataframe tbody tr th {\n        vertical-align: top;\n    }\n\n    .dataframe thead th {\n        text-align: right;\n    }\n</style>\n<table border=\"1\" class=\"dataframe\">\n  <thead>\n    <tr style=\"text-align: right;\">\n      <th></th>\n      <th>A</th>\n      <th>B</th>\n      <th>C</th>\n      <th>D</th>\n    </tr>\n  </thead>\n  <tbody>\n    <tr>\n      <th>2021-09-01</th>\n      <td>-0.211009</td>\n      <td>0.141402</td>\n      <td>0.681121</td>\n      <td>0.034482</td>\n    </tr>\n    <tr>\n      <th>2021-09-02</th>\n      <td>0.063894</td>\n      <td>1.295844</td>\n      <td>0.584428</td>\n      <td>-1.097065</td>\n    </tr>\n    <tr>\n      <th>2021-09-03</th>\n      <td>0.022765</td>\n      <td>-0.445726</td>\n      <td>0.440389</td>\n      <td>1.002473</td>\n    </tr>\n    <tr>\n      <th>2021-09-04</th>\n      <td>-0.781289</td>\n      <td>0.411584</td>\n      <td>0.134543</td>\n      <td>-1.000183</td>\n    </tr>\n    <tr>\n      <th>2021-09-05</th>\n      <td>-0.254093</td>\n      <td>0.982151</td>\n      <td>-0.295595</td>\n      <td>-0.866178</td>\n    </tr>\n    <tr>\n      <th>2021-09-06</th>\n      <td>-0.645282</td>\n      <td>-1.069452</td>\n      <td>0.303881</td>\n      <td>0.924162</td>\n    </tr>\n  </tbody>\n</table>\n</div>"
     },
     "execution_count": 2,
     "metadata": {},
     "output_type": "execute_result"
    }
   ],
   "source": [
    "dates = pd.date_range('20210901', periods=6)\n",
    "df = pd.DataFrame(np.random.randn(6, 4), index=dates, columns=list(\"ABCD\"))\n",
    "df"
   ],
   "metadata": {
    "collapsed": false,
    "pycharm": {
     "name": "#%%\n"
    }
   }
  },
  {
   "cell_type": "code",
   "execution_count": 22,
   "outputs": [
    {
     "data": {
      "text/plain": "['A', 'B', 'C', 'D', 'E']"
     },
     "execution_count": 22,
     "metadata": {},
     "output_type": "execute_result"
    },
    {
     "data": {
      "text/plain": "                   A         B         C         D   E\n2021-09-01 -0.211009  0.141402  0.681121  0.034482 NaN\n2021-09-02  0.063894  1.295844  0.584428 -1.097065 NaN\n2021-09-03  0.022765 -0.445726  0.440389  1.002473 NaN\n2021-09-04 -0.781289  0.411584  0.134543 -1.000183 NaN",
      "text/html": "<div>\n<style scoped>\n    .dataframe tbody tr th:only-of-type {\n        vertical-align: middle;\n    }\n\n    .dataframe tbody tr th {\n        vertical-align: top;\n    }\n\n    .dataframe thead th {\n        text-align: right;\n    }\n</style>\n<table border=\"1\" class=\"dataframe\">\n  <thead>\n    <tr style=\"text-align: right;\">\n      <th></th>\n      <th>A</th>\n      <th>B</th>\n      <th>C</th>\n      <th>D</th>\n      <th>E</th>\n    </tr>\n  </thead>\n  <tbody>\n    <tr>\n      <th>2021-09-01</th>\n      <td>-0.211009</td>\n      <td>0.141402</td>\n      <td>0.681121</td>\n      <td>0.034482</td>\n      <td>NaN</td>\n    </tr>\n    <tr>\n      <th>2021-09-02</th>\n      <td>0.063894</td>\n      <td>1.295844</td>\n      <td>0.584428</td>\n      <td>-1.097065</td>\n      <td>NaN</td>\n    </tr>\n    <tr>\n      <th>2021-09-03</th>\n      <td>0.022765</td>\n      <td>-0.445726</td>\n      <td>0.440389</td>\n      <td>1.002473</td>\n      <td>NaN</td>\n    </tr>\n    <tr>\n      <th>2021-09-04</th>\n      <td>-0.781289</td>\n      <td>0.411584</td>\n      <td>0.134543</td>\n      <td>-1.000183</td>\n      <td>NaN</td>\n    </tr>\n  </tbody>\n</table>\n</div>"
     },
     "execution_count": 22,
     "metadata": {},
     "output_type": "execute_result"
    },
    {
     "data": {
      "text/plain": "                   A         B         C         D    E\n2021-09-01 -0.211009  0.141402  0.681121  0.034482  3.0\n2021-09-02  0.063894  1.295844  0.584428 -1.097065  3.0\n2021-09-03  0.022765 -0.445726  0.440389  1.002473  NaN\n2021-09-04 -0.781289  0.411584  0.134543 -1.000183  NaN",
      "text/html": "<div>\n<style scoped>\n    .dataframe tbody tr th:only-of-type {\n        vertical-align: middle;\n    }\n\n    .dataframe tbody tr th {\n        vertical-align: top;\n    }\n\n    .dataframe thead th {\n        text-align: right;\n    }\n</style>\n<table border=\"1\" class=\"dataframe\">\n  <thead>\n    <tr style=\"text-align: right;\">\n      <th></th>\n      <th>A</th>\n      <th>B</th>\n      <th>C</th>\n      <th>D</th>\n      <th>E</th>\n    </tr>\n  </thead>\n  <tbody>\n    <tr>\n      <th>2021-09-01</th>\n      <td>-0.211009</td>\n      <td>0.141402</td>\n      <td>0.681121</td>\n      <td>0.034482</td>\n      <td>3.0</td>\n    </tr>\n    <tr>\n      <th>2021-09-02</th>\n      <td>0.063894</td>\n      <td>1.295844</td>\n      <td>0.584428</td>\n      <td>-1.097065</td>\n      <td>3.0</td>\n    </tr>\n    <tr>\n      <th>2021-09-03</th>\n      <td>0.022765</td>\n      <td>-0.445726</td>\n      <td>0.440389</td>\n      <td>1.002473</td>\n      <td>NaN</td>\n    </tr>\n    <tr>\n      <th>2021-09-04</th>\n      <td>-0.781289</td>\n      <td>0.411584</td>\n      <td>0.134543</td>\n      <td>-1.000183</td>\n      <td>NaN</td>\n    </tr>\n  </tbody>\n</table>\n</div>"
     },
     "execution_count": 22,
     "metadata": {},
     "output_type": "execute_result"
    },
    {
     "data": {
      "text/plain": "                   A         B         C         D    E\n2021-09-01 -0.211009  0.141402  0.681121  0.034482  3.0\n2021-09-02  0.063894  1.295844  0.584428 -1.097065  3.0\n2021-09-03  0.022765 -0.445726  0.440389  1.002473  NaN\n2021-09-04 -0.781289  0.411584  0.134543 -1.000183  NaN\n2021-09-07       NaN       NaN       NaN       NaN  NaN",
      "text/html": "<div>\n<style scoped>\n    .dataframe tbody tr th:only-of-type {\n        vertical-align: middle;\n    }\n\n    .dataframe tbody tr th {\n        vertical-align: top;\n    }\n\n    .dataframe thead th {\n        text-align: right;\n    }\n</style>\n<table border=\"1\" class=\"dataframe\">\n  <thead>\n    <tr style=\"text-align: right;\">\n      <th></th>\n      <th>A</th>\n      <th>B</th>\n      <th>C</th>\n      <th>D</th>\n      <th>E</th>\n    </tr>\n  </thead>\n  <tbody>\n    <tr>\n      <th>2021-09-01</th>\n      <td>-0.211009</td>\n      <td>0.141402</td>\n      <td>0.681121</td>\n      <td>0.034482</td>\n      <td>3.0</td>\n    </tr>\n    <tr>\n      <th>2021-09-02</th>\n      <td>0.063894</td>\n      <td>1.295844</td>\n      <td>0.584428</td>\n      <td>-1.097065</td>\n      <td>3.0</td>\n    </tr>\n    <tr>\n      <th>2021-09-03</th>\n      <td>0.022765</td>\n      <td>-0.445726</td>\n      <td>0.440389</td>\n      <td>1.002473</td>\n      <td>NaN</td>\n    </tr>\n    <tr>\n      <th>2021-09-04</th>\n      <td>-0.781289</td>\n      <td>0.411584</td>\n      <td>0.134543</td>\n      <td>-1.000183</td>\n      <td>NaN</td>\n    </tr>\n    <tr>\n      <th>2021-09-07</th>\n      <td>NaN</td>\n      <td>NaN</td>\n      <td>NaN</td>\n      <td>NaN</td>\n      <td>NaN</td>\n    </tr>\n  </tbody>\n</table>\n</div>"
     },
     "execution_count": 22,
     "metadata": {},
     "output_type": "execute_result"
    }
   ],
   "source": [
    "cols = list(df.columns) + ['E']\n",
    "cols\n",
    "df1 = df.reindex(index=dates[0:4], columns=cols)\n",
    "df1\n",
    "df1.loc[dates[0]:dates[1], 'E'] = 3\n",
    "df1\n",
    "# 类型一致\n",
    "df1.loc[pd.to_datetime('20210907')] = [np.nan] * len(df1.columns)\n",
    "df1"
   ],
   "metadata": {
    "collapsed": false,
    "pycharm": {
     "name": "#%%\n"
    }
   }
  },
  {
   "cell_type": "code",
   "execution_count": 6,
   "outputs": [
    {
     "data": {
      "text/plain": "                            A         B         C         D    E\n2021-09-01 00:00:00 -0.211009  0.141402  0.681121  0.034482  3.0\n2021-09-02 00:00:00  0.063894  1.295844  0.584428 -1.097065  3.0",
      "text/html": "<div>\n<style scoped>\n    .dataframe tbody tr th:only-of-type {\n        vertical-align: middle;\n    }\n\n    .dataframe tbody tr th {\n        vertical-align: top;\n    }\n\n    .dataframe thead th {\n        text-align: right;\n    }\n</style>\n<table border=\"1\" class=\"dataframe\">\n  <thead>\n    <tr style=\"text-align: right;\">\n      <th></th>\n      <th>A</th>\n      <th>B</th>\n      <th>C</th>\n      <th>D</th>\n      <th>E</th>\n    </tr>\n  </thead>\n  <tbody>\n    <tr>\n      <th>2021-09-01 00:00:00</th>\n      <td>-0.211009</td>\n      <td>0.141402</td>\n      <td>0.681121</td>\n      <td>0.034482</td>\n      <td>3.0</td>\n    </tr>\n    <tr>\n      <th>2021-09-02 00:00:00</th>\n      <td>0.063894</td>\n      <td>1.295844</td>\n      <td>0.584428</td>\n      <td>-1.097065</td>\n      <td>3.0</td>\n    </tr>\n  </tbody>\n</table>\n</div>"
     },
     "execution_count": 6,
     "metadata": {},
     "output_type": "execute_result"
    }
   ],
   "source": [
    "df1.dropna(how='any')"
   ],
   "metadata": {
    "collapsed": false,
    "pycharm": {
     "name": "#%%\n"
    }
   }
  },
  {
   "cell_type": "code",
   "execution_count": 7,
   "outputs": [
    {
     "data": {
      "text/plain": "                            A         B         C         D    E\n2021-09-01 00:00:00 -0.211009  0.141402  0.681121  0.034482  3.0\n2021-09-02 00:00:00  0.063894  1.295844  0.584428 -1.097065  3.0\n2021-09-03 00:00:00  0.022765 -0.445726  0.440389  1.002473  NaN\n2021-09-04 00:00:00 -0.781289  0.411584  0.134543 -1.000183  NaN",
      "text/html": "<div>\n<style scoped>\n    .dataframe tbody tr th:only-of-type {\n        vertical-align: middle;\n    }\n\n    .dataframe tbody tr th {\n        vertical-align: top;\n    }\n\n    .dataframe thead th {\n        text-align: right;\n    }\n</style>\n<table border=\"1\" class=\"dataframe\">\n  <thead>\n    <tr style=\"text-align: right;\">\n      <th></th>\n      <th>A</th>\n      <th>B</th>\n      <th>C</th>\n      <th>D</th>\n      <th>E</th>\n    </tr>\n  </thead>\n  <tbody>\n    <tr>\n      <th>2021-09-01 00:00:00</th>\n      <td>-0.211009</td>\n      <td>0.141402</td>\n      <td>0.681121</td>\n      <td>0.034482</td>\n      <td>3.0</td>\n    </tr>\n    <tr>\n      <th>2021-09-02 00:00:00</th>\n      <td>0.063894</td>\n      <td>1.295844</td>\n      <td>0.584428</td>\n      <td>-1.097065</td>\n      <td>3.0</td>\n    </tr>\n    <tr>\n      <th>2021-09-03 00:00:00</th>\n      <td>0.022765</td>\n      <td>-0.445726</td>\n      <td>0.440389</td>\n      <td>1.002473</td>\n      <td>NaN</td>\n    </tr>\n    <tr>\n      <th>2021-09-04 00:00:00</th>\n      <td>-0.781289</td>\n      <td>0.411584</td>\n      <td>0.134543</td>\n      <td>-1.000183</td>\n      <td>NaN</td>\n    </tr>\n  </tbody>\n</table>\n</div>"
     },
     "execution_count": 7,
     "metadata": {},
     "output_type": "execute_result"
    }
   ],
   "source": [
    "df1.dropna(how='all')"
   ],
   "metadata": {
    "collapsed": false,
    "pycharm": {
     "name": "#%%\n"
    }
   }
  },
  {
   "cell_type": "code",
   "execution_count": 12,
   "outputs": [
    {
     "data": {
      "text/plain": "                       E\n2021-09-01 00:00:00  3.0\n2021-09-02 00:00:00  3.0",
      "text/html": "<div>\n<style scoped>\n    .dataframe tbody tr th:only-of-type {\n        vertical-align: middle;\n    }\n\n    .dataframe tbody tr th {\n        vertical-align: top;\n    }\n\n    .dataframe thead th {\n        text-align: right;\n    }\n</style>\n<table border=\"1\" class=\"dataframe\">\n  <thead>\n    <tr style=\"text-align: right;\">\n      <th></th>\n      <th>E</th>\n    </tr>\n  </thead>\n  <tbody>\n    <tr>\n      <th>2021-09-01 00:00:00</th>\n      <td>3.0</td>\n    </tr>\n    <tr>\n      <th>2021-09-02 00:00:00</th>\n      <td>3.0</td>\n    </tr>\n  </tbody>\n</table>\n</div>"
     },
     "execution_count": 12,
     "metadata": {},
     "output_type": "execute_result"
    }
   ],
   "source": [
    "df1.loc[:,['E']].dropna()"
   ],
   "metadata": {
    "collapsed": false,
    "pycharm": {
     "name": "#%%\n"
    }
   }
  },
  {
   "cell_type": "code",
   "execution_count": 21,
   "outputs": [
    {
     "data": {
      "text/plain": "A    0.022765\nB   -0.445726\nC    0.440389\nD    1.002473\nName: 2021-09-03 00:00:00, dtype: float64"
     },
     "execution_count": 21,
     "metadata": {},
     "output_type": "execute_result"
    }
   ],
   "source": [
    "df1.loc['2021-09-03'].dropna()\n"
   ],
   "metadata": {
    "collapsed": false,
    "pycharm": {
     "name": "#%%\n"
    }
   }
  },
  {
   "cell_type": "code",
   "execution_count": 23,
   "outputs": [
    {
     "data": {
      "text/plain": "                   A         B         C         D    E\n2021-09-01 -0.211009  0.141402  0.681121  0.034482  3.0\n2021-09-02  0.063894  1.295844  0.584428 -1.097065  3.0\n2021-09-03  0.022765 -0.445726  0.440389  1.002473  9.0\n2021-09-04 -0.781289  0.411584  0.134543 -1.000183  9.0\n2021-09-07  9.000000  9.000000  9.000000  9.000000  9.0",
      "text/html": "<div>\n<style scoped>\n    .dataframe tbody tr th:only-of-type {\n        vertical-align: middle;\n    }\n\n    .dataframe tbody tr th {\n        vertical-align: top;\n    }\n\n    .dataframe thead th {\n        text-align: right;\n    }\n</style>\n<table border=\"1\" class=\"dataframe\">\n  <thead>\n    <tr style=\"text-align: right;\">\n      <th></th>\n      <th>A</th>\n      <th>B</th>\n      <th>C</th>\n      <th>D</th>\n      <th>E</th>\n    </tr>\n  </thead>\n  <tbody>\n    <tr>\n      <th>2021-09-01</th>\n      <td>-0.211009</td>\n      <td>0.141402</td>\n      <td>0.681121</td>\n      <td>0.034482</td>\n      <td>3.0</td>\n    </tr>\n    <tr>\n      <th>2021-09-02</th>\n      <td>0.063894</td>\n      <td>1.295844</td>\n      <td>0.584428</td>\n      <td>-1.097065</td>\n      <td>3.0</td>\n    </tr>\n    <tr>\n      <th>2021-09-03</th>\n      <td>0.022765</td>\n      <td>-0.445726</td>\n      <td>0.440389</td>\n      <td>1.002473</td>\n      <td>9.0</td>\n    </tr>\n    <tr>\n      <th>2021-09-04</th>\n      <td>-0.781289</td>\n      <td>0.411584</td>\n      <td>0.134543</td>\n      <td>-1.000183</td>\n      <td>9.0</td>\n    </tr>\n    <tr>\n      <th>2021-09-07</th>\n      <td>9.000000</td>\n      <td>9.000000</td>\n      <td>9.000000</td>\n      <td>9.000000</td>\n      <td>9.0</td>\n    </tr>\n  </tbody>\n</table>\n</div>"
     },
     "execution_count": 23,
     "metadata": {},
     "output_type": "execute_result"
    }
   ],
   "source": [
    "df1.fillna(9)"
   ],
   "metadata": {
    "collapsed": false,
    "pycharm": {
     "name": "#%%\n"
    }
   }
  },
  {
   "cell_type": "code",
   "execution_count": 25,
   "outputs": [
    {
     "data": {
      "text/plain": "              E\n2021-09-01  3.0\n2021-09-02  3.0\n2021-09-03  9.0\n2021-09-04  9.0\n2021-09-07  9.0",
      "text/html": "<div>\n<style scoped>\n    .dataframe tbody tr th:only-of-type {\n        vertical-align: middle;\n    }\n\n    .dataframe tbody tr th {\n        vertical-align: top;\n    }\n\n    .dataframe thead th {\n        text-align: right;\n    }\n</style>\n<table border=\"1\" class=\"dataframe\">\n  <thead>\n    <tr style=\"text-align: right;\">\n      <th></th>\n      <th>E</th>\n    </tr>\n  </thead>\n  <tbody>\n    <tr>\n      <th>2021-09-01</th>\n      <td>3.0</td>\n    </tr>\n    <tr>\n      <th>2021-09-02</th>\n      <td>3.0</td>\n    </tr>\n    <tr>\n      <th>2021-09-03</th>\n      <td>9.0</td>\n    </tr>\n    <tr>\n      <th>2021-09-04</th>\n      <td>9.0</td>\n    </tr>\n    <tr>\n      <th>2021-09-07</th>\n      <td>9.0</td>\n    </tr>\n  </tbody>\n</table>\n</div>"
     },
     "execution_count": 25,
     "metadata": {},
     "output_type": "execute_result"
    }
   ],
   "source": [
    "df1.loc[:,['E']].fillna(9)"
   ],
   "metadata": {
    "collapsed": false,
    "pycharm": {
     "name": "#%%\n"
    }
   }
  },
  {
   "cell_type": "code",
   "execution_count": 26,
   "outputs": [
    {
     "data": {
      "text/plain": "A    9.0\nB    9.0\nC    9.0\nD    9.0\nE    9.0\nName: 2021-09-07 00:00:00, dtype: float64"
     },
     "execution_count": 26,
     "metadata": {},
     "output_type": "execute_result"
    }
   ],
   "source": [
    "df1.loc['2021-09-07'].fillna(9)"
   ],
   "metadata": {
    "collapsed": false,
    "pycharm": {
     "name": "#%%\n"
    }
   }
  },
  {
   "cell_type": "code",
   "execution_count": 27,
   "outputs": [
    {
     "data": {
      "text/plain": "                A      B      C      D      E\n2021-09-01  False  False  False  False  False\n2021-09-02  False  False  False  False  False\n2021-09-03  False  False  False  False   True\n2021-09-04  False  False  False  False   True\n2021-09-07   True   True   True   True   True",
      "text/html": "<div>\n<style scoped>\n    .dataframe tbody tr th:only-of-type {\n        vertical-align: middle;\n    }\n\n    .dataframe tbody tr th {\n        vertical-align: top;\n    }\n\n    .dataframe thead th {\n        text-align: right;\n    }\n</style>\n<table border=\"1\" class=\"dataframe\">\n  <thead>\n    <tr style=\"text-align: right;\">\n      <th></th>\n      <th>A</th>\n      <th>B</th>\n      <th>C</th>\n      <th>D</th>\n      <th>E</th>\n    </tr>\n  </thead>\n  <tbody>\n    <tr>\n      <th>2021-09-01</th>\n      <td>False</td>\n      <td>False</td>\n      <td>False</td>\n      <td>False</td>\n      <td>False</td>\n    </tr>\n    <tr>\n      <th>2021-09-02</th>\n      <td>False</td>\n      <td>False</td>\n      <td>False</td>\n      <td>False</td>\n      <td>False</td>\n    </tr>\n    <tr>\n      <th>2021-09-03</th>\n      <td>False</td>\n      <td>False</td>\n      <td>False</td>\n      <td>False</td>\n      <td>True</td>\n    </tr>\n    <tr>\n      <th>2021-09-04</th>\n      <td>False</td>\n      <td>False</td>\n      <td>False</td>\n      <td>False</td>\n      <td>True</td>\n    </tr>\n    <tr>\n      <th>2021-09-07</th>\n      <td>True</td>\n      <td>True</td>\n      <td>True</td>\n      <td>True</td>\n      <td>True</td>\n    </tr>\n  </tbody>\n</table>\n</div>"
     },
     "execution_count": 27,
     "metadata": {},
     "output_type": "execute_result"
    }
   ],
   "source": [
    "pd.isna(df1)"
   ],
   "metadata": {
    "collapsed": false,
    "pycharm": {
     "name": "#%%\n"
    }
   }
  },
  {
   "cell_type": "code",
   "execution_count": 33,
   "outputs": [
    {
     "data": {
      "text/plain": "pandas.core.series.Series"
     },
     "execution_count": 33,
     "metadata": {},
     "output_type": "execute_result"
    },
    {
     "data": {
      "text/plain": "dtype('bool')"
     },
     "execution_count": 33,
     "metadata": {},
     "output_type": "execute_result"
    }
   ],
   "source": [
    "namask = df1['E'].isna()\n",
    "type(namask)\n",
    "namask.dtypes"
   ],
   "metadata": {
    "collapsed": false,
    "pycharm": {
     "name": "#%%\n"
    }
   }
  },
  {
   "cell_type": "code",
   "execution_count": 34,
   "outputs": [
    {
     "data": {
      "text/plain": "pandas.core.frame.DataFrame"
     },
     "execution_count": 34,
     "metadata": {},
     "output_type": "execute_result"
    },
    {
     "data": {
      "text/plain": "A    bool\nB    bool\nC    bool\nD    bool\nE    bool\ndtype: object"
     },
     "execution_count": 34,
     "metadata": {},
     "output_type": "execute_result"
    }
   ],
   "source": [
    "namask = df1.loc['2021-09-01':'2021-09-03'].isna()\n",
    "type(namask)\n",
    "namask.dtypes\n",
    "\n",
    "\n"
   ],
   "metadata": {
    "collapsed": false,
    "pycharm": {
     "name": "#%%\n"
    }
   }
  }
 ],
 "metadata": {
  "kernelspec": {
   "display_name": "Python 3",
   "language": "python",
   "name": "python3"
  },
  "language_info": {
   "codemirror_mode": {
    "name": "ipython",
    "version": 2
   },
   "file_extension": ".py",
   "mimetype": "text/x-python",
   "name": "python",
   "nbconvert_exporter": "python",
   "pygments_lexer": "ipython2",
   "version": "2.7.6"
  }
 },
 "nbformat": 4,
 "nbformat_minor": 0
}