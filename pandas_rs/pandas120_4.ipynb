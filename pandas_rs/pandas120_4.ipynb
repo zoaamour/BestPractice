{
 "cells": [
  {
   "cell_type": "code",
   "execution_count": 55,
   "metadata": {
    "collapsed": true
   },
   "outputs": [
    {
     "name": "stdout",
     "output_type": "stream",
     "text": [
      "Using matplotlib backend: Qt5Agg\n",
      "1.20.2\n",
      "1.2.4\n"
     ]
    }
   ],
   "source": [
    "import pandas as pd\n",
    "import numpy as np\n",
    "from IPython import InteractiveShell\n",
    "\n",
    "InteractiveShell.ast_node_interactivity = \"all\"\n",
    "%matplotlib auto\n",
    "\n",
    "print(np.__version__)\n",
    "print(pd.__version__)"
   ]
  },
  {
   "cell_type": "code",
   "execution_count": 56,
   "outputs": [
    {
     "data": {
      "text/plain": "     0\n0   40\n1    4\n2   76\n3   59\n4   70\n5   30\n6   95\n7   67\n8   90\n9   99\n10  71\n11  54\n12  67\n13  91\n14  52\n15  67\n16  24\n17  12\n18   7\n19  21",
      "text/html": "<div>\n<style scoped>\n    .dataframe tbody tr th:only-of-type {\n        vertical-align: middle;\n    }\n\n    .dataframe tbody tr th {\n        vertical-align: top;\n    }\n\n    .dataframe thead th {\n        text-align: right;\n    }\n</style>\n<table border=\"1\" class=\"dataframe\">\n  <thead>\n    <tr style=\"text-align: right;\">\n      <th></th>\n      <th>0</th>\n    </tr>\n  </thead>\n  <tbody>\n    <tr>\n      <th>0</th>\n      <td>40</td>\n    </tr>\n    <tr>\n      <th>1</th>\n      <td>4</td>\n    </tr>\n    <tr>\n      <th>2</th>\n      <td>76</td>\n    </tr>\n    <tr>\n      <th>3</th>\n      <td>59</td>\n    </tr>\n    <tr>\n      <th>4</th>\n      <td>70</td>\n    </tr>\n    <tr>\n      <th>5</th>\n      <td>30</td>\n    </tr>\n    <tr>\n      <th>6</th>\n      <td>95</td>\n    </tr>\n    <tr>\n      <th>7</th>\n      <td>67</td>\n    </tr>\n    <tr>\n      <th>8</th>\n      <td>90</td>\n    </tr>\n    <tr>\n      <th>9</th>\n      <td>99</td>\n    </tr>\n    <tr>\n      <th>10</th>\n      <td>71</td>\n    </tr>\n    <tr>\n      <th>11</th>\n      <td>54</td>\n    </tr>\n    <tr>\n      <th>12</th>\n      <td>67</td>\n    </tr>\n    <tr>\n      <th>13</th>\n      <td>91</td>\n    </tr>\n    <tr>\n      <th>14</th>\n      <td>52</td>\n    </tr>\n    <tr>\n      <th>15</th>\n      <td>67</td>\n    </tr>\n    <tr>\n      <th>16</th>\n      <td>24</td>\n    </tr>\n    <tr>\n      <th>17</th>\n      <td>12</td>\n    </tr>\n    <tr>\n      <th>18</th>\n      <td>7</td>\n    </tr>\n    <tr>\n      <th>19</th>\n      <td>21</td>\n    </tr>\n  </tbody>\n</table>\n</div>"
     },
     "execution_count": 56,
     "metadata": {},
     "output_type": "execute_result"
    }
   ],
   "source": [
    "temp = np.random.randint(0,100,20)\n",
    "df1 = pd.DataFrame(temp)\n",
    "df1\n"
   ],
   "metadata": {
    "collapsed": false,
    "pycharm": {
     "name": "#%%\n"
    }
   }
  },
  {
   "cell_type": "code",
   "execution_count": 57,
   "outputs": [
    {
     "data": {
      "text/plain": "     0\n0    0\n1    5\n2   10\n3   15\n4   20\n5   25\n6   30\n7   35\n8   40\n9   45\n10  50\n11  55\n12  60\n13  65\n14  70\n15  75\n16  80\n17  85\n18  90\n19  95",
      "text/html": "<div>\n<style scoped>\n    .dataframe tbody tr th:only-of-type {\n        vertical-align: middle;\n    }\n\n    .dataframe tbody tr th {\n        vertical-align: top;\n    }\n\n    .dataframe thead th {\n        text-align: right;\n    }\n</style>\n<table border=\"1\" class=\"dataframe\">\n  <thead>\n    <tr style=\"text-align: right;\">\n      <th></th>\n      <th>0</th>\n    </tr>\n  </thead>\n  <tbody>\n    <tr>\n      <th>0</th>\n      <td>0</td>\n    </tr>\n    <tr>\n      <th>1</th>\n      <td>5</td>\n    </tr>\n    <tr>\n      <th>2</th>\n      <td>10</td>\n    </tr>\n    <tr>\n      <th>3</th>\n      <td>15</td>\n    </tr>\n    <tr>\n      <th>4</th>\n      <td>20</td>\n    </tr>\n    <tr>\n      <th>5</th>\n      <td>25</td>\n    </tr>\n    <tr>\n      <th>6</th>\n      <td>30</td>\n    </tr>\n    <tr>\n      <th>7</th>\n      <td>35</td>\n    </tr>\n    <tr>\n      <th>8</th>\n      <td>40</td>\n    </tr>\n    <tr>\n      <th>9</th>\n      <td>45</td>\n    </tr>\n    <tr>\n      <th>10</th>\n      <td>50</td>\n    </tr>\n    <tr>\n      <th>11</th>\n      <td>55</td>\n    </tr>\n    <tr>\n      <th>12</th>\n      <td>60</td>\n    </tr>\n    <tr>\n      <th>13</th>\n      <td>65</td>\n    </tr>\n    <tr>\n      <th>14</th>\n      <td>70</td>\n    </tr>\n    <tr>\n      <th>15</th>\n      <td>75</td>\n    </tr>\n    <tr>\n      <th>16</th>\n      <td>80</td>\n    </tr>\n    <tr>\n      <th>17</th>\n      <td>85</td>\n    </tr>\n    <tr>\n      <th>18</th>\n      <td>90</td>\n    </tr>\n    <tr>\n      <th>19</th>\n      <td>95</td>\n    </tr>\n  </tbody>\n</table>\n</div>"
     },
     "execution_count": 57,
     "metadata": {},
     "output_type": "execute_result"
    }
   ],
   "source": [
    "temp = np.arange(0, 100, 5)\n",
    "df2 = pd.DataFrame(temp)\n",
    "df2"
   ],
   "metadata": {
    "collapsed": false,
    "pycharm": {
     "name": "#%%\n"
    }
   }
  },
  {
   "cell_type": "code",
   "execution_count": 58,
   "outputs": [
    {
     "data": {
      "text/plain": "           0\n0  -0.499296\n1  -0.048570\n2  -1.712305\n3   0.096654\n4  -0.579066\n5  -0.313737\n6  -0.239709\n7   2.131790\n8  -1.248719\n9   1.311605\n10 -0.490603\n11 -0.158415\n12 -0.699534\n13  2.434972\n14 -1.603902\n15 -0.827095\n16 -1.108721\n17 -0.101006\n18 -0.143591\n19  0.673169",
      "text/html": "<div>\n<style scoped>\n    .dataframe tbody tr th:only-of-type {\n        vertical-align: middle;\n    }\n\n    .dataframe tbody tr th {\n        vertical-align: top;\n    }\n\n    .dataframe thead th {\n        text-align: right;\n    }\n</style>\n<table border=\"1\" class=\"dataframe\">\n  <thead>\n    <tr style=\"text-align: right;\">\n      <th></th>\n      <th>0</th>\n    </tr>\n  </thead>\n  <tbody>\n    <tr>\n      <th>0</th>\n      <td>-0.499296</td>\n    </tr>\n    <tr>\n      <th>1</th>\n      <td>-0.048570</td>\n    </tr>\n    <tr>\n      <th>2</th>\n      <td>-1.712305</td>\n    </tr>\n    <tr>\n      <th>3</th>\n      <td>0.096654</td>\n    </tr>\n    <tr>\n      <th>4</th>\n      <td>-0.579066</td>\n    </tr>\n    <tr>\n      <th>5</th>\n      <td>-0.313737</td>\n    </tr>\n    <tr>\n      <th>6</th>\n      <td>-0.239709</td>\n    </tr>\n    <tr>\n      <th>7</th>\n      <td>2.131790</td>\n    </tr>\n    <tr>\n      <th>8</th>\n      <td>-1.248719</td>\n    </tr>\n    <tr>\n      <th>9</th>\n      <td>1.311605</td>\n    </tr>\n    <tr>\n      <th>10</th>\n      <td>-0.490603</td>\n    </tr>\n    <tr>\n      <th>11</th>\n      <td>-0.158415</td>\n    </tr>\n    <tr>\n      <th>12</th>\n      <td>-0.699534</td>\n    </tr>\n    <tr>\n      <th>13</th>\n      <td>2.434972</td>\n    </tr>\n    <tr>\n      <th>14</th>\n      <td>-1.603902</td>\n    </tr>\n    <tr>\n      <th>15</th>\n      <td>-0.827095</td>\n    </tr>\n    <tr>\n      <th>16</th>\n      <td>-1.108721</td>\n    </tr>\n    <tr>\n      <th>17</th>\n      <td>-0.101006</td>\n    </tr>\n    <tr>\n      <th>18</th>\n      <td>-0.143591</td>\n    </tr>\n    <tr>\n      <th>19</th>\n      <td>0.673169</td>\n    </tr>\n  </tbody>\n</table>\n</div>"
     },
     "execution_count": 58,
     "metadata": {},
     "output_type": "execute_result"
    }
   ],
   "source": [
    "temp = np.random.normal(0, 1, 20)\n",
    "df3 = pd.DataFrame(temp)\n",
    "df3\n"
   ],
   "metadata": {
    "collapsed": false,
    "pycharm": {
     "name": "#%%\n"
    }
   }
  },
  {
   "cell_type": "code",
   "execution_count": 59,
   "outputs": [
    {
     "data": {
      "text/plain": "            0\n0   40.000000\n1    4.000000\n2   76.000000\n3   59.000000\n4   70.000000\n5   30.000000\n6   95.000000\n7   67.000000\n8   90.000000\n9   99.000000\n10  71.000000\n11  54.000000\n12  67.000000\n13  91.000000\n14  52.000000\n15  67.000000\n16  24.000000\n17  12.000000\n18   7.000000\n19  21.000000\n20   0.000000\n21   5.000000\n22  10.000000\n23  15.000000\n24  20.000000\n25  25.000000\n26  30.000000\n27  35.000000\n28  40.000000\n29  45.000000\n30  50.000000\n31  55.000000\n32  60.000000\n33  65.000000\n34  70.000000\n35  75.000000\n36  80.000000\n37  85.000000\n38  90.000000\n39  95.000000\n40  -0.499296\n41  -0.048570\n42  -1.712305\n43   0.096654\n44  -0.579066\n45  -0.313737\n46  -0.239709\n47   2.131790\n48  -1.248719\n49   1.311605\n50  -0.490603\n51  -0.158415\n52  -0.699534\n53   2.434972\n54  -1.603902\n55  -0.827095\n56  -1.108721\n57  -0.101006\n58  -0.143591\n59   0.673169",
      "text/html": "<div>\n<style scoped>\n    .dataframe tbody tr th:only-of-type {\n        vertical-align: middle;\n    }\n\n    .dataframe tbody tr th {\n        vertical-align: top;\n    }\n\n    .dataframe thead th {\n        text-align: right;\n    }\n</style>\n<table border=\"1\" class=\"dataframe\">\n  <thead>\n    <tr style=\"text-align: right;\">\n      <th></th>\n      <th>0</th>\n    </tr>\n  </thead>\n  <tbody>\n    <tr>\n      <th>0</th>\n      <td>40.000000</td>\n    </tr>\n    <tr>\n      <th>1</th>\n      <td>4.000000</td>\n    </tr>\n    <tr>\n      <th>2</th>\n      <td>76.000000</td>\n    </tr>\n    <tr>\n      <th>3</th>\n      <td>59.000000</td>\n    </tr>\n    <tr>\n      <th>4</th>\n      <td>70.000000</td>\n    </tr>\n    <tr>\n      <th>5</th>\n      <td>30.000000</td>\n    </tr>\n    <tr>\n      <th>6</th>\n      <td>95.000000</td>\n    </tr>\n    <tr>\n      <th>7</th>\n      <td>67.000000</td>\n    </tr>\n    <tr>\n      <th>8</th>\n      <td>90.000000</td>\n    </tr>\n    <tr>\n      <th>9</th>\n      <td>99.000000</td>\n    </tr>\n    <tr>\n      <th>10</th>\n      <td>71.000000</td>\n    </tr>\n    <tr>\n      <th>11</th>\n      <td>54.000000</td>\n    </tr>\n    <tr>\n      <th>12</th>\n      <td>67.000000</td>\n    </tr>\n    <tr>\n      <th>13</th>\n      <td>91.000000</td>\n    </tr>\n    <tr>\n      <th>14</th>\n      <td>52.000000</td>\n    </tr>\n    <tr>\n      <th>15</th>\n      <td>67.000000</td>\n    </tr>\n    <tr>\n      <th>16</th>\n      <td>24.000000</td>\n    </tr>\n    <tr>\n      <th>17</th>\n      <td>12.000000</td>\n    </tr>\n    <tr>\n      <th>18</th>\n      <td>7.000000</td>\n    </tr>\n    <tr>\n      <th>19</th>\n      <td>21.000000</td>\n    </tr>\n    <tr>\n      <th>20</th>\n      <td>0.000000</td>\n    </tr>\n    <tr>\n      <th>21</th>\n      <td>5.000000</td>\n    </tr>\n    <tr>\n      <th>22</th>\n      <td>10.000000</td>\n    </tr>\n    <tr>\n      <th>23</th>\n      <td>15.000000</td>\n    </tr>\n    <tr>\n      <th>24</th>\n      <td>20.000000</td>\n    </tr>\n    <tr>\n      <th>25</th>\n      <td>25.000000</td>\n    </tr>\n    <tr>\n      <th>26</th>\n      <td>30.000000</td>\n    </tr>\n    <tr>\n      <th>27</th>\n      <td>35.000000</td>\n    </tr>\n    <tr>\n      <th>28</th>\n      <td>40.000000</td>\n    </tr>\n    <tr>\n      <th>29</th>\n      <td>45.000000</td>\n    </tr>\n    <tr>\n      <th>30</th>\n      <td>50.000000</td>\n    </tr>\n    <tr>\n      <th>31</th>\n      <td>55.000000</td>\n    </tr>\n    <tr>\n      <th>32</th>\n      <td>60.000000</td>\n    </tr>\n    <tr>\n      <th>33</th>\n      <td>65.000000</td>\n    </tr>\n    <tr>\n      <th>34</th>\n      <td>70.000000</td>\n    </tr>\n    <tr>\n      <th>35</th>\n      <td>75.000000</td>\n    </tr>\n    <tr>\n      <th>36</th>\n      <td>80.000000</td>\n    </tr>\n    <tr>\n      <th>37</th>\n      <td>85.000000</td>\n    </tr>\n    <tr>\n      <th>38</th>\n      <td>90.000000</td>\n    </tr>\n    <tr>\n      <th>39</th>\n      <td>95.000000</td>\n    </tr>\n    <tr>\n      <th>40</th>\n      <td>-0.499296</td>\n    </tr>\n    <tr>\n      <th>41</th>\n      <td>-0.048570</td>\n    </tr>\n    <tr>\n      <th>42</th>\n      <td>-1.712305</td>\n    </tr>\n    <tr>\n      <th>43</th>\n      <td>0.096654</td>\n    </tr>\n    <tr>\n      <th>44</th>\n      <td>-0.579066</td>\n    </tr>\n    <tr>\n      <th>45</th>\n      <td>-0.313737</td>\n    </tr>\n    <tr>\n      <th>46</th>\n      <td>-0.239709</td>\n    </tr>\n    <tr>\n      <th>47</th>\n      <td>2.131790</td>\n    </tr>\n    <tr>\n      <th>48</th>\n      <td>-1.248719</td>\n    </tr>\n    <tr>\n      <th>49</th>\n      <td>1.311605</td>\n    </tr>\n    <tr>\n      <th>50</th>\n      <td>-0.490603</td>\n    </tr>\n    <tr>\n      <th>51</th>\n      <td>-0.158415</td>\n    </tr>\n    <tr>\n      <th>52</th>\n      <td>-0.699534</td>\n    </tr>\n    <tr>\n      <th>53</th>\n      <td>2.434972</td>\n    </tr>\n    <tr>\n      <th>54</th>\n      <td>-1.603902</td>\n    </tr>\n    <tr>\n      <th>55</th>\n      <td>-0.827095</td>\n    </tr>\n    <tr>\n      <th>56</th>\n      <td>-1.108721</td>\n    </tr>\n    <tr>\n      <th>57</th>\n      <td>-0.101006</td>\n    </tr>\n    <tr>\n      <th>58</th>\n      <td>-0.143591</td>\n    </tr>\n    <tr>\n      <th>59</th>\n      <td>0.673169</td>\n    </tr>\n  </tbody>\n</table>\n</div>"
     },
     "execution_count": 59,
     "metadata": {},
     "output_type": "execute_result"
    }
   ],
   "source": [
    "df = pd.concat([df1,df2,df3], axis=0, ignore_index=True)\n",
    "df"
   ],
   "metadata": {
    "collapsed": false,
    "pycharm": {
     "name": "#%%\n"
    }
   }
  },
  {
   "cell_type": "code",
   "execution_count": 60,
   "outputs": [
    {
     "data": {
      "text/plain": "     0   1         2\n0   40   0 -0.499296\n1    4   5 -0.048570\n2   76  10 -1.712305\n3   59  15  0.096654\n4   70  20 -0.579066\n5   30  25 -0.313737\n6   95  30 -0.239709\n7   67  35  2.131790\n8   90  40 -1.248719\n9   99  45  1.311605\n10  71  50 -0.490603\n11  54  55 -0.158415\n12  67  60 -0.699534\n13  91  65  2.434972\n14  52  70 -1.603902\n15  67  75 -0.827095\n16  24  80 -1.108721\n17  12  85 -0.101006\n18   7  90 -0.143591\n19  21  95  0.673169",
      "text/html": "<div>\n<style scoped>\n    .dataframe tbody tr th:only-of-type {\n        vertical-align: middle;\n    }\n\n    .dataframe tbody tr th {\n        vertical-align: top;\n    }\n\n    .dataframe thead th {\n        text-align: right;\n    }\n</style>\n<table border=\"1\" class=\"dataframe\">\n  <thead>\n    <tr style=\"text-align: right;\">\n      <th></th>\n      <th>0</th>\n      <th>1</th>\n      <th>2</th>\n    </tr>\n  </thead>\n  <tbody>\n    <tr>\n      <th>0</th>\n      <td>40</td>\n      <td>0</td>\n      <td>-0.499296</td>\n    </tr>\n    <tr>\n      <th>1</th>\n      <td>4</td>\n      <td>5</td>\n      <td>-0.048570</td>\n    </tr>\n    <tr>\n      <th>2</th>\n      <td>76</td>\n      <td>10</td>\n      <td>-1.712305</td>\n    </tr>\n    <tr>\n      <th>3</th>\n      <td>59</td>\n      <td>15</td>\n      <td>0.096654</td>\n    </tr>\n    <tr>\n      <th>4</th>\n      <td>70</td>\n      <td>20</td>\n      <td>-0.579066</td>\n    </tr>\n    <tr>\n      <th>5</th>\n      <td>30</td>\n      <td>25</td>\n      <td>-0.313737</td>\n    </tr>\n    <tr>\n      <th>6</th>\n      <td>95</td>\n      <td>30</td>\n      <td>-0.239709</td>\n    </tr>\n    <tr>\n      <th>7</th>\n      <td>67</td>\n      <td>35</td>\n      <td>2.131790</td>\n    </tr>\n    <tr>\n      <th>8</th>\n      <td>90</td>\n      <td>40</td>\n      <td>-1.248719</td>\n    </tr>\n    <tr>\n      <th>9</th>\n      <td>99</td>\n      <td>45</td>\n      <td>1.311605</td>\n    </tr>\n    <tr>\n      <th>10</th>\n      <td>71</td>\n      <td>50</td>\n      <td>-0.490603</td>\n    </tr>\n    <tr>\n      <th>11</th>\n      <td>54</td>\n      <td>55</td>\n      <td>-0.158415</td>\n    </tr>\n    <tr>\n      <th>12</th>\n      <td>67</td>\n      <td>60</td>\n      <td>-0.699534</td>\n    </tr>\n    <tr>\n      <th>13</th>\n      <td>91</td>\n      <td>65</td>\n      <td>2.434972</td>\n    </tr>\n    <tr>\n      <th>14</th>\n      <td>52</td>\n      <td>70</td>\n      <td>-1.603902</td>\n    </tr>\n    <tr>\n      <th>15</th>\n      <td>67</td>\n      <td>75</td>\n      <td>-0.827095</td>\n    </tr>\n    <tr>\n      <th>16</th>\n      <td>24</td>\n      <td>80</td>\n      <td>-1.108721</td>\n    </tr>\n    <tr>\n      <th>17</th>\n      <td>12</td>\n      <td>85</td>\n      <td>-0.101006</td>\n    </tr>\n    <tr>\n      <th>18</th>\n      <td>7</td>\n      <td>90</td>\n      <td>-0.143591</td>\n    </tr>\n    <tr>\n      <th>19</th>\n      <td>21</td>\n      <td>95</td>\n      <td>0.673169</td>\n    </tr>\n  </tbody>\n</table>\n</div>"
     },
     "execution_count": 60,
     "metadata": {},
     "output_type": "execute_result"
    }
   ],
   "source": [
    "df=pd.concat([df1,df2,df3], axis=1, ignore_index=True)\n",
    "df"
   ],
   "metadata": {
    "collapsed": false,
    "pycharm": {
     "name": "#%%\n"
    }
   }
  },
  {
   "cell_type": "code",
   "execution_count": 61,
   "outputs": [
    {
     "name": "stdout",
     "output_type": "stream",
     "text": [
      "[-1.71230502e+00 -1.21426117e-02  2.45000000e+01  6.70000000e+01\n",
      "  9.90000000e+01]\n"
     ]
    }
   ],
   "source": [
    "print(np.percentile(df, q=[0, 25, 50, 75, 100]))\n"
   ],
   "metadata": {
    "collapsed": false,
    "pycharm": {
     "name": "#%%\n"
    }
   }
  },
  {
   "cell_type": "code",
   "execution_count": 62,
   "outputs": [
    {
     "data": {
      "text/plain": "    col1  col2      col3\n0     40     0 -0.499296\n1      4     5 -0.048570\n2     76    10 -1.712305\n3     59    15  0.096654\n4     70    20 -0.579066\n5     30    25 -0.313737\n6     95    30 -0.239709\n7     67    35  2.131790\n8     90    40 -1.248719\n9     99    45  1.311605\n10    71    50 -0.490603\n11    54    55 -0.158415\n12    67    60 -0.699534\n13    91    65  2.434972\n14    52    70 -1.603902\n15    67    75 -0.827095\n16    24    80 -1.108721\n17    12    85 -0.101006\n18     7    90 -0.143591\n19    21    95  0.673169",
      "text/html": "<div>\n<style scoped>\n    .dataframe tbody tr th:only-of-type {\n        vertical-align: middle;\n    }\n\n    .dataframe tbody tr th {\n        vertical-align: top;\n    }\n\n    .dataframe thead th {\n        text-align: right;\n    }\n</style>\n<table border=\"1\" class=\"dataframe\">\n  <thead>\n    <tr style=\"text-align: right;\">\n      <th></th>\n      <th>col1</th>\n      <th>col2</th>\n      <th>col3</th>\n    </tr>\n  </thead>\n  <tbody>\n    <tr>\n      <th>0</th>\n      <td>40</td>\n      <td>0</td>\n      <td>-0.499296</td>\n    </tr>\n    <tr>\n      <th>1</th>\n      <td>4</td>\n      <td>5</td>\n      <td>-0.048570</td>\n    </tr>\n    <tr>\n      <th>2</th>\n      <td>76</td>\n      <td>10</td>\n      <td>-1.712305</td>\n    </tr>\n    <tr>\n      <th>3</th>\n      <td>59</td>\n      <td>15</td>\n      <td>0.096654</td>\n    </tr>\n    <tr>\n      <th>4</th>\n      <td>70</td>\n      <td>20</td>\n      <td>-0.579066</td>\n    </tr>\n    <tr>\n      <th>5</th>\n      <td>30</td>\n      <td>25</td>\n      <td>-0.313737</td>\n    </tr>\n    <tr>\n      <th>6</th>\n      <td>95</td>\n      <td>30</td>\n      <td>-0.239709</td>\n    </tr>\n    <tr>\n      <th>7</th>\n      <td>67</td>\n      <td>35</td>\n      <td>2.131790</td>\n    </tr>\n    <tr>\n      <th>8</th>\n      <td>90</td>\n      <td>40</td>\n      <td>-1.248719</td>\n    </tr>\n    <tr>\n      <th>9</th>\n      <td>99</td>\n      <td>45</td>\n      <td>1.311605</td>\n    </tr>\n    <tr>\n      <th>10</th>\n      <td>71</td>\n      <td>50</td>\n      <td>-0.490603</td>\n    </tr>\n    <tr>\n      <th>11</th>\n      <td>54</td>\n      <td>55</td>\n      <td>-0.158415</td>\n    </tr>\n    <tr>\n      <th>12</th>\n      <td>67</td>\n      <td>60</td>\n      <td>-0.699534</td>\n    </tr>\n    <tr>\n      <th>13</th>\n      <td>91</td>\n      <td>65</td>\n      <td>2.434972</td>\n    </tr>\n    <tr>\n      <th>14</th>\n      <td>52</td>\n      <td>70</td>\n      <td>-1.603902</td>\n    </tr>\n    <tr>\n      <th>15</th>\n      <td>67</td>\n      <td>75</td>\n      <td>-0.827095</td>\n    </tr>\n    <tr>\n      <th>16</th>\n      <td>24</td>\n      <td>80</td>\n      <td>-1.108721</td>\n    </tr>\n    <tr>\n      <th>17</th>\n      <td>12</td>\n      <td>85</td>\n      <td>-0.101006</td>\n    </tr>\n    <tr>\n      <th>18</th>\n      <td>7</td>\n      <td>90</td>\n      <td>-0.143591</td>\n    </tr>\n    <tr>\n      <th>19</th>\n      <td>21</td>\n      <td>95</td>\n      <td>0.673169</td>\n    </tr>\n  </tbody>\n</table>\n</div>"
     },
     "execution_count": 62,
     "metadata": {},
     "output_type": "execute_result"
    }
   ],
   "source": [
    "df.columns = ['col1', 'col2', 'col3']\n",
    "df"
   ],
   "metadata": {
    "collapsed": false,
    "pycharm": {
     "name": "#%%\n"
    }
   }
  },
  {
   "cell_type": "code",
   "execution_count": 63,
   "outputs": [
    {
     "data": {
      "text/plain": "1      4\n2     76\n3     59\n7     67\n9     99\n10    71\n11    54\n12    67\n13    91\n14    52\n15    67\n16    24\n17    12\n18     7\n19    21\nName: col1, dtype: int32"
     },
     "execution_count": 63,
     "metadata": {},
     "output_type": "execute_result"
    }
   ],
   "source": [
    "df['col1'][~df['col1'].isin(df['col2'])]"
   ],
   "metadata": {
    "collapsed": false,
    "pycharm": {
     "name": "#%%\n"
    }
   }
  },
  {
   "cell_type": "code",
   "execution_count": 64,
   "outputs": [
    {
     "data": {
      "text/plain": "Int64Index([67, 90, 30], dtype='int64')"
     },
     "execution_count": 64,
     "metadata": {},
     "output_type": "execute_result"
    }
   ],
   "source": [
    "temp = df['col1'].append(df['col2'])\n",
    "temp.value_counts().index[:3]"
   ],
   "metadata": {
    "collapsed": false,
    "pycharm": {
     "name": "#%%\n"
    }
   }
  },
  {
   "cell_type": "code",
   "execution_count": 65,
   "outputs": [
    {
     "data": {
      "text/plain": "0    40\n4    70\n5    30\n6    95\n8    90\nName: col1, dtype: int32"
     },
     "execution_count": 65,
     "metadata": {},
     "output_type": "execute_result"
    },
    {
     "data": {
      "text/plain": "array([[0],\n       [4],\n       [5],\n       [6],\n       [8]], dtype=int64)"
     },
     "execution_count": 65,
     "metadata": {},
     "output_type": "execute_result"
    }
   ],
   "source": [
    "idx = np.where(df['col1'] % 5 == 0)\n",
    "df.loc[idx, 'col1']\n",
    "\n",
    "np.argwhere(df['col1'].values % 5 == 0)\n"
   ],
   "metadata": {
    "collapsed": false,
    "pycharm": {
     "name": "#%%\n"
    }
   }
  },
  {
   "cell_type": "code",
   "execution_count": 66,
   "outputs": [
    {
     "data": {
      "text/plain": "0      NaN\n1    -36.0\n2     72.0\n3    -17.0\n4     11.0\n5    -40.0\n6     65.0\n7    -28.0\n8     23.0\n9      9.0\n10   -28.0\n11   -17.0\n12    13.0\n13    24.0\n14   -39.0\n15    15.0\n16   -43.0\n17   -12.0\n18    -5.0\n19    14.0\nName: col1, dtype: float64"
     },
     "execution_count": 66,
     "metadata": {},
     "output_type": "execute_result"
    }
   ],
   "source": [
    "df['col1'].diff()"
   ],
   "metadata": {
    "collapsed": false,
    "pycharm": {
     "name": "#%%\n"
    }
   }
  },
  {
   "cell_type": "code",
   "execution_count": 67,
   "outputs": [
    {
     "data": {
      "text/plain": "    col1  col2      col3\n15    67    75 -0.827095\n16    24    80 -1.108721\n17    12    85 -0.101006\n18     7    90 -0.143591\n19    21    95  0.673169",
      "text/html": "<div>\n<style scoped>\n    .dataframe tbody tr th:only-of-type {\n        vertical-align: middle;\n    }\n\n    .dataframe tbody tr th {\n        vertical-align: top;\n    }\n\n    .dataframe thead th {\n        text-align: right;\n    }\n</style>\n<table border=\"1\" class=\"dataframe\">\n  <thead>\n    <tr style=\"text-align: right;\">\n      <th></th>\n      <th>col1</th>\n      <th>col2</th>\n      <th>col3</th>\n    </tr>\n  </thead>\n  <tbody>\n    <tr>\n      <th>15</th>\n      <td>67</td>\n      <td>75</td>\n      <td>-0.827095</td>\n    </tr>\n    <tr>\n      <th>16</th>\n      <td>24</td>\n      <td>80</td>\n      <td>-1.108721</td>\n    </tr>\n    <tr>\n      <th>17</th>\n      <td>12</td>\n      <td>85</td>\n      <td>-0.101006</td>\n    </tr>\n    <tr>\n      <th>18</th>\n      <td>7</td>\n      <td>90</td>\n      <td>-0.143591</td>\n    </tr>\n    <tr>\n      <th>19</th>\n      <td>21</td>\n      <td>95</td>\n      <td>0.673169</td>\n    </tr>\n  </tbody>\n</table>\n</div>"
     },
     "execution_count": 67,
     "metadata": {},
     "output_type": "execute_result"
    },
    {
     "data": {
      "text/plain": "    col1  col2      col3\n19    21    95  0.673169\n18     7    90 -0.143591\n17    12    85 -0.101006\n16    24    80 -1.108721\n15    67    75 -0.827095\n14    52    70 -1.603902\n13    91    65  2.434972\n12    67    60 -0.699534\n11    54    55 -0.158415\n10    71    50 -0.490603\n9     99    45  1.311605\n8     90    40 -1.248719\n7     67    35  2.131790\n6     95    30 -0.239709\n5     30    25 -0.313737\n4     70    20 -0.579066\n3     59    15  0.096654\n2     76    10 -1.712305\n1      4     5 -0.048570\n0     40     0 -0.499296",
      "text/html": "<div>\n<style scoped>\n    .dataframe tbody tr th:only-of-type {\n        vertical-align: middle;\n    }\n\n    .dataframe tbody tr th {\n        vertical-align: top;\n    }\n\n    .dataframe thead th {\n        text-align: right;\n    }\n</style>\n<table border=\"1\" class=\"dataframe\">\n  <thead>\n    <tr style=\"text-align: right;\">\n      <th></th>\n      <th>col1</th>\n      <th>col2</th>\n      <th>col3</th>\n    </tr>\n  </thead>\n  <tbody>\n    <tr>\n      <th>19</th>\n      <td>21</td>\n      <td>95</td>\n      <td>0.673169</td>\n    </tr>\n    <tr>\n      <th>18</th>\n      <td>7</td>\n      <td>90</td>\n      <td>-0.143591</td>\n    </tr>\n    <tr>\n      <th>17</th>\n      <td>12</td>\n      <td>85</td>\n      <td>-0.101006</td>\n    </tr>\n    <tr>\n      <th>16</th>\n      <td>24</td>\n      <td>80</td>\n      <td>-1.108721</td>\n    </tr>\n    <tr>\n      <th>15</th>\n      <td>67</td>\n      <td>75</td>\n      <td>-0.827095</td>\n    </tr>\n    <tr>\n      <th>14</th>\n      <td>52</td>\n      <td>70</td>\n      <td>-1.603902</td>\n    </tr>\n    <tr>\n      <th>13</th>\n      <td>91</td>\n      <td>65</td>\n      <td>2.434972</td>\n    </tr>\n    <tr>\n      <th>12</th>\n      <td>67</td>\n      <td>60</td>\n      <td>-0.699534</td>\n    </tr>\n    <tr>\n      <th>11</th>\n      <td>54</td>\n      <td>55</td>\n      <td>-0.158415</td>\n    </tr>\n    <tr>\n      <th>10</th>\n      <td>71</td>\n      <td>50</td>\n      <td>-0.490603</td>\n    </tr>\n    <tr>\n      <th>9</th>\n      <td>99</td>\n      <td>45</td>\n      <td>1.311605</td>\n    </tr>\n    <tr>\n      <th>8</th>\n      <td>90</td>\n      <td>40</td>\n      <td>-1.248719</td>\n    </tr>\n    <tr>\n      <th>7</th>\n      <td>67</td>\n      <td>35</td>\n      <td>2.131790</td>\n    </tr>\n    <tr>\n      <th>6</th>\n      <td>95</td>\n      <td>30</td>\n      <td>-0.239709</td>\n    </tr>\n    <tr>\n      <th>5</th>\n      <td>30</td>\n      <td>25</td>\n      <td>-0.313737</td>\n    </tr>\n    <tr>\n      <th>4</th>\n      <td>70</td>\n      <td>20</td>\n      <td>-0.579066</td>\n    </tr>\n    <tr>\n      <th>3</th>\n      <td>59</td>\n      <td>15</td>\n      <td>0.096654</td>\n    </tr>\n    <tr>\n      <th>2</th>\n      <td>76</td>\n      <td>10</td>\n      <td>-1.712305</td>\n    </tr>\n    <tr>\n      <th>1</th>\n      <td>4</td>\n      <td>5</td>\n      <td>-0.048570</td>\n    </tr>\n    <tr>\n      <th>0</th>\n      <td>40</td>\n      <td>0</td>\n      <td>-0.499296</td>\n    </tr>\n  </tbody>\n</table>\n</div>"
     },
     "execution_count": 67,
     "metadata": {},
     "output_type": "execute_result"
    }
   ],
   "source": [
    "df.tail()\n",
    "df.iloc[::-1,:]"
   ],
   "metadata": {
    "collapsed": false,
    "pycharm": {
     "name": "#%%\n"
    }
   }
  },
  {
   "cell_type": "code",
   "execution_count": 68,
   "outputs": [
    {
     "data": {
      "text/plain": "1      4\n10    71\n15    67\nName: col1, dtype: int32"
     },
     "execution_count": 68,
     "metadata": {},
     "output_type": "execute_result"
    },
    {
     "data": {
      "text/plain": "1      4\n10    71\n15    67\nName: col1, dtype: int32"
     },
     "execution_count": 68,
     "metadata": {},
     "output_type": "execute_result"
    }
   ],
   "source": [
    "df.loc[[1,10,15],'col1']\n",
    "df.iloc[[1,10,15],0]"
   ],
   "metadata": {
    "collapsed": false,
    "pycharm": {
     "name": "#%%\n"
    }
   }
  },
  {
   "cell_type": "code",
   "execution_count": 69,
   "outputs": [
    {
     "data": {
      "text/plain": "array([ 2,  4,  6,  9, 13, 15], dtype=int64)"
     },
     "execution_count": 69,
     "metadata": {},
     "output_type": "execute_result"
    },
    {
     "data": {
      "text/plain": "        0     1     2     3     4     5     6     7     8     9     10    11  \\\ncol1  40.0   4.0  76.0  59.0  70.0  30.0  95.0  67.0  90.0  99.0  71.0  54.0   \ncol1   NaN -36.0  72.0 -17.0  11.0 -40.0  65.0 -28.0  23.0   9.0 -28.0 -17.0   \ncol1   NaN  -1.0   1.0  -1.0   1.0  -1.0   1.0  -1.0   1.0   1.0  -1.0  -1.0   \ncol1   NaN   NaN   2.0  -2.0   2.0  -2.0   2.0  -2.0   2.0   0.0  -2.0   0.0   \n\n        12    13    14    15    16    17   18    19  \ncol1  67.0  91.0  52.0  67.0  24.0  12.0  7.0  21.0  \ncol1  13.0  24.0 -39.0  15.0 -43.0 -12.0 -5.0  14.0  \ncol1   1.0   1.0  -1.0   1.0  -1.0  -1.0 -1.0   1.0  \ncol1   2.0   0.0  -2.0   2.0  -2.0   0.0  0.0   2.0  ",
      "text/html": "<div>\n<style scoped>\n    .dataframe tbody tr th:only-of-type {\n        vertical-align: middle;\n    }\n\n    .dataframe tbody tr th {\n        vertical-align: top;\n    }\n\n    .dataframe thead th {\n        text-align: right;\n    }\n</style>\n<table border=\"1\" class=\"dataframe\">\n  <thead>\n    <tr style=\"text-align: right;\">\n      <th></th>\n      <th>0</th>\n      <th>1</th>\n      <th>2</th>\n      <th>3</th>\n      <th>4</th>\n      <th>5</th>\n      <th>6</th>\n      <th>7</th>\n      <th>8</th>\n      <th>9</th>\n      <th>10</th>\n      <th>11</th>\n      <th>12</th>\n      <th>13</th>\n      <th>14</th>\n      <th>15</th>\n      <th>16</th>\n      <th>17</th>\n      <th>18</th>\n      <th>19</th>\n    </tr>\n  </thead>\n  <tbody>\n    <tr>\n      <th>col1</th>\n      <td>40.0</td>\n      <td>4.0</td>\n      <td>76.0</td>\n      <td>59.0</td>\n      <td>70.0</td>\n      <td>30.0</td>\n      <td>95.0</td>\n      <td>67.0</td>\n      <td>90.0</td>\n      <td>99.0</td>\n      <td>71.0</td>\n      <td>54.0</td>\n      <td>67.0</td>\n      <td>91.0</td>\n      <td>52.0</td>\n      <td>67.0</td>\n      <td>24.0</td>\n      <td>12.0</td>\n      <td>7.0</td>\n      <td>21.0</td>\n    </tr>\n    <tr>\n      <th>col1</th>\n      <td>NaN</td>\n      <td>-36.0</td>\n      <td>72.0</td>\n      <td>-17.0</td>\n      <td>11.0</td>\n      <td>-40.0</td>\n      <td>65.0</td>\n      <td>-28.0</td>\n      <td>23.0</td>\n      <td>9.0</td>\n      <td>-28.0</td>\n      <td>-17.0</td>\n      <td>13.0</td>\n      <td>24.0</td>\n      <td>-39.0</td>\n      <td>15.0</td>\n      <td>-43.0</td>\n      <td>-12.0</td>\n      <td>-5.0</td>\n      <td>14.0</td>\n    </tr>\n    <tr>\n      <th>col1</th>\n      <td>NaN</td>\n      <td>-1.0</td>\n      <td>1.0</td>\n      <td>-1.0</td>\n      <td>1.0</td>\n      <td>-1.0</td>\n      <td>1.0</td>\n      <td>-1.0</td>\n      <td>1.0</td>\n      <td>1.0</td>\n      <td>-1.0</td>\n      <td>-1.0</td>\n      <td>1.0</td>\n      <td>1.0</td>\n      <td>-1.0</td>\n      <td>1.0</td>\n      <td>-1.0</td>\n      <td>-1.0</td>\n      <td>-1.0</td>\n      <td>1.0</td>\n    </tr>\n    <tr>\n      <th>col1</th>\n      <td>NaN</td>\n      <td>NaN</td>\n      <td>2.0</td>\n      <td>-2.0</td>\n      <td>2.0</td>\n      <td>-2.0</td>\n      <td>2.0</td>\n      <td>-2.0</td>\n      <td>2.0</td>\n      <td>0.0</td>\n      <td>-2.0</td>\n      <td>0.0</td>\n      <td>2.0</td>\n      <td>0.0</td>\n      <td>-2.0</td>\n      <td>2.0</td>\n      <td>-2.0</td>\n      <td>0.0</td>\n      <td>0.0</td>\n      <td>2.0</td>\n    </tr>\n  </tbody>\n</table>\n</div>"
     },
     "execution_count": 69,
     "metadata": {},
     "output_type": "execute_result"
    }
   ],
   "source": [
    "temp = np.diff(np.sign(np.diff(df['col1'])))\n",
    "np.where(temp==-2)[0] + 1\n",
    "\n",
    "#备注 即比它前一个与后一个数字的都大的数字\n",
    "c1 = df['col1'].diff()\n",
    "c2 = np.sign(df['col1'].diff())\n",
    "c3 = np.sign(df['col1'].diff()).diff()\n",
    "\n",
    "df1 = pd.DataFrame([df['col1'],c1,c2,c3])\n",
    "df1"
   ],
   "metadata": {
    "collapsed": false,
    "pycharm": {
     "name": "#%% 查找第一列的局部最大值位置\n"
    }
   }
  },
  {
   "cell_type": "code",
   "execution_count": 70,
   "outputs": [
    {
     "data": {
      "text/plain": "0     13.166901\n1      2.983810\n2     28.095898\n3     24.698885\n4     29.806978\n5     18.228754\n6     41.586764\n7     34.710597\n8     42.917094\n9     48.437202\n10    40.169799\n11    36.280528\n12    42.100155\n13    52.811657\n14    40.132033\n15    47.057635\n16    34.297093\n17    32.299665\n18    32.285470\n19    38.891056\ndtype: float64"
     },
     "execution_count": 70,
     "metadata": {},
     "output_type": "execute_result"
    }
   ],
   "source": [
    "df.mean(axis=1)"
   ],
   "metadata": {
    "collapsed": false,
    "pycharm": {
     "name": "#%%\n"
    }
   }
  },
  {
   "cell_type": "code",
   "execution_count": 71,
   "outputs": [
    {
     "data": {
      "text/plain": "    col1  col2      col3\n2     76    10 -1.712305\n14    52    70 -1.603902\n8     90    40 -1.248719\n16    24    80 -1.108721\n15    67    75 -0.827095\n12    67    60 -0.699534\n4     70    20 -0.579066\n0     40     0 -0.499296\n10    71    50 -0.490603\n5     30    25 -0.313737\n6     95    30 -0.239709\n11    54    55 -0.158415\n18     7    90 -0.143591\n17    12    85 -0.101006\n1      4     5 -0.048570\n3     59    15  0.096654\n19    21    95  0.673169\n9     99    45  1.311605\n7     67    35  2.131790\n13    91    65  2.434972",
      "text/html": "<div>\n<style scoped>\n    .dataframe tbody tr th:only-of-type {\n        vertical-align: middle;\n    }\n\n    .dataframe tbody tr th {\n        vertical-align: top;\n    }\n\n    .dataframe thead th {\n        text-align: right;\n    }\n</style>\n<table border=\"1\" class=\"dataframe\">\n  <thead>\n    <tr style=\"text-align: right;\">\n      <th></th>\n      <th>col1</th>\n      <th>col2</th>\n      <th>col3</th>\n    </tr>\n  </thead>\n  <tbody>\n    <tr>\n      <th>2</th>\n      <td>76</td>\n      <td>10</td>\n      <td>-1.712305</td>\n    </tr>\n    <tr>\n      <th>14</th>\n      <td>52</td>\n      <td>70</td>\n      <td>-1.603902</td>\n    </tr>\n    <tr>\n      <th>8</th>\n      <td>90</td>\n      <td>40</td>\n      <td>-1.248719</td>\n    </tr>\n    <tr>\n      <th>16</th>\n      <td>24</td>\n      <td>80</td>\n      <td>-1.108721</td>\n    </tr>\n    <tr>\n      <th>15</th>\n      <td>67</td>\n      <td>75</td>\n      <td>-0.827095</td>\n    </tr>\n    <tr>\n      <th>12</th>\n      <td>67</td>\n      <td>60</td>\n      <td>-0.699534</td>\n    </tr>\n    <tr>\n      <th>4</th>\n      <td>70</td>\n      <td>20</td>\n      <td>-0.579066</td>\n    </tr>\n    <tr>\n      <th>0</th>\n      <td>40</td>\n      <td>0</td>\n      <td>-0.499296</td>\n    </tr>\n    <tr>\n      <th>10</th>\n      <td>71</td>\n      <td>50</td>\n      <td>-0.490603</td>\n    </tr>\n    <tr>\n      <th>5</th>\n      <td>30</td>\n      <td>25</td>\n      <td>-0.313737</td>\n    </tr>\n    <tr>\n      <th>6</th>\n      <td>95</td>\n      <td>30</td>\n      <td>-0.239709</td>\n    </tr>\n    <tr>\n      <th>11</th>\n      <td>54</td>\n      <td>55</td>\n      <td>-0.158415</td>\n    </tr>\n    <tr>\n      <th>18</th>\n      <td>7</td>\n      <td>90</td>\n      <td>-0.143591</td>\n    </tr>\n    <tr>\n      <th>17</th>\n      <td>12</td>\n      <td>85</td>\n      <td>-0.101006</td>\n    </tr>\n    <tr>\n      <th>1</th>\n      <td>4</td>\n      <td>5</td>\n      <td>-0.048570</td>\n    </tr>\n    <tr>\n      <th>3</th>\n      <td>59</td>\n      <td>15</td>\n      <td>0.096654</td>\n    </tr>\n    <tr>\n      <th>19</th>\n      <td>21</td>\n      <td>95</td>\n      <td>0.673169</td>\n    </tr>\n    <tr>\n      <th>9</th>\n      <td>99</td>\n      <td>45</td>\n      <td>1.311605</td>\n    </tr>\n    <tr>\n      <th>7</th>\n      <td>67</td>\n      <td>35</td>\n      <td>2.131790</td>\n    </tr>\n    <tr>\n      <th>13</th>\n      <td>91</td>\n      <td>65</td>\n      <td>2.434972</td>\n    </tr>\n  </tbody>\n</table>\n</div>"
     },
     "execution_count": 71,
     "metadata": {},
     "output_type": "execute_result"
    }
   ],
   "source": [
    "df.sort_values('col3', inplace=True)\n",
    "df"
   ],
   "metadata": {
    "collapsed": false,
    "pycharm": {
     "name": "#%%\n"
    }
   }
  },
  {
   "cell_type": "code",
   "execution_count": 72,
   "outputs": [
    {
     "name": "stderr",
     "output_type": "stream",
     "text": [
      "<ipython-input-72-b2e3c6705537>:1: SettingWithCopyWarning: \n",
      "A value is trying to be set on a copy of a slice from a DataFrame\n",
      "\n",
      "See the caveats in the documentation: https://pandas.pydata.org/pandas-docs/stable/user_guide/indexing.html#returning-a-view-versus-a-copy\n",
      "  df.col1[df.col1>50] = '高'\n"
     ]
    },
    {
     "data": {
      "text/plain": "   col1  col2      col3\n2     高    10 -1.712305\n14    高    70 -1.603902\n8     高    40 -1.248719\n16   24    80 -1.108721\n15    高    75 -0.827095\n12    高    60 -0.699534\n4     高    20 -0.579066\n0    40     0 -0.499296\n10    高    50 -0.490603\n5    30    25 -0.313737\n6     高    30 -0.239709\n11    高    55 -0.158415\n18    7    90 -0.143591\n17   12    85 -0.101006\n1     4     5 -0.048570\n3     高    15  0.096654\n19   21    95  0.673169\n9     高    45  1.311605\n7     高    35  2.131790\n13    高    65  2.434972",
      "text/html": "<div>\n<style scoped>\n    .dataframe tbody tr th:only-of-type {\n        vertical-align: middle;\n    }\n\n    .dataframe tbody tr th {\n        vertical-align: top;\n    }\n\n    .dataframe thead th {\n        text-align: right;\n    }\n</style>\n<table border=\"1\" class=\"dataframe\">\n  <thead>\n    <tr style=\"text-align: right;\">\n      <th></th>\n      <th>col1</th>\n      <th>col2</th>\n      <th>col3</th>\n    </tr>\n  </thead>\n  <tbody>\n    <tr>\n      <th>2</th>\n      <td>高</td>\n      <td>10</td>\n      <td>-1.712305</td>\n    </tr>\n    <tr>\n      <th>14</th>\n      <td>高</td>\n      <td>70</td>\n      <td>-1.603902</td>\n    </tr>\n    <tr>\n      <th>8</th>\n      <td>高</td>\n      <td>40</td>\n      <td>-1.248719</td>\n    </tr>\n    <tr>\n      <th>16</th>\n      <td>24</td>\n      <td>80</td>\n      <td>-1.108721</td>\n    </tr>\n    <tr>\n      <th>15</th>\n      <td>高</td>\n      <td>75</td>\n      <td>-0.827095</td>\n    </tr>\n    <tr>\n      <th>12</th>\n      <td>高</td>\n      <td>60</td>\n      <td>-0.699534</td>\n    </tr>\n    <tr>\n      <th>4</th>\n      <td>高</td>\n      <td>20</td>\n      <td>-0.579066</td>\n    </tr>\n    <tr>\n      <th>0</th>\n      <td>40</td>\n      <td>0</td>\n      <td>-0.499296</td>\n    </tr>\n    <tr>\n      <th>10</th>\n      <td>高</td>\n      <td>50</td>\n      <td>-0.490603</td>\n    </tr>\n    <tr>\n      <th>5</th>\n      <td>30</td>\n      <td>25</td>\n      <td>-0.313737</td>\n    </tr>\n    <tr>\n      <th>6</th>\n      <td>高</td>\n      <td>30</td>\n      <td>-0.239709</td>\n    </tr>\n    <tr>\n      <th>11</th>\n      <td>高</td>\n      <td>55</td>\n      <td>-0.158415</td>\n    </tr>\n    <tr>\n      <th>18</th>\n      <td>7</td>\n      <td>90</td>\n      <td>-0.143591</td>\n    </tr>\n    <tr>\n      <th>17</th>\n      <td>12</td>\n      <td>85</td>\n      <td>-0.101006</td>\n    </tr>\n    <tr>\n      <th>1</th>\n      <td>4</td>\n      <td>5</td>\n      <td>-0.048570</td>\n    </tr>\n    <tr>\n      <th>3</th>\n      <td>高</td>\n      <td>15</td>\n      <td>0.096654</td>\n    </tr>\n    <tr>\n      <th>19</th>\n      <td>21</td>\n      <td>95</td>\n      <td>0.673169</td>\n    </tr>\n    <tr>\n      <th>9</th>\n      <td>高</td>\n      <td>45</td>\n      <td>1.311605</td>\n    </tr>\n    <tr>\n      <th>7</th>\n      <td>高</td>\n      <td>35</td>\n      <td>2.131790</td>\n    </tr>\n    <tr>\n      <th>13</th>\n      <td>高</td>\n      <td>65</td>\n      <td>2.434972</td>\n    </tr>\n  </tbody>\n</table>\n</div>"
     },
     "execution_count": 72,
     "metadata": {},
     "output_type": "execute_result"
    }
   ],
   "source": [
    "df.col1[df.col1>50] = '高'\n",
    "df\n",
    "\n",
    "\n"
   ],
   "metadata": {
    "collapsed": false,
    "pycharm": {
     "name": "#%%\n"
    }
   }
  }
 ],
 "metadata": {
  "kernelspec": {
   "display_name": "Python 3",
   "language": "python",
   "name": "python3"
  },
  "language_info": {
   "codemirror_mode": {
    "name": "ipython",
    "version": 2
   },
   "file_extension": ".py",
   "mimetype": "text/x-python",
   "name": "python",
   "nbconvert_exporter": "python",
   "pygments_lexer": "ipython2",
   "version": "2.7.6"
  }
 },
 "nbformat": 4,
 "nbformat_minor": 0
}