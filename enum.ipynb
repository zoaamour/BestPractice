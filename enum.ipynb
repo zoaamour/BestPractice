{
 "cells": [
  {
   "cell_type": "code",
   "execution_count": 8,
   "metadata": {
    "collapsed": true
   },
   "outputs": [],
   "source": [
    "from enum import Enum,IntEnum"
   ]
  },
  {
   "cell_type": "code",
   "execution_count": null,
   "outputs": [],
   "source": [
    "from enum import Enum\n",
    "class Weekday(Enum):\n",
    "    monday = 1\n",
    "    tuesday = 2\n",
    "    wednesday = 3\n",
    "    thirsday = 4\n",
    "    friday = 5\n",
    "    saturday = 6\n",
    "    sunday = 7\n",
    "\n",
    "obj_1 = Weekday.wednesday\n",
    "obj_2 = Weekday['wednesday']\n",
    "obj_3 = Weekday(3)\n",
    "\n",
    "print(obj_1==obj_2==obj_3)      # True\n",
    "print(obj_1 is obj_2 is obj_3)  # Tr\n",
    "print(obj_1==3)\n",
    "print((obj_1.value==3))"
   ],
   "metadata": {
    "collapsed": false,
    "pycharm": {
     "name": "#%%\n"
    }
   }
  },
  {
   "cell_type": "markdown",
   "source": [
    "IntEnum的枚举做比较时，比较的是它们的值"
   ],
   "metadata": {
    "collapsed": false,
    "pycharm": {
     "name": "#%% md\n"
    }
   }
  },
  {
   "cell_type": "code",
   "execution_count": 12,
   "outputs": [
    {
     "name": "stdout",
     "output_type": "stream",
     "text": [
      "True\n",
      "True\n"
     ]
    }
   ],
   "source": [
    "class Shape(IntEnum):\n",
    "    circle = 1\n",
    "    square = 2\n",
    "\n",
    "print(Shape.circle==1)\n",
    "print(Shape.circle.value==1)"
   ],
   "metadata": {
    "collapsed": false,
    "pycharm": {
     "name": "#%%\n"
    }
   }
  },
  {
   "cell_type": "markdown",
   "source": [
    "\n"
   ],
   "metadata": {
    "collapsed": false
   }
  }
 ],
 "metadata": {
  "kernelspec": {
   "display_name": "Python 3",
   "language": "python",
   "name": "python3"
  },
  "language_info": {
   "codemirror_mode": {
    "name": "ipython",
    "version": 2
   },
   "file_extension": ".py",
   "mimetype": "text/x-python",
   "name": "python",
   "nbconvert_exporter": "python",
   "pygments_lexer": "ipython2",
   "version": "2.7.6"
  }
 },
 "nbformat": 4,
 "nbformat_minor": 0
}