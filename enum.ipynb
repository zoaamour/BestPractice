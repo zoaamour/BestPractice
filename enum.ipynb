{
 "cells": [
  {
   "cell_type": "code",
   "execution_count": 8,
   "metadata": {
    "collapsed": true
   },
   "outputs": [],
   "source": [
    "from enum import Enum,IntEnum"
   ]
  },
  {
   "cell_type": "code",
   "execution_count": 13,
   "outputs": [
    {
     "name": "stdout",
     "output_type": "stream",
     "text": [
      "True\n",
      "True\n",
      "False\n",
      "True\n"
     ]
    }
   ],
   "source": [
    "from enum import Enum\n",
    "class Weekday(Enum):\n",
    "    monday = 1\n",
    "    tuesday = 2\n",
    "    wednesday = 3\n",
    "    thirsday = 4\n",
    "    friday = 5\n",
    "    saturday = 6\n",
    "    sunday = 7\n",
    "\n",
    "obj_1 = Weekday.wednesday\n",
    "obj_2 = Weekday['wednesday']\n",
    "obj_3 = Weekday(3)\n",
    "\n",
    "print(obj_1==obj_2==obj_3)      # True\n",
    "print(obj_1 is obj_2 is obj_3)  # Tr\n",
    "print(obj_1==3)\n",
    "print((obj_1.value==3))"
   ],
   "metadata": {
    "collapsed": false,
    "pycharm": {
     "name": "#%%\n"
    }
   }
  },
  {
   "cell_type": "markdown",
   "source": [
    "IntEnum的枚举做比较时，比较的是它们的值"
   ],
   "metadata": {
    "collapsed": false,
    "pycharm": {
     "name": "#%% md\n"
    }
   }
  },
  {
   "cell_type": "code",
   "execution_count": 12,
   "outputs": [
    {
     "name": "stdout",
     "output_type": "stream",
     "text": [
      "True\n",
      "True\n"
     ]
    }
   ],
   "source": [
    "class Shape(IntEnum):\n",
    "    circle = 1\n",
    "    square = 2\n",
    "\n",
    "print(Shape.circle==1)\n",
    "print(Shape.circle.value==1)"
   ],
   "metadata": {
    "collapsed": false,
    "pycharm": {
     "name": "#%%\n"
    }
   }
  },
  {
   "cell_type": "markdown",
   "source": [
    "主要处理方法庞大且要处理许多条件的情况下，这种处理方法会使代码看起来更简洁。"
   ],
   "metadata": {
    "collapsed": false
   }
  },
  {
   "cell_type": "code",
   "execution_count": 1,
   "outputs": [
    {
     "name": "stdout",
     "output_type": "stream",
     "text": [
      "Handling open status\n",
      "Handling in progress status\n",
      "Handling closed status\n"
     ]
    },
    {
     "ename": "Exception",
     "evalue": "No handler found for status: 4",
     "output_type": "error",
     "traceback": [
      "\u001B[1;31m---------------------------------------------------------------------------\u001B[0m",
      "\u001B[1;31mException\u001B[0m                                 Traceback (most recent call last)",
      "\u001B[1;32m<ipython-input-1-fbe7746aeee8>\u001B[0m in \u001B[0;36m<module>\u001B[1;34m\u001B[0m\n\u001B[0;32m     30\u001B[0m \u001B[0mhandle_status_change\u001B[0m\u001B[1;33m(\u001B[0m\u001B[0mStatusE\u001B[0m\u001B[1;33m.\u001B[0m\u001B[0mIN_PROGRESS\u001B[0m\u001B[1;33m.\u001B[0m\u001B[0mvalue\u001B[0m\u001B[1;33m)\u001B[0m  \u001B[1;31m# 处理正在进行中的状态\u001B[0m\u001B[1;33m\u001B[0m\u001B[1;33m\u001B[0m\u001B[0m\n\u001B[0;32m     31\u001B[0m \u001B[0mhandle_status_change\u001B[0m\u001B[1;33m(\u001B[0m\u001B[0mStatusE\u001B[0m\u001B[1;33m.\u001B[0m\u001B[0mCLOSED\u001B[0m\u001B[1;33m.\u001B[0m\u001B[0mvalue\u001B[0m\u001B[1;33m)\u001B[0m  \u001B[1;31m# 处理关闭状态\u001B[0m\u001B[1;33m\u001B[0m\u001B[1;33m\u001B[0m\u001B[0m\n\u001B[1;32m---> 32\u001B[1;33m \u001B[0mhandle_status_change\u001B[0m\u001B[1;33m(\u001B[0m\u001B[1;36m4\u001B[0m\u001B[1;33m)\u001B[0m  \u001B[1;31m# Will raise the exception\u001B[0m\u001B[1;33m\u001B[0m\u001B[1;33m\u001B[0m\u001B[0m\n\u001B[0m\u001B[0;32m     33\u001B[0m \u001B[1;33m\u001B[0m\u001B[0m\n",
      "\u001B[1;32m<ipython-input-1-fbe7746aeee8>\u001B[0m in \u001B[0;36mhandle_status_change\u001B[1;34m(status)\u001B[0m\n\u001B[0;32m     23\u001B[0m \u001B[1;32mdef\u001B[0m \u001B[0mhandle_status_change\u001B[0m\u001B[1;33m(\u001B[0m\u001B[0mstatus\u001B[0m\u001B[1;33m)\u001B[0m\u001B[1;33m:\u001B[0m\u001B[1;33m\u001B[0m\u001B[1;33m\u001B[0m\u001B[0m\n\u001B[0;32m     24\u001B[0m     \u001B[1;32mif\u001B[0m \u001B[0mstatus\u001B[0m \u001B[1;32mnot\u001B[0m \u001B[1;32min\u001B[0m \u001B[0mhandlers\u001B[0m\u001B[1;33m:\u001B[0m\u001B[1;33m\u001B[0m\u001B[1;33m\u001B[0m\u001B[0m\n\u001B[1;32m---> 25\u001B[1;33m          \u001B[1;32mraise\u001B[0m \u001B[0mException\u001B[0m\u001B[1;33m(\u001B[0m\u001B[1;34mf'No handler found for status: {status}'\u001B[0m\u001B[1;33m)\u001B[0m\u001B[1;33m\u001B[0m\u001B[1;33m\u001B[0m\u001B[0m\n\u001B[0m\u001B[0;32m     26\u001B[0m     \u001B[0mhandler\u001B[0m \u001B[1;33m=\u001B[0m \u001B[0mhandlers\u001B[0m\u001B[1;33m[\u001B[0m\u001B[0mstatus\u001B[0m\u001B[1;33m]\u001B[0m\u001B[1;33m\u001B[0m\u001B[1;33m\u001B[0m\u001B[0m\n\u001B[0;32m     27\u001B[0m     \u001B[0mhandler\u001B[0m\u001B[1;33m(\u001B[0m\u001B[1;33m)\u001B[0m\u001B[1;33m\u001B[0m\u001B[1;33m\u001B[0m\u001B[0m\n",
      "\u001B[1;31mException\u001B[0m: No handler found for status: 4"
     ]
    }
   ],
   "source": [
    "from enum import IntEnum\n",
    "\n",
    "class StatusE(IntEnum):\n",
    "    OPEN = 1\n",
    "    IN_PROGRESS = 2\n",
    "    CLOSED = 3\n",
    "\n",
    "def handle_open_status():\n",
    "    print('Handling open status')\n",
    "\n",
    "def handle_in_progress_status():\n",
    "    print('Handling in progress status')\n",
    "\n",
    "def handle_closed_status():\n",
    "    print('Handling closed status')\n",
    "\n",
    "handlers = {\n",
    "    StatusE.OPEN.value: handle_open_status,\n",
    "    StatusE.IN_PROGRESS.value: handle_in_progress_status,\n",
    "    StatusE.CLOSED.value: handle_closed_status\n",
    "}\n",
    "\n",
    "def handle_status_change(status):\n",
    "    if status not in handlers:\n",
    "         raise Exception(f'No handler found for status: {status}')\n",
    "    handler = handlers[status]\n",
    "    handler()\n",
    "\n",
    "handle_status_change(StatusE.OPEN.value)  # 处理打开状态\n",
    "handle_status_change(StatusE.IN_PROGRESS.value)  # 处理正在进行中的状态\n",
    "handle_status_change(StatusE.CLOSED.value)  # 处理关闭状态\n",
    "handle_status_change(4)  # Will raise the exception\n"
   ],
   "metadata": {
    "collapsed": false,
    "pycharm": {
     "name": "#%%\n"
    }
   }
  }
 ],
 "metadata": {
  "kernelspec": {
   "display_name": "Python 3",
   "language": "python",
   "name": "python3"
  },
  "language_info": {
   "codemirror_mode": {
    "name": "ipython",
    "version": 2
   },
   "file_extension": ".py",
   "mimetype": "text/x-python",
   "name": "python",
   "nbconvert_exporter": "python",
   "pygments_lexer": "ipython2",
   "version": "2.7.6"
  }
 },
 "nbformat": 4,
 "nbformat_minor": 0
}