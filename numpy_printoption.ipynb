{
 "cells": [
  {
   "cell_type": "code",
   "execution_count": 2,
   "metadata": {
    "collapsed": true,
    "pycharm": {
     "name": "#%% 控制输出方式\n"
    }
   },
   "outputs": [],
   "source": [
    "import numpy as np\n",
    "import sys\n",
    "\n",
    "#set_printoptions(precision=None, threshold=None, edgeitems=None, linewidth=None, suppress=None, nanstr=None, infstr=None)"
   ]
  },
  {
   "cell_type": "code",
   "execution_count": 3,
   "outputs": [
    {
     "name": "stdout",
     "output_type": "stream",
     "text": [
      "[1.1235]\n",
      "[0 1 2 ... 7 8 9]\n",
      "[0 1 2 3 4 5 6 7 8 9]\n",
      "[-4.9304e-32 -4.4409e-16  0.0000e+00  0.0000e+00]\n",
      "[-0. -0.  0.  0.]\n"
     ]
    }
   ],
   "source": [
    "np.set_printoptions(precision=4) #控制输出的小数点个数是4\n",
    "arr = np.array([1.123456789])\n",
    "print(arr)\n",
    "\n",
    "np.set_printoptions(threshold=5) #控制输出的值的个数为6，其余以...代替\n",
    "arr = np.arange(10)\n",
    "print(arr)\n",
    "np.set_printoptions(threshold=sys.maxsize) #控制台输出所有的值，不需要省略号\n",
    "print(arr)\n",
    "\n",
    "eps = np.finfo(float).eps\n",
    "x = np.arange(4)\n",
    "print(x**2 - (x + eps)**2)\n",
    "\n",
    "np.set_printoptions(suppress=True)\n",
    "print(x**2 - (x + eps)**2)"
   ],
   "metadata": {
    "collapsed": false,
    "pycharm": {
     "name": "#%%\n"
    }
   }
  },
  {
   "cell_type": "markdown",
   "source": [
    "precision：控制输出的小数点个数，默认是8\n",
    "threshold：控制输出的值的个数，其余以…代替；\n",
    "    当设置打印显示方式threshold=np.nan，（换成sys.maxsize）\n",
    "    意思是输出数组的时候完全输出，不需要省略号将中间数据省略\n",
    "suppress： 当suppress=True，表示小数不需要以科学计数法的形式输出\n",
    "\n",
    "np.finfo(float).eps: float浮点数的最小正数的值"
   ],
   "metadata": {
    "collapsed": false,
    "pycharm": {
     "name": "#%% md\n"
    }
   }
  },
  {
   "cell_type": "code",
   "execution_count": 13,
   "outputs": [
    {
     "name": "stdout",
     "output_type": "stream",
     "text": [
      "2.220446049250313e-16\n"
     ]
    }
   ],
   "source": [
    "print(np.finfo(float).eps)"
   ],
   "metadata": {
    "collapsed": false,
    "pycharm": {
     "name": "#%%\n"
    }
   }
  }
 ],
 "metadata": {
  "kernelspec": {
   "display_name": "Python 3",
   "language": "python",
   "name": "python3"
  },
  "language_info": {
   "codemirror_mode": {
    "name": "ipython",
    "version": 2
   },
   "file_extension": ".py",
   "mimetype": "text/x-python",
   "name": "python",
   "nbconvert_exporter": "python",
   "pygments_lexer": "ipython2",
   "version": "2.7.6"
  }
 },
 "nbformat": 4,
 "nbformat_minor": 0
}