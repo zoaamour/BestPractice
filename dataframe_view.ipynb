{
 "cells": [
  {
   "cell_type": "code",
   "execution_count": 3,
   "metadata": {
    "collapsed": true
   },
   "outputs": [],
   "source": [
    "import numpy as np\n",
    "import pandas as pd"
   ]
  },
  {
   "cell_type": "code",
   "execution_count": 2,
   "outputs": [
    {
     "ename": "NameError",
     "evalue": "name 'pd' is not defined",
     "output_type": "error",
     "traceback": [
      "\u001B[1;31m---------------------------------------------------------------------------\u001B[0m",
      "\u001B[1;31mNameError\u001B[0m                                 Traceback (most recent call last)",
      "\u001B[1;32m<ipython-input-2-14cd9cf76423>\u001B[0m in \u001B[0;36m<module>\u001B[1;34m\u001B[0m\n\u001B[1;32m----> 1\u001B[1;33m \u001B[0mdf\u001B[0m \u001B[1;33m=\u001B[0m \u001B[0mpd\u001B[0m\u001B[1;33m.\u001B[0m\u001B[0mDataFrame\u001B[0m\u001B[1;33m(\u001B[0m\u001B[0mnp\u001B[0m\u001B[1;33m.\u001B[0m\u001B[0mrandom\u001B[0m\u001B[1;33m.\u001B[0m\u001B[0mrandn\u001B[0m\u001B[1;33m(\u001B[0m\u001B[1;36m10\u001B[0m\u001B[1;33m,\u001B[0m \u001B[1;36m2\u001B[0m\u001B[1;33m)\u001B[0m\u001B[1;33m*\u001B[0m\u001B[1;36m100\u001B[0m\u001B[1;33m)\u001B[0m\u001B[1;33m\u001B[0m\u001B[1;33m\u001B[0m\u001B[0m\n\u001B[0m\u001B[0;32m      2\u001B[0m \u001B[0mdf\u001B[0m\u001B[1;33m\u001B[0m\u001B[1;33m\u001B[0m\u001B[0m\n\u001B[0;32m      3\u001B[0m \u001B[1;33m\u001B[0m\u001B[0m\n",
      "\u001B[1;31mNameError\u001B[0m: name 'pd' is not defined"
     ]
    }
   ],
   "source": [
    "df = pd.DataFrame(np.random.randn(10, 2)*100)\n",
    "df"
   ],
   "metadata": {
    "collapsed": false,
    "pycharm": {
     "name": "#%%\n"
    }
   }
  },
  {
   "cell_type": "code",
   "execution_count": 2,
   "outputs": [
    {
     "data": {
      "text/plain": "<pandas.io.formats.style.Styler at 0x2152ddb4eb0>",
      "text/html": "<style  type=\"text/css\" >\n</style><table id=\"T_ff934_\" ><thead>    <tr>        <th class=\"blank level0\" ></th>        <th class=\"col_heading level0 col0\" >0</th>        <th class=\"col_heading level0 col1\" >1</th>    </tr></thead><tbody>\n                <tr>\n                        <th id=\"T_ff934_level0_row0\" class=\"row_heading level0 row0\" >0</th>\n                        <td id=\"T_ff934_row0_col0\" class=\"data row0 col0\" >-20.78</td>\n                        <td id=\"T_ff934_row0_col1\" class=\"data row0 col1\" >-59.75</td>\n            </tr>\n            <tr>\n                        <th id=\"T_ff934_level0_row1\" class=\"row_heading level0 row1\" >1</th>\n                        <td id=\"T_ff934_row1_col0\" class=\"data row1 col0\" >-139.60</td>\n                        <td id=\"T_ff934_row1_col1\" class=\"data row1 col1\" >107.98</td>\n            </tr>\n            <tr>\n                        <th id=\"T_ff934_level0_row2\" class=\"row_heading level0 row2\" >2</th>\n                        <td id=\"T_ff934_row2_col0\" class=\"data row2 col0\" >56.62</td>\n                        <td id=\"T_ff934_row2_col1\" class=\"data row2 col1\" >21.79</td>\n            </tr>\n            <tr>\n                        <th id=\"T_ff934_level0_row3\" class=\"row_heading level0 row3\" >3</th>\n                        <td id=\"T_ff934_row3_col0\" class=\"data row3 col0\" >-5.29</td>\n                        <td id=\"T_ff934_row3_col1\" class=\"data row3 col1\" >196.28</td>\n            </tr>\n            <tr>\n                        <th id=\"T_ff934_level0_row4\" class=\"row_heading level0 row4\" >4</th>\n                        <td id=\"T_ff934_row4_col0\" class=\"data row4 col0\" >-145.80</td>\n                        <td id=\"T_ff934_row4_col1\" class=\"data row4 col1\" >93.97</td>\n            </tr>\n            <tr>\n                        <th id=\"T_ff934_level0_row5\" class=\"row_heading level0 row5\" >5</th>\n                        <td id=\"T_ff934_row5_col0\" class=\"data row5 col0\" >-13.16</td>\n                        <td id=\"T_ff934_row5_col1\" class=\"data row5 col1\" >158.28</td>\n            </tr>\n            <tr>\n                        <th id=\"T_ff934_level0_row6\" class=\"row_heading level0 row6\" >6</th>\n                        <td id=\"T_ff934_row6_col0\" class=\"data row6 col0\" >-5.52</td>\n                        <td id=\"T_ff934_row6_col1\" class=\"data row6 col1\" >151.24</td>\n            </tr>\n            <tr>\n                        <th id=\"T_ff934_level0_row7\" class=\"row_heading level0 row7\" >7</th>\n                        <td id=\"T_ff934_row7_col0\" class=\"data row7 col0\" >54.20</td>\n                        <td id=\"T_ff934_row7_col1\" class=\"data row7 col1\" >-90.27</td>\n            </tr>\n            <tr>\n                        <th id=\"T_ff934_level0_row8\" class=\"row_heading level0 row8\" >8</th>\n                        <td id=\"T_ff934_row8_col0\" class=\"data row8 col0\" >-7.76</td>\n                        <td id=\"T_ff934_row8_col1\" class=\"data row8 col1\" >160.04</td>\n            </tr>\n            <tr>\n                        <th id=\"T_ff934_level0_row9\" class=\"row_heading level0 row9\" >9</th>\n                        <td id=\"T_ff934_row9_col0\" class=\"data row9 col0\" >-133.41</td>\n                        <td id=\"T_ff934_row9_col1\" class=\"data row9 col1\" >-109.68</td>\n            </tr>\n    </tbody></table>"
     },
     "execution_count": 2,
     "metadata": {},
     "output_type": "execute_result"
    }
   ],
   "source": [
    "df.style.format(\"{:.2f}\")"
   ],
   "metadata": {
    "collapsed": false,
    "pycharm": {
     "name": "#%%\n"
    }
   }
  },
  {
   "cell_type": "code",
   "execution_count": 3,
   "outputs": [
    {
     "data": {
      "text/plain": "<pandas.io.formats.style.Styler at 0x2152fd162e0>",
      "text/html": "<style  type=\"text/css\" >\n#T_5ea28_row0_col0,#T_5ea28_row0_col1,#T_5ea28_row1_col0,#T_5ea28_row3_col0,#T_5ea28_row4_col0,#T_5ea28_row5_col0,#T_5ea28_row6_col0,#T_5ea28_row7_col1,#T_5ea28_row8_col0,#T_5ea28_row9_col0,#T_5ea28_row9_col1{\n            background-color:  red;\n             color:  white;\n        }#T_5ea28_row1_col1,#T_5ea28_row2_col0,#T_5ea28_row2_col1,#T_5ea28_row3_col1,#T_5ea28_row4_col1,#T_5ea28_row5_col1,#T_5ea28_row6_col1,#T_5ea28_row7_col0,#T_5ea28_row8_col1{\n            background-color:  green;\n             color:  white;\n        }</style><table id=\"T_5ea28_\" ><thead>    <tr>        <th class=\"blank level0\" ></th>        <th class=\"col_heading level0 col0\" >0</th>        <th class=\"col_heading level0 col1\" >1</th>    </tr></thead><tbody>\n                <tr>\n                        <th id=\"T_5ea28_level0_row0\" class=\"row_heading level0 row0\" >0</th>\n                        <td id=\"T_5ea28_row0_col0\" class=\"data row0 col0\" >-20.777580</td>\n                        <td id=\"T_5ea28_row0_col1\" class=\"data row0 col1\" >-59.750817</td>\n            </tr>\n            <tr>\n                        <th id=\"T_5ea28_level0_row1\" class=\"row_heading level0 row1\" >1</th>\n                        <td id=\"T_5ea28_row1_col0\" class=\"data row1 col0\" >-139.601837</td>\n                        <td id=\"T_5ea28_row1_col1\" class=\"data row1 col1\" >107.982883</td>\n            </tr>\n            <tr>\n                        <th id=\"T_5ea28_level0_row2\" class=\"row_heading level0 row2\" >2</th>\n                        <td id=\"T_5ea28_row2_col0\" class=\"data row2 col0\" >56.616342</td>\n                        <td id=\"T_5ea28_row2_col1\" class=\"data row2 col1\" >21.789483</td>\n            </tr>\n            <tr>\n                        <th id=\"T_5ea28_level0_row3\" class=\"row_heading level0 row3\" >3</th>\n                        <td id=\"T_5ea28_row3_col0\" class=\"data row3 col0\" >-5.289491</td>\n                        <td id=\"T_5ea28_row3_col1\" class=\"data row3 col1\" >196.278495</td>\n            </tr>\n            <tr>\n                        <th id=\"T_5ea28_level0_row4\" class=\"row_heading level0 row4\" >4</th>\n                        <td id=\"T_5ea28_row4_col0\" class=\"data row4 col0\" >-145.802555</td>\n                        <td id=\"T_5ea28_row4_col1\" class=\"data row4 col1\" >93.971075</td>\n            </tr>\n            <tr>\n                        <th id=\"T_5ea28_level0_row5\" class=\"row_heading level0 row5\" >5</th>\n                        <td id=\"T_5ea28_row5_col0\" class=\"data row5 col0\" >-13.164581</td>\n                        <td id=\"T_5ea28_row5_col1\" class=\"data row5 col1\" >158.279208</td>\n            </tr>\n            <tr>\n                        <th id=\"T_5ea28_level0_row6\" class=\"row_heading level0 row6\" >6</th>\n                        <td id=\"T_5ea28_row6_col0\" class=\"data row6 col0\" >-5.519664</td>\n                        <td id=\"T_5ea28_row6_col1\" class=\"data row6 col1\" >151.236084</td>\n            </tr>\n            <tr>\n                        <th id=\"T_5ea28_level0_row7\" class=\"row_heading level0 row7\" >7</th>\n                        <td id=\"T_5ea28_row7_col0\" class=\"data row7 col0\" >54.195631</td>\n                        <td id=\"T_5ea28_row7_col1\" class=\"data row7 col1\" >-90.266409</td>\n            </tr>\n            <tr>\n                        <th id=\"T_5ea28_level0_row8\" class=\"row_heading level0 row8\" >8</th>\n                        <td id=\"T_5ea28_row8_col0\" class=\"data row8 col0\" >-7.764465</td>\n                        <td id=\"T_5ea28_row8_col1\" class=\"data row8 col1\" >160.036515</td>\n            </tr>\n            <tr>\n                        <th id=\"T_5ea28_level0_row9\" class=\"row_heading level0 row9\" >9</th>\n                        <td id=\"T_5ea28_row9_col0\" class=\"data row9 col0\" >-133.411451</td>\n                        <td id=\"T_5ea28_row9_col1\" class=\"data row9 col1\" >-109.684208</td>\n            </tr>\n    </tbody></table>"
     },
     "execution_count": 3,
     "metadata": {},
     "output_type": "execute_result"
    }
   ],
   "source": [
    "def highlight_number(row):\n",
    "    return [\n",
    "        'background-color: red; color: white' if cell <= 0\n",
    "        else 'background-color: green; color: white'\n",
    "        for cell in row\n",
    "    ]\n",
    "df.style.apply(highlight_number)"
   ],
   "metadata": {
    "collapsed": false,
    "pycharm": {
     "name": "#%%\n"
    }
   }
  },
  {
   "cell_type": "code",
   "execution_count": 4,
   "outputs": [
    {
     "data": {
      "text/plain": "<pandas.io.formats.style.Styler at 0x215315e9910>",
      "text/html": "<style  type=\"text/css\" >\n#T_65d7d_row0_col0,#T_65d7d_row0_col1,#T_65d7d_row1_col0,#T_65d7d_row3_col0,#T_65d7d_row4_col0,#T_65d7d_row5_col0,#T_65d7d_row6_col0,#T_65d7d_row7_col1,#T_65d7d_row8_col0,#T_65d7d_row9_col0,#T_65d7d_row9_col1{\n            background-color:  red;\n             color:  white;\n            padding:  20px;\n            border:  2px solid white;\n        }#T_65d7d_row1_col1,#T_65d7d_row2_col0,#T_65d7d_row2_col1,#T_65d7d_row3_col1,#T_65d7d_row4_col1,#T_65d7d_row5_col1,#T_65d7d_row6_col1,#T_65d7d_row7_col0,#T_65d7d_row8_col1{\n            background-color:  green;\n             color:  white;\n            padding:  20px;\n            border:  2px solid white;\n        }</style><table id=\"T_65d7d_\" ><caption>A sample table</caption><thead>    <tr>        <th class=\"blank level0\" ></th>        <th class=\"col_heading level0 col0\" >0</th>        <th class=\"col_heading level0 col1\" >1</th>    </tr></thead><tbody>\n                <tr>\n                        <th id=\"T_65d7d_level0_row0\" class=\"row_heading level0 row0\" >0</th>\n                        <td id=\"T_65d7d_row0_col0\" class=\"data row0 col0\" >$-20.78</td>\n                        <td id=\"T_65d7d_row0_col1\" class=\"data row0 col1\" >$-59.75</td>\n            </tr>\n            <tr>\n                        <th id=\"T_65d7d_level0_row1\" class=\"row_heading level0 row1\" >1</th>\n                        <td id=\"T_65d7d_row1_col0\" class=\"data row1 col0\" >$-139.60</td>\n                        <td id=\"T_65d7d_row1_col1\" class=\"data row1 col1\" >$107.98</td>\n            </tr>\n            <tr>\n                        <th id=\"T_65d7d_level0_row2\" class=\"row_heading level0 row2\" >2</th>\n                        <td id=\"T_65d7d_row2_col0\" class=\"data row2 col0\" >$56.62</td>\n                        <td id=\"T_65d7d_row2_col1\" class=\"data row2 col1\" >$21.79</td>\n            </tr>\n            <tr>\n                        <th id=\"T_65d7d_level0_row3\" class=\"row_heading level0 row3\" >3</th>\n                        <td id=\"T_65d7d_row3_col0\" class=\"data row3 col0\" >$-5.29</td>\n                        <td id=\"T_65d7d_row3_col1\" class=\"data row3 col1\" >$196.28</td>\n            </tr>\n            <tr>\n                        <th id=\"T_65d7d_level0_row4\" class=\"row_heading level0 row4\" >4</th>\n                        <td id=\"T_65d7d_row4_col0\" class=\"data row4 col0\" >$-145.80</td>\n                        <td id=\"T_65d7d_row4_col1\" class=\"data row4 col1\" >$93.97</td>\n            </tr>\n            <tr>\n                        <th id=\"T_65d7d_level0_row5\" class=\"row_heading level0 row5\" >5</th>\n                        <td id=\"T_65d7d_row5_col0\" class=\"data row5 col0\" >$-13.16</td>\n                        <td id=\"T_65d7d_row5_col1\" class=\"data row5 col1\" >$158.28</td>\n            </tr>\n            <tr>\n                        <th id=\"T_65d7d_level0_row6\" class=\"row_heading level0 row6\" >6</th>\n                        <td id=\"T_65d7d_row6_col0\" class=\"data row6 col0\" >$-5.52</td>\n                        <td id=\"T_65d7d_row6_col1\" class=\"data row6 col1\" >$151.24</td>\n            </tr>\n            <tr>\n                        <th id=\"T_65d7d_level0_row7\" class=\"row_heading level0 row7\" >7</th>\n                        <td id=\"T_65d7d_row7_col0\" class=\"data row7 col0\" >$54.20</td>\n                        <td id=\"T_65d7d_row7_col1\" class=\"data row7 col1\" >$-90.27</td>\n            </tr>\n            <tr>\n                        <th id=\"T_65d7d_level0_row8\" class=\"row_heading level0 row8\" >8</th>\n                        <td id=\"T_65d7d_row8_col0\" class=\"data row8 col0\" >$-7.76</td>\n                        <td id=\"T_65d7d_row8_col1\" class=\"data row8 col1\" >$160.04</td>\n            </tr>\n            <tr>\n                        <th id=\"T_65d7d_level0_row9\" class=\"row_heading level0 row9\" >9</th>\n                        <td id=\"T_65d7d_row9_col0\" class=\"data row9 col0\" >$-133.41</td>\n                        <td id=\"T_65d7d_row9_col1\" class=\"data row9 col1\" >$-109.68</td>\n            </tr>\n    </tbody></table>"
     },
     "execution_count": 4,
     "metadata": {},
     "output_type": "execute_result"
    }
   ],
   "source": [
    "df.style\\\n",
    "    .apply(highlight_number)\\\n",
    "    .format('${0:,.2f}')\\\n",
    "    .set_caption('A sample table')\\\n",
    "    .set_properties(padding='20px', border='2px solid white')"
   ],
   "metadata": {
    "collapsed": false,
    "pycharm": {
     "name": "#%%\n"
    }
   }
  },
  {
   "cell_type": "code",
   "execution_count": 8,
   "outputs": [
    {
     "data": {
      "text/plain": "<pandas.io.formats.style.Styler at 0x215314744f0>",
      "text/html": "<style  type=\"text/css\" >\n#T_cc5ff_row1_col1{\n            background-color:  lightgray;\n        }#T_cc5ff_row2_col0,#T_cc5ff_row3_col1{\n            background-color:  lightgreen;\n        }#T_cc5ff_row4_col0,#T_cc5ff_row9_col1{\n            background-color:  pink;\n        }</style><table id=\"T_cc5ff_\" ><thead>    <tr>        <th class=\"blank level0\" ></th>        <th class=\"col_heading level0 col0\" >0</th>        <th class=\"col_heading level0 col1\" >1</th>    </tr></thead><tbody>\n                <tr>\n                        <th id=\"T_cc5ff_level0_row0\" class=\"row_heading level0 row0\" >0</th>\n                        <td id=\"T_cc5ff_row0_col0\" class=\"data row0 col0\" >-20.777580</td>\n                        <td id=\"T_cc5ff_row0_col1\" class=\"data row0 col1\" >-59.750817</td>\n            </tr>\n            <tr>\n                        <th id=\"T_cc5ff_level0_row1\" class=\"row_heading level0 row1\" >1</th>\n                        <td id=\"T_cc5ff_row1_col0\" class=\"data row1 col0\" >-139.601837</td>\n                        <td id=\"T_cc5ff_row1_col1\" class=\"data row1 col1\" >nan</td>\n            </tr>\n            <tr>\n                        <th id=\"T_cc5ff_level0_row2\" class=\"row_heading level0 row2\" >2</th>\n                        <td id=\"T_cc5ff_row2_col0\" class=\"data row2 col0\" >56.616342</td>\n                        <td id=\"T_cc5ff_row2_col1\" class=\"data row2 col1\" >21.789483</td>\n            </tr>\n            <tr>\n                        <th id=\"T_cc5ff_level0_row3\" class=\"row_heading level0 row3\" >3</th>\n                        <td id=\"T_cc5ff_row3_col0\" class=\"data row3 col0\" >-5.289491</td>\n                        <td id=\"T_cc5ff_row3_col1\" class=\"data row3 col1\" >196.278495</td>\n            </tr>\n            <tr>\n                        <th id=\"T_cc5ff_level0_row4\" class=\"row_heading level0 row4\" >4</th>\n                        <td id=\"T_cc5ff_row4_col0\" class=\"data row4 col0\" >-145.802555</td>\n                        <td id=\"T_cc5ff_row4_col1\" class=\"data row4 col1\" >93.971075</td>\n            </tr>\n            <tr>\n                        <th id=\"T_cc5ff_level0_row5\" class=\"row_heading level0 row5\" >5</th>\n                        <td id=\"T_cc5ff_row5_col0\" class=\"data row5 col0\" >-13.164581</td>\n                        <td id=\"T_cc5ff_row5_col1\" class=\"data row5 col1\" >158.279208</td>\n            </tr>\n            <tr>\n                        <th id=\"T_cc5ff_level0_row6\" class=\"row_heading level0 row6\" >6</th>\n                        <td id=\"T_cc5ff_row6_col0\" class=\"data row6 col0\" >-5.519664</td>\n                        <td id=\"T_cc5ff_row6_col1\" class=\"data row6 col1\" >151.236084</td>\n            </tr>\n            <tr>\n                        <th id=\"T_cc5ff_level0_row7\" class=\"row_heading level0 row7\" >7</th>\n                        <td id=\"T_cc5ff_row7_col0\" class=\"data row7 col0\" >54.195631</td>\n                        <td id=\"T_cc5ff_row7_col1\" class=\"data row7 col1\" >-90.266409</td>\n            </tr>\n            <tr>\n                        <th id=\"T_cc5ff_level0_row8\" class=\"row_heading level0 row8\" >8</th>\n                        <td id=\"T_cc5ff_row8_col0\" class=\"data row8 col0\" >-7.764465</td>\n                        <td id=\"T_cc5ff_row8_col1\" class=\"data row8 col1\" >160.036515</td>\n            </tr>\n            <tr>\n                        <th id=\"T_cc5ff_level0_row9\" class=\"row_heading level0 row9\" >9</th>\n                        <td id=\"T_cc5ff_row9_col0\" class=\"data row9 col0\" >-133.411451</td>\n                        <td id=\"T_cc5ff_row9_col1\" class=\"data row9 col1\" >-109.684208</td>\n            </tr>\n    </tbody></table>"
     },
     "execution_count": 8,
     "metadata": {},
     "output_type": "execute_result"
    }
   ],
   "source": [
    "df.at[1,1] = None\n",
    "df.style\\\n",
    "    .highlight_null('lightgray')\\\n",
    "    .highlight_max(color='lightgreen')\\\n",
    "    .highlight_min(color='pink')"
   ],
   "metadata": {
    "collapsed": false,
    "pycharm": {
     "name": "#%%\n"
    }
   }
  },
  {
   "cell_type": "code",
   "execution_count": 4,
   "outputs": [
    {
     "data": {
      "text/plain": "<pandas.io.formats.style.Styler at 0x20c9b508a00>",
      "text/html": "<style  type=\"text/css\" >\n#T_d63ff_row0_col0{\n            background-color:  #b7cee3;\n            color:  #000000;\n        }#T_d63ff_row0_col1{\n            background-color:  #8c80bb;\n            color:  #000000;\n        }#T_d63ff_row1_col0{\n            background-color:  #5d055a;\n            color:  #f1f1f1;\n        }#T_d63ff_row1_col1{\n            background-color:  #cadbeb;\n            color:  #000000;\n        }#T_d63ff_row2_col0,#T_d63ff_row8_col1{\n            background-color:  #f7fcfd;\n            color:  #000000;\n        }#T_d63ff_row2_col1{\n            background-color:  #a0bddb;\n            color:  #000000;\n        }#T_d63ff_row3_col0,#T_d63ff_row3_col1{\n            background-color:  #4d004b;\n            color:  #f1f1f1;\n        }#T_d63ff_row4_col0{\n            background-color:  #831f86;\n            color:  #f1f1f1;\n        }#T_d63ff_row4_col1{\n            background-color:  #9ab3d5;\n            color:  #000000;\n        }#T_d63ff_row5_col0{\n            background-color:  #a8c3de;\n            color:  #000000;\n        }#T_d63ff_row5_col1{\n            background-color:  #e6f0f6;\n            color:  #000000;\n        }#T_d63ff_row6_col0{\n            background-color:  #8c81bc;\n            color:  #000000;\n        }#T_d63ff_row6_col1{\n            background-color:  #8a56a7;\n            color:  #f1f1f1;\n        }#T_d63ff_row7_col0{\n            background-color:  #770c73;\n            color:  #f1f1f1;\n        }#T_d63ff_row7_col1{\n            background-color:  #580356;\n            color:  #f1f1f1;\n        }#T_d63ff_row8_col0{\n            background-color:  #a5c1dc;\n            color:  #000000;\n        }#T_d63ff_row9_col0{\n            background-color:  #8c6cb1;\n            color:  #000000;\n        }#T_d63ff_row9_col1{\n            background-color:  #8c70b3;\n            color:  #000000;\n        }</style><table id=\"T_d63ff_\" ><thead>    <tr>        <th class=\"blank level0\" ></th>        <th class=\"col_heading level0 col0\" >0</th>        <th class=\"col_heading level0 col1\" >1</th>    </tr></thead><tbody>\n                <tr>\n                        <th id=\"T_d63ff_level0_row0\" class=\"row_heading level0 row0\" >0</th>\n                        <td id=\"T_d63ff_row0_col0\" class=\"data row0 col0\" >-0.873485</td>\n                        <td id=\"T_d63ff_row0_col1\" class=\"data row0 col1\" >0.015740</td>\n            </tr>\n            <tr>\n                        <th id=\"T_d63ff_level0_row1\" class=\"row_heading level0 row1\" >1</th>\n                        <td id=\"T_d63ff_row1_col0\" class=\"data row1 col0\" >0.846996</td>\n                        <td id=\"T_d63ff_row1_col1\" class=\"data row1 col1\" >-1.643790</td>\n            </tr>\n            <tr>\n                        <th id=\"T_d63ff_level0_row2\" class=\"row_heading level0 row2\" >2</th>\n                        <td id=\"T_d63ff_row2_col0\" class=\"data row2 col0\" >-1.586549</td>\n                        <td id=\"T_d63ff_row2_col1\" class=\"data row2 col1\" >-0.886729</td>\n            </tr>\n            <tr>\n                        <th id=\"T_d63ff_level0_row3\" class=\"row_heading level0 row3\" >3</th>\n                        <td id=\"T_d63ff_row3_col0\" class=\"data row3 col0\" >0.950853</td>\n                        <td id=\"T_d63ff_row3_col1\" class=\"data row3 col1\" >2.042699</td>\n            </tr>\n            <tr>\n                        <th id=\"T_d63ff_level0_row4\" class=\"row_heading level0 row4\" >4</th>\n                        <td id=\"T_d63ff_row4_col0\" class=\"data row4 col0\" >0.526938</td>\n                        <td id=\"T_d63ff_row4_col1\" class=\"data row4 col1\" >-0.723579</td>\n            </tr>\n            <tr>\n                        <th id=\"T_d63ff_level0_row5\" class=\"row_heading level0 row5\" >5</th>\n                        <td id=\"T_d63ff_row5_col0\" class=\"data row5 col0\" >-0.724977</td>\n                        <td id=\"T_d63ff_row5_col1\" class=\"data row5 col1\" >-2.164008</td>\n            </tr>\n            <tr>\n                        <th id=\"T_d63ff_level0_row6\" class=\"row_heading level0 row6\" >6</th>\n                        <td id=\"T_d63ff_row6_col0\" class=\"data row6 col0\" >-0.166177</td>\n                        <td id=\"T_d63ff_row6_col1\" class=\"data row6 col1\" >0.571144</td>\n            </tr>\n            <tr>\n                        <th id=\"T_d63ff_level0_row7\" class=\"row_heading level0 row7\" >7</th>\n                        <td id=\"T_d63ff_row7_col0\" class=\"data row7 col0\" >0.683370</td>\n                        <td id=\"T_d63ff_row7_col1\" class=\"data row7 col1\" >1.911536</td>\n            </tr>\n            <tr>\n                        <th id=\"T_d63ff_level0_row8\" class=\"row_heading level0 row8\" >8</th>\n                        <td id=\"T_d63ff_row8_col0\" class=\"data row8 col0\" >-0.703763</td>\n                        <td id=\"T_d63ff_row8_col1\" class=\"data row8 col1\" >-2.609647</td>\n            </tr>\n            <tr>\n                        <th id=\"T_d63ff_level0_row9\" class=\"row_heading level0 row9\" >9</th>\n                        <td id=\"T_d63ff_row9_col0\" class=\"data row9 col0\" >-0.001978</td>\n                        <td id=\"T_d63ff_row9_col1\" class=\"data row9 col1\" >0.226117</td>\n            </tr>\n    </tbody></table>"
     },
     "execution_count": 4,
     "metadata": {},
     "output_type": "execute_result"
    }
   ],
   "source": [
    "df = pd.DataFrame(np.random.randn(10, 2))\n",
    "df.style \\\n",
    "  .background_gradient(cmap='BuPu')"
   ],
   "metadata": {
    "collapsed": false,
    "pycharm": {
     "name": "#%%\n"
    }
   }
  },
  {
   "cell_type": "code",
   "execution_count": 6,
   "outputs": [
    {
     "data": {
      "text/plain": "<pandas.io.formats.style.Styler at 0x20c9b5089a0>",
      "text/html": "<style  type=\"text/css\" >\n#T_23225_row0_col0{\n            width:  10em;\n             height:  80%;\n            background:  linear-gradient(90deg,#d65f5f 28.1%, transparent 28.1%);\n        }#T_23225_row0_col1{\n            width:  10em;\n             height:  80%;\n            background:  linear-gradient(90deg,#d65f5f 56.4%, transparent 56.4%);\n        }#T_23225_row1_col0{\n            width:  10em;\n             height:  80%;\n            background:  linear-gradient(90deg,#d65f5f 95.9%, transparent 95.9%);\n        }#T_23225_row1_col1{\n            width:  10em;\n             height:  80%;\n            background:  linear-gradient(90deg,#d65f5f 20.8%, transparent 20.8%);\n        }#T_23225_row2_col0,#T_23225_row8_col1{\n            width:  10em;\n             height:  80%;\n        }#T_23225_row2_col1{\n            width:  10em;\n             height:  80%;\n            background:  linear-gradient(90deg,#d65f5f 37.0%, transparent 37.0%);\n        }#T_23225_row3_col0,#T_23225_row3_col1{\n            width:  10em;\n             height:  80%;\n            background:  linear-gradient(90deg,#d65f5f 100.0%, transparent 100.0%);\n        }#T_23225_row4_col0{\n            width:  10em;\n             height:  80%;\n            background:  linear-gradient(90deg,#d65f5f 83.3%, transparent 83.3%);\n        }#T_23225_row4_col1{\n            width:  10em;\n             height:  80%;\n            background:  linear-gradient(90deg,#d65f5f 40.5%, transparent 40.5%);\n        }#T_23225_row5_col0{\n            width:  10em;\n             height:  80%;\n            background:  linear-gradient(90deg,#d65f5f 34.0%, transparent 34.0%);\n        }#T_23225_row5_col1{\n            width:  10em;\n             height:  80%;\n            background:  linear-gradient(90deg,#d65f5f 9.6%, transparent 9.6%);\n        }#T_23225_row6_col0{\n            width:  10em;\n             height:  80%;\n            background:  linear-gradient(90deg,#d65f5f 56.0%, transparent 56.0%);\n        }#T_23225_row6_col1{\n            width:  10em;\n             height:  80%;\n            background:  linear-gradient(90deg,#d65f5f 68.4%, transparent 68.4%);\n        }#T_23225_row7_col0{\n            width:  10em;\n             height:  80%;\n            background:  linear-gradient(90deg,#d65f5f 89.5%, transparent 89.5%);\n        }#T_23225_row7_col1{\n            width:  10em;\n             height:  80%;\n            background:  linear-gradient(90deg,#d65f5f 97.2%, transparent 97.2%);\n        }#T_23225_row8_col0{\n            width:  10em;\n             height:  80%;\n            background:  linear-gradient(90deg,#d65f5f 34.8%, transparent 34.8%);\n        }#T_23225_row9_col0{\n            width:  10em;\n             height:  80%;\n            background:  linear-gradient(90deg,#d65f5f 62.4%, transparent 62.4%);\n        }#T_23225_row9_col1{\n            width:  10em;\n             height:  80%;\n            background:  linear-gradient(90deg,#d65f5f 61.0%, transparent 61.0%);\n        }</style><table id=\"T_23225_\" ><thead>    <tr>        <th class=\"blank level0\" ></th>        <th class=\"col_heading level0 col0\" >0</th>        <th class=\"col_heading level0 col1\" >1</th>    </tr></thead><tbody>\n                <tr>\n                        <th id=\"T_23225_level0_row0\" class=\"row_heading level0 row0\" >0</th>\n                        <td id=\"T_23225_row0_col0\" class=\"data row0 col0\" >-0.873485</td>\n                        <td id=\"T_23225_row0_col1\" class=\"data row0 col1\" >0.015740</td>\n            </tr>\n            <tr>\n                        <th id=\"T_23225_level0_row1\" class=\"row_heading level0 row1\" >1</th>\n                        <td id=\"T_23225_row1_col0\" class=\"data row1 col0\" >0.846996</td>\n                        <td id=\"T_23225_row1_col1\" class=\"data row1 col1\" >-1.643790</td>\n            </tr>\n            <tr>\n                        <th id=\"T_23225_level0_row2\" class=\"row_heading level0 row2\" >2</th>\n                        <td id=\"T_23225_row2_col0\" class=\"data row2 col0\" >-1.586549</td>\n                        <td id=\"T_23225_row2_col1\" class=\"data row2 col1\" >-0.886729</td>\n            </tr>\n            <tr>\n                        <th id=\"T_23225_level0_row3\" class=\"row_heading level0 row3\" >3</th>\n                        <td id=\"T_23225_row3_col0\" class=\"data row3 col0\" >0.950853</td>\n                        <td id=\"T_23225_row3_col1\" class=\"data row3 col1\" >2.042699</td>\n            </tr>\n            <tr>\n                        <th id=\"T_23225_level0_row4\" class=\"row_heading level0 row4\" >4</th>\n                        <td id=\"T_23225_row4_col0\" class=\"data row4 col0\" >0.526938</td>\n                        <td id=\"T_23225_row4_col1\" class=\"data row4 col1\" >-0.723579</td>\n            </tr>\n            <tr>\n                        <th id=\"T_23225_level0_row5\" class=\"row_heading level0 row5\" >5</th>\n                        <td id=\"T_23225_row5_col0\" class=\"data row5 col0\" >-0.724977</td>\n                        <td id=\"T_23225_row5_col1\" class=\"data row5 col1\" >-2.164008</td>\n            </tr>\n            <tr>\n                        <th id=\"T_23225_level0_row6\" class=\"row_heading level0 row6\" >6</th>\n                        <td id=\"T_23225_row6_col0\" class=\"data row6 col0\" >-0.166177</td>\n                        <td id=\"T_23225_row6_col1\" class=\"data row6 col1\" >0.571144</td>\n            </tr>\n            <tr>\n                        <th id=\"T_23225_level0_row7\" class=\"row_heading level0 row7\" >7</th>\n                        <td id=\"T_23225_row7_col0\" class=\"data row7 col0\" >0.683370</td>\n                        <td id=\"T_23225_row7_col1\" class=\"data row7 col1\" >1.911536</td>\n            </tr>\n            <tr>\n                        <th id=\"T_23225_level0_row8\" class=\"row_heading level0 row8\" >8</th>\n                        <td id=\"T_23225_row8_col0\" class=\"data row8 col0\" >-0.703763</td>\n                        <td id=\"T_23225_row8_col1\" class=\"data row8 col1\" >-2.609647</td>\n            </tr>\n            <tr>\n                        <th id=\"T_23225_level0_row9\" class=\"row_heading level0 row9\" >9</th>\n                        <td id=\"T_23225_row9_col0\" class=\"data row9 col0\" >-0.001978</td>\n                        <td id=\"T_23225_row9_col1\" class=\"data row9 col1\" >0.226117</td>\n            </tr>\n    </tbody></table>"
     },
     "execution_count": 6,
     "metadata": {},
     "output_type": "execute_result"
    }
   ],
   "source": [
    "df.style.bar()"
   ],
   "metadata": {
    "collapsed": false,
    "pycharm": {
     "name": "#%%\n"
    }
   }
  },
  {
   "cell_type": "code",
   "execution_count": 10,
   "outputs": [
    {
     "data": {
      "text/plain": "<pandas.io.formats.style.Styler at 0x20c9d334fd0>",
      "text/html": "<style  type=\"text/css\" >\n#T_f6310_row0_col0{\n            width:  10em;\n             height:  80%;\n            background:  linear-gradient(90deg, transparent 28.1%, green 28.1%, green 62.5%, transparent 62.5%);\n            padding:  15px;\n            border:  2px solid white;\n            width:  300px;\n        }#T_f6310_row0_col1{\n            width:  10em;\n             height:  80%;\n            background:  linear-gradient(90deg, transparent 56.1%, red 56.1%, red 56.4%, transparent 56.4%);\n            padding:  15px;\n            border:  2px solid white;\n            width:  300px;\n        }#T_f6310_row1_col0{\n            width:  10em;\n             height:  80%;\n            background:  linear-gradient(90deg, transparent 62.5%, red 62.5%, red 95.9%, transparent 95.9%);\n            padding:  15px;\n            border:  2px solid white;\n            width:  300px;\n        }#T_f6310_row1_col1{\n            width:  10em;\n             height:  80%;\n            background:  linear-gradient(90deg, transparent 20.8%, green 20.8%, green 56.1%, transparent 56.1%);\n            padding:  15px;\n            border:  2px solid white;\n            width:  300px;\n        }#T_f6310_row2_col0{\n            width:  10em;\n             height:  80%;\n            background:  linear-gradient(90deg,green 62.5%, transparent 62.5%);\n            padding:  15px;\n            border:  2px solid white;\n            width:  300px;\n        }#T_f6310_row2_col1{\n            width:  10em;\n             height:  80%;\n            background:  linear-gradient(90deg, transparent 37.0%, green 37.0%, green 56.1%, transparent 56.1%);\n            padding:  15px;\n            border:  2px solid white;\n            width:  300px;\n        }#T_f6310_row3_col0{\n            width:  10em;\n             height:  80%;\n            background:  linear-gradient(90deg, transparent 62.5%, red 62.5%, red 100.0%, transparent 100.0%);\n            padding:  15px;\n            border:  2px solid white;\n            width:  300px;\n        }#T_f6310_row3_col1{\n            width:  10em;\n             height:  80%;\n            background:  linear-gradient(90deg, transparent 56.1%, red 56.1%, red 100.0%, transparent 100.0%);\n            padding:  15px;\n            border:  2px solid white;\n            width:  300px;\n        }#T_f6310_row4_col0{\n            width:  10em;\n             height:  80%;\n            background:  linear-gradient(90deg, transparent 62.5%, red 62.5%, red 83.3%, transparent 83.3%);\n            padding:  15px;\n            border:  2px solid white;\n            width:  300px;\n        }#T_f6310_row4_col1{\n            width:  10em;\n             height:  80%;\n            background:  linear-gradient(90deg, transparent 40.5%, green 40.5%, green 56.1%, transparent 56.1%);\n            padding:  15px;\n            border:  2px solid white;\n            width:  300px;\n        }#T_f6310_row5_col0{\n            width:  10em;\n             height:  80%;\n            background:  linear-gradient(90deg, transparent 34.0%, green 34.0%, green 62.5%, transparent 62.5%);\n            padding:  15px;\n            border:  2px solid white;\n            width:  300px;\n        }#T_f6310_row5_col1{\n            width:  10em;\n             height:  80%;\n            background:  linear-gradient(90deg, transparent 9.6%, green 9.6%, green 56.1%, transparent 56.1%);\n            padding:  15px;\n            border:  2px solid white;\n            width:  300px;\n        }#T_f6310_row6_col0{\n            width:  10em;\n             height:  80%;\n            background:  linear-gradient(90deg, transparent 56.0%, green 56.0%, green 62.5%, transparent 62.5%);\n            padding:  15px;\n            border:  2px solid white;\n            width:  300px;\n        }#T_f6310_row6_col1{\n            width:  10em;\n             height:  80%;\n            background:  linear-gradient(90deg, transparent 56.1%, red 56.1%, red 68.4%, transparent 68.4%);\n            padding:  15px;\n            border:  2px solid white;\n            width:  300px;\n        }#T_f6310_row7_col0{\n            width:  10em;\n             height:  80%;\n            background:  linear-gradient(90deg, transparent 62.5%, red 62.5%, red 89.5%, transparent 89.5%);\n            padding:  15px;\n            border:  2px solid white;\n            width:  300px;\n        }#T_f6310_row7_col1{\n            width:  10em;\n             height:  80%;\n            background:  linear-gradient(90deg, transparent 56.1%, red 56.1%, red 97.2%, transparent 97.2%);\n            padding:  15px;\n            border:  2px solid white;\n            width:  300px;\n        }#T_f6310_row8_col0{\n            width:  10em;\n             height:  80%;\n            background:  linear-gradient(90deg, transparent 34.8%, green 34.8%, green 62.5%, transparent 62.5%);\n            padding:  15px;\n            border:  2px solid white;\n            width:  300px;\n        }#T_f6310_row8_col1{\n            width:  10em;\n             height:  80%;\n            background:  linear-gradient(90deg,green 56.1%, transparent 56.1%);\n            padding:  15px;\n            border:  2px solid white;\n            width:  300px;\n        }#T_f6310_row9_col0{\n            width:  10em;\n             height:  80%;\n            background:  linear-gradient(90deg, transparent 62.4%, green 62.4%, green 62.5%, transparent 62.5%);\n            padding:  15px;\n            border:  2px solid white;\n            width:  300px;\n        }#T_f6310_row9_col1{\n            width:  10em;\n             height:  80%;\n            background:  linear-gradient(90deg, transparent 56.1%, red 56.1%, red 61.0%, transparent 61.0%);\n            padding:  15px;\n            border:  2px solid white;\n            width:  300px;\n        }</style><table id=\"T_f6310_\" ><caption>A Sample Table with Bar Chart</caption><thead>    <tr>        <th class=\"blank level0\" ></th>        <th class=\"col_heading level0 col0\" >0</th>        <th class=\"col_heading level0 col1\" >1</th>    </tr></thead><tbody>\n                <tr>\n                        <th id=\"T_f6310_level0_row0\" class=\"row_heading level0 row0\" >0</th>\n                        <td id=\"T_f6310_row0_col0\" class=\"data row0 col0\" >-0.87</td>\n                        <td id=\"T_f6310_row0_col1\" class=\"data row0 col1\" >0.02</td>\n            </tr>\n            <tr>\n                        <th id=\"T_f6310_level0_row1\" class=\"row_heading level0 row1\" >1</th>\n                        <td id=\"T_f6310_row1_col0\" class=\"data row1 col0\" >0.85</td>\n                        <td id=\"T_f6310_row1_col1\" class=\"data row1 col1\" >-1.64</td>\n            </tr>\n            <tr>\n                        <th id=\"T_f6310_level0_row2\" class=\"row_heading level0 row2\" >2</th>\n                        <td id=\"T_f6310_row2_col0\" class=\"data row2 col0\" >-1.59</td>\n                        <td id=\"T_f6310_row2_col1\" class=\"data row2 col1\" >-0.89</td>\n            </tr>\n            <tr>\n                        <th id=\"T_f6310_level0_row3\" class=\"row_heading level0 row3\" >3</th>\n                        <td id=\"T_f6310_row3_col0\" class=\"data row3 col0\" >0.95</td>\n                        <td id=\"T_f6310_row3_col1\" class=\"data row3 col1\" >2.04</td>\n            </tr>\n            <tr>\n                        <th id=\"T_f6310_level0_row4\" class=\"row_heading level0 row4\" >4</th>\n                        <td id=\"T_f6310_row4_col0\" class=\"data row4 col0\" >0.53</td>\n                        <td id=\"T_f6310_row4_col1\" class=\"data row4 col1\" >-0.72</td>\n            </tr>\n            <tr>\n                        <th id=\"T_f6310_level0_row5\" class=\"row_heading level0 row5\" >5</th>\n                        <td id=\"T_f6310_row5_col0\" class=\"data row5 col0\" >-0.72</td>\n                        <td id=\"T_f6310_row5_col1\" class=\"data row5 col1\" >-2.16</td>\n            </tr>\n            <tr>\n                        <th id=\"T_f6310_level0_row6\" class=\"row_heading level0 row6\" >6</th>\n                        <td id=\"T_f6310_row6_col0\" class=\"data row6 col0\" >-0.17</td>\n                        <td id=\"T_f6310_row6_col1\" class=\"data row6 col1\" >0.57</td>\n            </tr>\n            <tr>\n                        <th id=\"T_f6310_level0_row7\" class=\"row_heading level0 row7\" >7</th>\n                        <td id=\"T_f6310_row7_col0\" class=\"data row7 col0\" >0.68</td>\n                        <td id=\"T_f6310_row7_col1\" class=\"data row7 col1\" >1.91</td>\n            </tr>\n            <tr>\n                        <th id=\"T_f6310_level0_row8\" class=\"row_heading level0 row8\" >8</th>\n                        <td id=\"T_f6310_row8_col0\" class=\"data row8 col0\" >-0.70</td>\n                        <td id=\"T_f6310_row8_col1\" class=\"data row8 col1\" >-2.61</td>\n            </tr>\n            <tr>\n                        <th id=\"T_f6310_level0_row9\" class=\"row_heading level0 row9\" >9</th>\n                        <td id=\"T_f6310_row9_col0\" class=\"data row9 col0\" >-0.00</td>\n                        <td id=\"T_f6310_row9_col1\" class=\"data row9 col1\" >0.23</td>\n            </tr>\n    </tbody></table>"
     },
     "execution_count": 10,
     "metadata": {},
     "output_type": "execute_result"
    }
   ],
   "source": [
    "df.style \\\n",
    "  .format('{:.2f}') \\\n",
    "  .bar(align='mid', color=['green', 'red']) \\\n",
    "  .set_caption('A Sample Table with Bar Chart') \\\n",
    "  .set_properties(padding=\"15px\", border='2px solid white', width='300px')"
   ],
   "metadata": {
    "collapsed": false,
    "pycharm": {
     "name": "#%%\n"
    }
   }
  },
  {
   "cell_type": "code",
   "execution_count": 31,
   "outputs": [
    {
     "data": {
      "text/plain": "           a         b         c\n0  -0.113149  0.810746 -4.665710\n1   0.304098  1.580942 -2.031919\n2  -0.000673  1.787366  6.092431\n3   0.881016  2.319849  1.897572\n4   0.931794  0.927859 -0.543144\n..       ...       ...       ...\n95 -1.248945  1.072761 -5.124447\n96  0.231500  2.982270 -0.467390\n97 -0.632026  0.588704  5.601598\n98  1.406059  2.826396  1.840819\n99  1.471174  0.036605 -0.632153\n\n[100 rows x 3 columns]",
      "text/html": "<div>\n<style scoped>\n    .dataframe tbody tr th:only-of-type {\n        vertical-align: middle;\n    }\n\n    .dataframe tbody tr th {\n        vertical-align: top;\n    }\n\n    .dataframe thead th {\n        text-align: right;\n    }\n</style>\n<table border=\"1\" class=\"dataframe\">\n  <thead>\n    <tr style=\"text-align: right;\">\n      <th></th>\n      <th>a</th>\n      <th>b</th>\n      <th>c</th>\n    </tr>\n  </thead>\n  <tbody>\n    <tr>\n      <th>0</th>\n      <td>-0.113149</td>\n      <td>0.810746</td>\n      <td>-4.665710</td>\n    </tr>\n    <tr>\n      <th>1</th>\n      <td>0.304098</td>\n      <td>1.580942</td>\n      <td>-2.031919</td>\n    </tr>\n    <tr>\n      <th>2</th>\n      <td>-0.000673</td>\n      <td>1.787366</td>\n      <td>6.092431</td>\n    </tr>\n    <tr>\n      <th>3</th>\n      <td>0.881016</td>\n      <td>2.319849</td>\n      <td>1.897572</td>\n    </tr>\n    <tr>\n      <th>4</th>\n      <td>0.931794</td>\n      <td>0.927859</td>\n      <td>-0.543144</td>\n    </tr>\n    <tr>\n      <th>...</th>\n      <td>...</td>\n      <td>...</td>\n      <td>...</td>\n    </tr>\n    <tr>\n      <th>95</th>\n      <td>-1.248945</td>\n      <td>1.072761</td>\n      <td>-5.124447</td>\n    </tr>\n    <tr>\n      <th>96</th>\n      <td>0.231500</td>\n      <td>2.982270</td>\n      <td>-0.467390</td>\n    </tr>\n    <tr>\n      <th>97</th>\n      <td>-0.632026</td>\n      <td>0.588704</td>\n      <td>5.601598</td>\n    </tr>\n    <tr>\n      <th>98</th>\n      <td>1.406059</td>\n      <td>2.826396</td>\n      <td>1.840819</td>\n    </tr>\n    <tr>\n      <th>99</th>\n      <td>1.471174</td>\n      <td>0.036605</td>\n      <td>-0.632153</td>\n    </tr>\n  </tbody>\n</table>\n<p>100 rows × 3 columns</p>\n</div>"
     },
     "execution_count": 31,
     "metadata": {},
     "output_type": "execute_result"
    }
   ],
   "source": [
    "from sparklines import sparklines\n",
    "\n",
    "df = pd.DataFrame({\n",
    "    'a': np.random.normal(0, 1, 100),\n",
    "    'b': np.random.normal(1, 1, 100),\n",
    "    'c': np.random.normal(0, 3, 100)\n",
    "})\n",
    "df"
   ],
   "metadata": {
    "collapsed": false,
    "pycharm": {
     "name": "#%%\n"
    }
   }
  },
  {
   "cell_type": "code",
   "execution_count": 34,
   "outputs": [
    {
     "data": {
      "text/plain": "['▆█▄▆▇▇▁▃▂▁', '▁▂▃▆▅▇█▃▂▁', '▂▅▃▄█▆▇▃▄▁']"
     },
     "execution_count": 34,
     "metadata": {},
     "output_type": "execute_result"
    }
   ],
   "source": [
    "def sparkline_dist(data):\n",
    "    hist = np.histogram(data, bins=10)[0]\n",
    "    dist_strings = ''.join(sparklines(hist))\n",
    "    return dist_strings\n",
    "\n",
    "sl_list = [sparkline_dist(df[col]) for col in df.columns]\n",
    "sl_list"
   ],
   "metadata": {
    "collapsed": false,
    "pycharm": {
     "name": "#%%\n"
    }
   }
  },
  {
   "cell_type": "code",
   "execution_count": 35,
   "outputs": [
    {
     "data": {
      "text/plain": "<pandas.io.formats.style.Styler at 0x21532af6df0>",
      "text/html": "<style  type=\"text/css\" >\n#T_ba114_row0_col0,#T_ba114_row0_col1,#T_ba114_row0_col2,#T_ba114_row1_col0,#T_ba114_row1_col1,#T_ba114_row1_col2,#T_ba114_row2_col0,#T_ba114_row2_col1,#T_ba114_row2_col2{\n            padding:  15px;\n            border:  2px solid white;\n        }</style><table id=\"T_ba114_\" ><caption>A Sample Table with Sparklines Distributions</caption><thead>    <tr>        <th class=\"blank level0\" ></th>        <th class=\"col_heading level0 col0\" >mean</th>        <th class=\"col_heading level0 col1\" >std</th>        <th class=\"col_heading level0 col2\" >histogram</th>    </tr></thead><tbody>\n                <tr>\n                        <th id=\"T_ba114_level0_row0\" class=\"row_heading level0 row0\" >a</th>\n                        <td id=\"T_ba114_row0_col0\" class=\"data row0 col0\" >-0.07</td>\n                        <td id=\"T_ba114_row0_col1\" class=\"data row0 col1\" >0.96</td>\n                        <td id=\"T_ba114_row0_col2\" class=\"data row0 col2\" >▆█▄▆▇▇▁▃▂▁</td>\n            </tr>\n            <tr>\n                        <th id=\"T_ba114_level0_row1\" class=\"row_heading level0 row1\" >b</th>\n                        <td id=\"T_ba114_row1_col0\" class=\"data row1 col0\" >1.08</td>\n                        <td id=\"T_ba114_row1_col1\" class=\"data row1 col1\" >1.11</td>\n                        <td id=\"T_ba114_row1_col2\" class=\"data row1 col2\" >▁▂▃▆▅▇█▃▂▁</td>\n            </tr>\n            <tr>\n                        <th id=\"T_ba114_level0_row2\" class=\"row_heading level0 row2\" >c</th>\n                        <td id=\"T_ba114_row2_col0\" class=\"data row2 col0\" >0.04</td>\n                        <td id=\"T_ba114_row2_col1\" class=\"data row2 col1\" >3.09</td>\n                        <td id=\"T_ba114_row2_col2\" class=\"data row2 col2\" >▂▅▃▄█▆▇▃▄▁</td>\n            </tr>\n    </tbody></table>"
     },
     "execution_count": 35,
     "metadata": {},
     "output_type": "execute_result"
    }
   ],
   "source": [
    "df_stats = df.agg(['mean', 'std']).transpose()\n",
    "df_stats['histogram'] = sl_list\n",
    "df_stats.style \\\n",
    "  .format('{:.2f}', subset=['mean', 'std']) \\\n",
    "  .set_caption('A Sample Table with Sparklines Distributions') \\\n",
    "  .set_properties(padding=\"15px\", border='2px solid white')"
   ],
   "metadata": {
    "collapsed": false,
    "pycharm": {
     "name": "#%%\n"
    }
   }
  }
 ],
 "metadata": {
  "kernelspec": {
   "display_name": "Python 3",
   "language": "python",
   "name": "python3"
  },
  "language_info": {
   "codemirror_mode": {
    "name": "ipython",
    "version": 2
   },
   "file_extension": ".py",
   "mimetype": "text/x-python",
   "name": "python",
   "nbconvert_exporter": "python",
   "pygments_lexer": "ipython2",
   "version": "2.7.6"
  }
 },
 "nbformat": 4,
 "nbformat_minor": 0
}