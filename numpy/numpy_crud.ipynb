{
 "cells": [
  {
   "cell_type": "code",
   "execution_count": 2,
   "metadata": {
    "collapsed": true
   },
   "outputs": [],
   "source": [
    "import numpy as np"
   ]
  },
  {
   "cell_type": "code",
   "execution_count": null,
   "outputs": [],
   "source": [
    "#创建3行2列二维数组。\n",
    "a = np.array([[1,2],[3,4],[5,6]])\n",
    "\n",
    "a = np.zeros(6)#创建长度为6的，元素都是0一维数组\n",
    "a = np.zeros((2,3))#创建3行2列，元素都是0的二维数组\n",
    "a = np.ones((2,3))#创建3行2列，元素都是1的二维数组\n",
    "a = np.empty((2,3)) #创建3行2列,未初始化的二维数组\n",
    "\n",
    "a = np.arange(6)#创建长度为6的，元素都是0一维数组array([0, 1, 2, 3, 4, 5])\n",
    "a = np.arange(1,7,1)#结果与np.arange(6)一样。第一，二个参数意思是数值从1〜6,不包括7.第三个参数表步长为1.\n",
    "\n",
    "a = np.linspace(0,10,7) # 生成首位是0，末位是10，含7个数的等差数列\n",
    "a = np.logspace(0,4,5)#用于生成首位是10**0，末位是10**4，含5个数的等比数列。"
   ],
   "metadata": {
    "collapsed": false,
    "pycharm": {
     "name": "#%%\n"
    }
   }
  },
  {
   "cell_type": "code",
   "execution_count": 3,
   "outputs": [
    {
     "name": "stdout",
     "output_type": "stream",
     "text": [
      "[[ 1  2]\n",
      " [ 3  4]\n",
      " [ 5  6]\n",
      " [10 20]\n",
      " [30 40]\n",
      " [50 60]]\n",
      "[[ 1  2 10 20]\n",
      " [ 3  4 30 40]\n",
      " [ 5  6 50 60]]\n"
     ]
    }
   ],
   "source": [
    "a = np.array([[1,2],[3,4],[5,6]])\n",
    "b = np.array([[10,20],[30,40],[50,60]])\n",
    "print(np.vstack((a,b)))\n",
    "print(np.hstack((a,b)))"
   ],
   "metadata": {
    "collapsed": false,
    "pycharm": {
     "name": "#%% 增\n"
    }
   }
  },
  {
   "cell_type": "code",
   "execution_count": 5,
   "outputs": [
    {
     "name": "stdout",
     "output_type": "stream",
     "text": [
      "[[11 21 31]\n",
      " [12 22 32]]\n",
      "[[11 21 31]\n",
      " [12 22 32]]\n"
     ]
    }
   ],
   "source": [
    "# 不同维数的数组直接相加显然是不允许的。但是可以用一个n行列向量和一个m列行向量构造出一个n×m矩阵\n",
    "a = np.array([[1],[2]])\n",
    "b=([[10,20,30]])#生成一个list，注意，不是np.array。\n",
    "print(a+b)\n",
    "c = np.array([10,20,30])\n",
    "print(a+c)"
   ],
   "metadata": {
    "collapsed": false,
    "pycharm": {
     "name": "#%%\n"
    }
   }
  },
  {
   "cell_type": "code",
   "execution_count": 10,
   "outputs": [
    {
     "name": "stdout",
     "output_type": "stream",
     "text": [
      "[1 2]\n",
      "2\n",
      "2\n",
      "[1 2]\n",
      "[0 1 2]\n",
      "[3 4 5]\n",
      "[0 2]\n"
     ]
    }
   ],
   "source": [
    "a = np.array([[1, 2],[3, 4],[5, 6]])\n",
    "print(a[0])\n",
    "print(a[0][1])\n",
    "print(a[0,1])\n",
    "\n",
    "b = np.arange(6)#array([0, 1, 2, 3, 4, 5])\n",
    "print(b[1:3])#右边开区间array([1, 2])\n",
    "print(b[:3])#左边默认为0,array([0, 1, 2])\n",
    "print(b[3:])#右边默认为元素个数,array([3, 4, 5])\n",
    "print(b[0:4:2])#下标递增2,array([0, 2])"
   ],
   "metadata": {
    "collapsed": false,
    "pycharm": {
     "name": "#%% 查\n"
    }
   }
  },
  {
   "cell_type": "code",
   "execution_count": 13,
   "outputs": [
    {
     "name": "stdout",
     "output_type": "stream",
     "text": [
      "[ 1  2 -3 -4]\n"
     ]
    }
   ],
   "source": [
    "'''np.where(condition, x, y)，第一个参数为一个布尔数组，\n",
    "第二个参数和第三个参数可以是标量也可以是数组。\n",
    "'''\n",
    "cond = np.array([1,2,3,4])\n",
    "a = np.where(cond>2,-2,2)# [ 2 2 -2 -2]\n",
    "b1 = np.array([-1,-2,-3,-4])\n",
    "b2 = np.array([1,2,3,4])\n",
    "print(np.where(cond>2,b1,b2)) # 长度须匹配# [1,2,-3,-4]"
   ],
   "metadata": {
    "collapsed": false,
    "pycharm": {
     "name": "#%%\n"
    }
   }
  },
  {
   "cell_type": "code",
   "execution_count": 14,
   "outputs": [
    {
     "name": "stdout",
     "output_type": "stream",
     "text": [
      "[[1 2]\n",
      " [3 4]\n",
      " [5 6]]\n",
      "[[11 22]\n",
      " [ 3  4]\n",
      " [ 5  6]]\n",
      "[[111  22]\n",
      " [  3   4]\n",
      " [  5   6]]\n",
      "[[11 22]\n",
      " [33 44]\n",
      " [55 66]]\n"
     ]
    }
   ],
   "source": [
    "a = np.array([[1,2],[3,4],[5,6]])\n",
    "print(a)\n",
    "a[0] = [11,22]#修改第一行数组[1,2]为[11,22]。\n",
    "print(a)\n",
    "a[0][0] = 111#修改第一个元素为111,修改后，第一个元素“1”改为“111”。\n",
    "print(a)\n",
    "\n",
    "a = np.array([[1,2],[3,4],[5,6]])\n",
    "b = np.array([[10,20],[30,40],[50,60]])\n",
    "print(a+b) #加法必须在两个相同大小的数组键间运算。"
   ],
   "metadata": {
    "collapsed": false,
    "pycharm": {
     "name": "#%% 改\n"
    }
   }
  },
  {
   "cell_type": "code",
   "execution_count": 16,
   "outputs": [
    {
     "name": "stdout",
     "output_type": "stream",
     "text": [
      "[[ 2  4]\n",
      " [ 6  8]\n",
      " [10 12]]\n",
      "[[ 1  4]\n",
      " [ 9 16]\n",
      " [25 36]]\n",
      "[[False False]\n",
      " [False  True]\n",
      " [ True  True]]\n"
     ]
    }
   ],
   "source": [
    "a = np.array([[1,2],[3,4],[5,6]])\n",
    "print(a*2)#相当于a中各个元素都乘以2.类似于广播。\n",
    "print(a**2)\n",
    "print(a>3)"
   ],
   "metadata": {
    "collapsed": false,
    "pycharm": {
     "name": "#%%\n"
    }
   }
  },
  {
   "cell_type": "code",
   "execution_count": 23,
   "outputs": [
    {
     "name": "stdout",
     "output_type": "stream",
     "text": [
      "[1 2]\n",
      "[[1 2]\n",
      " [5 6]]\n",
      "[[1 2]]\n",
      "[[1]\n",
      " [3]\n",
      " [5]]\n",
      "[[1 2]\n",
      " [3 4]\n",
      " [5 6]]\n",
      "[array([[1],\n",
      "       [3],\n",
      "       [5]]), array([[2],\n",
      "       [4],\n",
      "       [6]])]\n",
      "[array([[1],\n",
      "       [3],\n",
      "       [5]]), array([[2],\n",
      "       [4],\n",
      "       [6]])]\n",
      "[array([[1, 2]]), array([[3, 4]]), array([[5, 6]])]\n",
      "[array([[1, 2]]), array([[3, 4]]), array([[5, 6]])]\n"
     ]
    }
   ],
   "source": [
    "# 利用查找中的方法，比如a=a[0]，操作完居后，a的行数只剩一行了。\n",
    "a = np.array([[1,2],[3,4],[5,6]])\n",
    "print(a[0])\n",
    "\n",
    "a = np.array([[1,2],[3,4],[5,6]])\n",
    "print(np.delete(a,1,axis = 0))#删除a的第二行。\n",
    "print(np.delete(a,(1,2),0))#删除a的第二，三行。\n",
    "print(np.delete(a,1,axis = 1))#删除a的第二列。\n",
    "print(a)\n",
    "\n",
    "# 先分割，再按切片a=a[0]赋值。\n",
    "a = np.array([[1,2],[3,4],[5,6]])\n",
    "print(np.hsplit(a,2))#水平分割（搞不懂，明明是垂直分割嘛？）\n",
    "print(np.split(a,2,axis = 1))#与np.hsplit(a,2)效果一样。\n",
    "\n",
    "print(np.vsplit(a,3))\n",
    "print(np.split(a,3,axis = 0))#与np.vsplit(a,3)效果一样。"
   ],
   "metadata": {
    "collapsed": false,
    "pycharm": {
     "name": "#%% 查\n"
    }
   }
  }
 ],
 "metadata": {
  "kernelspec": {
   "display_name": "Python 3",
   "language": "python",
   "name": "python3"
  },
  "language_info": {
   "codemirror_mode": {
    "name": "ipython",
    "version": 2
   },
   "file_extension": ".py",
   "mimetype": "text/x-python",
   "name": "python",
   "nbconvert_exporter": "python",
   "pygments_lexer": "ipython2",
   "version": "2.7.6"
  }
 },
 "nbformat": 4,
 "nbformat_minor": 0
}